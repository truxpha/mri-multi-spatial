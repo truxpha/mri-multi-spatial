{
 "cells": [
  {
   "cell_type": "code",
   "execution_count": null,
   "metadata": {},
   "outputs": [],
   "source": [
    "import torch\n",
    "import torch.nn as nn\n",
    "import torch.optim as optim\n",
    "from torch.utils.data import Dataset, DataLoader\n",
    "import numpy as np\n",
    "from sklearn.model_selection import train_test_split\n",
    "from scipy.io import loadmat\n",
    "from tqdm import tqdm\n",
    "import wandb\n",
    "\n",
    "from scipy.signal import find_peaks\n",
    "from skimage.metrics import structural_similarity as ssim\n",
    "from sklearn.metrics import r2_score\n",
    "import psutil\n",
    "import os\n",
    "import time"
   ]
  },
  {
   "cell_type": "code",
   "execution_count": 2,
   "metadata": {},
   "outputs": [
    {
     "name": "stderr",
     "output_type": "stream",
     "text": [
      "\u001b[34m\u001b[1mwandb\u001b[0m: Currently logged in as: \u001b[33mtr-phan\u001b[0m (\u001b[33mtrphan\u001b[0m) to \u001b[32mhttps://api.wandb.ai\u001b[0m. Use \u001b[1m`wandb login --relogin`\u001b[0m to force relogin\n",
      "\u001b[34m\u001b[1mwandb\u001b[0m: Using wandb-core as the SDK backend.  Please refer to https://wandb.me/wandb-core for more information.\n"
     ]
    },
    {
     "data": {
      "text/html": [
       "Tracking run with wandb version 0.19.6"
      ],
      "text/plain": [
       "<IPython.core.display.HTML object>"
      ]
     },
     "metadata": {},
     "output_type": "display_data"
    },
    {
     "data": {
      "text/html": [
       "Run data is saved locally in <code>d:\\Proton Drive\\My files\\Schule\\Master\\Masterarbeit\\project\\models\\one_signal\\wandb\\run-20250213_004020-3sjzymv1</code>"
      ],
      "text/plain": [
       "<IPython.core.display.HTML object>"
      ]
     },
     "metadata": {},
     "output_type": "display_data"
    },
    {
     "data": {
      "text/html": [
       "Syncing run <strong><a href='https://wandb.ai/trphan/master-multicomponent-mri/runs/3sjzymv1' target=\"_blank\">single-signal-baseline</a></strong> to <a href='https://wandb.ai/trphan/master-multicomponent-mri' target=\"_blank\">Weights & Biases</a> (<a href='https://wandb.me/developer-guide' target=\"_blank\">docs</a>)<br>"
      ],
      "text/plain": [
       "<IPython.core.display.HTML object>"
      ]
     },
     "metadata": {},
     "output_type": "display_data"
    },
    {
     "data": {
      "text/html": [
       " View project at <a href='https://wandb.ai/trphan/master-multicomponent-mri' target=\"_blank\">https://wandb.ai/trphan/master-multicomponent-mri</a>"
      ],
      "text/plain": [
       "<IPython.core.display.HTML object>"
      ]
     },
     "metadata": {},
     "output_type": "display_data"
    },
    {
     "data": {
      "text/html": [
       " View run at <a href='https://wandb.ai/trphan/master-multicomponent-mri/runs/3sjzymv1' target=\"_blank\">https://wandb.ai/trphan/master-multicomponent-mri/runs/3sjzymv1</a>"
      ],
      "text/plain": [
       "<IPython.core.display.HTML object>"
      ]
     },
     "metadata": {},
     "output_type": "display_data"
    }
   ],
   "source": [
    "wandb.login()\n",
    "run = wandb.init(project=\"master-multicomponent-mri\", name=\"single-signal-baseline\")"
   ]
  },
  {
   "cell_type": "code",
   "execution_count": null,
   "metadata": {},
   "outputs": [],
   "source": [
    "class T1Dataset(Dataset):\n",
    "    def __init__(self, input_data, target_data):\n",
    "        self.input_data = torch.FloatTensor(input_data.T)  # Shape: (400000, 8)\n",
    "        self.target_data = torch.FloatTensor(target_data.T)  # Shape: (400000, 32)\n",
    "    \n",
    "    def __len__(self):\n",
    "        return len(self.input_data)\n",
    "    \n",
    "    def __getitem__(self, idx):\n",
    "        return self.input_data[idx], self.target_data[idx]"
   ]
  },
  {
   "cell_type": "code",
   "execution_count": null,
   "metadata": {},
   "outputs": [],
   "source": [
    "class T1ReconstructionNet(nn.Module):\n",
    "    def __init__(self):\n",
    "        super(T1ReconstructionNet, self).__init__()\n",
    "        self.network = nn.Sequential(\n",
    "            nn.Linear(8, 128),\n",
    "            nn.LeakyReLU(0.1),\n",
    "            nn.BatchNorm1d(128),\n",
    "            \n",
    "            nn.Linear(128, 256),\n",
    "            nn.LeakyReLU(0.1),\n",
    "            nn.BatchNorm1d(256),\n",
    "            \n",
    "            nn.Linear(256, 512),\n",
    "            nn.LeakyReLU(0.1),\n",
    "            nn.BatchNorm1d(512),\n",
    "            nn.Dropout(0.2),\n",
    "            \n",
    "            nn.Linear(512, 256),\n",
    "            nn.LeakyReLU(0.1),\n",
    "            nn.BatchNorm1d(256),\n",
    "            \n",
    "            nn.Linear(256, 128),\n",
    "            nn.LeakyReLU(0.1),\n",
    "            nn.BatchNorm1d(128),\n",
    "            \n",
    "            nn.Linear(128, 32)\n",
    "        )\n",
    "    \n",
    "    def forward(self, x):\n",
    "        return self.network(x)"
   ]
  },
  {
   "cell_type": "code",
   "execution_count": null,
   "metadata": {},
   "outputs": [],
   "source": [
    "class EarlyStopping:\n",
    "    def __init__(self, patience=15, min_delta=1e-6, path='saved_models/baseline_nn.pt'):\n",
    "        self.patience = patience\n",
    "        self.min_delta = min_delta\n",
    "        self.counter = 0\n",
    "        self.best_loss = None\n",
    "        self.early_stop = False\n",
    "        self.path = path\n",
    "        \n",
    "    def __call__(self, val_loss, model):\n",
    "        if self.best_loss is None:\n",
    "            self.best_loss = val_loss\n",
    "            self.save_checkpoint(model)\n",
    "        elif val_loss > self.best_loss - self.min_delta:\n",
    "            self.counter += 1\n",
    "            print(f'EarlyStopping counter: {self.counter} out of {self.patience}')\n",
    "            if self.counter >= self.patience:\n",
    "                self.early_stop = True\n",
    "        else:\n",
    "            self.best_loss = val_loss\n",
    "            self.save_checkpoint(model)\n",
    "            self.counter = 0\n",
    "\n",
    "    def save_checkpoint(self, model):\n",
    "        torch.save(model.state_dict(), self.path)"
   ]
  },
  {
   "cell_type": "code",
   "execution_count": 6,
   "metadata": {},
   "outputs": [],
   "source": [
    "data = loadmat('../../data/data_T1_Q32_P8_400k.mat')\n",
    "input_noisy = data['input_noisy']\n",
    "ref = data['ref']\n",
    "no_comp = data['no_comp']"
   ]
  },
  {
   "cell_type": "code",
   "execution_count": 7,
   "metadata": {},
   "outputs": [],
   "source": [
    "X_train, X_val, y_train, y_val = train_test_split(\n",
    "    input_noisy.T, ref.T, \n",
    "    test_size=0.2, \n",
    "    random_state=42\n",
    ")\n",
    "\n",
    "# Create datasets\n",
    "train_dataset = T1Dataset(X_train.T, y_train.T)\n",
    "val_dataset = T1Dataset(X_val.T, y_val.T)\n",
    "\n",
    "# Create dataloaders\n",
    "train_loader = DataLoader(train_dataset, batch_size=256, shuffle=True)\n",
    "val_loader = DataLoader(val_dataset, batch_size=256, shuffle=False)"
   ]
  },
  {
   "cell_type": "code",
   "execution_count": 8,
   "metadata": {},
   "outputs": [
    {
     "name": "stderr",
     "output_type": "stream",
     "text": [
      "d:\\Proton Drive\\My files\\Schule\\Master\\Masterarbeit\\project\\.venv\\Lib\\site-packages\\torch\\optim\\lr_scheduler.py:60: UserWarning: The verbose parameter is deprecated. Please use get_last_lr() to access the learning rate.\n",
      "  warnings.warn(\n"
     ]
    }
   ],
   "source": [
    "device = torch.device(\"cuda\" if torch.cuda.is_available() else \"cpu\")\n",
    "model = T1ReconstructionNet().to(device)\n",
    "criterion = nn.MSELoss()\n",
    "optimizer = optim.Adam(model.parameters(), lr=0.001)\n",
    "scheduler = optim.lr_scheduler.ReduceLROnPlateau(\n",
    "    optimizer, \n",
    "    mode='min', \n",
    "    factor=0.5, \n",
    "    patience=10,\n",
    "    verbose=True\n",
    ")\n",
    "early_stopping = EarlyStopping(patience=15)\n",
    "batch_size = 256"
   ]
  },
  {
   "cell_type": "code",
   "execution_count": null,
   "metadata": {},
   "outputs": [],
   "source": [
    "wandb.config.update({\n",
    "    \"learning_rate\": 0.001,\n",
    "    \"batch_size\": batch_size,\n",
    "    \"epochs\": 1,\n",
    "    \"architecture\": \"SingleSignalMLP\",\n",
    "    \"optimizer\": \"Adam\",\n",
    "    \"loss_function\": \"MSELoss\",\n",
    "    \"scheduler\": \"ReduceLROnPlateau\",\n",
    "    \"early_stopping_patience\": 15\n",
    "})"
   ]
  },
  {
   "cell_type": "code",
   "execution_count": 10,
   "metadata": {},
   "outputs": [
    {
     "name": "stderr",
     "output_type": "stream",
     "text": [
      "Epoch [1/200] Training: 100%|██████████| 1250/1250 [00:09<00:00, 128.96it/s, loss=0.00263]\n",
      "Epoch [1/200] Validation: 100%|██████████| 313/313 [00:01<00:00, 278.98it/s, loss=0.0024] \n"
     ]
    },
    {
     "name": "stdout",
     "output_type": "stream",
     "text": [
      "Epoch [1/200], Train Loss: 0.004034, Val Loss: 0.002669, LR: 0.001\n"
     ]
    },
    {
     "name": "stderr",
     "output_type": "stream",
     "text": [
      "Epoch [2/200] Training: 100%|██████████| 1250/1250 [00:08<00:00, 139.61it/s, loss=0.00278]\n",
      "Epoch [2/200] Validation: 100%|██████████| 313/313 [00:00<00:00, 343.26it/s, loss=0.00225]\n"
     ]
    },
    {
     "name": "stdout",
     "output_type": "stream",
     "text": [
      "Epoch [2/200], Train Loss: 0.002740, Val Loss: 0.002608, LR: 0.001\n"
     ]
    },
    {
     "name": "stderr",
     "output_type": "stream",
     "text": [
      "Epoch [3/200] Training: 100%|██████████| 1250/1250 [00:08<00:00, 152.47it/s, loss=0.00283]\n",
      "Epoch [3/200] Validation: 100%|██████████| 313/313 [00:01<00:00, 299.27it/s, loss=0.00238]\n"
     ]
    },
    {
     "name": "stdout",
     "output_type": "stream",
     "text": [
      "EarlyStopping counter: 1 out of 15\n",
      "Epoch [3/200], Train Loss: 0.002696, Val Loss: 0.002708, LR: 0.001\n"
     ]
    },
    {
     "name": "stderr",
     "output_type": "stream",
     "text": [
      "Epoch [4/200] Training: 100%|██████████| 1250/1250 [00:07<00:00, 162.83it/s, loss=0.0026] \n",
      "Epoch [4/200] Validation: 100%|██████████| 313/313 [00:01<00:00, 291.63it/s, loss=0.00241]\n"
     ]
    },
    {
     "name": "stdout",
     "output_type": "stream",
     "text": [
      "EarlyStopping counter: 2 out of 15\n",
      "Epoch [4/200], Train Loss: 0.002674, Val Loss: 0.002646, LR: 0.001\n"
     ]
    },
    {
     "name": "stderr",
     "output_type": "stream",
     "text": [
      "Epoch [5/200] Training: 100%|██████████| 1250/1250 [00:07<00:00, 162.39it/s, loss=0.00259]\n",
      "Epoch [5/200] Validation: 100%|██████████| 313/313 [00:00<00:00, 333.19it/s, loss=0.00228]\n"
     ]
    },
    {
     "name": "stdout",
     "output_type": "stream",
     "text": [
      "EarlyStopping counter: 3 out of 15\n",
      "Epoch [5/200], Train Loss: 0.002661, Val Loss: 0.002642, LR: 0.001\n"
     ]
    },
    {
     "name": "stderr",
     "output_type": "stream",
     "text": [
      "Epoch [6/200] Training: 100%|██████████| 1250/1250 [00:08<00:00, 143.21it/s, loss=0.00275]\n",
      "Epoch [6/200] Validation: 100%|██████████| 313/313 [00:01<00:00, 277.98it/s, loss=0.0023] \n"
     ]
    },
    {
     "name": "stdout",
     "output_type": "stream",
     "text": [
      "EarlyStopping counter: 4 out of 15\n",
      "Epoch [6/200], Train Loss: 0.002652, Val Loss: 0.002619, LR: 0.001\n"
     ]
    },
    {
     "name": "stderr",
     "output_type": "stream",
     "text": [
      "Epoch [7/200] Training: 100%|██████████| 1250/1250 [00:08<00:00, 153.64it/s, loss=0.00258]\n",
      "Epoch [7/200] Validation: 100%|██████████| 313/313 [00:01<00:00, 306.31it/s, loss=0.00232]\n"
     ]
    },
    {
     "name": "stdout",
     "output_type": "stream",
     "text": [
      "Epoch [7/200], Train Loss: 0.002640, Val Loss: 0.002605, LR: 0.001\n"
     ]
    },
    {
     "name": "stderr",
     "output_type": "stream",
     "text": [
      "Epoch [8/200] Training: 100%|██████████| 1250/1250 [00:08<00:00, 150.54it/s, loss=0.00282]\n",
      "Epoch [8/200] Validation: 100%|██████████| 313/313 [00:01<00:00, 291.30it/s, loss=0.00228]\n"
     ]
    },
    {
     "name": "stdout",
     "output_type": "stream",
     "text": [
      "Epoch [8/200], Train Loss: 0.002629, Val Loss: 0.002573, LR: 0.001\n"
     ]
    },
    {
     "name": "stderr",
     "output_type": "stream",
     "text": [
      "Epoch [9/200] Training: 100%|██████████| 1250/1250 [00:08<00:00, 150.23it/s, loss=0.00254]\n",
      "Epoch [9/200] Validation: 100%|██████████| 313/313 [00:01<00:00, 301.70it/s, loss=0.00242]\n"
     ]
    },
    {
     "name": "stdout",
     "output_type": "stream",
     "text": [
      "EarlyStopping counter: 1 out of 15\n",
      "Epoch [9/200], Train Loss: 0.002618, Val Loss: 0.002651, LR: 0.001\n"
     ]
    },
    {
     "name": "stderr",
     "output_type": "stream",
     "text": [
      "Epoch [10/200] Training: 100%|██████████| 1250/1250 [00:08<00:00, 149.55it/s, loss=0.00239]\n",
      "Epoch [10/200] Validation: 100%|██████████| 313/313 [00:01<00:00, 295.65it/s, loss=0.00233]\n"
     ]
    },
    {
     "name": "stdout",
     "output_type": "stream",
     "text": [
      "EarlyStopping counter: 2 out of 15\n",
      "Epoch [10/200], Train Loss: 0.002612, Val Loss: 0.002661, LR: 0.001\n"
     ]
    },
    {
     "name": "stderr",
     "output_type": "stream",
     "text": [
      "Epoch [11/200] Training: 100%|██████████| 1250/1250 [00:08<00:00, 142.19it/s, loss=0.00275]\n",
      "Epoch [11/200] Validation: 100%|██████████| 313/313 [00:01<00:00, 296.65it/s, loss=0.00233]\n"
     ]
    },
    {
     "name": "stdout",
     "output_type": "stream",
     "text": [
      "EarlyStopping counter: 3 out of 15\n",
      "Epoch [11/200], Train Loss: 0.002605, Val Loss: 0.002626, LR: 0.001\n"
     ]
    },
    {
     "name": "stderr",
     "output_type": "stream",
     "text": [
      "Epoch [12/200] Training: 100%|██████████| 1250/1250 [00:08<00:00, 147.93it/s, loss=0.00262]\n",
      "Epoch [12/200] Validation: 100%|██████████| 313/313 [00:01<00:00, 299.08it/s, loss=0.00231]\n"
     ]
    },
    {
     "name": "stdout",
     "output_type": "stream",
     "text": [
      "Epoch [12/200], Train Loss: 0.002595, Val Loss: 0.002548, LR: 0.001\n"
     ]
    },
    {
     "name": "stderr",
     "output_type": "stream",
     "text": [
      "Epoch [13/200] Training: 100%|██████████| 1250/1250 [00:08<00:00, 142.99it/s, loss=0.00259]\n",
      "Epoch [13/200] Validation: 100%|██████████| 313/313 [00:01<00:00, 269.88it/s, loss=0.00225]\n"
     ]
    },
    {
     "name": "stdout",
     "output_type": "stream",
     "text": [
      "EarlyStopping counter: 1 out of 15\n",
      "Epoch [13/200], Train Loss: 0.002593, Val Loss: 0.002549, LR: 0.001\n"
     ]
    },
    {
     "name": "stderr",
     "output_type": "stream",
     "text": [
      "Epoch [14/200] Training: 100%|██████████| 1250/1250 [00:08<00:00, 145.34it/s, loss=0.00259]\n",
      "Epoch [14/200] Validation: 100%|██████████| 313/313 [00:01<00:00, 293.30it/s, loss=0.00231]\n"
     ]
    },
    {
     "name": "stdout",
     "output_type": "stream",
     "text": [
      "EarlyStopping counter: 2 out of 15\n",
      "Epoch [14/200], Train Loss: 0.002587, Val Loss: 0.002600, LR: 0.001\n"
     ]
    },
    {
     "name": "stderr",
     "output_type": "stream",
     "text": [
      "Epoch [15/200] Training: 100%|██████████| 1250/1250 [00:08<00:00, 155.05it/s, loss=0.00265]\n",
      "Epoch [15/200] Validation: 100%|██████████| 313/313 [00:01<00:00, 301.72it/s, loss=0.00225]\n"
     ]
    },
    {
     "name": "stdout",
     "output_type": "stream",
     "text": [
      "Epoch [15/200], Train Loss: 0.002581, Val Loss: 0.002546, LR: 0.001\n"
     ]
    },
    {
     "name": "stderr",
     "output_type": "stream",
     "text": [
      "Epoch [16/200] Training: 100%|██████████| 1250/1250 [00:08<00:00, 154.65it/s, loss=0.00251]\n",
      "Epoch [16/200] Validation: 100%|██████████| 313/313 [00:00<00:00, 330.36it/s, loss=0.00229]\n"
     ]
    },
    {
     "name": "stdout",
     "output_type": "stream",
     "text": [
      "EarlyStopping counter: 1 out of 15\n",
      "Epoch [16/200], Train Loss: 0.002574, Val Loss: 0.002553, LR: 0.001\n"
     ]
    },
    {
     "name": "stderr",
     "output_type": "stream",
     "text": [
      "Epoch [17/200] Training: 100%|██████████| 1250/1250 [00:08<00:00, 154.93it/s, loss=0.00263]\n",
      "Epoch [17/200] Validation: 100%|██████████| 313/313 [00:00<00:00, 328.40it/s, loss=0.00218]\n"
     ]
    },
    {
     "name": "stdout",
     "output_type": "stream",
     "text": [
      "Epoch [17/200], Train Loss: 0.002568, Val Loss: 0.002523, LR: 0.001\n"
     ]
    },
    {
     "name": "stderr",
     "output_type": "stream",
     "text": [
      "Epoch [18/200] Training: 100%|██████████| 1250/1250 [00:07<00:00, 156.86it/s, loss=0.00254]\n",
      "Epoch [18/200] Validation: 100%|██████████| 313/313 [00:01<00:00, 274.87it/s, loss=0.00221]\n"
     ]
    },
    {
     "name": "stdout",
     "output_type": "stream",
     "text": [
      "EarlyStopping counter: 1 out of 15\n",
      "Epoch [18/200], Train Loss: 0.002562, Val Loss: 0.002532, LR: 0.001\n"
     ]
    },
    {
     "name": "stderr",
     "output_type": "stream",
     "text": [
      "Epoch [19/200] Training: 100%|██████████| 1250/1250 [00:08<00:00, 145.16it/s, loss=0.00272]\n",
      "Epoch [19/200] Validation: 100%|██████████| 313/313 [00:01<00:00, 304.43it/s, loss=0.00228]\n"
     ]
    },
    {
     "name": "stdout",
     "output_type": "stream",
     "text": [
      "EarlyStopping counter: 2 out of 15\n",
      "Epoch [19/200], Train Loss: 0.002559, Val Loss: 0.002539, LR: 0.001\n"
     ]
    },
    {
     "name": "stderr",
     "output_type": "stream",
     "text": [
      "Epoch [20/200] Training: 100%|██████████| 1250/1250 [00:08<00:00, 146.93it/s, loss=0.00264]\n",
      "Epoch [20/200] Validation: 100%|██████████| 313/313 [00:00<00:00, 316.23it/s, loss=0.00224]\n"
     ]
    },
    {
     "name": "stdout",
     "output_type": "stream",
     "text": [
      "Epoch [20/200], Train Loss: 0.002554, Val Loss: 0.002520, LR: 0.001\n"
     ]
    },
    {
     "name": "stderr",
     "output_type": "stream",
     "text": [
      "Epoch [21/200] Training: 100%|██████████| 1250/1250 [00:10<00:00, 124.79it/s, loss=0.00267]\n",
      "Epoch [21/200] Validation: 100%|██████████| 313/313 [00:01<00:00, 282.75it/s, loss=0.00228]\n"
     ]
    },
    {
     "name": "stdout",
     "output_type": "stream",
     "text": [
      "EarlyStopping counter: 1 out of 15\n",
      "Epoch [21/200], Train Loss: 0.002548, Val Loss: 0.002548, LR: 0.001\n"
     ]
    },
    {
     "name": "stderr",
     "output_type": "stream",
     "text": [
      "Epoch [22/200] Training: 100%|██████████| 1250/1250 [00:09<00:00, 135.10it/s, loss=0.00229]\n",
      "Epoch [22/200] Validation: 100%|██████████| 313/313 [00:00<00:00, 340.77it/s, loss=0.00227]\n"
     ]
    },
    {
     "name": "stdout",
     "output_type": "stream",
     "text": [
      "EarlyStopping counter: 2 out of 15\n",
      "Epoch [22/200], Train Loss: 0.002544, Val Loss: 0.002542, LR: 0.001\n"
     ]
    },
    {
     "name": "stderr",
     "output_type": "stream",
     "text": [
      "Epoch [23/200] Training: 100%|██████████| 1250/1250 [00:08<00:00, 147.03it/s, loss=0.00252]\n",
      "Epoch [23/200] Validation: 100%|██████████| 313/313 [00:01<00:00, 298.70it/s, loss=0.0022] \n"
     ]
    },
    {
     "name": "stdout",
     "output_type": "stream",
     "text": [
      "EarlyStopping counter: 3 out of 15\n",
      "Epoch [23/200], Train Loss: 0.002540, Val Loss: 0.002523, LR: 0.001\n"
     ]
    },
    {
     "name": "stderr",
     "output_type": "stream",
     "text": [
      "Epoch [24/200] Training: 100%|██████████| 1250/1250 [00:08<00:00, 149.91it/s, loss=0.00241]\n",
      "Epoch [24/200] Validation: 100%|██████████| 313/313 [00:00<00:00, 325.09it/s, loss=0.00222]\n"
     ]
    },
    {
     "name": "stdout",
     "output_type": "stream",
     "text": [
      "Epoch [24/200], Train Loss: 0.002535, Val Loss: 0.002507, LR: 0.001\n"
     ]
    },
    {
     "name": "stderr",
     "output_type": "stream",
     "text": [
      "Epoch [25/200] Training: 100%|██████████| 1250/1250 [00:08<00:00, 155.76it/s, loss=0.00243]\n",
      "Epoch [25/200] Validation: 100%|██████████| 313/313 [00:00<00:00, 327.94it/s, loss=0.00226]\n"
     ]
    },
    {
     "name": "stdout",
     "output_type": "stream",
     "text": [
      "EarlyStopping counter: 1 out of 15\n",
      "Epoch [25/200], Train Loss: 0.002532, Val Loss: 0.002517, LR: 0.001\n"
     ]
    },
    {
     "name": "stderr",
     "output_type": "stream",
     "text": [
      "Epoch [26/200] Training: 100%|██████████| 1250/1250 [00:07<00:00, 167.39it/s, loss=0.00269]\n",
      "Epoch [26/200] Validation: 100%|██████████| 313/313 [00:00<00:00, 335.61it/s, loss=0.00221]\n"
     ]
    },
    {
     "name": "stdout",
     "output_type": "stream",
     "text": [
      "Epoch [26/200], Train Loss: 0.002530, Val Loss: 0.002491, LR: 0.001\n"
     ]
    },
    {
     "name": "stderr",
     "output_type": "stream",
     "text": [
      "Epoch [27/200] Training: 100%|██████████| 1250/1250 [00:07<00:00, 168.37it/s, loss=0.00266]\n",
      "Epoch [27/200] Validation: 100%|██████████| 313/313 [00:00<00:00, 336.30it/s, loss=0.00227]\n"
     ]
    },
    {
     "name": "stdout",
     "output_type": "stream",
     "text": [
      "EarlyStopping counter: 1 out of 15\n",
      "Epoch [27/200], Train Loss: 0.002524, Val Loss: 0.002513, LR: 0.001\n"
     ]
    },
    {
     "name": "stderr",
     "output_type": "stream",
     "text": [
      "Epoch [28/200] Training: 100%|██████████| 1250/1250 [00:08<00:00, 149.42it/s, loss=0.00235]\n",
      "Epoch [28/200] Validation: 100%|██████████| 313/313 [00:01<00:00, 290.12it/s, loss=0.00225]\n"
     ]
    },
    {
     "name": "stdout",
     "output_type": "stream",
     "text": [
      "EarlyStopping counter: 2 out of 15\n",
      "Epoch [28/200], Train Loss: 0.002522, Val Loss: 0.002509, LR: 0.001\n"
     ]
    },
    {
     "name": "stderr",
     "output_type": "stream",
     "text": [
      "Epoch [29/200] Training: 100%|██████████| 1250/1250 [00:09<00:00, 138.47it/s, loss=0.00251]\n",
      "Epoch [29/200] Validation: 100%|██████████| 313/313 [00:01<00:00, 228.36it/s, loss=0.00219]\n"
     ]
    },
    {
     "name": "stdout",
     "output_type": "stream",
     "text": [
      "EarlyStopping counter: 3 out of 15\n",
      "Epoch [29/200], Train Loss: 0.002520, Val Loss: 0.002497, LR: 0.001\n"
     ]
    },
    {
     "name": "stderr",
     "output_type": "stream",
     "text": [
      "Epoch [30/200] Training: 100%|██████████| 1250/1250 [00:08<00:00, 148.20it/s, loss=0.00258]\n",
      "Epoch [30/200] Validation: 100%|██████████| 313/313 [00:01<00:00, 292.10it/s, loss=0.00216]\n"
     ]
    },
    {
     "name": "stdout",
     "output_type": "stream",
     "text": [
      "EarlyStopping counter: 4 out of 15\n",
      "Epoch [30/200], Train Loss: 0.002516, Val Loss: 0.002502, LR: 0.001\n"
     ]
    },
    {
     "name": "stderr",
     "output_type": "stream",
     "text": [
      "Epoch [31/200] Training: 100%|██████████| 1250/1250 [00:08<00:00, 154.67it/s, loss=0.00249]\n",
      "Epoch [31/200] Validation: 100%|██████████| 313/313 [00:00<00:00, 326.29it/s, loss=0.00216]\n"
     ]
    },
    {
     "name": "stdout",
     "output_type": "stream",
     "text": [
      "EarlyStopping counter: 5 out of 15\n",
      "Epoch [31/200], Train Loss: 0.002514, Val Loss: 0.002494, LR: 0.001\n"
     ]
    },
    {
     "name": "stderr",
     "output_type": "stream",
     "text": [
      "Epoch [32/200] Training: 100%|██████████| 1250/1250 [00:07<00:00, 158.71it/s, loss=0.00247]\n",
      "Epoch [32/200] Validation: 100%|██████████| 313/313 [00:01<00:00, 265.75it/s, loss=0.00226]\n"
     ]
    },
    {
     "name": "stdout",
     "output_type": "stream",
     "text": [
      "EarlyStopping counter: 6 out of 15\n",
      "Epoch [32/200], Train Loss: 0.002511, Val Loss: 0.002495, LR: 0.001\n"
     ]
    },
    {
     "name": "stderr",
     "output_type": "stream",
     "text": [
      "Epoch [33/200] Training: 100%|██████████| 1250/1250 [00:07<00:00, 161.75it/s, loss=0.00268]\n",
      "Epoch [33/200] Validation: 100%|██████████| 313/313 [00:01<00:00, 263.80it/s, loss=0.00218]\n"
     ]
    },
    {
     "name": "stdout",
     "output_type": "stream",
     "text": [
      "EarlyStopping counter: 7 out of 15\n",
      "Epoch [33/200], Train Loss: 0.002509, Val Loss: 0.002498, LR: 0.001\n"
     ]
    },
    {
     "name": "stderr",
     "output_type": "stream",
     "text": [
      "Epoch [34/200] Training: 100%|██████████| 1250/1250 [00:08<00:00, 152.06it/s, loss=0.00266]\n",
      "Epoch [34/200] Validation: 100%|██████████| 313/313 [00:00<00:00, 319.96it/s, loss=0.0022] \n"
     ]
    },
    {
     "name": "stdout",
     "output_type": "stream",
     "text": [
      "EarlyStopping counter: 8 out of 15\n",
      "Epoch [34/200], Train Loss: 0.002509, Val Loss: 0.002494, LR: 0.001\n"
     ]
    },
    {
     "name": "stderr",
     "output_type": "stream",
     "text": [
      "Epoch [35/200] Training: 100%|██████████| 1250/1250 [00:08<00:00, 148.25it/s, loss=0.00243]\n",
      "Epoch [35/200] Validation: 100%|██████████| 313/313 [00:00<00:00, 330.21it/s, loss=0.00219]\n"
     ]
    },
    {
     "name": "stdout",
     "output_type": "stream",
     "text": [
      "Epoch [35/200], Train Loss: 0.002507, Val Loss: 0.002479, LR: 0.001\n"
     ]
    },
    {
     "name": "stderr",
     "output_type": "stream",
     "text": [
      "Epoch [36/200] Training: 100%|██████████| 1250/1250 [00:08<00:00, 151.03it/s, loss=0.00223]\n",
      "Epoch [36/200] Validation: 100%|██████████| 313/313 [00:01<00:00, 306.01it/s, loss=0.00221]\n"
     ]
    },
    {
     "name": "stdout",
     "output_type": "stream",
     "text": [
      "EarlyStopping counter: 1 out of 15\n",
      "Epoch [36/200], Train Loss: 0.002505, Val Loss: 0.002484, LR: 0.001\n"
     ]
    },
    {
     "name": "stderr",
     "output_type": "stream",
     "text": [
      "Epoch [37/200] Training: 100%|██████████| 1250/1250 [00:07<00:00, 164.50it/s, loss=0.00252]\n",
      "Epoch [37/200] Validation: 100%|██████████| 313/313 [00:00<00:00, 321.97it/s, loss=0.00219]\n"
     ]
    },
    {
     "name": "stdout",
     "output_type": "stream",
     "text": [
      "EarlyStopping counter: 2 out of 15\n",
      "Epoch [37/200], Train Loss: 0.002504, Val Loss: 0.002486, LR: 0.001\n"
     ]
    },
    {
     "name": "stderr",
     "output_type": "stream",
     "text": [
      "Epoch [38/200] Training: 100%|██████████| 1250/1250 [00:07<00:00, 157.20it/s, loss=0.00244]\n",
      "Epoch [38/200] Validation: 100%|██████████| 313/313 [00:01<00:00, 298.67it/s, loss=0.0022] \n"
     ]
    },
    {
     "name": "stdout",
     "output_type": "stream",
     "text": [
      "EarlyStopping counter: 3 out of 15\n",
      "Epoch [38/200], Train Loss: 0.002504, Val Loss: 0.002499, LR: 0.001\n"
     ]
    },
    {
     "name": "stderr",
     "output_type": "stream",
     "text": [
      "Epoch [39/200] Training: 100%|██████████| 1250/1250 [00:07<00:00, 160.39it/s, loss=0.00264]\n",
      "Epoch [39/200] Validation: 100%|██████████| 313/313 [00:00<00:00, 319.22it/s, loss=0.00223]\n"
     ]
    },
    {
     "name": "stdout",
     "output_type": "stream",
     "text": [
      "EarlyStopping counter: 4 out of 15\n",
      "Epoch [39/200], Train Loss: 0.002504, Val Loss: 0.002492, LR: 0.001\n"
     ]
    },
    {
     "name": "stderr",
     "output_type": "stream",
     "text": [
      "Epoch [40/200] Training: 100%|██████████| 1250/1250 [00:07<00:00, 158.50it/s, loss=0.0024] \n",
      "Epoch [40/200] Validation: 100%|██████████| 313/313 [00:00<00:00, 321.30it/s, loss=0.00221]\n"
     ]
    },
    {
     "name": "stdout",
     "output_type": "stream",
     "text": [
      "EarlyStopping counter: 5 out of 15\n",
      "Epoch [40/200], Train Loss: 0.002502, Val Loss: 0.002484, LR: 0.001\n"
     ]
    },
    {
     "name": "stderr",
     "output_type": "stream",
     "text": [
      "Epoch [41/200] Training: 100%|██████████| 1250/1250 [00:08<00:00, 153.95it/s, loss=0.00257]\n",
      "Epoch [41/200] Validation: 100%|██████████| 313/313 [00:00<00:00, 328.08it/s, loss=0.00218]\n"
     ]
    },
    {
     "name": "stdout",
     "output_type": "stream",
     "text": [
      "EarlyStopping counter: 6 out of 15\n",
      "Epoch [41/200], Train Loss: 0.002501, Val Loss: 0.002486, LR: 0.001\n"
     ]
    },
    {
     "name": "stderr",
     "output_type": "stream",
     "text": [
      "Epoch [42/200] Training: 100%|██████████| 1250/1250 [00:07<00:00, 157.53it/s, loss=0.00242]\n",
      "Epoch [42/200] Validation: 100%|██████████| 313/313 [00:00<00:00, 323.95it/s, loss=0.0022] \n"
     ]
    },
    {
     "name": "stdout",
     "output_type": "stream",
     "text": [
      "EarlyStopping counter: 7 out of 15\n",
      "Epoch [42/200], Train Loss: 0.002500, Val Loss: 0.002484, LR: 0.001\n"
     ]
    },
    {
     "name": "stderr",
     "output_type": "stream",
     "text": [
      "Epoch [43/200] Training: 100%|██████████| 1250/1250 [00:07<00:00, 163.10it/s, loss=0.00246]\n",
      "Epoch [43/200] Validation: 100%|██████████| 313/313 [00:01<00:00, 290.34it/s, loss=0.00218]\n"
     ]
    },
    {
     "name": "stdout",
     "output_type": "stream",
     "text": [
      "EarlyStopping counter: 8 out of 15\n",
      "Epoch [43/200], Train Loss: 0.002501, Val Loss: 0.002486, LR: 0.001\n"
     ]
    },
    {
     "name": "stderr",
     "output_type": "stream",
     "text": [
      "Epoch [44/200] Training: 100%|██████████| 1250/1250 [00:07<00:00, 161.57it/s, loss=0.00247]\n",
      "Epoch [44/200] Validation: 100%|██████████| 313/313 [00:00<00:00, 333.02it/s, loss=0.00217]\n"
     ]
    },
    {
     "name": "stdout",
     "output_type": "stream",
     "text": [
      "EarlyStopping counter: 9 out of 15\n",
      "Epoch [44/200], Train Loss: 0.002500, Val Loss: 0.002483, LR: 0.001\n"
     ]
    },
    {
     "name": "stderr",
     "output_type": "stream",
     "text": [
      "Epoch [45/200] Training: 100%|██████████| 1250/1250 [00:08<00:00, 152.79it/s, loss=0.00228]\n",
      "Epoch [45/200] Validation: 100%|██████████| 313/313 [00:00<00:00, 330.41it/s, loss=0.00224]\n"
     ]
    },
    {
     "name": "stdout",
     "output_type": "stream",
     "text": [
      "EarlyStopping counter: 10 out of 15\n",
      "Epoch [45/200], Train Loss: 0.002500, Val Loss: 0.002502, LR: 0.001\n"
     ]
    },
    {
     "name": "stderr",
     "output_type": "stream",
     "text": [
      "Epoch [46/200] Training: 100%|██████████| 1250/1250 [00:08<00:00, 149.06it/s, loss=0.00238]\n",
      "Epoch [46/200] Validation: 100%|██████████| 313/313 [00:00<00:00, 324.94it/s, loss=0.00214]\n"
     ]
    },
    {
     "name": "stdout",
     "output_type": "stream",
     "text": [
      "EarlyStopping counter: 11 out of 15\n",
      "Epoch [46/200], Train Loss: 0.002500, Val Loss: 0.002490, LR: 0.0005\n"
     ]
    },
    {
     "name": "stderr",
     "output_type": "stream",
     "text": [
      "Epoch [47/200] Training: 100%|██████████| 1250/1250 [00:08<00:00, 152.06it/s, loss=0.00233]\n",
      "Epoch [47/200] Validation: 100%|██████████| 313/313 [00:00<00:00, 337.07it/s, loss=0.00219]\n"
     ]
    },
    {
     "name": "stdout",
     "output_type": "stream",
     "text": [
      "Epoch [47/200], Train Loss: 0.002489, Val Loss: 0.002473, LR: 0.0005\n"
     ]
    },
    {
     "name": "stderr",
     "output_type": "stream",
     "text": [
      "Epoch [48/200] Training: 100%|██████████| 1250/1250 [00:07<00:00, 156.85it/s, loss=0.00248]\n",
      "Epoch [48/200] Validation: 100%|██████████| 313/313 [00:01<00:00, 299.56it/s, loss=0.00219]\n"
     ]
    },
    {
     "name": "stdout",
     "output_type": "stream",
     "text": [
      "EarlyStopping counter: 1 out of 15\n",
      "Epoch [48/200], Train Loss: 0.002488, Val Loss: 0.002475, LR: 0.0005\n"
     ]
    },
    {
     "name": "stderr",
     "output_type": "stream",
     "text": [
      "Epoch [49/200] Training: 100%|██████████| 1250/1250 [00:07<00:00, 157.64it/s, loss=0.00242]\n",
      "Epoch [49/200] Validation: 100%|██████████| 313/313 [00:00<00:00, 326.37it/s, loss=0.00217]\n"
     ]
    },
    {
     "name": "stdout",
     "output_type": "stream",
     "text": [
      "EarlyStopping counter: 2 out of 15\n",
      "Epoch [49/200], Train Loss: 0.002489, Val Loss: 0.002473, LR: 0.0005\n"
     ]
    },
    {
     "name": "stderr",
     "output_type": "stream",
     "text": [
      "Epoch [50/200] Training: 100%|██████████| 1250/1250 [00:07<00:00, 162.43it/s, loss=0.00202]\n",
      "Epoch [50/200] Validation: 100%|██████████| 313/313 [00:01<00:00, 301.07it/s, loss=0.00221]\n"
     ]
    },
    {
     "name": "stdout",
     "output_type": "stream",
     "text": [
      "EarlyStopping counter: 3 out of 15\n",
      "Epoch [50/200], Train Loss: 0.002488, Val Loss: 0.002477, LR: 0.0005\n"
     ]
    },
    {
     "name": "stderr",
     "output_type": "stream",
     "text": [
      "Epoch [51/200] Training: 100%|██████████| 1250/1250 [00:08<00:00, 151.84it/s, loss=0.00269]\n",
      "Epoch [51/200] Validation: 100%|██████████| 313/313 [00:01<00:00, 293.88it/s, loss=0.00218]\n"
     ]
    },
    {
     "name": "stdout",
     "output_type": "stream",
     "text": [
      "EarlyStopping counter: 4 out of 15\n",
      "Epoch [51/200], Train Loss: 0.002488, Val Loss: 0.002477, LR: 0.0005\n"
     ]
    },
    {
     "name": "stderr",
     "output_type": "stream",
     "text": [
      "Epoch [52/200] Training: 100%|██████████| 1250/1250 [00:08<00:00, 149.31it/s, loss=0.0024] \n",
      "Epoch [52/200] Validation: 100%|██████████| 313/313 [00:01<00:00, 249.64it/s, loss=0.00215]\n"
     ]
    },
    {
     "name": "stdout",
     "output_type": "stream",
     "text": [
      "EarlyStopping counter: 5 out of 15\n",
      "Epoch [52/200], Train Loss: 0.002488, Val Loss: 0.002475, LR: 0.0005\n"
     ]
    },
    {
     "name": "stderr",
     "output_type": "stream",
     "text": [
      "Epoch [53/200] Training: 100%|██████████| 1250/1250 [00:08<00:00, 152.60it/s, loss=0.00258]\n",
      "Epoch [53/200] Validation: 100%|██████████| 313/313 [00:01<00:00, 231.01it/s, loss=0.00218]\n"
     ]
    },
    {
     "name": "stdout",
     "output_type": "stream",
     "text": [
      "EarlyStopping counter: 6 out of 15\n",
      "Epoch [53/200], Train Loss: 0.002487, Val Loss: 0.002473, LR: 0.0005\n"
     ]
    },
    {
     "name": "stderr",
     "output_type": "stream",
     "text": [
      "Epoch [54/200] Training: 100%|██████████| 1250/1250 [00:08<00:00, 156.02it/s, loss=0.00274]\n",
      "Epoch [54/200] Validation: 100%|██████████| 313/313 [00:00<00:00, 331.92it/s, loss=0.00217]\n"
     ]
    },
    {
     "name": "stdout",
     "output_type": "stream",
     "text": [
      "EarlyStopping counter: 7 out of 15\n",
      "Epoch [54/200], Train Loss: 0.002486, Val Loss: 0.002476, LR: 0.0005\n"
     ]
    },
    {
     "name": "stderr",
     "output_type": "stream",
     "text": [
      "Epoch [55/200] Training: 100%|██████████| 1250/1250 [00:07<00:00, 157.89it/s, loss=0.0025] \n",
      "Epoch [55/200] Validation: 100%|██████████| 313/313 [00:00<00:00, 332.83it/s, loss=0.00218]\n"
     ]
    },
    {
     "name": "stdout",
     "output_type": "stream",
     "text": [
      "EarlyStopping counter: 8 out of 15\n",
      "Epoch [55/200], Train Loss: 0.002487, Val Loss: 0.002476, LR: 0.0005\n"
     ]
    },
    {
     "name": "stderr",
     "output_type": "stream",
     "text": [
      "Epoch [56/200] Training: 100%|██████████| 1250/1250 [00:07<00:00, 160.79it/s, loss=0.00256]\n",
      "Epoch [56/200] Validation: 100%|██████████| 313/313 [00:01<00:00, 284.12it/s, loss=0.00218]\n"
     ]
    },
    {
     "name": "stdout",
     "output_type": "stream",
     "text": [
      "Epoch [56/200], Train Loss: 0.002487, Val Loss: 0.002469, LR: 0.0005\n"
     ]
    },
    {
     "name": "stderr",
     "output_type": "stream",
     "text": [
      "Epoch [57/200] Training: 100%|██████████| 1250/1250 [00:08<00:00, 154.02it/s, loss=0.00248]\n",
      "Epoch [57/200] Validation: 100%|██████████| 313/313 [00:00<00:00, 316.29it/s, loss=0.00216]\n"
     ]
    },
    {
     "name": "stdout",
     "output_type": "stream",
     "text": [
      "EarlyStopping counter: 1 out of 15\n",
      "Epoch [57/200], Train Loss: 0.002485, Val Loss: 0.002474, LR: 0.0005\n"
     ]
    },
    {
     "name": "stderr",
     "output_type": "stream",
     "text": [
      "Epoch [58/200] Training: 100%|██████████| 1250/1250 [00:08<00:00, 147.50it/s, loss=0.00252]\n",
      "Epoch [58/200] Validation: 100%|██████████| 313/313 [00:01<00:00, 293.60it/s, loss=0.00218]\n"
     ]
    },
    {
     "name": "stdout",
     "output_type": "stream",
     "text": [
      "EarlyStopping counter: 2 out of 15\n",
      "Epoch [58/200], Train Loss: 0.002486, Val Loss: 0.002475, LR: 0.0005\n"
     ]
    },
    {
     "name": "stderr",
     "output_type": "stream",
     "text": [
      "Epoch [59/200] Training: 100%|██████████| 1250/1250 [00:08<00:00, 155.43it/s, loss=0.00269]\n",
      "Epoch [59/200] Validation: 100%|██████████| 313/313 [00:01<00:00, 311.61it/s, loss=0.00216]\n"
     ]
    },
    {
     "name": "stdout",
     "output_type": "stream",
     "text": [
      "EarlyStopping counter: 3 out of 15\n",
      "Epoch [59/200], Train Loss: 0.002485, Val Loss: 0.002474, LR: 0.0005\n"
     ]
    },
    {
     "name": "stderr",
     "output_type": "stream",
     "text": [
      "Epoch [60/200] Training: 100%|██████████| 1250/1250 [00:07<00:00, 166.10it/s, loss=0.00234]\n",
      "Epoch [60/200] Validation: 100%|██████████| 313/313 [00:00<00:00, 315.87it/s, loss=0.00216]\n"
     ]
    },
    {
     "name": "stdout",
     "output_type": "stream",
     "text": [
      "EarlyStopping counter: 4 out of 15\n",
      "Epoch [60/200], Train Loss: 0.002486, Val Loss: 0.002473, LR: 0.0005\n"
     ]
    },
    {
     "name": "stderr",
     "output_type": "stream",
     "text": [
      "Epoch [61/200] Training: 100%|██████████| 1250/1250 [00:07<00:00, 160.96it/s, loss=0.0023] \n",
      "Epoch [61/200] Validation: 100%|██████████| 313/313 [00:01<00:00, 307.13it/s, loss=0.00218]\n"
     ]
    },
    {
     "name": "stdout",
     "output_type": "stream",
     "text": [
      "EarlyStopping counter: 5 out of 15\n",
      "Epoch [61/200], Train Loss: 0.002486, Val Loss: 0.002479, LR: 0.0005\n"
     ]
    },
    {
     "name": "stderr",
     "output_type": "stream",
     "text": [
      "Epoch [62/200] Training: 100%|██████████| 1250/1250 [00:07<00:00, 159.20it/s, loss=0.00244]\n",
      "Epoch [62/200] Validation: 100%|██████████| 313/313 [00:01<00:00, 308.81it/s, loss=0.00218]\n"
     ]
    },
    {
     "name": "stdout",
     "output_type": "stream",
     "text": [
      "EarlyStopping counter: 6 out of 15\n",
      "Epoch [62/200], Train Loss: 0.002485, Val Loss: 0.002473, LR: 0.0005\n"
     ]
    },
    {
     "name": "stderr",
     "output_type": "stream",
     "text": [
      "Epoch [63/200] Training: 100%|██████████| 1250/1250 [00:07<00:00, 159.72it/s, loss=0.00251]\n",
      "Epoch [63/200] Validation: 100%|██████████| 313/313 [00:01<00:00, 281.69it/s, loss=0.00219]\n"
     ]
    },
    {
     "name": "stdout",
     "output_type": "stream",
     "text": [
      "EarlyStopping counter: 7 out of 15\n",
      "Epoch [63/200], Train Loss: 0.002486, Val Loss: 0.002472, LR: 0.0005\n"
     ]
    },
    {
     "name": "stderr",
     "output_type": "stream",
     "text": [
      "Epoch [64/200] Training: 100%|██████████| 1250/1250 [00:08<00:00, 150.21it/s, loss=0.0025] \n",
      "Epoch [64/200] Validation: 100%|██████████| 313/313 [00:00<00:00, 319.36it/s, loss=0.00223]\n"
     ]
    },
    {
     "name": "stdout",
     "output_type": "stream",
     "text": [
      "EarlyStopping counter: 8 out of 15\n",
      "Epoch [64/200], Train Loss: 0.002486, Val Loss: 0.002473, LR: 0.0005\n"
     ]
    },
    {
     "name": "stderr",
     "output_type": "stream",
     "text": [
      "Epoch [65/200] Training: 100%|██████████| 1250/1250 [00:08<00:00, 154.88it/s, loss=0.00238]\n",
      "Epoch [65/200] Validation: 100%|██████████| 313/313 [00:00<00:00, 342.24it/s, loss=0.00218]\n"
     ]
    },
    {
     "name": "stdout",
     "output_type": "stream",
     "text": [
      "EarlyStopping counter: 9 out of 15\n",
      "Epoch [65/200], Train Loss: 0.002485, Val Loss: 0.002476, LR: 0.0005\n"
     ]
    },
    {
     "name": "stderr",
     "output_type": "stream",
     "text": [
      "Epoch [66/200] Training: 100%|██████████| 1250/1250 [00:07<00:00, 164.01it/s, loss=0.00261]\n",
      "Epoch [66/200] Validation: 100%|██████████| 313/313 [00:01<00:00, 289.70it/s, loss=0.00218]\n"
     ]
    },
    {
     "name": "stdout",
     "output_type": "stream",
     "text": [
      "EarlyStopping counter: 10 out of 15\n",
      "Epoch [66/200], Train Loss: 0.002486, Val Loss: 0.002473, LR: 0.0005\n"
     ]
    },
    {
     "name": "stderr",
     "output_type": "stream",
     "text": [
      "Epoch [67/200] Training: 100%|██████████| 1250/1250 [00:07<00:00, 164.41it/s, loss=0.00261]\n",
      "Epoch [67/200] Validation: 100%|██████████| 313/313 [00:00<00:00, 331.40it/s, loss=0.0022] \n"
     ]
    },
    {
     "name": "stdout",
     "output_type": "stream",
     "text": [
      "EarlyStopping counter: 11 out of 15\n",
      "Epoch [67/200], Train Loss: 0.002485, Val Loss: 0.002477, LR: 0.00025\n"
     ]
    },
    {
     "name": "stderr",
     "output_type": "stream",
     "text": [
      "Epoch [68/200] Training: 100%|██████████| 1250/1250 [00:08<00:00, 150.15it/s, loss=0.00266]\n",
      "Epoch [68/200] Validation: 100%|██████████| 313/313 [00:01<00:00, 291.68it/s, loss=0.00219]\n"
     ]
    },
    {
     "name": "stdout",
     "output_type": "stream",
     "text": [
      "EarlyStopping counter: 12 out of 15\n",
      "Epoch [68/200], Train Loss: 0.002480, Val Loss: 0.002469, LR: 0.00025\n"
     ]
    },
    {
     "name": "stderr",
     "output_type": "stream",
     "text": [
      "Epoch [69/200] Training: 100%|██████████| 1250/1250 [00:08<00:00, 152.18it/s, loss=0.00261]\n",
      "Epoch [69/200] Validation: 100%|██████████| 313/313 [00:01<00:00, 294.18it/s, loss=0.00217]\n"
     ]
    },
    {
     "name": "stdout",
     "output_type": "stream",
     "text": [
      "EarlyStopping counter: 13 out of 15\n",
      "Epoch [69/200], Train Loss: 0.002479, Val Loss: 0.002469, LR: 0.00025\n"
     ]
    },
    {
     "name": "stderr",
     "output_type": "stream",
     "text": [
      "Epoch [70/200] Training: 100%|██████████| 1250/1250 [00:09<00:00, 137.87it/s, loss=0.00238]\n",
      "Epoch [70/200] Validation: 100%|██████████| 313/313 [00:01<00:00, 278.05it/s, loss=0.00217]\n"
     ]
    },
    {
     "name": "stdout",
     "output_type": "stream",
     "text": [
      "EarlyStopping counter: 14 out of 15\n",
      "Epoch [70/200], Train Loss: 0.002479, Val Loss: 0.002469, LR: 0.00025\n"
     ]
    },
    {
     "name": "stderr",
     "output_type": "stream",
     "text": [
      "Epoch [71/200] Training: 100%|██████████| 1250/1250 [00:08<00:00, 148.90it/s, loss=0.00217]\n",
      "Epoch [71/200] Validation: 100%|██████████| 313/313 [00:01<00:00, 296.16it/s, loss=0.00216]\n"
     ]
    },
    {
     "name": "stdout",
     "output_type": "stream",
     "text": [
      "Epoch [71/200], Train Loss: 0.002479, Val Loss: 0.002468, LR: 0.00025\n"
     ]
    },
    {
     "name": "stderr",
     "output_type": "stream",
     "text": [
      "Epoch [72/200] Training: 100%|██████████| 1250/1250 [00:08<00:00, 144.86it/s, loss=0.00248]\n",
      "Epoch [72/200] Validation: 100%|██████████| 313/313 [00:00<00:00, 317.71it/s, loss=0.00219]\n"
     ]
    },
    {
     "name": "stdout",
     "output_type": "stream",
     "text": [
      "EarlyStopping counter: 1 out of 15\n",
      "Epoch [72/200], Train Loss: 0.002479, Val Loss: 0.002467, LR: 0.00025\n"
     ]
    },
    {
     "name": "stderr",
     "output_type": "stream",
     "text": [
      "Epoch [73/200] Training: 100%|██████████| 1250/1250 [00:08<00:00, 142.89it/s, loss=0.00246]\n",
      "Epoch [73/200] Validation: 100%|██████████| 313/313 [00:01<00:00, 291.97it/s, loss=0.00218]\n"
     ]
    },
    {
     "name": "stdout",
     "output_type": "stream",
     "text": [
      "EarlyStopping counter: 2 out of 15\n",
      "Epoch [73/200], Train Loss: 0.002478, Val Loss: 0.002468, LR: 0.00025\n"
     ]
    },
    {
     "name": "stderr",
     "output_type": "stream",
     "text": [
      "Epoch [74/200] Training: 100%|██████████| 1250/1250 [00:07<00:00, 161.23it/s, loss=0.00258]\n",
      "Epoch [74/200] Validation: 100%|██████████| 313/313 [00:00<00:00, 335.96it/s, loss=0.00218]\n"
     ]
    },
    {
     "name": "stdout",
     "output_type": "stream",
     "text": [
      "EarlyStopping counter: 3 out of 15\n",
      "Epoch [74/200], Train Loss: 0.002479, Val Loss: 0.002468, LR: 0.00025\n"
     ]
    },
    {
     "name": "stderr",
     "output_type": "stream",
     "text": [
      "Epoch [75/200] Training: 100%|██████████| 1250/1250 [00:08<00:00, 154.18it/s, loss=0.00248]\n",
      "Epoch [75/200] Validation: 100%|██████████| 313/313 [00:00<00:00, 336.71it/s, loss=0.00216]\n"
     ]
    },
    {
     "name": "stdout",
     "output_type": "stream",
     "text": [
      "EarlyStopping counter: 4 out of 15\n",
      "Epoch [75/200], Train Loss: 0.002478, Val Loss: 0.002470, LR: 0.00025\n"
     ]
    },
    {
     "name": "stderr",
     "output_type": "stream",
     "text": [
      "Epoch [76/200] Training: 100%|██████████| 1250/1250 [00:08<00:00, 147.34it/s, loss=0.00236]\n",
      "Epoch [76/200] Validation: 100%|██████████| 313/313 [00:01<00:00, 260.76it/s, loss=0.00218]\n"
     ]
    },
    {
     "name": "stdout",
     "output_type": "stream",
     "text": [
      "EarlyStopping counter: 5 out of 15\n",
      "Epoch [76/200], Train Loss: 0.002479, Val Loss: 0.002468, LR: 0.00025\n"
     ]
    },
    {
     "name": "stderr",
     "output_type": "stream",
     "text": [
      "Epoch [77/200] Training: 100%|██████████| 1250/1250 [00:07<00:00, 162.03it/s, loss=0.00263]\n",
      "Epoch [77/200] Validation: 100%|██████████| 313/313 [00:01<00:00, 293.31it/s, loss=0.00216]\n"
     ]
    },
    {
     "name": "stdout",
     "output_type": "stream",
     "text": [
      "EarlyStopping counter: 6 out of 15\n",
      "Epoch [77/200], Train Loss: 0.002478, Val Loss: 0.002469, LR: 0.00025\n"
     ]
    },
    {
     "name": "stderr",
     "output_type": "stream",
     "text": [
      "Epoch [78/200] Training: 100%|██████████| 1250/1250 [00:07<00:00, 159.68it/s, loss=0.00239]\n",
      "Epoch [78/200] Validation: 100%|██████████| 313/313 [00:01<00:00, 309.20it/s, loss=0.00217]\n"
     ]
    },
    {
     "name": "stdout",
     "output_type": "stream",
     "text": [
      "EarlyStopping counter: 7 out of 15\n",
      "Epoch [78/200], Train Loss: 0.002478, Val Loss: 0.002469, LR: 0.00025\n"
     ]
    },
    {
     "name": "stderr",
     "output_type": "stream",
     "text": [
      "Epoch [79/200] Training: 100%|██████████| 1250/1250 [00:08<00:00, 154.34it/s, loss=0.00231]\n",
      "Epoch [79/200] Validation: 100%|██████████| 313/313 [00:00<00:00, 326.33it/s, loss=0.00217]\n"
     ]
    },
    {
     "name": "stdout",
     "output_type": "stream",
     "text": [
      "EarlyStopping counter: 8 out of 15\n",
      "Epoch [79/200], Train Loss: 0.002478, Val Loss: 0.002469, LR: 0.00025\n"
     ]
    },
    {
     "name": "stderr",
     "output_type": "stream",
     "text": [
      "Epoch [80/200] Training: 100%|██████████| 1250/1250 [00:08<00:00, 152.75it/s, loss=0.00242]\n",
      "Epoch [80/200] Validation: 100%|██████████| 313/313 [00:00<00:00, 318.09it/s, loss=0.00218]\n"
     ]
    },
    {
     "name": "stdout",
     "output_type": "stream",
     "text": [
      "EarlyStopping counter: 9 out of 15\n",
      "Epoch [80/200], Train Loss: 0.002478, Val Loss: 0.002469, LR: 0.00025\n"
     ]
    },
    {
     "name": "stderr",
     "output_type": "stream",
     "text": [
      "Epoch [81/200] Training: 100%|██████████| 1250/1250 [00:08<00:00, 150.30it/s, loss=0.00244]\n",
      "Epoch [81/200] Validation: 100%|██████████| 313/313 [00:01<00:00, 295.84it/s, loss=0.00216]\n"
     ]
    },
    {
     "name": "stdout",
     "output_type": "stream",
     "text": [
      "EarlyStopping counter: 10 out of 15\n",
      "Epoch [81/200], Train Loss: 0.002478, Val Loss: 0.002468, LR: 0.00025\n"
     ]
    },
    {
     "name": "stderr",
     "output_type": "stream",
     "text": [
      "Epoch [82/200] Training: 100%|██████████| 1250/1250 [00:08<00:00, 141.84it/s, loss=0.0024] \n",
      "Epoch [82/200] Validation: 100%|██████████| 313/313 [00:00<00:00, 341.56it/s, loss=0.00219]\n"
     ]
    },
    {
     "name": "stdout",
     "output_type": "stream",
     "text": [
      "EarlyStopping counter: 11 out of 15\n",
      "Epoch [82/200], Train Loss: 0.002478, Val Loss: 0.002469, LR: 0.00025\n"
     ]
    },
    {
     "name": "stderr",
     "output_type": "stream",
     "text": [
      "Epoch [83/200] Training: 100%|██████████| 1250/1250 [00:07<00:00, 160.25it/s, loss=0.00271]\n",
      "Epoch [83/200] Validation: 100%|██████████| 313/313 [00:01<00:00, 294.06it/s, loss=0.00216]\n"
     ]
    },
    {
     "name": "stdout",
     "output_type": "stream",
     "text": [
      "EarlyStopping counter: 12 out of 15\n",
      "Epoch [83/200], Train Loss: 0.002478, Val Loss: 0.002470, LR: 0.000125\n"
     ]
    },
    {
     "name": "stderr",
     "output_type": "stream",
     "text": [
      "Epoch [84/200] Training: 100%|██████████| 1250/1250 [00:07<00:00, 161.47it/s, loss=0.00277]\n",
      "Epoch [84/200] Validation: 100%|██████████| 313/313 [00:00<00:00, 330.77it/s, loss=0.00218]\n"
     ]
    },
    {
     "name": "stdout",
     "output_type": "stream",
     "text": [
      "Epoch [84/200], Train Loss: 0.002475, Val Loss: 0.002466, LR: 0.000125\n"
     ]
    },
    {
     "name": "stderr",
     "output_type": "stream",
     "text": [
      "Epoch [85/200] Training: 100%|██████████| 1250/1250 [00:08<00:00, 154.72it/s, loss=0.0024] \n",
      "Epoch [85/200] Validation: 100%|██████████| 313/313 [00:00<00:00, 337.82it/s, loss=0.00218]\n"
     ]
    },
    {
     "name": "stdout",
     "output_type": "stream",
     "text": [
      "Epoch [85/200], Train Loss: 0.002475, Val Loss: 0.002465, LR: 0.000125\n"
     ]
    },
    {
     "name": "stderr",
     "output_type": "stream",
     "text": [
      "Epoch [86/200] Training: 100%|██████████| 1250/1250 [00:08<00:00, 154.65it/s, loss=0.00234]\n",
      "Epoch [86/200] Validation: 100%|██████████| 313/313 [00:01<00:00, 282.01it/s, loss=0.00219]\n"
     ]
    },
    {
     "name": "stdout",
     "output_type": "stream",
     "text": [
      "EarlyStopping counter: 1 out of 15\n",
      "Epoch [86/200], Train Loss: 0.002475, Val Loss: 0.002467, LR: 0.000125\n"
     ]
    },
    {
     "name": "stderr",
     "output_type": "stream",
     "text": [
      "Epoch [87/200] Training: 100%|██████████| 1250/1250 [00:08<00:00, 154.95it/s, loss=0.00275]\n",
      "Epoch [87/200] Validation: 100%|██████████| 313/313 [00:00<00:00, 332.38it/s, loss=0.00217]\n"
     ]
    },
    {
     "name": "stdout",
     "output_type": "stream",
     "text": [
      "EarlyStopping counter: 2 out of 15\n",
      "Epoch [87/200], Train Loss: 0.002475, Val Loss: 0.002465, LR: 0.000125\n"
     ]
    },
    {
     "name": "stderr",
     "output_type": "stream",
     "text": [
      "Epoch [88/200] Training: 100%|██████████| 1250/1250 [00:07<00:00, 158.21it/s, loss=0.00235]\n",
      "Epoch [88/200] Validation: 100%|██████████| 313/313 [00:01<00:00, 299.08it/s, loss=0.00218]\n"
     ]
    },
    {
     "name": "stdout",
     "output_type": "stream",
     "text": [
      "EarlyStopping counter: 3 out of 15\n",
      "Epoch [88/200], Train Loss: 0.002475, Val Loss: 0.002466, LR: 0.000125\n"
     ]
    },
    {
     "name": "stderr",
     "output_type": "stream",
     "text": [
      "Epoch [89/200] Training: 100%|██████████| 1250/1250 [00:07<00:00, 159.96it/s, loss=0.00235]\n",
      "Epoch [89/200] Validation: 100%|██████████| 313/313 [00:00<00:00, 318.92it/s, loss=0.00217]\n"
     ]
    },
    {
     "name": "stdout",
     "output_type": "stream",
     "text": [
      "EarlyStopping counter: 4 out of 15\n",
      "Epoch [89/200], Train Loss: 0.002474, Val Loss: 0.002465, LR: 0.000125\n"
     ]
    },
    {
     "name": "stderr",
     "output_type": "stream",
     "text": [
      "Epoch [90/200] Training: 100%|██████████| 1250/1250 [00:07<00:00, 160.62it/s, loss=0.00225]\n",
      "Epoch [90/200] Validation: 100%|██████████| 313/313 [00:00<00:00, 326.76it/s, loss=0.00217]\n"
     ]
    },
    {
     "name": "stdout",
     "output_type": "stream",
     "text": [
      "EarlyStopping counter: 5 out of 15\n",
      "Epoch [90/200], Train Loss: 0.002474, Val Loss: 0.002466, LR: 0.000125\n"
     ]
    },
    {
     "name": "stderr",
     "output_type": "stream",
     "text": [
      "Epoch [91/200] Training: 100%|██████████| 1250/1250 [00:08<00:00, 151.91it/s, loss=0.00239]\n",
      "Epoch [91/200] Validation: 100%|██████████| 313/313 [00:01<00:00, 310.11it/s, loss=0.00216]\n"
     ]
    },
    {
     "name": "stdout",
     "output_type": "stream",
     "text": [
      "EarlyStopping counter: 6 out of 15\n",
      "Epoch [91/200], Train Loss: 0.002474, Val Loss: 0.002466, LR: 0.000125\n"
     ]
    },
    {
     "name": "stderr",
     "output_type": "stream",
     "text": [
      "Epoch [92/200] Training: 100%|██████████| 1250/1250 [00:08<00:00, 154.85it/s, loss=0.00234]\n",
      "Epoch [92/200] Validation: 100%|██████████| 313/313 [00:00<00:00, 340.42it/s, loss=0.00217]\n"
     ]
    },
    {
     "name": "stdout",
     "output_type": "stream",
     "text": [
      "EarlyStopping counter: 7 out of 15\n",
      "Epoch [92/200], Train Loss: 0.002474, Val Loss: 0.002466, LR: 0.000125\n"
     ]
    },
    {
     "name": "stderr",
     "output_type": "stream",
     "text": [
      "Epoch [93/200] Training: 100%|██████████| 1250/1250 [00:07<00:00, 166.17it/s, loss=0.0024] \n",
      "Epoch [93/200] Validation: 100%|██████████| 313/313 [00:01<00:00, 224.30it/s, loss=0.00216]\n"
     ]
    },
    {
     "name": "stdout",
     "output_type": "stream",
     "text": [
      "EarlyStopping counter: 8 out of 15\n",
      "Epoch [93/200], Train Loss: 0.002474, Val Loss: 0.002466, LR: 0.000125\n"
     ]
    },
    {
     "name": "stderr",
     "output_type": "stream",
     "text": [
      "Epoch [94/200] Training: 100%|██████████| 1250/1250 [00:08<00:00, 155.62it/s, loss=0.00226]\n",
      "Epoch [94/200] Validation: 100%|██████████| 313/313 [00:00<00:00, 360.61it/s, loss=0.00217]\n"
     ]
    },
    {
     "name": "stdout",
     "output_type": "stream",
     "text": [
      "EarlyStopping counter: 9 out of 15\n",
      "Epoch [94/200], Train Loss: 0.002474, Val Loss: 0.002467, LR: 0.000125\n"
     ]
    },
    {
     "name": "stderr",
     "output_type": "stream",
     "text": [
      "Epoch [95/200] Training: 100%|██████████| 1250/1250 [00:07<00:00, 162.34it/s, loss=0.00251]\n",
      "Epoch [95/200] Validation: 100%|██████████| 313/313 [00:00<00:00, 353.99it/s, loss=0.00217]\n"
     ]
    },
    {
     "name": "stdout",
     "output_type": "stream",
     "text": [
      "EarlyStopping counter: 10 out of 15\n",
      "Epoch [95/200], Train Loss: 0.002474, Val Loss: 0.002466, LR: 0.000125\n"
     ]
    },
    {
     "name": "stderr",
     "output_type": "stream",
     "text": [
      "Epoch [96/200] Training: 100%|██████████| 1250/1250 [00:07<00:00, 164.83it/s, loss=0.00253]\n",
      "Epoch [96/200] Validation: 100%|██████████| 313/313 [00:01<00:00, 288.58it/s, loss=0.00218]\n"
     ]
    },
    {
     "name": "stdout",
     "output_type": "stream",
     "text": [
      "EarlyStopping counter: 11 out of 15\n",
      "Epoch [96/200], Train Loss: 0.002474, Val Loss: 0.002466, LR: 6.25e-05\n"
     ]
    },
    {
     "name": "stderr",
     "output_type": "stream",
     "text": [
      "Epoch [97/200] Training: 100%|██████████| 1250/1250 [00:07<00:00, 162.06it/s, loss=0.00249]\n",
      "Epoch [97/200] Validation: 100%|██████████| 313/313 [00:01<00:00, 305.35it/s, loss=0.00218]\n"
     ]
    },
    {
     "name": "stdout",
     "output_type": "stream",
     "text": [
      "EarlyStopping counter: 12 out of 15\n",
      "Epoch [97/200], Train Loss: 0.002473, Val Loss: 0.002465, LR: 6.25e-05\n"
     ]
    },
    {
     "name": "stderr",
     "output_type": "stream",
     "text": [
      "Epoch [98/200] Training: 100%|██████████| 1250/1250 [00:08<00:00, 155.01it/s, loss=0.00238]\n",
      "Epoch [98/200] Validation: 100%|██████████| 313/313 [00:00<00:00, 324.98it/s, loss=0.00218]\n"
     ]
    },
    {
     "name": "stdout",
     "output_type": "stream",
     "text": [
      "EarlyStopping counter: 13 out of 15\n",
      "Epoch [98/200], Train Loss: 0.002473, Val Loss: 0.002466, LR: 6.25e-05\n"
     ]
    },
    {
     "name": "stderr",
     "output_type": "stream",
     "text": [
      "Epoch [99/200] Training: 100%|██████████| 1250/1250 [00:08<00:00, 152.98it/s, loss=0.00215]\n",
      "Epoch [99/200] Validation: 100%|██████████| 313/313 [00:01<00:00, 308.69it/s, loss=0.00217]\n"
     ]
    },
    {
     "name": "stdout",
     "output_type": "stream",
     "text": [
      "EarlyStopping counter: 14 out of 15\n",
      "Epoch [99/200], Train Loss: 0.002472, Val Loss: 0.002465, LR: 6.25e-05\n"
     ]
    },
    {
     "name": "stderr",
     "output_type": "stream",
     "text": [
      "Epoch [100/200] Training: 100%|██████████| 1250/1250 [00:07<00:00, 162.59it/s, loss=0.00251]\n",
      "Epoch [100/200] Validation: 100%|██████████| 313/313 [00:01<00:00, 306.35it/s, loss=0.00217]"
     ]
    },
    {
     "name": "stdout",
     "output_type": "stream",
     "text": [
      "EarlyStopping counter: 15 out of 15\n",
      "Epoch [100/200], Train Loss: 0.002473, Val Loss: 0.002465, LR: 6.25e-05\n",
      "Early stopping triggered\n"
     ]
    },
    {
     "name": "stderr",
     "output_type": "stream",
     "text": [
      "\n"
     ]
    }
   ],
   "source": [
    "for epoch in range(200):\n",
    "    # Training phase\n",
    "    model.train()\n",
    "    train_loss = 0.0\n",
    "    progress_bar_train = tqdm(train_loader, desc=f'Epoch [{epoch+1}/200] Training')\n",
    "    \n",
    "    for inputs, targets in progress_bar_train:\n",
    "        inputs, targets = inputs.to(device), targets.to(device)\n",
    "        \n",
    "        optimizer.zero_grad()\n",
    "        outputs = model(inputs)\n",
    "        loss = criterion(outputs, targets)\n",
    "        loss.backward()\n",
    "        \n",
    "        # Gradient clipping\n",
    "        torch.nn.utils.clip_grad_norm_(model.parameters(), max_norm=1.0)\n",
    "        \n",
    "        optimizer.step()\n",
    "        train_loss += loss.item()\n",
    "        progress_bar_train.set_postfix({'loss': loss.item()})\n",
    "\n",
    "    avg_train_loss = train_loss / len(train_loader)\n",
    "\n",
    "    # Validation phase\n",
    "    model.eval()\n",
    "    val_loss = 0.0\n",
    "    progress_bar_val = tqdm(val_loader, desc=f'Epoch [{epoch+1}/200] Validation')\n",
    "    \n",
    "    with torch.no_grad():\n",
    "        for inputs, targets in progress_bar_val:\n",
    "            inputs, targets = inputs.to(device), targets.to(device)\n",
    "            outputs = model(inputs)\n",
    "            loss = criterion(outputs, targets)\n",
    "            val_loss += loss.item()\n",
    "            progress_bar_val.set_postfix({'loss': loss.item()})\n",
    "\n",
    "    avg_val_loss = val_loss / len(val_loader)\n",
    "\n",
    "    # Learning rate scheduling\n",
    "    scheduler.step(avg_val_loss)\n",
    "    current_lr = optimizer.param_groups[0]['lr']\n",
    "\n",
    "    # Early stopping\n",
    "    early_stopping(avg_val_loss, model)\n",
    "\n",
    "    # Logging\n",
    "    wandb.log({\n",
    "        \"epoch\": epoch + 1,\n",
    "        \"train_loss\": avg_train_loss,\n",
    "        \"val_loss\": avg_val_loss,\n",
    "        \"learning_rate\": current_lr\n",
    "    })\n",
    "\n",
    "    print(f'Epoch [{epoch+1}/200], Train Loss: {avg_train_loss:.6f}, Val Loss: {avg_val_loss:.6f}, LR: {current_lr}')\n",
    "\n",
    "    if early_stopping.early_stop:\n",
    "        print(\"Early stopping triggered\")\n",
    "        break"
   ]
  },
  {
   "cell_type": "code",
   "execution_count": null,
   "metadata": {},
   "outputs": [
    {
     "name": "stdout",
     "output_type": "stream",
     "text": [
      "\n",
      "Final Model Evaluation:\n",
      "MSE: 0.002465\n",
      "MAE: 0.026724\n",
      "PSNR: 24.57 dB\n",
      "R² Score: 0.4523\n",
      "Peak Detection Accuracy: 35.70%\n",
      "Average Inference Time: 0.87 ms\n",
      "Memory Usage: 998.0 MB\n",
      "Number of Parameters: 336,672\n"
     ]
    }
   ],
   "source": [
    "class ModelEvaluator:\n",
    "    def __init__(self, model, device):\n",
    "        self.model = model\n",
    "        self.device = device\n",
    "        self.metrics = {}\n",
    "\n",
    "    def calculate_psnr(self, target, prediction):\n",
    "        mse = np.mean((target - prediction) ** 2)\n",
    "        if mse == 0:\n",
    "            return float('inf')\n",
    "        max_pixel = np.max(target)\n",
    "        psnr = 20 * np.log10(max_pixel / np.sqrt(mse))\n",
    "        return psnr\n",
    "\n",
    "    def calculate_peak_metrics(self, target, prediction, prominence=0.1):\n",
    "        \"\"\"Calculate peak detection accuracy\"\"\"\n",
    "        peak_metrics = {'true_peaks': 0, 'predicted_peaks': 0, 'matching_peaks': 0}\n",
    "        \n",
    "        for i in range(len(target)):\n",
    "            true_peaks, _ = find_peaks(target[i], prominence=prominence)\n",
    "            pred_peaks, _ = find_peaks(prediction[i], prominence=prominence)\n",
    "            \n",
    "            # Count matching peaks (within ±1 index)\n",
    "            matches = 0\n",
    "            for tp in true_peaks:\n",
    "                for pp in pred_peaks:\n",
    "                    if abs(tp - pp) <= 1:\n",
    "                        matches += 1\n",
    "                        break\n",
    "            \n",
    "            peak_metrics['true_peaks'] += len(true_peaks)\n",
    "            peak_metrics['predicted_peaks'] += len(pred_peaks)\n",
    "            peak_metrics['matching_peaks'] += matches\n",
    "        \n",
    "        return peak_metrics\n",
    "\n",
    "    def measure_inference_time(self, input_tensor, num_iterations=100):\n",
    "        self.model.eval()\n",
    "        start_time = time.time()\n",
    "        with torch.no_grad():\n",
    "            for _ in range(num_iterations):\n",
    "                _ = self.model(input_tensor)\n",
    "        end_time = time.time()\n",
    "        return (end_time - start_time) / num_iterations\n",
    "\n",
    "    def count_parameters(self):\n",
    "        return sum(p.numel() for p in self.model.parameters() if p.requires_grad)\n",
    "\n",
    "    def measure_memory_usage(self):\n",
    "        process = psutil.Process(os.getpid())\n",
    "        return process.memory_info().rss / 1024 / 1024  # Convert to MB\n",
    "\n",
    "    def evaluate_model(self, val_loader):\n",
    "        self.model.eval()\n",
    "        metrics = {\n",
    "            'mse': 0.0,\n",
    "            'mae': 0.0,\n",
    "            'psnr': 0.0,\n",
    "            'r2_score': 0.0,\n",
    "            'peak_accuracy': {},\n",
    "            'inference_time': 0.0,\n",
    "            'memory_usage': 0.0,\n",
    "            'num_parameters': self.count_parameters()\n",
    "        }\n",
    "        \n",
    "        all_targets = []\n",
    "        all_predictions = []\n",
    "        \n",
    "        # Get sample input for inference time measurement\n",
    "        sample_input, _ = next(iter(val_loader))\n",
    "        metrics['inference_time'] = self.measure_inference_time(sample_input.to(self.device))\n",
    "        \n",
    "        with torch.no_grad():\n",
    "            for inputs, targets in val_loader:\n",
    "                inputs = inputs.to(self.device)\n",
    "                targets = targets.to(self.device)\n",
    "                outputs = self.model(inputs)\n",
    "                \n",
    "                # Convert to numpy for metric calculation\n",
    "                targets_np = targets.cpu().numpy()\n",
    "                outputs_np = outputs.cpu().numpy()\n",
    "                \n",
    "                all_targets.append(targets_np)\n",
    "                all_predictions.append(outputs_np)\n",
    "        \n",
    "        # Concatenate all batches\n",
    "        all_targets = np.concatenate(all_targets)\n",
    "        all_predictions = np.concatenate(all_predictions)\n",
    "        \n",
    "        # Calculate metrics\n",
    "        metrics['mse'] = np.mean((all_targets - all_predictions) ** 2)\n",
    "        metrics['mae'] = np.mean(np.abs(all_targets - all_predictions))\n",
    "        metrics['psnr'] = self.calculate_psnr(all_targets, all_predictions)\n",
    "        metrics['r2_score'] = r2_score(all_targets.flatten(), all_predictions.flatten())\n",
    "        metrics['peak_metrics'] = self.calculate_peak_metrics(all_targets, all_predictions)\n",
    "        metrics['memory_usage'] = self.measure_memory_usage()\n",
    "        \n",
    "        return metrics\n",
    "\n",
    "evaluator = ModelEvaluator(model, device)\n",
    "\n",
    "final_metrics = evaluator.evaluate_model(val_loader)\n",
    "\n",
    "wandb.log({\n",
    "    \"final_mse\": final_metrics['mse'],\n",
    "    \"final_mae\": final_metrics['mae'],\n",
    "    \"final_psnr\": final_metrics['psnr'],\n",
    "    \"final_r2_score\": final_metrics['r2_score'],\n",
    "    \"peak_detection_accuracy\": final_metrics['peak_metrics']['matching_peaks'] / final_metrics['peak_metrics']['true_peaks'],\n",
    "    \"inference_time_ms\": final_metrics['inference_time'] * 1000,\n",
    "    \"memory_usage_mb\": final_metrics['memory_usage'],\n",
    "    \"model_parameters\": final_metrics['num_parameters']\n",
    "})\n",
    "\n",
    "print(\"\\nFinal Model Evaluation:\")\n",
    "print(f\"MSE: {final_metrics['mse']:.6f}\")\n",
    "print(f\"MAE: {final_metrics['mae']:.6f}\")\n",
    "print(f\"PSNR: {final_metrics['psnr']:.2f} dB\")\n",
    "print(f\"R² Score: {final_metrics['r2_score']:.4f}\")\n",
    "print(f\"Peak Detection Accuracy: {final_metrics['peak_metrics']['matching_peaks'] / final_metrics['peak_metrics']['true_peaks']:.2%}\")\n",
    "print(f\"Average Inference Time: {final_metrics['inference_time']*1000:.2f} ms\")\n",
    "print(f\"Memory Usage: {final_metrics['memory_usage']:.1f} MB\")\n",
    "print(f\"Number of Parameters: {final_metrics['num_parameters']:,}\")"
   ]
  },
  {
   "cell_type": "code",
   "execution_count": null,
   "metadata": {},
   "outputs": [
    {
     "name": "stdout",
     "output_type": "stream",
     "text": [
      "Average MSE for 1 peak(s): 0.001977\n",
      "Average MSE for 2 peak(s): 0.001885\n",
      "Average MSE for 3 peak(s): 0.002719\n",
      "Average MSE for 4 peak(s): 0.002013\n"
     ]
    }
   ],
   "source": [
    "model.eval()\n",
    "\n",
    "# Visualization function with peak analysis\n",
    "def visualize_final_results():\n",
    "    model.eval()\n",
    "    results_by_peaks = {1: [], 2: [], 3: [], 4: []}\n",
    "    \n",
    "    with torch.no_grad():\n",
    "        for num_peaks in range(1, 5):\n",
    "            peak_indices = np.where(no_comp.flatten() == num_peaks)[0]\n",
    "            sample_indices = np.random.choice(peak_indices, min(10, len(peak_indices)), replace=False)\n",
    "            \n",
    "            for idx in sample_indices:\n",
    "                input_signal = torch.FloatTensor(input_noisy[:, idx]).unsqueeze(0).to(device)\n",
    "                target = ref[:, idx]\n",
    "                prediction = model(input_signal).cpu().squeeze(0).numpy()\n",
    "                mse = np.mean((target - prediction)**2)\n",
    "                results_by_peaks[num_peaks].append(mse)\n",
    "    \n",
    "    for num_peaks, mse_values in results_by_peaks.items():\n",
    "        avg_mse = np.mean(mse_values)\n",
    "        wandb.log({f\"MSE_{num_peaks}_peaks\": avg_mse})\n",
    "        print(f\"Average MSE for {num_peaks} peak(s): {avg_mse:.6f}\")\n",
    "        \n",
    "visualize_final_results()"
   ]
  },
  {
   "cell_type": "code",
   "execution_count": 13,
   "metadata": {},
   "outputs": [
    {
     "data": {
      "text/html": [],
      "text/plain": [
       "<IPython.core.display.HTML object>"
      ]
     },
     "metadata": {},
     "output_type": "display_data"
    },
    {
     "data": {
      "text/html": [
       "<br>    <style><br>        .wandb-row {<br>            display: flex;<br>            flex-direction: row;<br>            flex-wrap: wrap;<br>            justify-content: flex-start;<br>            width: 100%;<br>        }<br>        .wandb-col {<br>            display: flex;<br>            flex-direction: column;<br>            flex-basis: 100%;<br>            flex: 1;<br>            padding: 10px;<br>        }<br>    </style><br><div class=\"wandb-row\"><div class=\"wandb-col\"><h3>Run history:</h3><br/><table class=\"wandb\"><tr><td>MSE_1_peaks</td><td>▁</td></tr><tr><td>MSE_2_peaks</td><td>▁</td></tr><tr><td>MSE_3_peaks</td><td>▁</td></tr><tr><td>MSE_4_peaks</td><td>▁</td></tr><tr><td>epoch</td><td>▁▁▁▁▁▂▂▂▂▂▃▃▃▃▃▄▄▄▄▄▅▅▅▅▅▆▆▆▆▆▇▇▇▇▇▇████</td></tr><tr><td>final_mae</td><td>▁</td></tr><tr><td>final_mse</td><td>▁</td></tr><tr><td>final_psnr</td><td>▁</td></tr><tr><td>final_r2_score</td><td>▁</td></tr><tr><td>inference_time_ms</td><td>▁</td></tr><tr><td>learning_rate</td><td>████████████████▄▄▄▄▄▄▄▄▄▄▂▂▂▂▂▁▁▁▁▁▁▁▁▁</td></tr><tr><td>memory_usage_mb</td><td>▁</td></tr><tr><td>model_parameters</td><td>▁</td></tr><tr><td>peak_detection_accuracy</td><td>▁</td></tr><tr><td>train_loss</td><td>█▇▆▆▅▅▄▄▄▃▃▃▂▂▂▂▂▂▂▂▂▁▁▁▁▁▁▁▁▁▁▁▁▁▁▁▁▁▁▁</td></tr><tr><td>val_loss</td><td>▇█▅▆▃▃▃▃▃▃▂▂▂▁▂▂▂▂▁▁▁▁▁▁▁▁▁▁▁▁▁▁▁▁▁▁▁▁▁▁</td></tr></table><br/></div><div class=\"wandb-col\"><h3>Run summary:</h3><br/><table class=\"wandb\"><tr><td>MSE_1_peaks</td><td>0.00198</td></tr><tr><td>MSE_2_peaks</td><td>0.00188</td></tr><tr><td>MSE_3_peaks</td><td>0.00272</td></tr><tr><td>MSE_4_peaks</td><td>0.00201</td></tr><tr><td>epoch</td><td>100</td></tr><tr><td>final_mae</td><td>0.02672</td></tr><tr><td>final_mse</td><td>0.00247</td></tr><tr><td>final_psnr</td><td>24.57014</td></tr><tr><td>final_r2_score</td><td>0.4523</td></tr><tr><td>inference_time_ms</td><td>0.86999</td></tr><tr><td>learning_rate</td><td>6e-05</td></tr><tr><td>memory_usage_mb</td><td>997.95703</td></tr><tr><td>model_parameters</td><td>336672</td></tr><tr><td>peak_detection_accuracy</td><td>0.35702</td></tr><tr><td>train_loss</td><td>0.00247</td></tr><tr><td>val_loss</td><td>0.00246</td></tr></table><br/></div></div>"
      ],
      "text/plain": [
       "<IPython.core.display.HTML object>"
      ]
     },
     "metadata": {},
     "output_type": "display_data"
    },
    {
     "data": {
      "text/html": [
       " View run <strong style=\"color:#cdcd00\">single-signal-baseline</strong> at: <a href='https://wandb.ai/trphan/master-multicomponent-mri/runs/3sjzymv1' target=\"_blank\">https://wandb.ai/trphan/master-multicomponent-mri/runs/3sjzymv1</a><br> View project at: <a href='https://wandb.ai/trphan/master-multicomponent-mri' target=\"_blank\">https://wandb.ai/trphan/master-multicomponent-mri</a><br>Synced 5 W&B file(s), 0 media file(s), 0 artifact file(s) and 0 other file(s)"
      ],
      "text/plain": [
       "<IPython.core.display.HTML object>"
      ]
     },
     "metadata": {},
     "output_type": "display_data"
    },
    {
     "data": {
      "text/html": [
       "Find logs at: <code>.\\wandb\\run-20250213_004020-3sjzymv1\\logs</code>"
      ],
      "text/plain": [
       "<IPython.core.display.HTML object>"
      ]
     },
     "metadata": {},
     "output_type": "display_data"
    }
   ],
   "source": [
    "wandb.finish()"
   ]
  }
 ],
 "metadata": {
  "kernelspec": {
   "display_name": ".venv",
   "language": "python",
   "name": "python3"
  },
  "language_info": {
   "codemirror_mode": {
    "name": "ipython",
    "version": 3
   },
   "file_extension": ".py",
   "mimetype": "text/x-python",
   "name": "python",
   "nbconvert_exporter": "python",
   "pygments_lexer": "ipython3",
   "version": "3.11.0"
  }
 },
 "nbformat": 4,
 "nbformat_minor": 2
}
