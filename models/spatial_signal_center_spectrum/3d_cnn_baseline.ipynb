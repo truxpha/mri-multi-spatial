{
 "cells": [
  {
   "cell_type": "code",
   "execution_count": 1,
   "metadata": {},
   "outputs": [],
   "source": [
    "import torch\n",
    "import torch.nn as nn\n",
    "import torch.optim as optim\n",
    "from torch.utils.data import Dataset, DataLoader, random_split\n",
    "import mat73\n",
    "import numpy as np\n",
    "from tqdm import tqdm\n",
    "import wandb\n",
    "import matplotlib.pyplot as plt\n",
    "from torch.optim.lr_scheduler import ReduceLROnPlateau\n",
    "\n",
    "from scipy.signal import find_peaks\n",
    "from skimage.metrics import structural_similarity as ssim\n",
    "from sklearn.metrics import r2_score\n",
    "import psutil\n",
    "import os\n",
    "import time"
   ]
  },
  {
   "cell_type": "code",
   "execution_count": 2,
   "metadata": {},
   "outputs": [
    {
     "name": "stderr",
     "output_type": "stream",
     "text": [
      "\u001b[34m\u001b[1mwandb\u001b[0m: Currently logged in as: \u001b[33mtr-phan\u001b[0m (\u001b[33mtrphan\u001b[0m) to \u001b[32mhttps://api.wandb.ai\u001b[0m. Use \u001b[1m`wandb login --relogin`\u001b[0m to force relogin\n",
      "\u001b[34m\u001b[1mwandb\u001b[0m: Using wandb-core as the SDK backend.  Please refer to https://wandb.me/wandb-core for more information.\n"
     ]
    },
    {
     "data": {
      "text/html": [
       "Tracking run with wandb version 0.19.6"
      ],
      "text/plain": [
       "<IPython.core.display.HTML object>"
      ]
     },
     "metadata": {},
     "output_type": "display_data"
    },
    {
     "data": {
      "text/html": [
       "Run data is saved locally in <code>d:\\Proton Drive\\My files\\Schule\\Master\\Masterarbeit\\project\\models\\spatial_signal_center_spectrum\\wandb\\run-20250213_011521-a5ukqocn</code>"
      ],
      "text/plain": [
       "<IPython.core.display.HTML object>"
      ]
     },
     "metadata": {},
     "output_type": "display_data"
    },
    {
     "data": {
      "text/html": [
       "Syncing run <strong><a href='https://wandb.ai/trphan/master-multicomponent-mri/runs/a5ukqocn' target=\"_blank\">3d-cnn-central-voxel-improved</a></strong> to <a href='https://wandb.ai/trphan/master-multicomponent-mri' target=\"_blank\">Weights & Biases</a> (<a href='https://wandb.me/developer-guide' target=\"_blank\">docs</a>)<br>"
      ],
      "text/plain": [
       "<IPython.core.display.HTML object>"
      ]
     },
     "metadata": {},
     "output_type": "display_data"
    },
    {
     "data": {
      "text/html": [
       " View project at <a href='https://wandb.ai/trphan/master-multicomponent-mri' target=\"_blank\">https://wandb.ai/trphan/master-multicomponent-mri</a>"
      ],
      "text/plain": [
       "<IPython.core.display.HTML object>"
      ]
     },
     "metadata": {},
     "output_type": "display_data"
    },
    {
     "data": {
      "text/html": [
       " View run at <a href='https://wandb.ai/trphan/master-multicomponent-mri/runs/a5ukqocn' target=\"_blank\">https://wandb.ai/trphan/master-multicomponent-mri/runs/a5ukqocn</a>"
      ],
      "text/plain": [
       "<IPython.core.display.HTML object>"
      ]
     },
     "metadata": {},
     "output_type": "display_data"
    }
   ],
   "source": [
    "wandb.login()\n",
    "# run = wandb.init(project=\"master-multicomponent-mri\", name=\"3d-cnn-central-voxel\")\n",
    "run = wandb.init(project=\"master-multicomponent-mri\", name=\"3d-cnn-central-voxel-improved\")"
   ]
  },
  {
   "cell_type": "code",
   "execution_count": null,
   "metadata": {},
   "outputs": [
    {
     "name": "stdout",
     "output_type": "stream",
     "text": [
      "Shape of input data: (9, 9, 8, 47932)\n",
      "Shape of reference data: (9, 9, 32, 47932)\n"
     ]
    }
   ],
   "source": [
    "data = mat73.loadmat('../../data/training_data_T1_3D_9x9x32x47932_noise0.05.mat')\n",
    "input_noisy_np = data['input_noisy']\n",
    "input_clean_np = data['input']\n",
    "ref_np = data['ref']\n",
    "\n",
    "print(\"Shape of input data:\", input_noisy_np.shape)\n",
    "print(\"Shape of reference data:\", ref_np.shape)"
   ]
  },
  {
   "cell_type": "code",
   "execution_count": 4,
   "metadata": {},
   "outputs": [
    {
     "name": "stdout",
     "output_type": "stream",
     "text": [
      "NaN count in input_noisy before handling: 1635840\n",
      "NaN count in ref before handling: 0\n"
     ]
    }
   ],
   "source": [
    "nan_count_input_noisy_before = np.isnan(input_noisy_np).sum()\n",
    "nan_count_ref_before = np.isnan(ref_np).sum()\n",
    "print(f\"NaN count in input_noisy before handling: {nan_count_input_noisy_before}\")\n",
    "print(f\"NaN count in ref before handling: {nan_count_ref_before}\")"
   ]
  },
  {
   "cell_type": "code",
   "execution_count": 5,
   "metadata": {},
   "outputs": [
    {
     "name": "stdout",
     "output_type": "stream",
     "text": [
      "NaN count in input_noisy after handling: 0\n"
     ]
    }
   ],
   "source": [
    "input_noisy_np = np.nan_to_num(input_noisy_np, nan=0.0)\n",
    "nan_count_input_noisy_after = np.isnan(input_noisy_np).sum()\n",
    "print(f\"NaN count in input_noisy after handling: {nan_count_input_noisy_after}\")"
   ]
  },
  {
   "cell_type": "code",
   "execution_count": null,
   "metadata": {},
   "outputs": [
    {
     "name": "stdout",
     "output_type": "stream",
     "text": [
      "Input shape: (9, 9, 8, 47932)\n",
      "Reference shape: (9, 9, 32, 47932)\n"
     ]
    }
   ],
   "source": [
    "print(\"Input shape:\", input_noisy_np.shape)\n",
    "print(\"Reference shape:\", ref_np.shape)"
   ]
  },
  {
   "cell_type": "code",
   "execution_count": null,
   "metadata": {},
   "outputs": [],
   "source": [
    "class T1PatchDataset(Dataset):\n",
    "    def __init__(self, input_data, target_data):\n",
    "        self.input_data = input_data\n",
    "        self.target_data = target_data[:, :, 4, 4]  # center voxel\n",
    "\n",
    "    def __len__(self):\n",
    "        return len(self.input_data)\n",
    "\n",
    "    def __getitem__(self, idx):\n",
    "        # adding channel dimension\n",
    "        input_3d = self.input_data[idx].permute(1, 2, 0).unsqueeze(0)\n",
    "        return input_3d, self.target_data[idx]"
   ]
  },
  {
   "cell_type": "code",
   "execution_count": null,
   "metadata": {},
   "outputs": [],
   "source": [
    "class CentralVoxel3DCNN(nn.Module):\n",
    "    def __init__(self):\n",
    "        super(CentralVoxel3DCNN, self).__init__()\n",
    "        \n",
    "        # Input shape: [batch_size, 1, 9, 9, 8]\n",
    "        self.conv1 = nn.Conv3d(1, 32, kernel_size=3, padding=1)\n",
    "        self.bn1 = nn.BatchNorm3d(32)\n",
    "        self.relu1 = nn.LeakyReLU(0.1)\n",
    "        \n",
    "        self.conv2 = nn.Conv3d(32, 64, kernel_size=3, padding=1)\n",
    "        self.bn2 = nn.BatchNorm3d(64)\n",
    "        self.relu2 = nn.LeakyReLU(0.1)\n",
    "        \n",
    "        self.conv3 = nn.Conv3d(64, 128, kernel_size=3, padding=1)\n",
    "        self.bn3 = nn.BatchNorm3d(128)\n",
    "        self.relu3 = nn.LeakyReLU(0.1)\n",
    "        \n",
    "        # Global average pooling to reduce spatial and temporal dimensions\n",
    "        self.global_avg_pool = nn.AdaptiveAvgPool3d(1)\n",
    "        \n",
    "        # Fully connected layers\n",
    "        self.fc1 = nn.Linear(128, 256)\n",
    "        self.fc_relu1 = nn.LeakyReLU(0.1)\n",
    "        self.dropout1 = nn.Dropout(0.3)\n",
    "        \n",
    "        self.fc2 = nn.Linear(256, 128)\n",
    "        self.fc_relu2 = nn.LeakyReLU(0.1)\n",
    "        self.dropout2 = nn.Dropout(0.3)\n",
    "        \n",
    "        self.fc3 = nn.Linear(128, 32)\n",
    "\n",
    "    def forward(self, x):\n",
    "        x = self.relu1(self.bn1(self.conv1(x)))\n",
    "        x = self.relu2(self.bn2(self.conv2(x)))\n",
    "        x = self.relu3(self.bn3(self.conv3(x)))\n",
    "        \n",
    "        x = self.global_avg_pool(x)\n",
    "        x = x.view(x.size(0), -1)\n",
    "        \n",
    "        x = self.dropout1(self.fc_relu1(self.fc1(x)))\n",
    "        x = self.dropout2(self.fc_relu2(self.fc2(x)))\n",
    "        x = self.fc3(x)\n",
    "        \n",
    "        return x"
   ]
  },
  {
   "cell_type": "code",
   "execution_count": null,
   "metadata": {},
   "outputs": [],
   "source": [
    "class EarlyStopping:\n",
    "    def __init__(self, patience=15, min_delta=1e-6, path='saved_models/checkpoint.pt'):\n",
    "        self.patience = patience\n",
    "        self.min_delta = min_delta\n",
    "        self.counter = 0\n",
    "        self.best_loss = None\n",
    "        self.early_stop = False\n",
    "        self.path = path\n",
    "        \n",
    "    def __call__(self, val_loss, model):\n",
    "        if self.best_loss is None:\n",
    "            self.best_loss = val_loss\n",
    "            self.save_checkpoint(model)\n",
    "        elif val_loss > self.best_loss - self.min_delta:\n",
    "            self.counter += 1\n",
    "            print(f'EarlyStopping counter: {self.counter} out of {self.patience}')\n",
    "            if self.counter >= self.patience:\n",
    "                self.early_stop = True\n",
    "        else:\n",
    "            self.best_loss = val_loss\n",
    "            self.save_checkpoint(model)\n",
    "            self.counter = 0\n",
    "\n",
    "    def save_checkpoint(self, model):\n",
    "        torch.save(model.state_dict(), self.path)"
   ]
  },
  {
   "cell_type": "code",
   "execution_count": null,
   "metadata": {},
   "outputs": [],
   "source": [
    "# Transpose the input and reference data to be (N, C, H, W) format\n",
    "input_noisy_torch = np.transpose(input_noisy_np, (3, 2, 0, 1))\n",
    "ref_torch = np.transpose(ref_np, (3, 2, 0, 1))\n",
    "\n",
    "input_noisy_torch = torch.tensor(input_noisy_torch, dtype=torch.float32)\n",
    "ref_torch = torch.tensor(ref_torch, dtype=torch.float32)"
   ]
  },
  {
   "cell_type": "code",
   "execution_count": 11,
   "metadata": {},
   "outputs": [
    {
     "name": "stdout",
     "output_type": "stream",
     "text": [
      "Input tensor shape: torch.Size([47932, 8, 9, 9])\n",
      "Reference tensor shape: torch.Size([47932, 32, 9, 9])\n"
     ]
    }
   ],
   "source": [
    "print(\"Input tensor shape:\", input_noisy_torch.shape)\n",
    "print(\"Reference tensor shape:\", ref_torch.shape)"
   ]
  },
  {
   "cell_type": "code",
   "execution_count": null,
   "metadata": {},
   "outputs": [],
   "source": [
    "# Create Dataset\n",
    "dataset = T1PatchDataset(input_noisy_torch, ref_torch)\n",
    "\n",
    "# Split dataset\n",
    "train_size = int(0.8 * len(dataset))\n",
    "val_size = len(dataset) - train_size\n",
    "train_dataset, val_dataset = random_split(dataset, [train_size, val_size])\n",
    "\n",
    "# Create DataLoaders\n",
    "batch_size = 64\n",
    "train_loader = DataLoader(train_dataset, batch_size=batch_size, shuffle=True)\n",
    "val_loader = DataLoader(val_dataset, batch_size=batch_size, shuffle=False)"
   ]
  },
  {
   "cell_type": "code",
   "execution_count": null,
   "metadata": {},
   "outputs": [
    {
     "name": "stdout",
     "output_type": "stream",
     "text": [
      "Sample input shape: torch.Size([1, 9, 9, 8])\n",
      "Sample target shape: torch.Size([32])\n"
     ]
    }
   ],
   "source": [
    "sample_input, sample_target = dataset[0]\n",
    "print(\"Sample input shape:\", sample_input.shape)\n",
    "print(\"Sample target shape:\", sample_target.shape)"
   ]
  },
  {
   "cell_type": "code",
   "execution_count": null,
   "metadata": {},
   "outputs": [
    {
     "name": "stderr",
     "output_type": "stream",
     "text": [
      "d:\\Proton Drive\\My files\\Schule\\Master\\Masterarbeit\\project\\.venv\\Lib\\site-packages\\torch\\optim\\lr_scheduler.py:60: UserWarning: The verbose parameter is deprecated. Please use get_last_lr() to access the learning rate.\n",
      "  warnings.warn(\n"
     ]
    }
   ],
   "source": [
    "# Training Setup\n",
    "device = torch.device(\"cuda\" if torch.cuda.is_available() else \"cpu\")\n",
    "model = CentralVoxel3DCNN().to(device)\n",
    "criterion = nn.MSELoss()\n",
    "optimizer = optim.Adam(model.parameters(), lr=0.001)\n",
    "scheduler = ReduceLROnPlateau(optimizer, mode='min', factor=0.5, patience=10, verbose=True)\n",
    "early_stopping = EarlyStopping(patience=15, path='best_3dcnn_model.pt')\n",
    "\n",
    "num_epochs = 200"
   ]
  },
  {
   "cell_type": "code",
   "execution_count": 15,
   "metadata": {},
   "outputs": [],
   "source": [
    "# Log configuration\n",
    "wandb.config.update({\n",
    "    \"learning_rate\": 0.001,\n",
    "    \"batch_size\": batch_size,\n",
    "    \"epochs\": num_epochs,\n",
    "    \"architecture\": \"CentralVoxelCNN\",\n",
    "    \"optimizer\": \"Adam\",\n",
    "    \"loss_function\": \"MSELoss\",\n",
    "    \"scheduler\": \"ReduceLROnPlateau\",\n",
    "    \"early_stopping_patience\": 15\n",
    "})"
   ]
  },
  {
   "cell_type": "code",
   "execution_count": 16,
   "metadata": {},
   "outputs": [
    {
     "name": "stderr",
     "output_type": "stream",
     "text": [
      "Epoch [1/200] Training: 100%|██████████| 600/600 [00:09<00:00, 66.30it/s, loss=0.00199]\n",
      "Epoch [1/200] Validation: 100%|██████████| 150/150 [00:00<00:00, 150.97it/s, loss=0.00314]\n"
     ]
    },
    {
     "name": "stdout",
     "output_type": "stream",
     "text": [
      "Epoch [1/200], Train Loss: 0.0032943716707328954, Val Loss: 0.00351573936175555, LR: 0.001\n"
     ]
    },
    {
     "name": "stderr",
     "output_type": "stream",
     "text": [
      "Epoch [2/200] Training: 100%|██████████| 600/600 [00:09<00:00, 66.65it/s, loss=0.00333]\n",
      "Epoch [2/200] Validation: 100%|██████████| 150/150 [00:00<00:00, 159.00it/s, loss=0.00252]\n"
     ]
    },
    {
     "name": "stdout",
     "output_type": "stream",
     "text": [
      "Epoch [2/200], Train Loss: 0.002836694105062634, Val Loss: 0.0026078646707658965, LR: 0.001\n"
     ]
    },
    {
     "name": "stderr",
     "output_type": "stream",
     "text": [
      "Epoch [3/200] Training: 100%|██████████| 600/600 [00:08<00:00, 67.12it/s, loss=0.00238]\n",
      "Epoch [3/200] Validation: 100%|██████████| 150/150 [00:01<00:00, 149.56it/s, loss=0.00288]\n"
     ]
    },
    {
     "name": "stdout",
     "output_type": "stream",
     "text": [
      "EarlyStopping counter: 1 out of 15\n",
      "Epoch [3/200], Train Loss: 0.0027219586276138823, Val Loss: 0.0031385406525805595, LR: 0.001\n"
     ]
    },
    {
     "name": "stderr",
     "output_type": "stream",
     "text": [
      "Epoch [4/200] Training: 100%|██████████| 600/600 [00:09<00:00, 66.07it/s, loss=0.0036] \n",
      "Epoch [4/200] Validation: 100%|██████████| 150/150 [00:00<00:00, 155.66it/s, loss=0.00271]\n"
     ]
    },
    {
     "name": "stdout",
     "output_type": "stream",
     "text": [
      "EarlyStopping counter: 2 out of 15\n",
      "Epoch [4/200], Train Loss: 0.0026632898832516126, Val Loss: 0.0026709053587789335, LR: 0.001\n"
     ]
    },
    {
     "name": "stderr",
     "output_type": "stream",
     "text": [
      "Epoch [5/200] Training: 100%|██████████| 600/600 [00:08<00:00, 67.59it/s, loss=0.00207]\n",
      "Epoch [5/200] Validation: 100%|██████████| 150/150 [00:00<00:00, 159.58it/s, loss=0.00255]\n"
     ]
    },
    {
     "name": "stdout",
     "output_type": "stream",
     "text": [
      "EarlyStopping counter: 3 out of 15\n",
      "Epoch [5/200], Train Loss: 0.002617800321507578, Val Loss: 0.0027257940266281365, LR: 0.001\n"
     ]
    },
    {
     "name": "stderr",
     "output_type": "stream",
     "text": [
      "Epoch [6/200] Training: 100%|██████████| 600/600 [00:08<00:00, 70.86it/s, loss=0.00166]\n",
      "Epoch [6/200] Validation: 100%|██████████| 150/150 [00:00<00:00, 167.46it/s, loss=0.00267]\n"
     ]
    },
    {
     "name": "stdout",
     "output_type": "stream",
     "text": [
      "EarlyStopping counter: 4 out of 15\n",
      "Epoch [6/200], Train Loss: 0.0025777024814548593, Val Loss: 0.002650799195592602, LR: 0.001\n"
     ]
    },
    {
     "name": "stderr",
     "output_type": "stream",
     "text": [
      "Epoch [7/200] Training: 100%|██████████| 600/600 [00:08<00:00, 73.83it/s, loss=0.00384]\n",
      "Epoch [7/200] Validation: 100%|██████████| 150/150 [00:00<00:00, 176.91it/s, loss=0.00233]\n"
     ]
    },
    {
     "name": "stdout",
     "output_type": "stream",
     "text": [
      "Epoch [7/200], Train Loss: 0.0025224646518472583, Val Loss: 0.0024123902471425633, LR: 0.001\n"
     ]
    },
    {
     "name": "stderr",
     "output_type": "stream",
     "text": [
      "Epoch [8/200] Training: 100%|██████████| 600/600 [00:08<00:00, 74.97it/s, loss=0.00262]\n",
      "Epoch [8/200] Validation: 100%|██████████| 150/150 [00:00<00:00, 179.21it/s, loss=0.00233]\n"
     ]
    },
    {
     "name": "stdout",
     "output_type": "stream",
     "text": [
      "EarlyStopping counter: 1 out of 15\n",
      "Epoch [8/200], Train Loss: 0.0024974955329283453, Val Loss: 0.0024737146915867923, LR: 0.001\n"
     ]
    },
    {
     "name": "stderr",
     "output_type": "stream",
     "text": [
      "Epoch [9/200] Training: 100%|██████████| 600/600 [00:07<00:00, 76.14it/s, loss=0.00279]\n",
      "Epoch [9/200] Validation: 100%|██████████| 150/150 [00:00<00:00, 166.40it/s, loss=0.00252]\n"
     ]
    },
    {
     "name": "stdout",
     "output_type": "stream",
     "text": [
      "EarlyStopping counter: 2 out of 15\n",
      "Epoch [9/200], Train Loss: 0.002481856712062533, Val Loss: 0.0025821134339397154, LR: 0.001\n"
     ]
    },
    {
     "name": "stderr",
     "output_type": "stream",
     "text": [
      "Epoch [10/200] Training: 100%|██████████| 600/600 [00:08<00:00, 67.98it/s, loss=0.00296]\n",
      "Epoch [10/200] Validation: 100%|██████████| 150/150 [00:01<00:00, 148.75it/s, loss=0.00228]\n"
     ]
    },
    {
     "name": "stdout",
     "output_type": "stream",
     "text": [
      "Epoch [10/200], Train Loss: 0.0024447526086199406, Val Loss: 0.002367518402946492, LR: 0.001\n"
     ]
    },
    {
     "name": "stderr",
     "output_type": "stream",
     "text": [
      "Epoch [11/200] Training: 100%|██████████| 600/600 [00:08<00:00, 68.92it/s, loss=0.00275]\n",
      "Epoch [11/200] Validation: 100%|██████████| 150/150 [00:00<00:00, 162.04it/s, loss=0.00229]\n"
     ]
    },
    {
     "name": "stdout",
     "output_type": "stream",
     "text": [
      "EarlyStopping counter: 1 out of 15\n",
      "Epoch [11/200], Train Loss: 0.0024310154776321724, Val Loss: 0.0023699684619593125, LR: 0.001\n"
     ]
    },
    {
     "name": "stderr",
     "output_type": "stream",
     "text": [
      "Epoch [12/200] Training: 100%|██████████| 600/600 [00:08<00:00, 71.58it/s, loss=0.00316]\n",
      "Epoch [12/200] Validation: 100%|██████████| 150/150 [00:00<00:00, 164.51it/s, loss=0.00249]\n"
     ]
    },
    {
     "name": "stdout",
     "output_type": "stream",
     "text": [
      "EarlyStopping counter: 2 out of 15\n",
      "Epoch [12/200], Train Loss: 0.0024047108471859247, Val Loss: 0.0024471501680091022, LR: 0.001\n"
     ]
    },
    {
     "name": "stderr",
     "output_type": "stream",
     "text": [
      "Epoch [13/200] Training: 100%|██████████| 600/600 [00:08<00:00, 69.76it/s, loss=0.00226]\n",
      "Epoch [13/200] Validation: 100%|██████████| 150/150 [00:00<00:00, 165.07it/s, loss=0.00239]\n"
     ]
    },
    {
     "name": "stdout",
     "output_type": "stream",
     "text": [
      "Epoch [13/200], Train Loss: 0.0023949971242109313, Val Loss: 0.0023497734024810293, LR: 0.001\n"
     ]
    },
    {
     "name": "stderr",
     "output_type": "stream",
     "text": [
      "Epoch [14/200] Training: 100%|██████████| 600/600 [00:08<00:00, 71.45it/s, loss=0.00299]\n",
      "Epoch [14/200] Validation: 100%|██████████| 150/150 [00:00<00:00, 154.02it/s, loss=0.00236]\n"
     ]
    },
    {
     "name": "stdout",
     "output_type": "stream",
     "text": [
      "Epoch [14/200], Train Loss: 0.0023664105631178243, Val Loss: 0.0023461843887344004, LR: 0.001\n"
     ]
    },
    {
     "name": "stderr",
     "output_type": "stream",
     "text": [
      "Epoch [15/200] Training: 100%|██████████| 600/600 [00:08<00:00, 70.77it/s, loss=0.00238]\n",
      "Epoch [15/200] Validation: 100%|██████████| 150/150 [00:01<00:00, 139.60it/s, loss=0.00221]\n"
     ]
    },
    {
     "name": "stdout",
     "output_type": "stream",
     "text": [
      "Epoch [15/200], Train Loss: 0.0023616423677109803, Val Loss: 0.002178035983039687, LR: 0.001\n"
     ]
    },
    {
     "name": "stderr",
     "output_type": "stream",
     "text": [
      "Epoch [16/200] Training: 100%|██████████| 600/600 [00:08<00:00, 71.38it/s, loss=0.00233]\n",
      "Epoch [16/200] Validation: 100%|██████████| 150/150 [00:00<00:00, 171.40it/s, loss=0.00233]\n"
     ]
    },
    {
     "name": "stdout",
     "output_type": "stream",
     "text": [
      "EarlyStopping counter: 1 out of 15\n",
      "Epoch [16/200], Train Loss: 0.0023412410519085824, Val Loss: 0.002391702299937606, LR: 0.001\n"
     ]
    },
    {
     "name": "stderr",
     "output_type": "stream",
     "text": [
      "Epoch [17/200] Training: 100%|██████████| 600/600 [00:08<00:00, 69.31it/s, loss=0.00275]\n",
      "Epoch [17/200] Validation: 100%|██████████| 150/150 [00:00<00:00, 151.68it/s, loss=0.00226]\n"
     ]
    },
    {
     "name": "stdout",
     "output_type": "stream",
     "text": [
      "EarlyStopping counter: 2 out of 15\n",
      "Epoch [17/200], Train Loss: 0.0023242034627279887, Val Loss: 0.0023758308449760078, LR: 0.001\n"
     ]
    },
    {
     "name": "stderr",
     "output_type": "stream",
     "text": [
      "Epoch [18/200] Training: 100%|██████████| 600/600 [00:09<00:00, 64.99it/s, loss=0.00336]\n",
      "Epoch [18/200] Validation: 100%|██████████| 150/150 [00:00<00:00, 156.34it/s, loss=0.00271]\n"
     ]
    },
    {
     "name": "stdout",
     "output_type": "stream",
     "text": [
      "EarlyStopping counter: 3 out of 15\n",
      "Epoch [18/200], Train Loss: 0.0023082227698372057, Val Loss: 0.002636486574386557, LR: 0.001\n"
     ]
    },
    {
     "name": "stderr",
     "output_type": "stream",
     "text": [
      "Epoch [19/200] Training: 100%|██████████| 600/600 [00:09<00:00, 66.38it/s, loss=0.00303]\n",
      "Epoch [19/200] Validation: 100%|██████████| 150/150 [00:01<00:00, 148.97it/s, loss=0.00222]\n"
     ]
    },
    {
     "name": "stdout",
     "output_type": "stream",
     "text": [
      "EarlyStopping counter: 4 out of 15\n",
      "Epoch [19/200], Train Loss: 0.002301146649212266, Val Loss: 0.0022365949869466327, LR: 0.001\n"
     ]
    },
    {
     "name": "stderr",
     "output_type": "stream",
     "text": [
      "Epoch [20/200] Training: 100%|██████████| 600/600 [00:09<00:00, 64.88it/s, loss=0.00181]\n",
      "Epoch [20/200] Validation: 100%|██████████| 150/150 [00:00<00:00, 154.12it/s, loss=0.00214]\n"
     ]
    },
    {
     "name": "stdout",
     "output_type": "stream",
     "text": [
      "EarlyStopping counter: 5 out of 15\n",
      "Epoch [20/200], Train Loss: 0.002286091055527019, Val Loss: 0.0021930315376569825, LR: 0.001\n"
     ]
    },
    {
     "name": "stderr",
     "output_type": "stream",
     "text": [
      "Epoch [21/200] Training: 100%|██████████| 600/600 [00:08<00:00, 72.66it/s, loss=0.00253]\n",
      "Epoch [21/200] Validation: 100%|██████████| 150/150 [00:00<00:00, 151.14it/s, loss=0.00214]\n"
     ]
    },
    {
     "name": "stdout",
     "output_type": "stream",
     "text": [
      "EarlyStopping counter: 6 out of 15\n",
      "Epoch [21/200], Train Loss: 0.002282253458009412, Val Loss: 0.00223055677410836, LR: 0.001\n"
     ]
    },
    {
     "name": "stderr",
     "output_type": "stream",
     "text": [
      "Epoch [22/200] Training: 100%|██████████| 600/600 [00:08<00:00, 70.97it/s, loss=0.00243]\n",
      "Epoch [22/200] Validation: 100%|██████████| 150/150 [00:00<00:00, 161.64it/s, loss=0.00211]\n"
     ]
    },
    {
     "name": "stdout",
     "output_type": "stream",
     "text": [
      "Epoch [22/200], Train Loss: 0.002263261659730536, Val Loss: 0.002125395620241761, LR: 0.001\n"
     ]
    },
    {
     "name": "stderr",
     "output_type": "stream",
     "text": [
      "Epoch [23/200] Training: 100%|██████████| 600/600 [00:09<00:00, 65.97it/s, loss=0.00174]\n",
      "Epoch [23/200] Validation: 100%|██████████| 150/150 [00:01<00:00, 149.19it/s, loss=0.00209]\n"
     ]
    },
    {
     "name": "stdout",
     "output_type": "stream",
     "text": [
      "EarlyStopping counter: 1 out of 15\n",
      "Epoch [23/200], Train Loss: 0.0022476248025971777, Val Loss: 0.002172240395254145, LR: 0.001\n"
     ]
    },
    {
     "name": "stderr",
     "output_type": "stream",
     "text": [
      "Epoch [24/200] Training: 100%|██████████| 600/600 [00:09<00:00, 66.01it/s, loss=0.00289]\n",
      "Epoch [24/200] Validation: 100%|██████████| 150/150 [00:01<00:00, 147.84it/s, loss=0.00213]\n"
     ]
    },
    {
     "name": "stdout",
     "output_type": "stream",
     "text": [
      "Epoch [24/200], Train Loss: 0.0022523724413864936, Val Loss: 0.002106827941412727, LR: 0.001\n"
     ]
    },
    {
     "name": "stderr",
     "output_type": "stream",
     "text": [
      "Epoch [25/200] Training: 100%|██████████| 600/600 [00:09<00:00, 66.14it/s, loss=0.00296]\n",
      "Epoch [25/200] Validation: 100%|██████████| 150/150 [00:00<00:00, 154.97it/s, loss=0.00213]\n"
     ]
    },
    {
     "name": "stdout",
     "output_type": "stream",
     "text": [
      "Epoch [25/200], Train Loss: 0.002226307747187093, Val Loss: 0.0020901677253035208, LR: 0.001\n"
     ]
    },
    {
     "name": "stderr",
     "output_type": "stream",
     "text": [
      "Epoch [26/200] Training: 100%|██████████| 600/600 [00:08<00:00, 70.28it/s, loss=0.00162]\n",
      "Epoch [26/200] Validation: 100%|██████████| 150/150 [00:00<00:00, 172.86it/s, loss=0.00222]\n"
     ]
    },
    {
     "name": "stdout",
     "output_type": "stream",
     "text": [
      "EarlyStopping counter: 1 out of 15\n",
      "Epoch [26/200], Train Loss: 0.0022274357449108113, Val Loss: 0.0022119778053214154, LR: 0.001\n"
     ]
    },
    {
     "name": "stderr",
     "output_type": "stream",
     "text": [
      "Epoch [27/200] Training: 100%|██████████| 600/600 [00:08<00:00, 74.34it/s, loss=0.00177]\n",
      "Epoch [27/200] Validation: 100%|██████████| 150/150 [00:00<00:00, 176.70it/s, loss=0.00223]\n"
     ]
    },
    {
     "name": "stdout",
     "output_type": "stream",
     "text": [
      "EarlyStopping counter: 2 out of 15\n",
      "Epoch [27/200], Train Loss: 0.002209090196605151, Val Loss: 0.0022572267707437277, LR: 0.001\n"
     ]
    },
    {
     "name": "stderr",
     "output_type": "stream",
     "text": [
      "Epoch [28/200] Training: 100%|██████████| 600/600 [00:08<00:00, 72.04it/s, loss=0.00206]\n",
      "Epoch [28/200] Validation: 100%|██████████| 150/150 [00:00<00:00, 160.86it/s, loss=0.00215]\n"
     ]
    },
    {
     "name": "stdout",
     "output_type": "stream",
     "text": [
      "EarlyStopping counter: 3 out of 15\n",
      "Epoch [28/200], Train Loss: 0.00220350286962154, Val Loss: 0.0022024898052526018, LR: 0.001\n"
     ]
    },
    {
     "name": "stderr",
     "output_type": "stream",
     "text": [
      "Epoch [29/200] Training: 100%|██████████| 600/600 [00:08<00:00, 68.11it/s, loss=0.00246]\n",
      "Epoch [29/200] Validation: 100%|██████████| 150/150 [00:00<00:00, 151.43it/s, loss=0.00218]\n"
     ]
    },
    {
     "name": "stdout",
     "output_type": "stream",
     "text": [
      "EarlyStopping counter: 4 out of 15\n",
      "Epoch [29/200], Train Loss: 0.0022037152718985455, Val Loss: 0.002145533135626465, LR: 0.001\n"
     ]
    },
    {
     "name": "stderr",
     "output_type": "stream",
     "text": [
      "Epoch [30/200] Training: 100%|██████████| 600/600 [00:09<00:00, 64.60it/s, loss=0.00272]\n",
      "Epoch [30/200] Validation: 100%|██████████| 150/150 [00:00<00:00, 153.75it/s, loss=0.0021] \n"
     ]
    },
    {
     "name": "stdout",
     "output_type": "stream",
     "text": [
      "Epoch [30/200], Train Loss: 0.0021914025590134166, Val Loss: 0.002064317490439862, LR: 0.001\n"
     ]
    },
    {
     "name": "stderr",
     "output_type": "stream",
     "text": [
      "Epoch [31/200] Training: 100%|██████████| 600/600 [00:09<00:00, 65.39it/s, loss=0.0033] \n",
      "Epoch [31/200] Validation: 100%|██████████| 150/150 [00:00<00:00, 150.77it/s, loss=0.00203]\n"
     ]
    },
    {
     "name": "stdout",
     "output_type": "stream",
     "text": [
      "EarlyStopping counter: 1 out of 15\n",
      "Epoch [31/200], Train Loss: 0.002188522338595552, Val Loss: 0.0021126836996215085, LR: 0.001\n"
     ]
    },
    {
     "name": "stderr",
     "output_type": "stream",
     "text": [
      "Epoch [32/200] Training: 100%|██████████| 600/600 [00:09<00:00, 65.38it/s, loss=0.00337]\n",
      "Epoch [32/200] Validation: 100%|██████████| 150/150 [00:01<00:00, 147.63it/s, loss=0.00221]\n"
     ]
    },
    {
     "name": "stdout",
     "output_type": "stream",
     "text": [
      "EarlyStopping counter: 2 out of 15\n",
      "Epoch [32/200], Train Loss: 0.002183947098480227, Val Loss: 0.002115575699135661, LR: 0.001\n"
     ]
    },
    {
     "name": "stderr",
     "output_type": "stream",
     "text": [
      "Epoch [33/200] Training: 100%|██████████| 600/600 [00:09<00:00, 65.58it/s, loss=0.00196]\n",
      "Epoch [33/200] Validation: 100%|██████████| 150/150 [00:01<00:00, 147.20it/s, loss=0.00231]\n"
     ]
    },
    {
     "name": "stdout",
     "output_type": "stream",
     "text": [
      "EarlyStopping counter: 3 out of 15\n",
      "Epoch [33/200], Train Loss: 0.002172600586976235, Val Loss: 0.0023309628440377613, LR: 0.001\n"
     ]
    },
    {
     "name": "stderr",
     "output_type": "stream",
     "text": [
      "Epoch [34/200] Training: 100%|██████████| 600/600 [00:09<00:00, 64.33it/s, loss=0.00187]\n",
      "Epoch [34/200] Validation: 100%|██████████| 150/150 [00:01<00:00, 148.98it/s, loss=0.00208]\n"
     ]
    },
    {
     "name": "stdout",
     "output_type": "stream",
     "text": [
      "EarlyStopping counter: 4 out of 15\n",
      "Epoch [34/200], Train Loss: 0.0021598595299292356, Val Loss: 0.0020963061057652035, LR: 0.001\n"
     ]
    },
    {
     "name": "stderr",
     "output_type": "stream",
     "text": [
      "Epoch [35/200] Training: 100%|██████████| 600/600 [00:08<00:00, 68.50it/s, loss=0.00225]\n",
      "Epoch [35/200] Validation: 100%|██████████| 150/150 [00:01<00:00, 148.31it/s, loss=0.00208]\n"
     ]
    },
    {
     "name": "stdout",
     "output_type": "stream",
     "text": [
      "Epoch [35/200], Train Loss: 0.002153430413454771, Val Loss: 0.0020232790786152083, LR: 0.001\n"
     ]
    },
    {
     "name": "stderr",
     "output_type": "stream",
     "text": [
      "Epoch [36/200] Training: 100%|██████████| 600/600 [00:08<00:00, 67.99it/s, loss=0.00231]\n",
      "Epoch [36/200] Validation: 100%|██████████| 150/150 [00:01<00:00, 146.72it/s, loss=0.00229]\n"
     ]
    },
    {
     "name": "stdout",
     "output_type": "stream",
     "text": [
      "EarlyStopping counter: 1 out of 15\n",
      "Epoch [36/200], Train Loss: 0.0021561258391011506, Val Loss: 0.002215998201475789, LR: 0.001\n"
     ]
    },
    {
     "name": "stderr",
     "output_type": "stream",
     "text": [
      "Epoch [37/200] Training: 100%|██████████| 600/600 [00:08<00:00, 68.55it/s, loss=0.00187]\n",
      "Epoch [37/200] Validation: 100%|██████████| 150/150 [00:01<00:00, 148.75it/s, loss=0.00206]\n"
     ]
    },
    {
     "name": "stdout",
     "output_type": "stream",
     "text": [
      "EarlyStopping counter: 2 out of 15\n",
      "Epoch [37/200], Train Loss: 0.002142559336110329, Val Loss: 0.0020272735203616323, LR: 0.001\n"
     ]
    },
    {
     "name": "stderr",
     "output_type": "stream",
     "text": [
      "Epoch [38/200] Training: 100%|██████████| 600/600 [00:08<00:00, 69.50it/s, loss=0.00264]\n",
      "Epoch [38/200] Validation: 100%|██████████| 150/150 [00:00<00:00, 151.04it/s, loss=0.00216]\n"
     ]
    },
    {
     "name": "stdout",
     "output_type": "stream",
     "text": [
      "EarlyStopping counter: 3 out of 15\n",
      "Epoch [38/200], Train Loss: 0.002138890951949482, Val Loss: 0.002171127606804172, LR: 0.001\n"
     ]
    },
    {
     "name": "stderr",
     "output_type": "stream",
     "text": [
      "Epoch [39/200] Training: 100%|██████████| 600/600 [00:08<00:00, 69.68it/s, loss=0.00202]\n",
      "Epoch [39/200] Validation: 100%|██████████| 150/150 [00:01<00:00, 148.85it/s, loss=0.00207]\n"
     ]
    },
    {
     "name": "stdout",
     "output_type": "stream",
     "text": [
      "EarlyStopping counter: 4 out of 15\n",
      "Epoch [39/200], Train Loss: 0.0021335983441288895, Val Loss: 0.0020361949852667747, LR: 0.001\n"
     ]
    },
    {
     "name": "stderr",
     "output_type": "stream",
     "text": [
      "Epoch [40/200] Training: 100%|██████████| 600/600 [00:08<00:00, 74.49it/s, loss=0.00284]\n",
      "Epoch [40/200] Validation: 100%|██████████| 150/150 [00:00<00:00, 165.05it/s, loss=0.00222]\n"
     ]
    },
    {
     "name": "stdout",
     "output_type": "stream",
     "text": [
      "EarlyStopping counter: 5 out of 15\n",
      "Epoch [40/200], Train Loss: 0.002130179901335699, Val Loss: 0.0021531839823971193, LR: 0.001\n"
     ]
    },
    {
     "name": "stderr",
     "output_type": "stream",
     "text": [
      "Epoch [41/200] Training: 100%|██████████| 600/600 [00:08<00:00, 73.17it/s, loss=0.00282]\n",
      "Epoch [41/200] Validation: 100%|██████████| 150/150 [00:00<00:00, 158.78it/s, loss=0.00218]\n"
     ]
    },
    {
     "name": "stdout",
     "output_type": "stream",
     "text": [
      "EarlyStopping counter: 6 out of 15\n",
      "Epoch [41/200], Train Loss: 0.0021245410279758896, Val Loss: 0.0020644463699621457, LR: 0.001\n"
     ]
    },
    {
     "name": "stderr",
     "output_type": "stream",
     "text": [
      "Epoch [42/200] Training: 100%|██████████| 600/600 [00:08<00:00, 74.88it/s, loss=0.00252]\n",
      "Epoch [42/200] Validation: 100%|██████████| 150/150 [00:00<00:00, 163.02it/s, loss=0.00206]\n"
     ]
    },
    {
     "name": "stdout",
     "output_type": "stream",
     "text": [
      "Epoch [42/200], Train Loss: 0.0021195992388917755, Val Loss: 0.002019128855317831, LR: 0.001\n"
     ]
    },
    {
     "name": "stderr",
     "output_type": "stream",
     "text": [
      "Epoch [43/200] Training: 100%|██████████| 600/600 [00:07<00:00, 75.27it/s, loss=0.00176]\n",
      "Epoch [43/200] Validation: 100%|██████████| 150/150 [00:00<00:00, 174.95it/s, loss=0.00215]\n"
     ]
    },
    {
     "name": "stdout",
     "output_type": "stream",
     "text": [
      "EarlyStopping counter: 1 out of 15\n",
      "Epoch [43/200], Train Loss: 0.0021204786935898785, Val Loss: 0.0021063836733810604, LR: 0.001\n"
     ]
    },
    {
     "name": "stderr",
     "output_type": "stream",
     "text": [
      "Epoch [44/200] Training: 100%|██████████| 600/600 [00:07<00:00, 77.16it/s, loss=0.00194]\n",
      "Epoch [44/200] Validation: 100%|██████████| 150/150 [00:00<00:00, 174.09it/s, loss=0.00211]\n"
     ]
    },
    {
     "name": "stdout",
     "output_type": "stream",
     "text": [
      "EarlyStopping counter: 2 out of 15\n",
      "Epoch [44/200], Train Loss: 0.0021113419505612305, Val Loss: 0.002099459539167583, LR: 0.001\n"
     ]
    },
    {
     "name": "stderr",
     "output_type": "stream",
     "text": [
      "Epoch [45/200] Training: 100%|██████████| 600/600 [00:07<00:00, 77.18it/s, loss=0.00231]\n",
      "Epoch [45/200] Validation: 100%|██████████| 150/150 [00:00<00:00, 179.90it/s, loss=0.00208]\n"
     ]
    },
    {
     "name": "stdout",
     "output_type": "stream",
     "text": [
      "EarlyStopping counter: 3 out of 15\n",
      "Epoch [45/200], Train Loss: 0.002110019865989064, Val Loss: 0.002046656977230062, LR: 0.001\n"
     ]
    },
    {
     "name": "stderr",
     "output_type": "stream",
     "text": [
      "Epoch [46/200] Training: 100%|██████████| 600/600 [00:07<00:00, 76.09it/s, loss=0.00192]\n",
      "Epoch [46/200] Validation: 100%|██████████| 150/150 [00:00<00:00, 175.79it/s, loss=0.00208]\n"
     ]
    },
    {
     "name": "stdout",
     "output_type": "stream",
     "text": [
      "EarlyStopping counter: 4 out of 15\n",
      "Epoch [46/200], Train Loss: 0.0020941721192017817, Val Loss: 0.0020668550751482447, LR: 0.001\n"
     ]
    },
    {
     "name": "stderr",
     "output_type": "stream",
     "text": [
      "Epoch [47/200] Training: 100%|██████████| 600/600 [00:07<00:00, 76.98it/s, loss=0.0031] \n",
      "Epoch [47/200] Validation: 100%|██████████| 150/150 [00:00<00:00, 177.24it/s, loss=0.00218]\n"
     ]
    },
    {
     "name": "stdout",
     "output_type": "stream",
     "text": [
      "EarlyStopping counter: 5 out of 15\n",
      "Epoch [47/200], Train Loss: 0.0020956147914209093, Val Loss: 0.002030240814977636, LR: 0.001\n"
     ]
    },
    {
     "name": "stderr",
     "output_type": "stream",
     "text": [
      "Epoch [48/200] Training: 100%|██████████| 600/600 [00:07<00:00, 76.65it/s, loss=0.00173]\n",
      "Epoch [48/200] Validation: 100%|██████████| 150/150 [00:00<00:00, 174.05it/s, loss=0.00205]\n"
     ]
    },
    {
     "name": "stdout",
     "output_type": "stream",
     "text": [
      "EarlyStopping counter: 6 out of 15\n",
      "Epoch [48/200], Train Loss: 0.0020953399094287306, Val Loss: 0.002090737981876979, LR: 0.001\n"
     ]
    },
    {
     "name": "stderr",
     "output_type": "stream",
     "text": [
      "Epoch [49/200] Training: 100%|██████████| 600/600 [00:07<00:00, 77.03it/s, loss=0.00257]\n",
      "Epoch [49/200] Validation: 100%|██████████| 150/150 [00:00<00:00, 170.73it/s, loss=0.00232]\n"
     ]
    },
    {
     "name": "stdout",
     "output_type": "stream",
     "text": [
      "EarlyStopping counter: 7 out of 15\n",
      "Epoch [49/200], Train Loss: 0.0020915664412314073, Val Loss: 0.0024174625899953148, LR: 0.001\n"
     ]
    },
    {
     "name": "stderr",
     "output_type": "stream",
     "text": [
      "Epoch [50/200] Training: 100%|██████████| 600/600 [00:08<00:00, 74.34it/s, loss=0.00138]\n",
      "Epoch [50/200] Validation: 100%|██████████| 150/150 [00:00<00:00, 171.65it/s, loss=0.00194]\n"
     ]
    },
    {
     "name": "stdout",
     "output_type": "stream",
     "text": [
      "EarlyStopping counter: 8 out of 15\n",
      "Epoch [50/200], Train Loss: 0.002075875630058969, Val Loss: 0.002042860658839345, LR: 0.001\n"
     ]
    },
    {
     "name": "stderr",
     "output_type": "stream",
     "text": [
      "Epoch [51/200] Training: 100%|██████████| 600/600 [00:07<00:00, 76.12it/s, loss=0.00212]\n",
      "Epoch [51/200] Validation: 100%|██████████| 150/150 [00:00<00:00, 172.13it/s, loss=0.0021] \n"
     ]
    },
    {
     "name": "stdout",
     "output_type": "stream",
     "text": [
      "EarlyStopping counter: 9 out of 15\n",
      "Epoch [51/200], Train Loss: 0.002082230331531415, Val Loss: 0.002021934177416066, LR: 0.001\n"
     ]
    },
    {
     "name": "stderr",
     "output_type": "stream",
     "text": [
      "Epoch [52/200] Training: 100%|██████████| 600/600 [00:08<00:00, 74.09it/s, loss=0.0032] \n",
      "Epoch [52/200] Validation: 100%|██████████| 150/150 [00:00<00:00, 173.50it/s, loss=0.00206]\n"
     ]
    },
    {
     "name": "stdout",
     "output_type": "stream",
     "text": [
      "Epoch [52/200], Train Loss: 0.002075588898927284, Val Loss: 0.0019805387523956597, LR: 0.001\n"
     ]
    },
    {
     "name": "stderr",
     "output_type": "stream",
     "text": [
      "Epoch [53/200] Training: 100%|██████████| 600/600 [00:07<00:00, 75.62it/s, loss=0.00205]\n",
      "Epoch [53/200] Validation: 100%|██████████| 150/150 [00:00<00:00, 173.59it/s, loss=0.00208]\n"
     ]
    },
    {
     "name": "stdout",
     "output_type": "stream",
     "text": [
      "EarlyStopping counter: 1 out of 15\n",
      "Epoch [53/200], Train Loss: 0.002061909383822543, Val Loss: 0.001998269610727827, LR: 0.001\n"
     ]
    },
    {
     "name": "stderr",
     "output_type": "stream",
     "text": [
      "Epoch [54/200] Training: 100%|██████████| 600/600 [00:08<00:00, 73.77it/s, loss=0.00219]\n",
      "Epoch [54/200] Validation: 100%|██████████| 150/150 [00:00<00:00, 160.15it/s, loss=0.00208]\n"
     ]
    },
    {
     "name": "stdout",
     "output_type": "stream",
     "text": [
      "EarlyStopping counter: 2 out of 15\n",
      "Epoch [54/200], Train Loss: 0.0020628985077685985, Val Loss: 0.0019942757293271523, LR: 0.001\n"
     ]
    },
    {
     "name": "stderr",
     "output_type": "stream",
     "text": [
      "Epoch [55/200] Training: 100%|██████████| 600/600 [00:08<00:00, 72.82it/s, loss=0.0029] \n",
      "Epoch [55/200] Validation: 100%|██████████| 150/150 [00:00<00:00, 161.95it/s, loss=0.00222]\n"
     ]
    },
    {
     "name": "stdout",
     "output_type": "stream",
     "text": [
      "EarlyStopping counter: 3 out of 15\n",
      "Epoch [55/200], Train Loss: 0.0020613503149555373, Val Loss: 0.002210843324040373, LR: 0.001\n"
     ]
    },
    {
     "name": "stderr",
     "output_type": "stream",
     "text": [
      "Epoch [56/200] Training: 100%|██████████| 600/600 [00:07<00:00, 75.79it/s, loss=0.00142]\n",
      "Epoch [56/200] Validation: 100%|██████████| 150/150 [00:00<00:00, 173.44it/s, loss=0.00207]\n"
     ]
    },
    {
     "name": "stdout",
     "output_type": "stream",
     "text": [
      "EarlyStopping counter: 4 out of 15\n",
      "Epoch [56/200], Train Loss: 0.002058416816095511, Val Loss: 0.00205278163542971, LR: 0.001\n"
     ]
    },
    {
     "name": "stderr",
     "output_type": "stream",
     "text": [
      "Epoch [57/200] Training: 100%|██████████| 600/600 [00:08<00:00, 74.51it/s, loss=0.00222]\n",
      "Epoch [57/200] Validation: 100%|██████████| 150/150 [00:00<00:00, 169.13it/s, loss=0.00205]\n"
     ]
    },
    {
     "name": "stdout",
     "output_type": "stream",
     "text": [
      "EarlyStopping counter: 5 out of 15\n",
      "Epoch [57/200], Train Loss: 0.0020524793044508745, Val Loss: 0.002022621740276615, LR: 0.001\n"
     ]
    },
    {
     "name": "stderr",
     "output_type": "stream",
     "text": [
      "Epoch [58/200] Training: 100%|██████████| 600/600 [00:08<00:00, 74.39it/s, loss=0.00198]\n",
      "Epoch [58/200] Validation: 100%|██████████| 150/150 [00:00<00:00, 153.07it/s, loss=0.00206]\n"
     ]
    },
    {
     "name": "stdout",
     "output_type": "stream",
     "text": [
      "EarlyStopping counter: 6 out of 15\n",
      "Epoch [58/200], Train Loss: 0.0020447072710764284, Val Loss: 0.0019936483555162946, LR: 0.001\n"
     ]
    },
    {
     "name": "stderr",
     "output_type": "stream",
     "text": [
      "Epoch [59/200] Training: 100%|██████████| 600/600 [00:08<00:00, 68.18it/s, loss=0.00296]\n",
      "Epoch [59/200] Validation: 100%|██████████| 150/150 [00:00<00:00, 152.70it/s, loss=0.00224]\n"
     ]
    },
    {
     "name": "stdout",
     "output_type": "stream",
     "text": [
      "EarlyStopping counter: 7 out of 15\n",
      "Epoch [59/200], Train Loss: 0.0020478616860539964, Val Loss: 0.002093522322829813, LR: 0.001\n"
     ]
    },
    {
     "name": "stderr",
     "output_type": "stream",
     "text": [
      "Epoch [60/200] Training: 100%|██████████| 600/600 [00:09<00:00, 65.75it/s, loss=0.00274]\n",
      "Epoch [60/200] Validation: 100%|██████████| 150/150 [00:00<00:00, 163.73it/s, loss=0.00219]\n"
     ]
    },
    {
     "name": "stdout",
     "output_type": "stream",
     "text": [
      "EarlyStopping counter: 8 out of 15\n",
      "Epoch [60/200], Train Loss: 0.0020472056998793657, Val Loss: 0.002182354776499172, LR: 0.001\n"
     ]
    },
    {
     "name": "stderr",
     "output_type": "stream",
     "text": [
      "Epoch [61/200] Training: 100%|██████████| 600/600 [00:08<00:00, 72.68it/s, loss=0.00164]\n",
      "Epoch [61/200] Validation: 100%|██████████| 150/150 [00:00<00:00, 158.10it/s, loss=0.00238]\n"
     ]
    },
    {
     "name": "stdout",
     "output_type": "stream",
     "text": [
      "EarlyStopping counter: 9 out of 15\n",
      "Epoch [61/200], Train Loss: 0.002042811306309886, Val Loss: 0.00212908808219557, LR: 0.001\n"
     ]
    },
    {
     "name": "stderr",
     "output_type": "stream",
     "text": [
      "Epoch [62/200] Training: 100%|██████████| 600/600 [00:08<00:00, 72.30it/s, loss=0.00295]\n",
      "Epoch [62/200] Validation: 100%|██████████| 150/150 [00:00<00:00, 154.24it/s, loss=0.00216]\n"
     ]
    },
    {
     "name": "stdout",
     "output_type": "stream",
     "text": [
      "EarlyStopping counter: 10 out of 15\n",
      "Epoch [62/200], Train Loss: 0.002037838198981869, Val Loss: 0.002077129840229948, LR: 0.001\n"
     ]
    },
    {
     "name": "stderr",
     "output_type": "stream",
     "text": [
      "Epoch [63/200] Training: 100%|██████████| 600/600 [00:08<00:00, 72.24it/s, loss=0.00176]\n",
      "Epoch [63/200] Validation: 100%|██████████| 150/150 [00:00<00:00, 155.92it/s, loss=0.00201]\n"
     ]
    },
    {
     "name": "stdout",
     "output_type": "stream",
     "text": [
      "EarlyStopping counter: 11 out of 15\n",
      "Epoch [63/200], Train Loss: 0.0020356790294560295, Val Loss: 0.0020121952805978558, LR: 0.0005\n"
     ]
    },
    {
     "name": "stderr",
     "output_type": "stream",
     "text": [
      "Epoch [64/200] Training: 100%|██████████| 600/600 [00:08<00:00, 70.00it/s, loss=0.00227]\n",
      "Epoch [64/200] Validation: 100%|██████████| 150/150 [00:00<00:00, 159.25it/s, loss=0.00197]\n"
     ]
    },
    {
     "name": "stdout",
     "output_type": "stream",
     "text": [
      "Epoch [64/200], Train Loss: 0.001966443908168003, Val Loss: 0.001933299247175455, LR: 0.0005\n"
     ]
    },
    {
     "name": "stderr",
     "output_type": "stream",
     "text": [
      "Epoch [65/200] Training: 100%|██████████| 600/600 [00:08<00:00, 72.40it/s, loss=0.00149]\n",
      "Epoch [65/200] Validation: 100%|██████████| 150/150 [00:00<00:00, 171.61it/s, loss=0.002]  \n"
     ]
    },
    {
     "name": "stdout",
     "output_type": "stream",
     "text": [
      "EarlyStopping counter: 1 out of 15\n",
      "Epoch [65/200], Train Loss: 0.001955185069818981, Val Loss: 0.001971662160164366, LR: 0.0005\n"
     ]
    },
    {
     "name": "stderr",
     "output_type": "stream",
     "text": [
      "Epoch [66/200] Training: 100%|██████████| 600/600 [00:08<00:00, 71.02it/s, loss=0.00269]\n",
      "Epoch [66/200] Validation: 100%|██████████| 150/150 [00:01<00:00, 140.74it/s, loss=0.00209]\n"
     ]
    },
    {
     "name": "stdout",
     "output_type": "stream",
     "text": [
      "Epoch [66/200], Train Loss: 0.0019557912445937594, Val Loss: 0.0019265729483837883, LR: 0.0005\n"
     ]
    },
    {
     "name": "stderr",
     "output_type": "stream",
     "text": [
      "Epoch [67/200] Training: 100%|██████████| 600/600 [00:09<00:00, 65.79it/s, loss=0.00243]\n",
      "Epoch [67/200] Validation: 100%|██████████| 150/150 [00:01<00:00, 149.38it/s, loss=0.00195]\n"
     ]
    },
    {
     "name": "stdout",
     "output_type": "stream",
     "text": [
      "EarlyStopping counter: 1 out of 15\n",
      "Epoch [67/200], Train Loss: 0.0019508838304318488, Val Loss: 0.0019511821602160731, LR: 0.0005\n"
     ]
    },
    {
     "name": "stderr",
     "output_type": "stream",
     "text": [
      "Epoch [68/200] Training: 100%|██████████| 600/600 [00:08<00:00, 68.35it/s, loss=0.00247]\n",
      "Epoch [68/200] Validation: 100%|██████████| 150/150 [00:01<00:00, 147.85it/s, loss=0.00199]\n"
     ]
    },
    {
     "name": "stdout",
     "output_type": "stream",
     "text": [
      "Epoch [68/200], Train Loss: 0.001942264796428693, Val Loss: 0.0019147847204779584, LR: 0.0005\n"
     ]
    },
    {
     "name": "stderr",
     "output_type": "stream",
     "text": [
      "Epoch [69/200] Training: 100%|██████████| 600/600 [00:08<00:00, 68.25it/s, loss=0.00157]\n",
      "Epoch [69/200] Validation: 100%|██████████| 150/150 [00:00<00:00, 153.88it/s, loss=0.00203]\n"
     ]
    },
    {
     "name": "stdout",
     "output_type": "stream",
     "text": [
      "Epoch [69/200], Train Loss: 0.0019344176470379656, Val Loss: 0.0019057634938508272, LR: 0.0005\n"
     ]
    },
    {
     "name": "stderr",
     "output_type": "stream",
     "text": [
      "Epoch [70/200] Training: 100%|██████████| 600/600 [00:08<00:00, 68.41it/s, loss=0.00213]\n",
      "Epoch [70/200] Validation: 100%|██████████| 150/150 [00:00<00:00, 154.49it/s, loss=0.002]  \n"
     ]
    },
    {
     "name": "stdout",
     "output_type": "stream",
     "text": [
      "EarlyStopping counter: 1 out of 15\n",
      "Epoch [70/200], Train Loss: 0.0019329105402963857, Val Loss: 0.0019448365077065924, LR: 0.0005\n"
     ]
    },
    {
     "name": "stderr",
     "output_type": "stream",
     "text": [
      "Epoch [71/200] Training: 100%|██████████| 600/600 [00:08<00:00, 67.82it/s, loss=0.00368]\n",
      "Epoch [71/200] Validation: 100%|██████████| 150/150 [00:01<00:00, 148.37it/s, loss=0.00206]\n"
     ]
    },
    {
     "name": "stdout",
     "output_type": "stream",
     "text": [
      "EarlyStopping counter: 2 out of 15\n",
      "Epoch [71/200], Train Loss: 0.0019341656734468415, Val Loss: 0.001987789513853689, LR: 0.0005\n"
     ]
    },
    {
     "name": "stderr",
     "output_type": "stream",
     "text": [
      "Epoch [72/200] Training: 100%|██████████| 600/600 [00:08<00:00, 70.40it/s, loss=0.00422]\n",
      "Epoch [72/200] Validation: 100%|██████████| 150/150 [00:01<00:00, 143.27it/s, loss=0.00206]\n"
     ]
    },
    {
     "name": "stdout",
     "output_type": "stream",
     "text": [
      "EarlyStopping counter: 3 out of 15\n",
      "Epoch [72/200], Train Loss: 0.0019314755976665766, Val Loss: 0.001925460099397848, LR: 0.0005\n"
     ]
    },
    {
     "name": "stderr",
     "output_type": "stream",
     "text": [
      "Epoch [73/200] Training: 100%|██████████| 600/600 [00:08<00:00, 71.62it/s, loss=0.00151]\n",
      "Epoch [73/200] Validation: 100%|██████████| 150/150 [00:00<00:00, 153.74it/s, loss=0.00201]\n"
     ]
    },
    {
     "name": "stdout",
     "output_type": "stream",
     "text": [
      "EarlyStopping counter: 4 out of 15\n",
      "Epoch [73/200], Train Loss: 0.001924734763839903, Val Loss: 0.001981320440924416, LR: 0.0005\n"
     ]
    },
    {
     "name": "stderr",
     "output_type": "stream",
     "text": [
      "Epoch [74/200] Training: 100%|██████████| 600/600 [00:08<00:00, 72.30it/s, loss=0.0012] \n",
      "Epoch [74/200] Validation: 100%|██████████| 150/150 [00:00<00:00, 157.13it/s, loss=0.002]  \n"
     ]
    },
    {
     "name": "stdout",
     "output_type": "stream",
     "text": [
      "Epoch [74/200], Train Loss: 0.0019221497150526071, Val Loss: 0.001896863142804553, LR: 0.0005\n"
     ]
    },
    {
     "name": "stderr",
     "output_type": "stream",
     "text": [
      "Epoch [75/200] Training: 100%|██████████| 600/600 [00:08<00:00, 69.20it/s, loss=0.00172]\n",
      "Epoch [75/200] Validation: 100%|██████████| 150/150 [00:00<00:00, 152.68it/s, loss=0.00203]\n"
     ]
    },
    {
     "name": "stdout",
     "output_type": "stream",
     "text": [
      "EarlyStopping counter: 1 out of 15\n",
      "Epoch [75/200], Train Loss: 0.001922546325561901, Val Loss: 0.0019345846741149822, LR: 0.0005\n"
     ]
    },
    {
     "name": "stderr",
     "output_type": "stream",
     "text": [
      "Epoch [76/200] Training: 100%|██████████| 600/600 [00:08<00:00, 69.96it/s, loss=0.00228]\n",
      "Epoch [76/200] Validation: 100%|██████████| 150/150 [00:00<00:00, 169.02it/s, loss=0.00202]\n"
     ]
    },
    {
     "name": "stdout",
     "output_type": "stream",
     "text": [
      "EarlyStopping counter: 2 out of 15\n",
      "Epoch [76/200], Train Loss: 0.0019173569175958013, Val Loss: 0.0019208875911620757, LR: 0.0005\n"
     ]
    },
    {
     "name": "stderr",
     "output_type": "stream",
     "text": [
      "Epoch [77/200] Training: 100%|██████████| 600/600 [00:08<00:00, 66.67it/s, loss=0.00171]\n",
      "Epoch [77/200] Validation: 100%|██████████| 150/150 [00:00<00:00, 158.68it/s, loss=0.00198]\n"
     ]
    },
    {
     "name": "stdout",
     "output_type": "stream",
     "text": [
      "EarlyStopping counter: 3 out of 15\n",
      "Epoch [77/200], Train Loss: 0.0019143504957901314, Val Loss: 0.001909199917378525, LR: 0.0005\n"
     ]
    },
    {
     "name": "stderr",
     "output_type": "stream",
     "text": [
      "Epoch [78/200] Training: 100%|██████████| 600/600 [00:08<00:00, 72.25it/s, loss=0.00116]\n",
      "Epoch [78/200] Validation: 100%|██████████| 150/150 [00:00<00:00, 168.93it/s, loss=0.00198]\n"
     ]
    },
    {
     "name": "stdout",
     "output_type": "stream",
     "text": [
      "EarlyStopping counter: 4 out of 15\n",
      "Epoch [78/200], Train Loss: 0.001909630003501661, Val Loss: 0.001927561357927819, LR: 0.0005\n"
     ]
    },
    {
     "name": "stderr",
     "output_type": "stream",
     "text": [
      "Epoch [79/200] Training: 100%|██████████| 600/600 [00:08<00:00, 74.91it/s, loss=0.00171]\n",
      "Epoch [79/200] Validation: 100%|██████████| 150/150 [00:00<00:00, 167.36it/s, loss=0.00208]\n"
     ]
    },
    {
     "name": "stdout",
     "output_type": "stream",
     "text": [
      "EarlyStopping counter: 5 out of 15\n",
      "Epoch [79/200], Train Loss: 0.0019125298369908705, Val Loss: 0.0019298925817323228, LR: 0.0005\n"
     ]
    },
    {
     "name": "stderr",
     "output_type": "stream",
     "text": [
      "Epoch [80/200] Training: 100%|██████████| 600/600 [00:08<00:00, 69.73it/s, loss=0.00236]\n",
      "Epoch [80/200] Validation: 100%|██████████| 150/150 [00:00<00:00, 158.12it/s, loss=0.00199]\n"
     ]
    },
    {
     "name": "stdout",
     "output_type": "stream",
     "text": [
      "EarlyStopping counter: 6 out of 15\n",
      "Epoch [80/200], Train Loss: 0.001911643769708462, Val Loss: 0.0019456177049626906, LR: 0.0005\n"
     ]
    },
    {
     "name": "stderr",
     "output_type": "stream",
     "text": [
      "Epoch [81/200] Training: 100%|██████████| 600/600 [00:08<00:00, 70.02it/s, loss=0.00313]\n",
      "Epoch [81/200] Validation: 100%|██████████| 150/150 [00:01<00:00, 138.43it/s, loss=0.00197]\n"
     ]
    },
    {
     "name": "stdout",
     "output_type": "stream",
     "text": [
      "EarlyStopping counter: 7 out of 15\n",
      "Epoch [81/200], Train Loss: 0.001906133638500857, Val Loss: 0.001913920594379306, LR: 0.0005\n"
     ]
    },
    {
     "name": "stderr",
     "output_type": "stream",
     "text": [
      "Epoch [82/200] Training: 100%|██████████| 600/600 [00:08<00:00, 70.56it/s, loss=0.00257]\n",
      "Epoch [82/200] Validation: 100%|██████████| 150/150 [00:01<00:00, 148.43it/s, loss=0.00192]\n"
     ]
    },
    {
     "name": "stdout",
     "output_type": "stream",
     "text": [
      "Epoch [82/200], Train Loss: 0.0019041790725896136, Val Loss: 0.001892660295125097, LR: 0.0005\n"
     ]
    },
    {
     "name": "stderr",
     "output_type": "stream",
     "text": [
      "Epoch [83/200] Training: 100%|██████████| 600/600 [00:08<00:00, 72.07it/s, loss=0.00203]\n",
      "Epoch [83/200] Validation: 100%|██████████| 150/150 [00:00<00:00, 155.34it/s, loss=0.00209]\n"
     ]
    },
    {
     "name": "stdout",
     "output_type": "stream",
     "text": [
      "EarlyStopping counter: 1 out of 15\n",
      "Epoch [83/200], Train Loss: 0.0019007662179258962, Val Loss: 0.001959371264092624, LR: 0.0005\n"
     ]
    },
    {
     "name": "stderr",
     "output_type": "stream",
     "text": [
      "Epoch [84/200] Training: 100%|██████████| 600/600 [00:07<00:00, 75.16it/s, loss=0.00146]\n",
      "Epoch [84/200] Validation: 100%|██████████| 150/150 [00:01<00:00, 143.73it/s, loss=0.00207]\n"
     ]
    },
    {
     "name": "stdout",
     "output_type": "stream",
     "text": [
      "EarlyStopping counter: 2 out of 15\n",
      "Epoch [84/200], Train Loss: 0.0019018322966682414, Val Loss: 0.0020607935761411986, LR: 0.0005\n"
     ]
    },
    {
     "name": "stderr",
     "output_type": "stream",
     "text": [
      "Epoch [85/200] Training: 100%|██████████| 600/600 [00:08<00:00, 71.18it/s, loss=0.00248]\n",
      "Epoch [85/200] Validation: 100%|██████████| 150/150 [00:00<00:00, 159.64it/s, loss=0.002]  \n"
     ]
    },
    {
     "name": "stdout",
     "output_type": "stream",
     "text": [
      "EarlyStopping counter: 3 out of 15\n",
      "Epoch [85/200], Train Loss: 0.001896309788765696, Val Loss: 0.001988194671769937, LR: 0.0005\n"
     ]
    },
    {
     "name": "stderr",
     "output_type": "stream",
     "text": [
      "Epoch [86/200] Training: 100%|██████████| 600/600 [00:08<00:00, 72.36it/s, loss=0.00235]\n",
      "Epoch [86/200] Validation: 100%|██████████| 150/150 [00:00<00:00, 159.73it/s, loss=0.00198]\n"
     ]
    },
    {
     "name": "stdout",
     "output_type": "stream",
     "text": [
      "EarlyStopping counter: 4 out of 15\n",
      "Epoch [86/200], Train Loss: 0.0018915906162389243, Val Loss: 0.001929691636469215, LR: 0.0005\n"
     ]
    },
    {
     "name": "stderr",
     "output_type": "stream",
     "text": [
      "Epoch [87/200] Training: 100%|██████████| 600/600 [00:08<00:00, 69.95it/s, loss=0.00133]\n",
      "Epoch [87/200] Validation: 100%|██████████| 150/150 [00:00<00:00, 159.18it/s, loss=0.00201]\n"
     ]
    },
    {
     "name": "stdout",
     "output_type": "stream",
     "text": [
      "EarlyStopping counter: 5 out of 15\n",
      "Epoch [87/200], Train Loss: 0.0018890116458836323, Val Loss: 0.001910396763899674, LR: 0.0005\n"
     ]
    },
    {
     "name": "stderr",
     "output_type": "stream",
     "text": [
      "Epoch [88/200] Training: 100%|██████████| 600/600 [00:08<00:00, 74.12it/s, loss=0.00268]\n",
      "Epoch [88/200] Validation: 100%|██████████| 150/150 [00:00<00:00, 176.50it/s, loss=0.00203]\n"
     ]
    },
    {
     "name": "stdout",
     "output_type": "stream",
     "text": [
      "EarlyStopping counter: 6 out of 15\n",
      "Epoch [88/200], Train Loss: 0.0018892444183196252, Val Loss: 0.0019331353856250643, LR: 0.0005\n"
     ]
    },
    {
     "name": "stderr",
     "output_type": "stream",
     "text": [
      "Epoch [89/200] Training: 100%|██████████| 600/600 [00:07<00:00, 75.79it/s, loss=0.00216]\n",
      "Epoch [89/200] Validation: 100%|██████████| 150/150 [00:00<00:00, 175.31it/s, loss=0.00198]\n"
     ]
    },
    {
     "name": "stdout",
     "output_type": "stream",
     "text": [
      "EarlyStopping counter: 7 out of 15\n",
      "Epoch [89/200], Train Loss: 0.0018820594790546845, Val Loss: 0.0019190743976893524, LR: 0.0005\n"
     ]
    },
    {
     "name": "stderr",
     "output_type": "stream",
     "text": [
      "Epoch [90/200] Training: 100%|██████████| 600/600 [00:07<00:00, 75.99it/s, loss=0.00208]\n",
      "Epoch [90/200] Validation: 100%|██████████| 150/150 [00:00<00:00, 177.06it/s, loss=0.0021] \n"
     ]
    },
    {
     "name": "stdout",
     "output_type": "stream",
     "text": [
      "EarlyStopping counter: 8 out of 15\n",
      "Epoch [90/200], Train Loss: 0.0018793649519405638, Val Loss: 0.0019359627241889636, LR: 0.0005\n"
     ]
    },
    {
     "name": "stderr",
     "output_type": "stream",
     "text": [
      "Epoch [91/200] Training: 100%|██████████| 600/600 [00:08<00:00, 71.07it/s, loss=0.00216]\n",
      "Epoch [91/200] Validation: 100%|██████████| 150/150 [00:00<00:00, 166.45it/s, loss=0.0021] \n"
     ]
    },
    {
     "name": "stdout",
     "output_type": "stream",
     "text": [
      "EarlyStopping counter: 9 out of 15\n",
      "Epoch [91/200], Train Loss: 0.0018800122909791146, Val Loss: 0.001959276149670283, LR: 0.0005\n"
     ]
    },
    {
     "name": "stderr",
     "output_type": "stream",
     "text": [
      "Epoch [92/200] Training: 100%|██████████| 600/600 [00:08<00:00, 71.74it/s, loss=0.00177]\n",
      "Epoch [92/200] Validation: 100%|██████████| 150/150 [00:00<00:00, 162.40it/s, loss=0.00203]\n"
     ]
    },
    {
     "name": "stdout",
     "output_type": "stream",
     "text": [
      "EarlyStopping counter: 10 out of 15\n",
      "Epoch [92/200], Train Loss: 0.0018796470604138448, Val Loss: 0.0019299447482141357, LR: 0.0005\n"
     ]
    },
    {
     "name": "stderr",
     "output_type": "stream",
     "text": [
      "Epoch [93/200] Training: 100%|██████████| 600/600 [00:07<00:00, 76.07it/s, loss=0.00192]\n",
      "Epoch [93/200] Validation: 100%|██████████| 150/150 [00:00<00:00, 177.23it/s, loss=0.00203]\n"
     ]
    },
    {
     "name": "stdout",
     "output_type": "stream",
     "text": [
      "EarlyStopping counter: 11 out of 15\n",
      "Epoch [93/200], Train Loss: 0.0018726079288171604, Val Loss: 0.002001301487907767, LR: 0.00025\n"
     ]
    },
    {
     "name": "stderr",
     "output_type": "stream",
     "text": [
      "Epoch [94/200] Training: 100%|██████████| 600/600 [00:07<00:00, 76.12it/s, loss=0.00178]\n",
      "Epoch [94/200] Validation: 100%|██████████| 150/150 [00:00<00:00, 171.30it/s, loss=0.002]  \n"
     ]
    },
    {
     "name": "stdout",
     "output_type": "stream",
     "text": [
      "Epoch [94/200], Train Loss: 0.0018320295981053883, Val Loss: 0.0018882391857914626, LR: 0.00025\n"
     ]
    },
    {
     "name": "stderr",
     "output_type": "stream",
     "text": [
      "Epoch [95/200] Training: 100%|██████████| 600/600 [00:07<00:00, 75.59it/s, loss=0.00144]\n",
      "Epoch [95/200] Validation: 100%|██████████| 150/150 [00:00<00:00, 167.68it/s, loss=0.00197]\n"
     ]
    },
    {
     "name": "stdout",
     "output_type": "stream",
     "text": [
      "EarlyStopping counter: 1 out of 15\n",
      "Epoch [95/200], Train Loss: 0.0018208935105940326, Val Loss: 0.0019059545577814181, LR: 0.00025\n"
     ]
    },
    {
     "name": "stderr",
     "output_type": "stream",
     "text": [
      "Epoch [96/200] Training: 100%|██████████| 600/600 [00:07<00:00, 75.35it/s, loss=0.00195]\n",
      "Epoch [96/200] Validation: 100%|██████████| 150/150 [00:00<00:00, 168.63it/s, loss=0.002]  \n"
     ]
    },
    {
     "name": "stdout",
     "output_type": "stream",
     "text": [
      "EarlyStopping counter: 2 out of 15\n",
      "Epoch [96/200], Train Loss: 0.0018228200083831325, Val Loss: 0.001896574606653303, LR: 0.00025\n"
     ]
    },
    {
     "name": "stderr",
     "output_type": "stream",
     "text": [
      "Epoch [97/200] Training: 100%|██████████| 600/600 [00:08<00:00, 74.76it/s, loss=0.00119]\n",
      "Epoch [97/200] Validation: 100%|██████████| 150/150 [00:00<00:00, 176.96it/s, loss=0.00195]\n"
     ]
    },
    {
     "name": "stdout",
     "output_type": "stream",
     "text": [
      "Epoch [97/200], Train Loss: 0.0018182172222683827, Val Loss: 0.0018869642758121094, LR: 0.00025\n"
     ]
    },
    {
     "name": "stderr",
     "output_type": "stream",
     "text": [
      "Epoch [98/200] Training: 100%|██████████| 600/600 [00:07<00:00, 76.34it/s, loss=0.0017] \n",
      "Epoch [98/200] Validation: 100%|██████████| 150/150 [00:00<00:00, 177.65it/s, loss=0.00201]\n"
     ]
    },
    {
     "name": "stdout",
     "output_type": "stream",
     "text": [
      "EarlyStopping counter: 1 out of 15\n",
      "Epoch [98/200], Train Loss: 0.0018184857091788824, Val Loss: 0.0019125969762293, LR: 0.00025\n"
     ]
    },
    {
     "name": "stderr",
     "output_type": "stream",
     "text": [
      "Epoch [99/200] Training: 100%|██████████| 600/600 [00:08<00:00, 74.96it/s, loss=0.00248]\n",
      "Epoch [99/200] Validation: 100%|██████████| 150/150 [00:00<00:00, 152.21it/s, loss=0.002]  \n"
     ]
    },
    {
     "name": "stdout",
     "output_type": "stream",
     "text": [
      "EarlyStopping counter: 2 out of 15\n",
      "Epoch [99/200], Train Loss: 0.0018158823635894806, Val Loss: 0.001932137096300721, LR: 0.00025\n"
     ]
    },
    {
     "name": "stderr",
     "output_type": "stream",
     "text": [
      "Epoch [100/200] Training: 100%|██████████| 600/600 [00:08<00:00, 71.54it/s, loss=0.0014] \n",
      "Epoch [100/200] Validation: 100%|██████████| 150/150 [00:00<00:00, 153.71it/s, loss=0.00197]\n"
     ]
    },
    {
     "name": "stdout",
     "output_type": "stream",
     "text": [
      "EarlyStopping counter: 3 out of 15\n",
      "Epoch [100/200], Train Loss: 0.0018131326018677404, Val Loss: 0.001896752514100323, LR: 0.00025\n"
     ]
    },
    {
     "name": "stderr",
     "output_type": "stream",
     "text": [
      "Epoch [101/200] Training: 100%|██████████| 600/600 [00:07<00:00, 75.31it/s, loss=0.00328]\n",
      "Epoch [101/200] Validation: 100%|██████████| 150/150 [00:00<00:00, 176.46it/s, loss=0.002]  \n"
     ]
    },
    {
     "name": "stdout",
     "output_type": "stream",
     "text": [
      "EarlyStopping counter: 4 out of 15\n",
      "Epoch [101/200], Train Loss: 0.0018166228234379864, Val Loss: 0.0019065189897082746, LR: 0.00025\n"
     ]
    },
    {
     "name": "stderr",
     "output_type": "stream",
     "text": [
      "Epoch [102/200] Training: 100%|██████████| 600/600 [00:08<00:00, 74.90it/s, loss=0.00338]\n",
      "Epoch [102/200] Validation: 100%|██████████| 150/150 [00:00<00:00, 171.63it/s, loss=0.00205]\n"
     ]
    },
    {
     "name": "stdout",
     "output_type": "stream",
     "text": [
      "EarlyStopping counter: 5 out of 15\n",
      "Epoch [102/200], Train Loss: 0.0018130195821868256, Val Loss: 0.0019183181963550548, LR: 0.00025\n"
     ]
    },
    {
     "name": "stderr",
     "output_type": "stream",
     "text": [
      "Epoch [103/200] Training: 100%|██████████| 600/600 [00:08<00:00, 72.54it/s, loss=0.00165]\n",
      "Epoch [103/200] Validation: 100%|██████████| 150/150 [00:00<00:00, 159.80it/s, loss=0.00199]\n"
     ]
    },
    {
     "name": "stdout",
     "output_type": "stream",
     "text": [
      "EarlyStopping counter: 6 out of 15\n",
      "Epoch [103/200], Train Loss: 0.0018106590748842185, Val Loss: 0.001889871087235709, LR: 0.00025\n"
     ]
    },
    {
     "name": "stderr",
     "output_type": "stream",
     "text": [
      "Epoch [104/200] Training: 100%|██████████| 600/600 [00:08<00:00, 72.27it/s, loss=0.00219]\n",
      "Epoch [104/200] Validation: 100%|██████████| 150/150 [00:01<00:00, 139.91it/s, loss=0.00198]\n"
     ]
    },
    {
     "name": "stdout",
     "output_type": "stream",
     "text": [
      "EarlyStopping counter: 7 out of 15\n",
      "Epoch [104/200], Train Loss: 0.0018025031850750868, Val Loss: 0.001904613070655614, LR: 0.00025\n"
     ]
    },
    {
     "name": "stderr",
     "output_type": "stream",
     "text": [
      "Epoch [105/200] Training: 100%|██████████| 600/600 [00:08<00:00, 72.07it/s, loss=0.00132]\n",
      "Epoch [105/200] Validation: 100%|██████████| 150/150 [00:01<00:00, 142.71it/s, loss=0.00204]\n"
     ]
    },
    {
     "name": "stdout",
     "output_type": "stream",
     "text": [
      "EarlyStopping counter: 8 out of 15\n",
      "Epoch [105/200], Train Loss: 0.0018029282622349758, Val Loss: 0.0019159843089679876, LR: 0.00025\n"
     ]
    },
    {
     "name": "stderr",
     "output_type": "stream",
     "text": [
      "Epoch [106/200] Training: 100%|██████████| 600/600 [00:08<00:00, 70.83it/s, loss=0.00179]\n",
      "Epoch [106/200] Validation: 100%|██████████| 150/150 [00:00<00:00, 153.11it/s, loss=0.00197]\n"
     ]
    },
    {
     "name": "stdout",
     "output_type": "stream",
     "text": [
      "EarlyStopping counter: 9 out of 15\n",
      "Epoch [106/200], Train Loss: 0.0018048599959972003, Val Loss: 0.0018877792971519133, LR: 0.00025\n"
     ]
    },
    {
     "name": "stderr",
     "output_type": "stream",
     "text": [
      "Epoch [107/200] Training: 100%|██████████| 600/600 [00:08<00:00, 73.56it/s, loss=0.002]  \n",
      "Epoch [107/200] Validation: 100%|██████████| 150/150 [00:00<00:00, 155.14it/s, loss=0.00195]\n"
     ]
    },
    {
     "name": "stdout",
     "output_type": "stream",
     "text": [
      "EarlyStopping counter: 10 out of 15\n",
      "Epoch [107/200], Train Loss: 0.0017979012716871996, Val Loss: 0.0019141057622618974, LR: 0.00025\n"
     ]
    },
    {
     "name": "stderr",
     "output_type": "stream",
     "text": [
      "Epoch [108/200] Training: 100%|██████████| 600/600 [00:08<00:00, 74.60it/s, loss=0.00173]\n",
      "Epoch [108/200] Validation: 100%|██████████| 150/150 [00:00<00:00, 162.84it/s, loss=0.002]  \n"
     ]
    },
    {
     "name": "stdout",
     "output_type": "stream",
     "text": [
      "EarlyStopping counter: 11 out of 15\n",
      "Epoch [108/200], Train Loss: 0.0017982592039819186, Val Loss: 0.0019048111063117781, LR: 0.000125\n"
     ]
    },
    {
     "name": "stderr",
     "output_type": "stream",
     "text": [
      "Epoch [109/200] Training: 100%|██████████| 600/600 [00:08<00:00, 74.23it/s, loss=0.00251]\n",
      "Epoch [109/200] Validation: 100%|██████████| 150/150 [00:00<00:00, 158.82it/s, loss=0.00193]\n"
     ]
    },
    {
     "name": "stdout",
     "output_type": "stream",
     "text": [
      "EarlyStopping counter: 12 out of 15\n",
      "Epoch [109/200], Train Loss: 0.0017710996663663535, Val Loss: 0.0018972792608353, LR: 0.000125\n"
     ]
    },
    {
     "name": "stderr",
     "output_type": "stream",
     "text": [
      "Epoch [110/200] Training: 100%|██████████| 600/600 [00:08<00:00, 67.23it/s, loss=0.00107]\n",
      "Epoch [110/200] Validation: 100%|██████████| 150/150 [00:01<00:00, 138.33it/s, loss=0.00195]\n"
     ]
    },
    {
     "name": "stdout",
     "output_type": "stream",
     "text": [
      "EarlyStopping counter: 13 out of 15\n",
      "Epoch [110/200], Train Loss: 0.0017706190563815955, Val Loss: 0.00189882128033787, LR: 0.000125\n"
     ]
    },
    {
     "name": "stderr",
     "output_type": "stream",
     "text": [
      "Epoch [111/200] Training: 100%|██████████| 600/600 [00:08<00:00, 70.46it/s, loss=0.0016] \n",
      "Epoch [111/200] Validation: 100%|██████████| 150/150 [00:01<00:00, 144.33it/s, loss=0.002]  \n"
     ]
    },
    {
     "name": "stdout",
     "output_type": "stream",
     "text": [
      "EarlyStopping counter: 14 out of 15\n",
      "Epoch [111/200], Train Loss: 0.001771116847715651, Val Loss: 0.001887817387469113, LR: 0.000125\n"
     ]
    },
    {
     "name": "stderr",
     "output_type": "stream",
     "text": [
      "Epoch [112/200] Training: 100%|██████████| 600/600 [00:08<00:00, 72.37it/s, loss=0.00099]\n",
      "Epoch [112/200] Validation: 100%|██████████| 150/150 [00:00<00:00, 165.59it/s, loss=0.00206]"
     ]
    },
    {
     "name": "stdout",
     "output_type": "stream",
     "text": [
      "EarlyStopping counter: 15 out of 15\n",
      "Epoch [112/200], Train Loss: 0.0017652039266734694, Val Loss: 0.0018947321696517368, LR: 0.000125\n",
      "Early stopping triggered\n",
      "Training finished\n"
     ]
    },
    {
     "name": "stderr",
     "output_type": "stream",
     "text": [
      "\n"
     ]
    }
   ],
   "source": [
    "# Training loop\n",
    "best_val_loss = float('inf')\n",
    "\n",
    "for epoch in range(num_epochs):\n",
    "    # Training phase\n",
    "    model.train()\n",
    "    train_loss = 0.0\n",
    "    progress_bar_train = tqdm(train_loader, desc=f'Epoch [{epoch+1}/{num_epochs}] Training')\n",
    "    \n",
    "    for inputs, targets in progress_bar_train:\n",
    "        inputs, targets = inputs.to(device), targets.to(device)\n",
    "        \n",
    "        optimizer.zero_grad()\n",
    "        outputs = model(inputs)\n",
    "        loss = criterion(outputs, targets)\n",
    "        loss.backward()\n",
    "        \n",
    "        # Gradient clipping\n",
    "        torch.nn.utils.clip_grad_norm_(model.parameters(), max_norm=1.0)\n",
    "        \n",
    "        optimizer.step()\n",
    "        train_loss += loss.item()\n",
    "        progress_bar_train.set_postfix({'loss': loss.item()})\n",
    "\n",
    "    avg_train_loss = train_loss / len(train_loader)\n",
    "\n",
    "    # Validation phase\n",
    "    model.eval()\n",
    "    val_loss = 0.0\n",
    "    progress_bar_val = tqdm(val_loader, desc=f'Epoch [{epoch+1}/{num_epochs}] Validation')\n",
    "    \n",
    "    with torch.no_grad():\n",
    "        for inputs, targets in progress_bar_val:\n",
    "            inputs, targets = inputs.to(device), targets.to(device)\n",
    "            outputs = model(inputs)\n",
    "            loss = criterion(outputs, targets)\n",
    "            val_loss += loss.item()\n",
    "            progress_bar_val.set_postfix({'loss': loss.item()})\n",
    "\n",
    "    avg_val_loss = val_loss / len(val_loader)\n",
    "\n",
    "    # Learning rate scheduling\n",
    "    scheduler.step(avg_val_loss)\n",
    "    current_lr = optimizer.param_groups[0]['lr']\n",
    "\n",
    "    # Early stopping\n",
    "    early_stopping(avg_val_loss, model)\n",
    "\n",
    "    # Logging\n",
    "    wandb.log({\n",
    "        \"epoch\": epoch + 1,\n",
    "        \"train_loss\": avg_train_loss,\n",
    "        \"val_loss\": avg_val_loss,\n",
    "        \"learning_rate\": current_lr\n",
    "    })\n",
    "\n",
    "    print(f'Epoch [{epoch+1}/{num_epochs}], Train Loss: {avg_train_loss}, Val Loss: {avg_val_loss}, LR: {current_lr}')\n",
    "\n",
    "    if early_stopping.early_stop:\n",
    "        print(\"Early stopping triggered\")\n",
    "        break\n",
    "\n",
    "print(\"Training finished\")"
   ]
  },
  {
   "cell_type": "code",
   "execution_count": 17,
   "metadata": {},
   "outputs": [],
   "source": [
    "def calculate_psnr(target, prediction):\n",
    "    \"\"\"Calculate Peak Signal-to-Noise Ratio\"\"\"\n",
    "    mse = np.mean((target - prediction) ** 2)\n",
    "    if mse == 0:\n",
    "        return float('inf')\n",
    "    max_pixel = np.max(target)\n",
    "    psnr = 20 * np.log10(max_pixel / np.sqrt(mse))\n",
    "    return psnr\n",
    "\n",
    "def calculate_peak_metrics(target, prediction, prominence=0.1):\n",
    "    \"\"\"Calculate peak detection accuracy\"\"\"\n",
    "    peak_metrics = {'true_peaks': 0, 'predicted_peaks': 0, 'matching_peaks': 0}\n",
    "    \n",
    "    for i in range(len(target)):\n",
    "        true_peaks, _ = find_peaks(target[i], prominence=prominence)\n",
    "        pred_peaks, _ = find_peaks(prediction[i], prominence=prominence)\n",
    "        \n",
    "        # Count matching peaks (within ±1 index)\n",
    "        matches = 0\n",
    "        for tp in true_peaks:\n",
    "            for pp in pred_peaks:\n",
    "                if abs(tp - pp) <= 1:\n",
    "                    matches += 1\n",
    "                    break\n",
    "        \n",
    "        peak_metrics['true_peaks'] += len(true_peaks)\n",
    "        peak_metrics['predicted_peaks'] += len(pred_peaks)\n",
    "        peak_metrics['matching_peaks'] += matches\n",
    "    \n",
    "    return peak_metrics\n",
    "\n",
    "def measure_inference_time(model, input_tensor, device, num_iterations=100):\n",
    "    \"\"\"Measure average inference time\"\"\"\n",
    "    model.eval()\n",
    "    start_time = time.time()\n",
    "    with torch.no_grad():\n",
    "        for _ in range(num_iterations):\n",
    "            _ = model(input_tensor.to(device))\n",
    "    end_time = time.time()\n",
    "    return (end_time - start_time) / num_iterations\n",
    "\n",
    "def count_parameters(model):\n",
    "    \"\"\"Count number of trainable parameters\"\"\"\n",
    "    return sum(p.numel() for p in model.parameters() if p.requires_grad)\n",
    "\n",
    "def measure_memory_usage():\n",
    "    \"\"\"Measure current memory usage\"\"\"\n",
    "    process = psutil.Process(os.getpid())\n",
    "    return process.memory_info().rss / 1024 / 1024  # Convert to MB\n",
    "\n",
    "def evaluate_model_metrics(model, val_loader, device):\n",
    "    \"\"\"Evaluate all model metrics\"\"\"\n",
    "    model.eval()\n",
    "    metrics = {}\n",
    "    \n",
    "    # Get sample input for inference time measurement\n",
    "    sample_input, _ = next(iter(val_loader))\n",
    "    metrics['inference_time'] = measure_inference_time(model, sample_input, device)\n",
    "    \n",
    "    all_targets = []\n",
    "    all_predictions = []\n",
    "    \n",
    "    with torch.no_grad():\n",
    "        for inputs, targets in val_loader:\n",
    "            inputs = inputs.to(device)\n",
    "            targets = targets.to(device)\n",
    "            outputs = model(inputs)\n",
    "            \n",
    "            # Convert to numpy for metric calculation\n",
    "            targets_np = targets.cpu().numpy()\n",
    "            outputs_np = outputs.cpu().numpy()\n",
    "            \n",
    "            all_targets.append(targets_np)\n",
    "            all_predictions.append(outputs_np)\n",
    "    \n",
    "    # Concatenate all batches\n",
    "    all_targets = np.concatenate(all_targets)\n",
    "    all_predictions = np.concatenate(all_predictions)\n",
    "    \n",
    "    # Calculate metrics\n",
    "    metrics['mse'] = np.mean((all_targets - all_predictions) ** 2)\n",
    "    metrics['mae'] = np.mean(np.abs(all_targets - all_predictions))\n",
    "    metrics['psnr'] = calculate_psnr(all_targets, all_predictions)\n",
    "    metrics['r2_score'] = r2_score(all_targets.flatten(), all_predictions.flatten())\n",
    "    metrics['peak_metrics'] = calculate_peak_metrics(all_targets, all_predictions)\n",
    "    metrics['memory_usage'] = measure_memory_usage()\n",
    "    metrics['num_parameters'] = count_parameters(model)\n",
    "    \n",
    "    return metrics"
   ]
  },
  {
   "cell_type": "code",
   "execution_count": null,
   "metadata": {},
   "outputs": [
    {
     "name": "stdout",
     "output_type": "stream",
     "text": [
      "\n",
      "Final Model Evaluation:\n",
      "MSE: 0.001895\n",
      "MAE: 0.023451\n",
      "PSNR: 27.15 dB\n",
      "R² Score: 0.5560\n",
      "Peak Detection Accuracy: 42.47%\n",
      "Average Inference Time: 4.20 ms\n",
      "Memory Usage: 2331.0 MB\n",
      "Number of Parameters: 348,064\n"
     ]
    }
   ],
   "source": [
    "model.eval()\n",
    "final_metrics = evaluate_model_metrics(model, val_loader, device)\n",
    "\n",
    "wandb.log({\n",
    "    \"final_mse\": final_metrics['mse'],\n",
    "    \"final_mae\": final_metrics['mae'],\n",
    "    \"final_psnr\": final_metrics['psnr'],\n",
    "    \"final_r2_score\": final_metrics['r2_score'],\n",
    "    \"peak_detection_accuracy\": final_metrics['peak_metrics']['matching_peaks'] / \n",
    "                             final_metrics['peak_metrics']['true_peaks'],\n",
    "    \"inference_time_ms\": final_metrics['inference_time'] * 1000,\n",
    "    \"memory_usage_mb\": final_metrics['memory_usage'],\n",
    "    \"model_parameters\": final_metrics['num_parameters']\n",
    "})\n",
    "\n",
    "print(\"\\nFinal Model Evaluation:\")\n",
    "print(f\"MSE: {final_metrics['mse']:.6f}\")\n",
    "print(f\"MAE: {final_metrics['mae']:.6f}\")\n",
    "print(f\"PSNR: {final_metrics['psnr']:.2f} dB\")\n",
    "print(f\"R² Score: {final_metrics['r2_score']:.4f}\")\n",
    "print(f\"Peak Detection Accuracy: {final_metrics['peak_metrics']['matching_peaks'] / final_metrics['peak_metrics']['true_peaks']:.2%}\")\n",
    "print(f\"Average Inference Time: {final_metrics['inference_time']*1000:.2f} ms\")\n",
    "print(f\"Memory Usage: {final_metrics['memory_usage']:.1f} MB\")\n",
    "print(f\"Number of Parameters: {final_metrics['num_parameters']:,}\")"
   ]
  },
  {
   "cell_type": "code",
   "execution_count": null,
   "metadata": {},
   "outputs": [
    {
     "data": {
      "image/png": "[encoded data removed]",
      "text/plain": [
       "<Figure size 1500x500 with 3 Axes>"
      ]
     },
     "metadata": {},
     "output_type": "display_data"
    },
    {
     "name": "stdout",
     "output_type": "stream",
     "text": [
      "Test MSE: 0.001662\n",
      "Test MAE: 0.022607\n"
     ]
    }
   ],
   "source": [
    "inputs, targets = next(iter(val_loader))\n",
    "inputs, targets = inputs.to(device), targets.to(device)\n",
    "\n",
    "with torch.no_grad():\n",
    "    outputs = model(inputs)\n",
    "\n",
    "inputs = inputs.cpu().numpy()\n",
    "targets = targets.cpu().numpy()\n",
    "outputs = outputs.cpu().numpy()\n",
    "\n",
    "plt.figure(figsize=(15, 5))\n",
    "for i in range(3):\n",
    "    plt.subplot(1, 3, i+1)\n",
    "    plt.plot(targets[i], 'b-', label='Target')\n",
    "    plt.plot(outputs[i], 'r--', label='Prediction')\n",
    "    plt.title(f'Example {i+1}')\n",
    "    plt.xlabel('T1 Index')\n",
    "    plt.ylabel('Amplitude')\n",
    "    plt.legend()\n",
    "    plt.grid(True, alpha=0.3)\n",
    "\n",
    "plt.tight_layout()\n",
    "plt.show()\n",
    "\n",
    "mse = np.mean((targets - outputs)**2)\n",
    "mae = np.mean(np.abs(targets - outputs))\n",
    "print(f\"Test MSE: {mse:.6f}\")\n",
    "print(f\"Test MAE: {mae:.6f}\")"
   ]
  },
  {
   "cell_type": "code",
   "execution_count": 20,
   "metadata": {},
   "outputs": [
    {
     "data": {
      "text/html": [],
      "text/plain": [
       "<IPython.core.display.HTML object>"
      ]
     },
     "metadata": {},
     "output_type": "display_data"
    },
    {
     "data": {
      "text/html": [
       "<br>    <style><br>        .wandb-row {<br>            display: flex;<br>            flex-direction: row;<br>            flex-wrap: wrap;<br>            justify-content: flex-start;<br>            width: 100%;<br>        }<br>        .wandb-col {<br>            display: flex;<br>            flex-direction: column;<br>            flex-basis: 100%;<br>            flex: 1;<br>            padding: 10px;<br>        }<br>    </style><br><div class=\"wandb-row\"><div class=\"wandb-col\"><h3>Run history:</h3><br/><table class=\"wandb\"><tr><td>epoch</td><td>▁▁▁▁▁▂▂▂▂▂▃▃▃▃▃▃▃▄▄▄▄▄▅▅▅▅▅▅▆▆▆▆▆▆▆▇▇███</td></tr><tr><td>final_mae</td><td>▁</td></tr><tr><td>final_mse</td><td>▁</td></tr><tr><td>final_psnr</td><td>▁</td></tr><tr><td>final_r2_score</td><td>▁</td></tr><tr><td>inference_time_ms</td><td>▁</td></tr><tr><td>learning_rate</td><td>██████████████████████▄▄▄▄▄▄▄▄▄▂▂▂▂▂▂▂▂▁</td></tr><tr><td>memory_usage_mb</td><td>▁</td></tr><tr><td>model_parameters</td><td>▁</td></tr><tr><td>peak_detection_accuracy</td><td>▁</td></tr><tr><td>train_loss</td><td>█▇▆▆▅▅▅▄▄▄▄▄▄▃▃▃▃▃▃▂▂▂▂▂▂▂▂▂▂▂▂▁▁▁▁▁▁▁▁▁</td></tr><tr><td>val_loss</td><td>█▇▅▅▃▃▄▃▃▃▃▃▂▃▃▂▂▂▃▃▁▂▁▁▂▁▁▁▂▂▁▂▁▁▁▁▁▁▁▁</td></tr></table><br/></div><div class=\"wandb-col\"><h3>Run summary:</h3><br/><table class=\"wandb\"><tr><td>epoch</td><td>112</td></tr><tr><td>final_mae</td><td>0.02345</td></tr><tr><td>final_mse</td><td>0.00189</td></tr><tr><td>final_psnr</td><td>27.14535</td></tr><tr><td>final_r2_score</td><td>0.55601</td></tr><tr><td>inference_time_ms</td><td>4.20112</td></tr><tr><td>learning_rate</td><td>0.00013</td></tr><tr><td>memory_usage_mb</td><td>2331.00391</td></tr><tr><td>model_parameters</td><td>348064</td></tr><tr><td>peak_detection_accuracy</td><td>0.42473</td></tr><tr><td>train_loss</td><td>0.00177</td></tr><tr><td>val_loss</td><td>0.00189</td></tr></table><br/></div></div>"
      ],
      "text/plain": [
       "<IPython.core.display.HTML object>"
      ]
     },
     "metadata": {},
     "output_type": "display_data"
    },
    {
     "data": {
      "text/html": [
       " View run <strong style=\"color:#cdcd00\">3d-cnn-central-voxel-improved</strong> at: <a href='https://wandb.ai/trphan/master-multicomponent-mri/runs/a5ukqocn' target=\"_blank\">https://wandb.ai/trphan/master-multicomponent-mri/runs/a5ukqocn</a><br> View project at: <a href='https://wandb.ai/trphan/master-multicomponent-mri' target=\"_blank\">https://wandb.ai/trphan/master-multicomponent-mri</a><br>Synced 5 W&B file(s), 0 media file(s), 0 artifact file(s) and 0 other file(s)"
      ],
      "text/plain": [
       "<IPython.core.display.HTML object>"
      ]
     },
     "metadata": {},
     "output_type": "display_data"
    },
    {
     "data": {
      "text/html": [
       "Find logs at: <code>.\\wandb\\run-20250213_011521-a5ukqocn\\logs</code>"
      ],
      "text/plain": [
       "<IPython.core.display.HTML object>"
      ]
     },
     "metadata": {},
     "output_type": "display_data"
    }
   ],
   "source": [
    "wandb.finish()"
   ]
  }
 ],
 "metadata": {
  "kernelspec": {
   "display_name": ".venv",
   "language": "python",
   "name": "python3"
  },
  "language_info": {
   "codemirror_mode": {
    "name": "ipython",
    "version": 3
   },
   "file_extension": ".py",
   "mimetype": "text/x-python",
   "name": "python",
   "nbconvert_exporter": "python",
   "pygments_lexer": "ipython3",
   "version": "3.11.0"
  }
 },
 "nbformat": 4,
 "nbformat_minor": 2
}
