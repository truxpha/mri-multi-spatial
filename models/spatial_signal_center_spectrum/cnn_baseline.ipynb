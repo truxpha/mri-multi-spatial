{
 "cells": [
  {
   "cell_type": "code",
   "execution_count": 1,
   "metadata": {},
   "outputs": [],
   "source": [
    "import torch\n",
    "import torch.nn as nn\n",
    "import torch.optim as optim\n",
    "from torch.utils.data import Dataset, DataLoader, random_split\n",
    "import mat73\n",
    "import numpy as np\n",
    "from tqdm import tqdm\n",
    "import wandb\n",
    "import matplotlib.pyplot as plt\n",
    "from torch.optim.lr_scheduler import ReduceLROnPlateau\n",
    "\n",
    "from scipy.signal import find_peaks\n",
    "from skimage.metrics import structural_similarity as ssim\n",
    "from sklearn.metrics import r2_score\n",
    "import psutil\n",
    "import os\n",
    "import time"
   ]
  },
  {
   "cell_type": "code",
   "execution_count": 2,
   "metadata": {},
   "outputs": [
    {
     "name": "stderr",
     "output_type": "stream",
     "text": [
      "\u001b[34m\u001b[1mwandb\u001b[0m: Currently logged in as: \u001b[33mtr-phan\u001b[0m (\u001b[33mtrphan\u001b[0m) to \u001b[32mhttps://api.wandb.ai\u001b[0m. Use \u001b[1m`wandb login --relogin`\u001b[0m to force relogin\n",
      "\u001b[34m\u001b[1mwandb\u001b[0m: Using wandb-core as the SDK backend.  Please refer to https://wandb.me/wandb-core for more information.\n"
     ]
    },
    {
     "data": {
      "text/html": [
       "Tracking run with wandb version 0.19.6"
      ],
      "text/plain": [
       "<IPython.core.display.HTML object>"
      ]
     },
     "metadata": {},
     "output_type": "display_data"
    },
    {
     "data": {
      "text/html": [
       "Run data is saved locally in <code>d:\\Proton Drive\\My files\\Schule\\Master\\Masterarbeit\\project\\models\\spatial_signal_center_spectrum\\wandb\\run-20250213_013701-b9nv1voh</code>"
      ],
      "text/plain": [
       "<IPython.core.display.HTML object>"
      ]
     },
     "metadata": {},
     "output_type": "display_data"
    },
    {
     "data": {
      "text/html": [
       "Syncing run <strong><a href='https://wandb.ai/trphan/master-multicomponent-mri/runs/b9nv1voh' target=\"_blank\">cnn-central-voxel-improved</a></strong> to <a href='https://wandb.ai/trphan/master-multicomponent-mri' target=\"_blank\">Weights & Biases</a> (<a href='https://wandb.me/developer-guide' target=\"_blank\">docs</a>)<br>"
      ],
      "text/plain": [
       "<IPython.core.display.HTML object>"
      ]
     },
     "metadata": {},
     "output_type": "display_data"
    },
    {
     "data": {
      "text/html": [
       " View project at <a href='https://wandb.ai/trphan/master-multicomponent-mri' target=\"_blank\">https://wandb.ai/trphan/master-multicomponent-mri</a>"
      ],
      "text/plain": [
       "<IPython.core.display.HTML object>"
      ]
     },
     "metadata": {},
     "output_type": "display_data"
    },
    {
     "data": {
      "text/html": [
       " View run at <a href='https://wandb.ai/trphan/master-multicomponent-mri/runs/b9nv1voh' target=\"_blank\">https://wandb.ai/trphan/master-multicomponent-mri/runs/b9nv1voh</a>"
      ],
      "text/plain": [
       "<IPython.core.display.HTML object>"
      ]
     },
     "metadata": {},
     "output_type": "display_data"
    }
   ],
   "source": [
    "wandb.login()\n",
    "# run = wandb.init(project=\"master-multicomponent-mri\", name=\"cnn-central-voxel\")\n",
    "run = wandb.init(project=\"master-multicomponent-mri\", name=\"cnn-central-voxel-improved\")"
   ]
  },
  {
   "cell_type": "code",
   "execution_count": null,
   "metadata": {},
   "outputs": [
    {
     "name": "stdout",
     "output_type": "stream",
     "text": [
      "Shape of input data: (9, 9, 8, 47932)\n",
      "Shape of reference data: (9, 9, 32, 47932)\n"
     ]
    }
   ],
   "source": [
    "data = mat73.loadmat('../../data/training_data_T1_3D_9x9x32x47932_noise0.05.mat')\n",
    "input_noisy_np = data['input_noisy']\n",
    "input_clean_np = data['input']\n",
    "ref_np = data['ref']\n",
    "\n",
    "print(\"Shape of input data:\", input_noisy_np.shape)\n",
    "print(\"Shape of reference data:\", ref_np.shape)"
   ]
  },
  {
   "cell_type": "code",
   "execution_count": 4,
   "metadata": {},
   "outputs": [
    {
     "name": "stdout",
     "output_type": "stream",
     "text": [
      "NaN count in input_noisy before handling: 1635840\n",
      "NaN count in ref before handling: 0\n"
     ]
    }
   ],
   "source": [
    "nan_count_input_noisy_before = np.isnan(input_noisy_np).sum()\n",
    "nan_count_ref_before = np.isnan(ref_np).sum()\n",
    "print(f\"NaN count in input_noisy before handling: {nan_count_input_noisy_before}\")\n",
    "print(f\"NaN count in ref before handling: {nan_count_ref_before}\")"
   ]
  },
  {
   "cell_type": "code",
   "execution_count": 5,
   "metadata": {},
   "outputs": [
    {
     "name": "stdout",
     "output_type": "stream",
     "text": [
      "NaN count in input_noisy after handling: 0\n"
     ]
    }
   ],
   "source": [
    "input_noisy_np = np.nan_to_num(input_noisy_np, nan=0.0)\n",
    "nan_count_input_noisy_after = np.isnan(input_noisy_np).sum()\n",
    "print(f\"NaN count in input_noisy after handling: {nan_count_input_noisy_after}\")"
   ]
  },
  {
   "cell_type": "code",
   "execution_count": null,
   "metadata": {},
   "outputs": [
    {
     "name": "stdout",
     "output_type": "stream",
     "text": [
      "Input shape: (9, 9, 8, 47932)\n",
      "Reference shape: (9, 9, 32, 47932)\n"
     ]
    }
   ],
   "source": [
    "print(\"Input shape:\", input_noisy_np.shape)\n",
    "print(\"Reference shape:\", ref_np.shape)"
   ]
  },
  {
   "cell_type": "code",
   "execution_count": null,
   "metadata": {},
   "outputs": [],
   "source": [
    "class T1PatchDataset(Dataset):\n",
    "    def __init__(self, input_data, target_data):\n",
    "        self.input_data = input_data\n",
    "        self.target_data = target_data[:, :, 4, 4]\n",
    "\n",
    "    def __len__(self):\n",
    "        return len(self.input_data)\n",
    "\n",
    "    def __getitem__(self, idx):\n",
    "        return self.input_data[idx], self.target_data[idx]"
   ]
  },
  {
   "cell_type": "code",
   "execution_count": null,
   "metadata": {},
   "outputs": [],
   "source": [
    "class CentralVoxelCNN(nn.Module):\n",
    "    def __init__(self):\n",
    "        super(CentralVoxelCNN, self).__init__()\n",
    "        \n",
    "        self.conv1 = nn.Conv2d(8, 64, kernel_size=3, padding=1)\n",
    "        self.bn1 = nn.BatchNorm2d(64)\n",
    "        self.relu1 = nn.LeakyReLU(0.1)\n",
    "        \n",
    "        self.conv2 = nn.Conv2d(64, 128, kernel_size=3, padding=1)\n",
    "        self.bn2 = nn.BatchNorm2d(128)\n",
    "        self.relu2 = nn.LeakyReLU(0.1)\n",
    "        \n",
    "        self.conv3 = nn.Conv2d(128, 256, kernel_size=3, padding=1)\n",
    "        self.bn3 = nn.BatchNorm2d(256)\n",
    "        self.relu3 = nn.LeakyReLU(0.1)\n",
    "        \n",
    "        self.global_avg_pool = nn.AdaptiveAvgPool2d(1)\n",
    "        \n",
    "        self.fc1 = nn.Linear(256, 128)\n",
    "        self.fc_relu = nn.LeakyReLU(0.1)\n",
    "        self.fc2 = nn.Linear(128, 32)\n",
    "\n",
    "    def forward(self, x):\n",
    "        x = self.relu1(self.bn1(self.conv1(x)))\n",
    "        x = self.relu2(self.bn2(self.conv2(x)))\n",
    "        x = self.relu3(self.bn3(self.conv3(x)))\n",
    "        \n",
    "        x = self.global_avg_pool(x)\n",
    "        x = x.view(x.size(0), -1)\n",
    "        \n",
    "        x = self.fc_relu(self.fc1(x))\n",
    "        x = self.fc2(x)\n",
    "        \n",
    "        return x"
   ]
  },
  {
   "cell_type": "code",
   "execution_count": null,
   "metadata": {},
   "outputs": [],
   "source": [
    "class EarlyStopping:\n",
    "    def __init__(self, patience=15, min_delta=1e-6, path='saved_models/checkpoint.pt'):\n",
    "        self.patience = patience\n",
    "        self.min_delta = min_delta\n",
    "        self.counter = 0\n",
    "        self.best_loss = None\n",
    "        self.early_stop = False\n",
    "        self.path = path\n",
    "        \n",
    "    def __call__(self, val_loss, model):\n",
    "        if self.best_loss is None:\n",
    "            self.best_loss = val_loss\n",
    "            self.save_checkpoint(model)\n",
    "        elif val_loss > self.best_loss - self.min_delta:\n",
    "            self.counter += 1\n",
    "            print(f'EarlyStopping counter: {self.counter} out of {self.patience}')\n",
    "            if self.counter >= self.patience:\n",
    "                self.early_stop = True\n",
    "        else:\n",
    "            self.best_loss = val_loss\n",
    "            self.save_checkpoint(model)\n",
    "            self.counter = 0\n",
    "\n",
    "    def save_checkpoint(self, model):\n",
    "        torch.save(model.state_dict(), self.path)"
   ]
  },
  {
   "cell_type": "code",
   "execution_count": null,
   "metadata": {},
   "outputs": [],
   "source": [
    "# Transpose the input and reference data to be (N, C, H, W) format\n",
    "input_noisy_torch = np.transpose(input_noisy_np, (3, 2, 0, 1))\n",
    "ref_torch = np.transpose(ref_np, (3, 2, 0, 1))\n",
    "\n",
    "input_noisy_torch = torch.tensor(input_noisy_torch, dtype=torch.float32)\n",
    "ref_torch = torch.tensor(ref_torch, dtype=torch.float32)"
   ]
  },
  {
   "cell_type": "code",
   "execution_count": 11,
   "metadata": {},
   "outputs": [
    {
     "name": "stdout",
     "output_type": "stream",
     "text": [
      "Input tensor shape: torch.Size([47932, 8, 9, 9])\n",
      "Reference tensor shape: torch.Size([47932, 32, 9, 9])\n"
     ]
    }
   ],
   "source": [
    "print(\"Input tensor shape:\", input_noisy_torch.shape)\n",
    "print(\"Reference tensor shape:\", ref_torch.shape)"
   ]
  },
  {
   "cell_type": "code",
   "execution_count": null,
   "metadata": {},
   "outputs": [],
   "source": [
    "# Create Dataset\n",
    "dataset = T1PatchDataset(input_noisy_torch, ref_torch)\n",
    "\n",
    "# Split dataset\n",
    "train_size = int(0.8 * len(dataset))\n",
    "val_size = len(dataset) - train_size\n",
    "train_dataset, val_dataset = random_split(dataset, [train_size, val_size])\n",
    "\n",
    "# Create DataLoaders\n",
    "batch_size = 64\n",
    "train_loader = DataLoader(train_dataset, batch_size=batch_size, shuffle=True)\n",
    "val_loader = DataLoader(val_dataset, batch_size=batch_size, shuffle=False)"
   ]
  },
  {
   "cell_type": "code",
   "execution_count": null,
   "metadata": {},
   "outputs": [
    {
     "name": "stdout",
     "output_type": "stream",
     "text": [
      "Sample input shape: torch.Size([8, 9, 9])\n",
      "Sample target shape: torch.Size([32])\n"
     ]
    }
   ],
   "source": [
    "sample_input, sample_target = dataset[0]\n",
    "print(\"Sample input shape:\", sample_input.shape)\n",
    "print(\"Sample target shape:\", sample_target.shape)"
   ]
  },
  {
   "cell_type": "code",
   "execution_count": null,
   "metadata": {},
   "outputs": [
    {
     "name": "stderr",
     "output_type": "stream",
     "text": [
      "d:\\Proton Drive\\My files\\Schule\\Master\\Masterarbeit\\project\\.venv\\Lib\\site-packages\\torch\\optim\\lr_scheduler.py:60: UserWarning: The verbose parameter is deprecated. Please use get_last_lr() to access the learning rate.\n",
      "  warnings.warn(\n"
     ]
    }
   ],
   "source": [
    "# Training Setup \n",
    "device = torch.device(\"cuda\" if torch.cuda.is_available() else \"cpu\")\n",
    "model = CentralVoxelCNN().to(device)\n",
    "criterion = nn.MSELoss()\n",
    "optimizer = optim.Adam(model.parameters(), lr=0.001)\n",
    "scheduler = ReduceLROnPlateau(optimizer, mode='min', factor=0.5, patience=10, verbose=True)\n",
    "early_stopping = EarlyStopping(patience=15, path='best_cnn_model.pt')\n",
    "\n",
    "num_epochs = 200"
   ]
  },
  {
   "cell_type": "code",
   "execution_count": 15,
   "metadata": {},
   "outputs": [],
   "source": [
    "# Log configuration\n",
    "wandb.config.update({\n",
    "    \"learning_rate\": 0.001,\n",
    "    \"batch_size\": batch_size,\n",
    "    \"epochs\": num_epochs,\n",
    "    \"architecture\": \"CentralVoxelCNN\",\n",
    "    \"optimizer\": \"Adam\",\n",
    "    \"loss_function\": \"MSELoss\",\n",
    "    \"scheduler\": \"ReduceLROnPlateau\",\n",
    "    \"early_stopping_patience\": 15\n",
    "})"
   ]
  },
  {
   "cell_type": "code",
   "execution_count": 16,
   "metadata": {},
   "outputs": [
    {
     "name": "stderr",
     "output_type": "stream",
     "text": [
      "Epoch [1/200] Training: 100%|██████████| 600/600 [00:03<00:00, 162.83it/s, loss=0.00247]\n",
      "Epoch [1/200] Validation: 100%|██████████| 150/150 [00:00<00:00, 356.65it/s, loss=0.003]  \n"
     ]
    },
    {
     "name": "stdout",
     "output_type": "stream",
     "text": [
      "Epoch [1/200], Train Loss: 0.002963809575885534, Val Loss: 0.003171193703698615, LR: 0.001\n"
     ]
    },
    {
     "name": "stderr",
     "output_type": "stream",
     "text": [
      "Epoch [2/200] Training: 100%|██████████| 600/600 [00:03<00:00, 169.37it/s, loss=0.00161]\n",
      "Epoch [2/200] Validation: 100%|██████████| 150/150 [00:00<00:00, 399.25it/s, loss=0.00531]\n"
     ]
    },
    {
     "name": "stdout",
     "output_type": "stream",
     "text": [
      "EarlyStopping counter: 1 out of 15\n",
      "Epoch [2/200], Train Loss: 0.0025456567485040676, Val Loss: 0.005294607396547993, LR: 0.001\n"
     ]
    },
    {
     "name": "stderr",
     "output_type": "stream",
     "text": [
      "Epoch [3/200] Training: 100%|██████████| 600/600 [00:04<00:00, 144.53it/s, loss=0.00364]\n",
      "Epoch [3/200] Validation: 100%|██████████| 150/150 [00:00<00:00, 352.13it/s, loss=0.00229]\n"
     ]
    },
    {
     "name": "stdout",
     "output_type": "stream",
     "text": [
      "Epoch [3/200], Train Loss: 0.002439268066858252, Val Loss: 0.0024661819729954004, LR: 0.001\n"
     ]
    },
    {
     "name": "stderr",
     "output_type": "stream",
     "text": [
      "Epoch [4/200] Training: 100%|██████████| 600/600 [00:03<00:00, 165.07it/s, loss=0.00307]\n",
      "Epoch [4/200] Validation: 100%|██████████| 150/150 [00:00<00:00, 397.34it/s, loss=0.0027] \n"
     ]
    },
    {
     "name": "stdout",
     "output_type": "stream",
     "text": [
      "EarlyStopping counter: 1 out of 15\n",
      "Epoch [4/200], Train Loss: 0.0023795558698475362, Val Loss: 0.0028339844522997735, LR: 0.001\n"
     ]
    },
    {
     "name": "stderr",
     "output_type": "stream",
     "text": [
      "Epoch [5/200] Training: 100%|██████████| 600/600 [00:03<00:00, 177.79it/s, loss=0.00102]\n",
      "Epoch [5/200] Validation: 100%|██████████| 150/150 [00:00<00:00, 377.17it/s, loss=0.00213]\n"
     ]
    },
    {
     "name": "stdout",
     "output_type": "stream",
     "text": [
      "Epoch [5/200], Train Loss: 0.002312479002090792, Val Loss: 0.0023011919398171206, LR: 0.001\n"
     ]
    },
    {
     "name": "stderr",
     "output_type": "stream",
     "text": [
      "Epoch [6/200] Training: 100%|██████████| 600/600 [00:03<00:00, 169.21it/s, loss=0.00335]\n",
      "Epoch [6/200] Validation: 100%|██████████| 150/150 [00:00<00:00, 387.99it/s, loss=0.00231]\n"
     ]
    },
    {
     "name": "stdout",
     "output_type": "stream",
     "text": [
      "EarlyStopping counter: 1 out of 15\n",
      "Epoch [6/200], Train Loss: 0.002281767266298023, Val Loss: 0.002400356864091009, LR: 0.001\n"
     ]
    },
    {
     "name": "stderr",
     "output_type": "stream",
     "text": [
      "Epoch [7/200] Training: 100%|██████████| 600/600 [00:03<00:00, 178.45it/s, loss=0.00208]\n",
      "Epoch [7/200] Validation: 100%|██████████| 150/150 [00:00<00:00, 376.02it/s, loss=0.00226]\n"
     ]
    },
    {
     "name": "stdout",
     "output_type": "stream",
     "text": [
      "EarlyStopping counter: 2 out of 15\n",
      "Epoch [7/200], Train Loss: 0.0022573133090433356, Val Loss: 0.0026105491925651828, LR: 0.001\n"
     ]
    },
    {
     "name": "stderr",
     "output_type": "stream",
     "text": [
      "Epoch [8/200] Training: 100%|██████████| 600/600 [00:03<00:00, 169.03it/s, loss=0.00246]\n",
      "Epoch [8/200] Validation: 100%|██████████| 150/150 [00:00<00:00, 355.53it/s, loss=0.00213]\n"
     ]
    },
    {
     "name": "stdout",
     "output_type": "stream",
     "text": [
      "Epoch [8/200], Train Loss: 0.0022150456763726347, Val Loss: 0.0022681829946426054, LR: 0.001\n"
     ]
    },
    {
     "name": "stderr",
     "output_type": "stream",
     "text": [
      "Epoch [9/200] Training: 100%|██████████| 600/600 [00:03<00:00, 164.19it/s, loss=0.00416]\n",
      "Epoch [9/200] Validation: 100%|██████████| 150/150 [00:00<00:00, 390.53it/s, loss=0.00218]\n"
     ]
    },
    {
     "name": "stdout",
     "output_type": "stream",
     "text": [
      "EarlyStopping counter: 1 out of 15\n",
      "Epoch [9/200], Train Loss: 0.002201443048543297, Val Loss: 0.0025218217990671597, LR: 0.001\n"
     ]
    },
    {
     "name": "stderr",
     "output_type": "stream",
     "text": [
      "Epoch [10/200] Training: 100%|██████████| 600/600 [00:03<00:00, 170.12it/s, loss=0.00188]\n",
      "Epoch [10/200] Validation: 100%|██████████| 150/150 [00:00<00:00, 365.94it/s, loss=0.00212]\n"
     ]
    },
    {
     "name": "stdout",
     "output_type": "stream",
     "text": [
      "EarlyStopping counter: 2 out of 15\n",
      "Epoch [10/200], Train Loss: 0.0021719510205245266, Val Loss: 0.0022967683880900343, LR: 0.001\n"
     ]
    },
    {
     "name": "stderr",
     "output_type": "stream",
     "text": [
      "Epoch [11/200] Training: 100%|██████████| 600/600 [00:03<00:00, 170.80it/s, loss=0.00223]\n",
      "Epoch [11/200] Validation: 100%|██████████| 150/150 [00:00<00:00, 338.35it/s, loss=0.00213]\n"
     ]
    },
    {
     "name": "stdout",
     "output_type": "stream",
     "text": [
      "EarlyStopping counter: 3 out of 15\n",
      "Epoch [11/200], Train Loss: 0.0021553970355307683, Val Loss: 0.0022755646348620456, LR: 0.001\n"
     ]
    },
    {
     "name": "stderr",
     "output_type": "stream",
     "text": [
      "Epoch [12/200] Training: 100%|██████████| 600/600 [00:03<00:00, 160.59it/s, loss=0.00307]\n",
      "Epoch [12/200] Validation: 100%|██████████| 150/150 [00:00<00:00, 375.14it/s, loss=0.00285]\n"
     ]
    },
    {
     "name": "stdout",
     "output_type": "stream",
     "text": [
      "EarlyStopping counter: 4 out of 15\n",
      "Epoch [12/200], Train Loss: 0.0021298986421121905, Val Loss: 0.0029073171488319836, LR: 0.001\n"
     ]
    },
    {
     "name": "stderr",
     "output_type": "stream",
     "text": [
      "Epoch [13/200] Training: 100%|██████████| 600/600 [00:03<00:00, 159.95it/s, loss=0.00143]\n",
      "Epoch [13/200] Validation: 100%|██████████| 150/150 [00:00<00:00, 350.28it/s, loss=0.00238]\n"
     ]
    },
    {
     "name": "stdout",
     "output_type": "stream",
     "text": [
      "EarlyStopping counter: 5 out of 15\n",
      "Epoch [13/200], Train Loss: 0.0021034620323916895, Val Loss: 0.0026131172198802233, LR: 0.001\n"
     ]
    },
    {
     "name": "stderr",
     "output_type": "stream",
     "text": [
      "Epoch [14/200] Training: 100%|██████████| 600/600 [00:03<00:00, 170.37it/s, loss=0.00165]\n",
      "Epoch [14/200] Validation: 100%|██████████| 150/150 [00:00<00:00, 347.99it/s, loss=0.00227]\n"
     ]
    },
    {
     "name": "stdout",
     "output_type": "stream",
     "text": [
      "EarlyStopping counter: 6 out of 15\n",
      "Epoch [14/200], Train Loss: 0.0020983807160519065, Val Loss: 0.0024753436213359238, LR: 0.001\n"
     ]
    },
    {
     "name": "stderr",
     "output_type": "stream",
     "text": [
      "Epoch [15/200] Training: 100%|██████████| 600/600 [00:03<00:00, 169.46it/s, loss=0.00144]\n",
      "Epoch [15/200] Validation: 100%|██████████| 150/150 [00:00<00:00, 362.72it/s, loss=0.00217]\n"
     ]
    },
    {
     "name": "stdout",
     "output_type": "stream",
     "text": [
      "EarlyStopping counter: 7 out of 15\n",
      "Epoch [15/200], Train Loss: 0.0020788625792677825, Val Loss: 0.0024030123092234133, LR: 0.001\n"
     ]
    },
    {
     "name": "stderr",
     "output_type": "stream",
     "text": [
      "Epoch [16/200] Training: 100%|██████████| 600/600 [00:03<00:00, 159.13it/s, loss=0.00182]\n",
      "Epoch [16/200] Validation: 100%|██████████| 150/150 [00:00<00:00, 328.20it/s, loss=0.00177]\n"
     ]
    },
    {
     "name": "stdout",
     "output_type": "stream",
     "text": [
      "Epoch [16/200], Train Loss: 0.0020649178275683275, Val Loss: 0.002052275164363285, LR: 0.001\n"
     ]
    },
    {
     "name": "stderr",
     "output_type": "stream",
     "text": [
      "Epoch [17/200] Training: 100%|██████████| 600/600 [00:03<00:00, 170.26it/s, loss=0.00188]\n",
      "Epoch [17/200] Validation: 100%|██████████| 150/150 [00:00<00:00, 379.00it/s, loss=0.00222]\n"
     ]
    },
    {
     "name": "stdout",
     "output_type": "stream",
     "text": [
      "EarlyStopping counter: 1 out of 15\n",
      "Epoch [17/200], Train Loss: 0.0020519772748230024, Val Loss: 0.002465109683107585, LR: 0.001\n"
     ]
    },
    {
     "name": "stderr",
     "output_type": "stream",
     "text": [
      "Epoch [18/200] Training: 100%|██████████| 600/600 [00:03<00:00, 161.36it/s, loss=0.00202]\n",
      "Epoch [18/200] Validation: 100%|██████████| 150/150 [00:00<00:00, 363.80it/s, loss=0.00226]\n"
     ]
    },
    {
     "name": "stdout",
     "output_type": "stream",
     "text": [
      "EarlyStopping counter: 2 out of 15\n",
      "Epoch [18/200], Train Loss: 0.0020404904564687363, Val Loss: 0.002399149208019177, LR: 0.001\n"
     ]
    },
    {
     "name": "stderr",
     "output_type": "stream",
     "text": [
      "Epoch [19/200] Training: 100%|██████████| 600/600 [00:03<00:00, 168.82it/s, loss=0.00256]\n",
      "Epoch [19/200] Validation: 100%|██████████| 150/150 [00:00<00:00, 349.45it/s, loss=0.00186]\n"
     ]
    },
    {
     "name": "stdout",
     "output_type": "stream",
     "text": [
      "EarlyStopping counter: 3 out of 15\n",
      "Epoch [19/200], Train Loss: 0.002026039866032079, Val Loss: 0.002239286305848509, LR: 0.001\n"
     ]
    },
    {
     "name": "stderr",
     "output_type": "stream",
     "text": [
      "Epoch [20/200] Training: 100%|██████████| 600/600 [00:03<00:00, 166.18it/s, loss=0.002]  \n",
      "Epoch [20/200] Validation: 100%|██████████| 150/150 [00:00<00:00, 365.92it/s, loss=0.00168]\n"
     ]
    },
    {
     "name": "stdout",
     "output_type": "stream",
     "text": [
      "Epoch [20/200], Train Loss: 0.002009338223724626, Val Loss: 0.0020072407609162232, LR: 0.001\n"
     ]
    },
    {
     "name": "stderr",
     "output_type": "stream",
     "text": [
      "Epoch [21/200] Training: 100%|██████████| 600/600 [00:03<00:00, 166.37it/s, loss=0.00212]\n",
      "Epoch [21/200] Validation: 100%|██████████| 150/150 [00:00<00:00, 362.76it/s, loss=0.00194]\n"
     ]
    },
    {
     "name": "stdout",
     "output_type": "stream",
     "text": [
      "EarlyStopping counter: 1 out of 15\n",
      "Epoch [21/200], Train Loss: 0.0019926350336754695, Val Loss: 0.0020672335017782946, LR: 0.001\n"
     ]
    },
    {
     "name": "stderr",
     "output_type": "stream",
     "text": [
      "Epoch [22/200] Training: 100%|██████████| 600/600 [00:03<00:00, 166.42it/s, loss=0.00202]\n",
      "Epoch [22/200] Validation: 100%|██████████| 150/150 [00:00<00:00, 364.03it/s, loss=0.00176]\n"
     ]
    },
    {
     "name": "stdout",
     "output_type": "stream",
     "text": [
      "EarlyStopping counter: 2 out of 15\n",
      "Epoch [22/200], Train Loss: 0.001990419764770195, Val Loss: 0.002070311224864175, LR: 0.001\n"
     ]
    },
    {
     "name": "stderr",
     "output_type": "stream",
     "text": [
      "Epoch [23/200] Training: 100%|██████████| 600/600 [00:03<00:00, 167.80it/s, loss=0.00132]\n",
      "Epoch [23/200] Validation: 100%|██████████| 150/150 [00:00<00:00, 366.02it/s, loss=0.00186]\n"
     ]
    },
    {
     "name": "stdout",
     "output_type": "stream",
     "text": [
      "EarlyStopping counter: 3 out of 15\n",
      "Epoch [23/200], Train Loss: 0.001964899570836375, Val Loss: 0.002235096409761657, LR: 0.001\n"
     ]
    },
    {
     "name": "stderr",
     "output_type": "stream",
     "text": [
      "Epoch [24/200] Training: 100%|██████████| 600/600 [00:03<00:00, 166.50it/s, loss=0.00151]\n",
      "Epoch [24/200] Validation: 100%|██████████| 150/150 [00:00<00:00, 354.30it/s, loss=0.00216]\n"
     ]
    },
    {
     "name": "stdout",
     "output_type": "stream",
     "text": [
      "EarlyStopping counter: 4 out of 15\n",
      "Epoch [24/200], Train Loss: 0.0019656275315598276, Val Loss: 0.0022871769467989606, LR: 0.001\n"
     ]
    },
    {
     "name": "stderr",
     "output_type": "stream",
     "text": [
      "Epoch [25/200] Training: 100%|██████████| 600/600 [00:03<00:00, 168.98it/s, loss=0.00217]\n",
      "Epoch [25/200] Validation: 100%|██████████| 150/150 [00:00<00:00, 376.67it/s, loss=0.00194]\n"
     ]
    },
    {
     "name": "stdout",
     "output_type": "stream",
     "text": [
      "EarlyStopping counter: 5 out of 15\n",
      "Epoch [25/200], Train Loss: 0.001950851565343328, Val Loss: 0.0021779353528593977, LR: 0.001\n"
     ]
    },
    {
     "name": "stderr",
     "output_type": "stream",
     "text": [
      "Epoch [26/200] Training: 100%|██████████| 600/600 [00:03<00:00, 166.49it/s, loss=0.00251]\n",
      "Epoch [26/200] Validation: 100%|██████████| 150/150 [00:00<00:00, 344.02it/s, loss=0.00198]\n"
     ]
    },
    {
     "name": "stdout",
     "output_type": "stream",
     "text": [
      "EarlyStopping counter: 6 out of 15\n",
      "Epoch [26/200], Train Loss: 0.0019336041416196774, Val Loss: 0.002163294720618675, LR: 0.001\n"
     ]
    },
    {
     "name": "stderr",
     "output_type": "stream",
     "text": [
      "Epoch [27/200] Training: 100%|██████████| 600/600 [00:03<00:00, 169.16it/s, loss=0.00233]\n",
      "Epoch [27/200] Validation: 100%|██████████| 150/150 [00:00<00:00, 371.36it/s, loss=0.00168]\n"
     ]
    },
    {
     "name": "stdout",
     "output_type": "stream",
     "text": [
      "EarlyStopping counter: 7 out of 15\n",
      "Epoch [27/200], Train Loss: 0.001928602296199339, Val Loss: 0.0020612311378742257, LR: 0.001\n"
     ]
    },
    {
     "name": "stderr",
     "output_type": "stream",
     "text": [
      "Epoch [28/200] Training: 100%|██████████| 600/600 [00:03<00:00, 173.01it/s, loss=0.00226]\n",
      "Epoch [28/200] Validation: 100%|██████████| 150/150 [00:00<00:00, 366.28it/s, loss=0.00179]\n"
     ]
    },
    {
     "name": "stdout",
     "output_type": "stream",
     "text": [
      "EarlyStopping counter: 8 out of 15\n",
      "Epoch [28/200], Train Loss: 0.0019121758952193584, Val Loss: 0.002030366053028653, LR: 0.001\n"
     ]
    },
    {
     "name": "stderr",
     "output_type": "stream",
     "text": [
      "Epoch [29/200] Training: 100%|██████████| 600/600 [00:03<00:00, 170.53it/s, loss=0.00192]\n",
      "Epoch [29/200] Validation: 100%|██████████| 150/150 [00:00<00:00, 362.77it/s, loss=0.00166]\n"
     ]
    },
    {
     "name": "stdout",
     "output_type": "stream",
     "text": [
      "EarlyStopping counter: 9 out of 15\n",
      "Epoch [29/200], Train Loss: 0.001898663128959015, Val Loss: 0.002028367515498151, LR: 0.001\n"
     ]
    },
    {
     "name": "stderr",
     "output_type": "stream",
     "text": [
      "Epoch [30/200] Training: 100%|██████████| 600/600 [00:03<00:00, 168.97it/s, loss=0.00157]\n",
      "Epoch [30/200] Validation: 100%|██████████| 150/150 [00:00<00:00, 375.06it/s, loss=0.00184]\n"
     ]
    },
    {
     "name": "stdout",
     "output_type": "stream",
     "text": [
      "EarlyStopping counter: 10 out of 15\n",
      "Epoch [30/200], Train Loss: 0.0018854567053494975, Val Loss: 0.0020416036069703597, LR: 0.001\n"
     ]
    },
    {
     "name": "stderr",
     "output_type": "stream",
     "text": [
      "Epoch [31/200] Training: 100%|██████████| 600/600 [00:03<00:00, 173.31it/s, loss=0.00194]\n",
      "Epoch [31/200] Validation: 100%|██████████| 150/150 [00:00<00:00, 376.21it/s, loss=0.00166]\n"
     ]
    },
    {
     "name": "stdout",
     "output_type": "stream",
     "text": [
      "EarlyStopping counter: 11 out of 15\n",
      "Epoch [31/200], Train Loss: 0.0018828419035223003, Val Loss: 0.0020567401389901836, LR: 0.0005\n"
     ]
    },
    {
     "name": "stderr",
     "output_type": "stream",
     "text": [
      "Epoch [32/200] Training: 100%|██████████| 600/600 [00:03<00:00, 165.92it/s, loss=0.00518]\n",
      "Epoch [32/200] Validation: 100%|██████████| 150/150 [00:00<00:00, 349.58it/s, loss=0.0019] \n"
     ]
    },
    {
     "name": "stdout",
     "output_type": "stream",
     "text": [
      "EarlyStopping counter: 12 out of 15\n",
      "Epoch [32/200], Train Loss: 0.0017984312941553072, Val Loss: 0.002062102246563882, LR: 0.0005\n"
     ]
    },
    {
     "name": "stderr",
     "output_type": "stream",
     "text": [
      "Epoch [33/200] Training: 100%|██████████| 600/600 [00:03<00:00, 166.76it/s, loss=0.00182]\n",
      "Epoch [33/200] Validation: 100%|██████████| 150/150 [00:00<00:00, 358.76it/s, loss=0.00166]\n"
     ]
    },
    {
     "name": "stdout",
     "output_type": "stream",
     "text": [
      "Epoch [33/200], Train Loss: 0.001777612137569425, Val Loss: 0.0019105448240103822, LR: 0.0005\n"
     ]
    },
    {
     "name": "stderr",
     "output_type": "stream",
     "text": [
      "Epoch [34/200] Training: 100%|██████████| 600/600 [00:03<00:00, 166.14it/s, loss=0.00172]\n",
      "Epoch [34/200] Validation: 100%|██████████| 150/150 [00:00<00:00, 371.52it/s, loss=0.00178]\n"
     ]
    },
    {
     "name": "stdout",
     "output_type": "stream",
     "text": [
      "EarlyStopping counter: 1 out of 15\n",
      "Epoch [34/200], Train Loss: 0.0017657588437820474, Val Loss: 0.0019787082937546075, LR: 0.0005\n"
     ]
    },
    {
     "name": "stderr",
     "output_type": "stream",
     "text": [
      "Epoch [35/200] Training: 100%|██████████| 600/600 [00:03<00:00, 167.50it/s, loss=0.00207]\n",
      "Epoch [35/200] Validation: 100%|██████████| 150/150 [00:00<00:00, 374.58it/s, loss=0.00154]\n"
     ]
    },
    {
     "name": "stdout",
     "output_type": "stream",
     "text": [
      "EarlyStopping counter: 2 out of 15\n",
      "Epoch [35/200], Train Loss: 0.0017522084802233924, Val Loss: 0.001956563281516234, LR: 0.0005\n"
     ]
    },
    {
     "name": "stderr",
     "output_type": "stream",
     "text": [
      "Epoch [36/200] Training: 100%|██████████| 600/600 [00:03<00:00, 161.98it/s, loss=0.00113]\n",
      "Epoch [36/200] Validation: 100%|██████████| 150/150 [00:00<00:00, 368.04it/s, loss=0.00168]\n"
     ]
    },
    {
     "name": "stdout",
     "output_type": "stream",
     "text": [
      "EarlyStopping counter: 3 out of 15\n",
      "Epoch [36/200], Train Loss: 0.0017424363976654908, Val Loss: 0.0019150670097830395, LR: 0.0005\n"
     ]
    },
    {
     "name": "stderr",
     "output_type": "stream",
     "text": [
      "Epoch [37/200] Training: 100%|██████████| 600/600 [00:03<00:00, 163.84it/s, loss=0.00139]\n",
      "Epoch [37/200] Validation: 100%|██████████| 150/150 [00:00<00:00, 367.37it/s, loss=0.00182]\n"
     ]
    },
    {
     "name": "stdout",
     "output_type": "stream",
     "text": [
      "EarlyStopping counter: 4 out of 15\n",
      "Epoch [37/200], Train Loss: 0.001732029581714111, Val Loss: 0.002009929805062711, LR: 0.0005\n"
     ]
    },
    {
     "name": "stderr",
     "output_type": "stream",
     "text": [
      "Epoch [38/200] Training: 100%|██████████| 600/600 [00:03<00:00, 164.25it/s, loss=0.0018] \n",
      "Epoch [38/200] Validation: 100%|██████████| 150/150 [00:00<00:00, 368.08it/s, loss=0.00154]\n"
     ]
    },
    {
     "name": "stdout",
     "output_type": "stream",
     "text": [
      "EarlyStopping counter: 5 out of 15\n",
      "Epoch [38/200], Train Loss: 0.0017192787723615765, Val Loss: 0.0020189201831817627, LR: 0.0005\n"
     ]
    },
    {
     "name": "stderr",
     "output_type": "stream",
     "text": [
      "Epoch [39/200] Training: 100%|██████████| 600/600 [00:03<00:00, 167.22it/s, loss=0.00202]\n",
      "Epoch [39/200] Validation: 100%|██████████| 150/150 [00:00<00:00, 330.22it/s, loss=0.00179]\n"
     ]
    },
    {
     "name": "stdout",
     "output_type": "stream",
     "text": [
      "EarlyStopping counter: 6 out of 15\n",
      "Epoch [39/200], Train Loss: 0.001707538822083734, Val Loss: 0.0020774403975034753, LR: 0.0005\n"
     ]
    },
    {
     "name": "stderr",
     "output_type": "stream",
     "text": [
      "Epoch [40/200] Training: 100%|██████████| 600/600 [00:03<00:00, 155.88it/s, loss=0.00195]\n",
      "Epoch [40/200] Validation: 100%|██████████| 150/150 [00:00<00:00, 300.89it/s, loss=0.00167]\n"
     ]
    },
    {
     "name": "stdout",
     "output_type": "stream",
     "text": [
      "EarlyStopping counter: 7 out of 15\n",
      "Epoch [40/200], Train Loss: 0.0016966568071317548, Val Loss: 0.0019143693133567771, LR: 0.0005\n"
     ]
    },
    {
     "name": "stderr",
     "output_type": "stream",
     "text": [
      "Epoch [41/200] Training: 100%|██████████| 600/600 [00:03<00:00, 163.74it/s, loss=0.00195]\n",
      "Epoch [41/200] Validation: 100%|██████████| 150/150 [00:00<00:00, 362.72it/s, loss=0.00165]\n"
     ]
    },
    {
     "name": "stdout",
     "output_type": "stream",
     "text": [
      "EarlyStopping counter: 8 out of 15\n",
      "Epoch [41/200], Train Loss: 0.0016906949825352057, Val Loss: 0.001968431448719154, LR: 0.0005\n"
     ]
    },
    {
     "name": "stderr",
     "output_type": "stream",
     "text": [
      "Epoch [42/200] Training: 100%|██████████| 600/600 [00:03<00:00, 165.94it/s, loss=0.00213]\n",
      "Epoch [42/200] Validation: 100%|██████████| 150/150 [00:00<00:00, 359.32it/s, loss=0.00166]\n"
     ]
    },
    {
     "name": "stdout",
     "output_type": "stream",
     "text": [
      "EarlyStopping counter: 9 out of 15\n",
      "Epoch [42/200], Train Loss: 0.001682342097046785, Val Loss: 0.0019282480267186959, LR: 0.0005\n"
     ]
    },
    {
     "name": "stderr",
     "output_type": "stream",
     "text": [
      "Epoch [43/200] Training: 100%|██████████| 600/600 [00:03<00:00, 169.74it/s, loss=0.00234]\n",
      "Epoch [43/200] Validation: 100%|██████████| 150/150 [00:00<00:00, 362.05it/s, loss=0.00177]\n"
     ]
    },
    {
     "name": "stdout",
     "output_type": "stream",
     "text": [
      "EarlyStopping counter: 10 out of 15\n",
      "Epoch [43/200], Train Loss: 0.0016706252685980871, Val Loss: 0.0020720713182042043, LR: 0.0005\n"
     ]
    },
    {
     "name": "stderr",
     "output_type": "stream",
     "text": [
      "Epoch [44/200] Training: 100%|██████████| 600/600 [00:03<00:00, 171.34it/s, loss=0.00192]\n",
      "Epoch [44/200] Validation: 100%|██████████| 150/150 [00:00<00:00, 364.39it/s, loss=0.00206]\n"
     ]
    },
    {
     "name": "stdout",
     "output_type": "stream",
     "text": [
      "EarlyStopping counter: 11 out of 15\n",
      "Epoch [44/200], Train Loss: 0.0016558647776643435, Val Loss: 0.0022041086774940294, LR: 0.00025\n"
     ]
    },
    {
     "name": "stderr",
     "output_type": "stream",
     "text": [
      "Epoch [45/200] Training: 100%|██████████| 600/600 [00:03<00:00, 171.75it/s, loss=0.00176]\n",
      "Epoch [45/200] Validation: 100%|██████████| 150/150 [00:00<00:00, 363.65it/s, loss=0.00169]\n"
     ]
    },
    {
     "name": "stdout",
     "output_type": "stream",
     "text": [
      "EarlyStopping counter: 12 out of 15\n",
      "Epoch [45/200], Train Loss: 0.0015880166648033385, Val Loss: 0.0019142010776946941, LR: 0.00025\n"
     ]
    },
    {
     "name": "stderr",
     "output_type": "stream",
     "text": [
      "Epoch [46/200] Training: 100%|██████████| 600/600 [00:03<00:00, 163.24it/s, loss=0.00158]\n",
      "Epoch [46/200] Validation: 100%|██████████| 150/150 [00:00<00:00, 365.36it/s, loss=0.0016] \n"
     ]
    },
    {
     "name": "stdout",
     "output_type": "stream",
     "text": [
      "EarlyStopping counter: 13 out of 15\n",
      "Epoch [46/200], Train Loss: 0.0015778343965454648, Val Loss: 0.0019260060717351734, LR: 0.00025\n"
     ]
    },
    {
     "name": "stderr",
     "output_type": "stream",
     "text": [
      "Epoch [47/200] Training: 100%|██████████| 600/600 [00:03<00:00, 167.58it/s, loss=0.00266]\n",
      "Epoch [47/200] Validation: 100%|██████████| 150/150 [00:00<00:00, 359.40it/s, loss=0.00169]\n"
     ]
    },
    {
     "name": "stdout",
     "output_type": "stream",
     "text": [
      "EarlyStopping counter: 14 out of 15\n",
      "Epoch [47/200], Train Loss: 0.001567975948176657, Val Loss: 0.0019304316832373539, LR: 0.00025\n"
     ]
    },
    {
     "name": "stderr",
     "output_type": "stream",
     "text": [
      "Epoch [48/200] Training: 100%|██████████| 600/600 [00:03<00:00, 169.12it/s, loss=0.00292]\n",
      "Epoch [48/200] Validation: 100%|██████████| 150/150 [00:00<00:00, 371.45it/s, loss=0.00158]"
     ]
    },
    {
     "name": "stdout",
     "output_type": "stream",
     "text": [
      "EarlyStopping counter: 15 out of 15\n",
      "Epoch [48/200], Train Loss: 0.0015573535133929302, Val Loss: 0.0019270573385680716, LR: 0.00025\n",
      "Early stopping triggered\n",
      "Training finished\n"
     ]
    },
    {
     "name": "stderr",
     "output_type": "stream",
     "text": [
      "\n"
     ]
    }
   ],
   "source": [
    "# Training loop\n",
    "best_val_loss = float('inf')\n",
    "\n",
    "for epoch in range(num_epochs):\n",
    "    # Training phase\n",
    "    model.train()\n",
    "    train_loss = 0.0\n",
    "    progress_bar_train = tqdm(train_loader, desc=f'Epoch [{epoch+1}/{num_epochs}] Training')\n",
    "    \n",
    "    for inputs, targets in progress_bar_train:\n",
    "        inputs, targets = inputs.to(device), targets.to(device)\n",
    "        \n",
    "        optimizer.zero_grad()\n",
    "        outputs = model(inputs)\n",
    "        loss = criterion(outputs, targets)\n",
    "        loss.backward()\n",
    "        \n",
    "        # Gradient clipping\n",
    "        torch.nn.utils.clip_grad_norm_(model.parameters(), max_norm=1.0)\n",
    "        \n",
    "        optimizer.step()\n",
    "        train_loss += loss.item()\n",
    "        progress_bar_train.set_postfix({'loss': loss.item()})\n",
    "\n",
    "    avg_train_loss = train_loss / len(train_loader)\n",
    "\n",
    "    # Validation phase\n",
    "    model.eval()\n",
    "    val_loss = 0.0\n",
    "    progress_bar_val = tqdm(val_loader, desc=f'Epoch [{epoch+1}/{num_epochs}] Validation')\n",
    "    \n",
    "    with torch.no_grad():\n",
    "        for inputs, targets in progress_bar_val:\n",
    "            inputs, targets = inputs.to(device), targets.to(device)\n",
    "            outputs = model(inputs)\n",
    "            loss = criterion(outputs, targets)\n",
    "            val_loss += loss.item()\n",
    "            progress_bar_val.set_postfix({'loss': loss.item()})\n",
    "\n",
    "    avg_val_loss = val_loss / len(val_loader)\n",
    "\n",
    "    # Learning rate scheduling\n",
    "    scheduler.step(avg_val_loss)\n",
    "    current_lr = optimizer.param_groups[0]['lr']\n",
    "\n",
    "    # Early stopping\n",
    "    early_stopping(avg_val_loss, model)\n",
    "\n",
    "    # Logging\n",
    "    wandb.log({\n",
    "        \"epoch\": epoch + 1,\n",
    "        \"train_loss\": avg_train_loss,\n",
    "        \"val_loss\": avg_val_loss,\n",
    "        \"learning_rate\": current_lr\n",
    "    })\n",
    "\n",
    "    print(f'Epoch [{epoch+1}/{num_epochs}], Train Loss: {avg_train_loss}, Val Loss: {avg_val_loss}, LR: {current_lr}')\n",
    "\n",
    "    if early_stopping.early_stop:\n",
    "        print(\"Early stopping triggered\")\n",
    "        break\n",
    "\n",
    "print(\"Training finished\")"
   ]
  },
  {
   "cell_type": "code",
   "execution_count": 17,
   "metadata": {},
   "outputs": [],
   "source": [
    "# Load the saved model\n",
    "# model.load_state_dict(torch.load('best_cnn_model.pt'))\n",
    "# model.eval()"
   ]
  },
  {
   "cell_type": "code",
   "execution_count": 18,
   "metadata": {},
   "outputs": [],
   "source": [
    "def calculate_psnr(target, prediction):\n",
    "    \"\"\"Calculate Peak Signal-to-Noise Ratio\"\"\"\n",
    "    mse = np.mean((target - prediction) ** 2)\n",
    "    if mse == 0:\n",
    "        return float('inf')\n",
    "    max_pixel = np.max(target)\n",
    "    psnr = 20 * np.log10(max_pixel / np.sqrt(mse))\n",
    "    return psnr\n",
    "\n",
    "def calculate_peak_metrics(target, prediction, prominence=0.1):\n",
    "    \"\"\"Calculate peak detection accuracy\"\"\"\n",
    "    peak_metrics = {'true_peaks': 0, 'predicted_peaks': 0, 'matching_peaks': 0}\n",
    "    \n",
    "    for i in range(len(target)):\n",
    "        true_peaks, _ = find_peaks(target[i], prominence=prominence)\n",
    "        pred_peaks, _ = find_peaks(prediction[i], prominence=prominence)\n",
    "        \n",
    "        # Count matching peaks (within ±1 index)\n",
    "        matches = 0\n",
    "        for tp in true_peaks:\n",
    "            for pp in pred_peaks:\n",
    "                if abs(tp - pp) <= 1:\n",
    "                    matches += 1\n",
    "                    break\n",
    "        \n",
    "        peak_metrics['true_peaks'] += len(true_peaks)\n",
    "        peak_metrics['predicted_peaks'] += len(pred_peaks)\n",
    "        peak_metrics['matching_peaks'] += matches\n",
    "    \n",
    "    return peak_metrics\n",
    "\n",
    "def measure_inference_time(model, input_tensor, device, num_iterations=100):\n",
    "    \"\"\"Measure average inference time\"\"\"\n",
    "    model.eval()\n",
    "    start_time = time.time()\n",
    "    with torch.no_grad():\n",
    "        for _ in range(num_iterations):\n",
    "            _ = model(input_tensor.to(device))\n",
    "    end_time = time.time()\n",
    "    return (end_time - start_time) / num_iterations\n",
    "\n",
    "def count_parameters(model):\n",
    "    \"\"\"Count number of trainable parameters\"\"\"\n",
    "    return sum(p.numel() for p in model.parameters() if p.requires_grad)\n",
    "\n",
    "def measure_memory_usage():\n",
    "    \"\"\"Measure current memory usage\"\"\"\n",
    "    process = psutil.Process(os.getpid())\n",
    "    return process.memory_info().rss / 1024 / 1024  # Convert to MB\n",
    "\n",
    "def evaluate_model_metrics(model, val_loader, device):\n",
    "    \"\"\"Evaluate all model metrics\"\"\"\n",
    "    model.eval()\n",
    "    metrics = {}\n",
    "    \n",
    "    # Get sample input for inference time measurement\n",
    "    sample_input, _ = next(iter(val_loader))\n",
    "    metrics['inference_time'] = measure_inference_time(model, sample_input, device)\n",
    "    \n",
    "    all_targets = []\n",
    "    all_predictions = []\n",
    "    \n",
    "    with torch.no_grad():\n",
    "        for inputs, targets in val_loader:\n",
    "            inputs = inputs.to(device)\n",
    "            targets = targets.to(device)\n",
    "            outputs = model(inputs)\n",
    "            \n",
    "            # Convert to numpy for metric calculation\n",
    "            targets_np = targets.cpu().numpy()\n",
    "            outputs_np = outputs.cpu().numpy()\n",
    "            \n",
    "            all_targets.append(targets_np)\n",
    "            all_predictions.append(outputs_np)\n",
    "    \n",
    "    # Concatenate all batches\n",
    "    all_targets = np.concatenate(all_targets)\n",
    "    all_predictions = np.concatenate(all_predictions)\n",
    "    \n",
    "    # Calculate metrics\n",
    "    metrics['mse'] = np.mean((all_targets - all_predictions) ** 2)\n",
    "    metrics['mae'] = np.mean(np.abs(all_targets - all_predictions))\n",
    "    metrics['psnr'] = calculate_psnr(all_targets, all_predictions)\n",
    "    metrics['r2_score'] = r2_score(all_targets.flatten(), all_predictions.flatten())\n",
    "    metrics['peak_metrics'] = calculate_peak_metrics(all_targets, all_predictions)\n",
    "    metrics['memory_usage'] = measure_memory_usage()\n",
    "    metrics['num_parameters'] = count_parameters(model)\n",
    "    \n",
    "    return metrics"
   ]
  },
  {
   "cell_type": "code",
   "execution_count": null,
   "metadata": {},
   "outputs": [
    {
     "name": "stdout",
     "output_type": "stream",
     "text": [
      "\n",
      "Final Model Evaluation:\n",
      "MSE: 0.001928\n",
      "MAE: 0.023870\n",
      "PSNR: 26.72 dB\n",
      "R² Score: 0.5476\n",
      "Peak Detection Accuracy: 46.63%\n",
      "Average Inference Time: 0.95 ms\n",
      "Memory Usage: 2329.7 MB\n",
      "Number of Parameters: 411,616\n"
     ]
    }
   ],
   "source": [
    "model.eval()\n",
    "final_metrics = evaluate_model_metrics(model, val_loader, device)\n",
    "\n",
    "wandb.log({\n",
    "    \"final_mse\": final_metrics['mse'],\n",
    "    \"final_mae\": final_metrics['mae'],\n",
    "    \"final_psnr\": final_metrics['psnr'],\n",
    "    \"final_r2_score\": final_metrics['r2_score'],\n",
    "    \"peak_detection_accuracy\": final_metrics['peak_metrics']['matching_peaks'] / \n",
    "                             final_metrics['peak_metrics']['true_peaks'],\n",
    "    \"inference_time_ms\": final_metrics['inference_time'] * 1000,\n",
    "    \"memory_usage_mb\": final_metrics['memory_usage'],\n",
    "    \"model_parameters\": final_metrics['num_parameters']\n",
    "})\n",
    "\n",
    "print(\"\\nFinal Model Evaluation:\")\n",
    "print(f\"MSE: {final_metrics['mse']:.6f}\")\n",
    "print(f\"MAE: {final_metrics['mae']:.6f}\")\n",
    "print(f\"PSNR: {final_metrics['psnr']:.2f} dB\")\n",
    "print(f\"R² Score: {final_metrics['r2_score']:.4f}\")\n",
    "print(f\"Peak Detection Accuracy: {final_metrics['peak_metrics']['matching_peaks'] / final_metrics['peak_metrics']['true_peaks']:.2%}\")\n",
    "print(f\"Average Inference Time: {final_metrics['inference_time']*1000:.2f} ms\")\n",
    "print(f\"Memory Usage: {final_metrics['memory_usage']:.1f} MB\")\n",
    "print(f\"Number of Parameters: {final_metrics['num_parameters']:,}\")"
   ]
  },
  {
   "cell_type": "code",
   "execution_count": null,
   "metadata": {},
   "outputs": [
    {
     "data": {
      "image/png": "[encoded data removed]",
      "text/plain": [
       "<Figure size 1500x500 with 3 Axes>"
      ]
     },
     "metadata": {},
     "output_type": "display_data"
    },
    {
     "name": "stdout",
     "output_type": "stream",
     "text": [
      "Test MSE: 0.001954\n",
      "Test MAE: 0.023564\n"
     ]
    }
   ],
   "source": [
    "inputs, targets = next(iter(val_loader))\n",
    "inputs, targets = inputs.to(device), targets.to(device)\n",
    "\n",
    "with torch.no_grad():\n",
    "    outputs = model(inputs)\n",
    "\n",
    "inputs = inputs.cpu().numpy()\n",
    "targets = targets.cpu().numpy()\n",
    "outputs = outputs.cpu().numpy()\n",
    "\n",
    "plt.figure(figsize=(15, 5))\n",
    "for i in range(3):\n",
    "    plt.subplot(1, 3, i+1)\n",
    "    plt.plot(targets[i], 'b-', label='Target')\n",
    "    plt.plot(outputs[i], 'r--', label='Prediction')\n",
    "    plt.title(f'Example {i+1}')\n",
    "    plt.xlabel('T1 Index')\n",
    "    plt.ylabel('Amplitude')\n",
    "    plt.legend()\n",
    "    plt.grid(True, alpha=0.3)\n",
    "\n",
    "plt.tight_layout()\n",
    "plt.show()\n",
    "\n",
    "mse = np.mean((targets - outputs)**2)\n",
    "mae = np.mean(np.abs(targets - outputs))\n",
    "print(f\"Test MSE: {mse:.6f}\")\n",
    "print(f\"Test MAE: {mae:.6f}\")"
   ]
  },
  {
   "cell_type": "code",
   "execution_count": 21,
   "metadata": {},
   "outputs": [
    {
     "data": {
      "text/html": [],
      "text/plain": [
       "<IPython.core.display.HTML object>"
      ]
     },
     "metadata": {},
     "output_type": "display_data"
    },
    {
     "data": {
      "text/html": [
       "<br>    <style><br>        .wandb-row {<br>            display: flex;<br>            flex-direction: row;<br>            flex-wrap: wrap;<br>            justify-content: flex-start;<br>            width: 100%;<br>        }<br>        .wandb-col {<br>            display: flex;<br>            flex-direction: column;<br>            flex-basis: 100%;<br>            flex: 1;<br>            padding: 10px;<br>        }<br>    </style><br><div class=\"wandb-row\"><div class=\"wandb-col\"><h3>Run history:</h3><br/><table class=\"wandb\"><tr><td>epoch</td><td>▁▁▁▁▂▂▂▂▂▂▃▃▃▃▃▄▄▄▄▄▅▅▅▅▅▅▆▆▆▆▆▇▇▇▇▇▇███</td></tr><tr><td>final_mae</td><td>▁</td></tr><tr><td>final_mse</td><td>▁</td></tr><tr><td>final_psnr</td><td>▁</td></tr><tr><td>final_r2_score</td><td>▁</td></tr><tr><td>inference_time_ms</td><td>▁</td></tr><tr><td>learning_rate</td><td>█████████████████████████▃▃▃▃▃▃▃▃▃▃▃▁▁▁▁</td></tr><tr><td>memory_usage_mb</td><td>▁</td></tr><tr><td>model_parameters</td><td>▁</td></tr><tr><td>peak_detection_accuracy</td><td>▁</td></tr><tr><td>train_loss</td><td>█▆▅▅▅▄▄▄▄▄▄▄▄▄▃▃▃▃▃▃▃▃▃▃▃▃▂▂▂▂▂▂▂▂▂▂▁▁▁▁</td></tr><tr><td>val_loss</td><td>▄█▂▃▂▂▂▂▂▂▂▂▂▁▂▂▁▁▁▂▂▂▁▁▁▁▁▁▁▁▁▁▁▁▁▁▂▁▁▁</td></tr></table><br/></div><div class=\"wandb-col\"><h3>Run summary:</h3><br/><table class=\"wandb\"><tr><td>epoch</td><td>48</td></tr><tr><td>final_mae</td><td>0.02387</td></tr><tr><td>final_mse</td><td>0.00193</td></tr><tr><td>final_psnr</td><td>26.71606</td></tr><tr><td>final_r2_score</td><td>0.5476</td></tr><tr><td>inference_time_ms</td><td>0.95137</td></tr><tr><td>learning_rate</td><td>0.00025</td></tr><tr><td>memory_usage_mb</td><td>2329.73047</td></tr><tr><td>model_parameters</td><td>411616</td></tr><tr><td>peak_detection_accuracy</td><td>0.46635</td></tr><tr><td>train_loss</td><td>0.00156</td></tr><tr><td>val_loss</td><td>0.00193</td></tr></table><br/></div></div>"
      ],
      "text/plain": [
       "<IPython.core.display.HTML object>"
      ]
     },
     "metadata": {},
     "output_type": "display_data"
    },
    {
     "data": {
      "text/html": [
       " View run <strong style=\"color:#cdcd00\">cnn-central-voxel-improved</strong> at: <a href='https://wandb.ai/trphan/master-multicomponent-mri/runs/b9nv1voh' target=\"_blank\">https://wandb.ai/trphan/master-multicomponent-mri/runs/b9nv1voh</a><br> View project at: <a href='https://wandb.ai/trphan/master-multicomponent-mri' target=\"_blank\">https://wandb.ai/trphan/master-multicomponent-mri</a><br>Synced 5 W&B file(s), 0 media file(s), 0 artifact file(s) and 0 other file(s)"
      ],
      "text/plain": [
       "<IPython.core.display.HTML object>"
      ]
     },
     "metadata": {},
     "output_type": "display_data"
    },
    {
     "data": {
      "text/html": [
       "Find logs at: <code>.\\wandb\\run-20250213_013701-b9nv1voh\\logs</code>"
      ],
      "text/plain": [
       "<IPython.core.display.HTML object>"
      ]
     },
     "metadata": {},
     "output_type": "display_data"
    }
   ],
   "source": [
    "wandb.finish()"
   ]
  }
 ],
 "metadata": {
  "kernelspec": {
   "display_name": ".venv",
   "language": "python",
   "name": "python3"
  },
  "language_info": {
   "codemirror_mode": {
    "name": "ipython",
    "version": 3
   },
   "file_extension": ".py",
   "mimetype": "text/x-python",
   "name": "python",
   "nbconvert_exporter": "python",
   "pygments_lexer": "ipython3",
   "version": "3.11.0"
  }
 },
 "nbformat": 4,
 "nbformat_minor": 2
}
