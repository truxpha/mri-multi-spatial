{
 "cells": [
  {
   "cell_type": "code",
   "execution_count": null,
   "metadata": {},
   "outputs": [],
   "source": [
    "import torch\n",
    "import torch.nn as nn\n",
    "import torch.optim as optim\n",
    "from torch.utils.data import Dataset, DataLoader, random_split\n",
    "import mat73\n",
    "import numpy as np\n",
    "from tqdm import tqdm\n",
    "import wandb\n",
    "import matplotlib.pyplot as plt\n",
    "from torch.optim.lr_scheduler import ReduceLROnPlateau\n",
    "\n",
    "from scipy.signal import find_peaks\n",
    "from sklearn.metrics import r2_score\n",
    "import psutil\n",
    "import os\n",
    "import time"
   ]
  },
  {
   "cell_type": "code",
   "execution_count": 2,
   "metadata": {},
   "outputs": [
    {
     "name": "stderr",
     "output_type": "stream",
     "text": [
      "\u001b[34m\u001b[1mwandb\u001b[0m: Currently logged in as: \u001b[33mtr-phan\u001b[0m (\u001b[33mtrphan\u001b[0m) to \u001b[32mhttps://api.wandb.ai\u001b[0m. Use \u001b[1m`wandb login --relogin`\u001b[0m to force relogin\n",
      "\u001b[34m\u001b[1mwandb\u001b[0m: Using wandb-core as the SDK backend.  Please refer to https://wandb.me/wandb-core for more information.\n"
     ]
    },
    {
     "data": {
      "text/html": [
       "Tracking run with wandb version 0.19.6"
      ],
      "text/plain": [
       "<IPython.core.display.HTML object>"
      ]
     },
     "metadata": {},
     "output_type": "display_data"
    },
    {
     "data": {
      "text/html": [
       "Run data is saved locally in <code>d:\\Proton Drive\\My files\\Schule\\Master\\Masterarbeit\\project\\models\\spatial_signal_full_patch\\wandb\\run-20250213_015229-vllico9v</code>"
      ],
      "text/plain": [
       "<IPython.core.display.HTML object>"
      ]
     },
     "metadata": {},
     "output_type": "display_data"
    },
    {
     "data": {
      "text/html": [
       "Syncing run <strong><a href='https://wandb.ai/trphan/master-multicomponent-mri/runs/vllico9v' target=\"_blank\">3d-cnn-baseline-fullpatch-improved</a></strong> to <a href='https://wandb.ai/trphan/master-multicomponent-mri' target=\"_blank\">Weights & Biases</a> (<a href='https://wandb.me/developer-guide' target=\"_blank\">docs</a>)<br>"
      ],
      "text/plain": [
       "<IPython.core.display.HTML object>"
      ]
     },
     "metadata": {},
     "output_type": "display_data"
    },
    {
     "data": {
      "text/html": [
       " View project at <a href='https://wandb.ai/trphan/master-multicomponent-mri' target=\"_blank\">https://wandb.ai/trphan/master-multicomponent-mri</a>"
      ],
      "text/plain": [
       "<IPython.core.display.HTML object>"
      ]
     },
     "metadata": {},
     "output_type": "display_data"
    },
    {
     "data": {
      "text/html": [
       " View run at <a href='https://wandb.ai/trphan/master-multicomponent-mri/runs/vllico9v' target=\"_blank\">https://wandb.ai/trphan/master-multicomponent-mri/runs/vllico9v</a>"
      ],
      "text/plain": [
       "<IPython.core.display.HTML object>"
      ]
     },
     "metadata": {},
     "output_type": "display_data"
    }
   ],
   "source": [
    "wandb.login()\n",
    "# run = wandb.init(project=\"master-multicomponent-mri\", name=\"3d-cnn-baseline-fullpatch\")\n",
    "run = wandb.init(project=\"master-multicomponent-mri\", name=\"3d-cnn-baseline-fullpatch-improved\")"
   ]
  },
  {
   "cell_type": "code",
   "execution_count": null,
   "metadata": {},
   "outputs": [
    {
     "name": "stdout",
     "output_type": "stream",
     "text": [
      "Shape of input data: (9, 9, 8, 47932)\n",
      "Shape of reference data: (9, 9, 32, 47932)\n"
     ]
    }
   ],
   "source": [
    "data = mat73.loadmat('../../data/training_data_T1_3D_9x9x32x47932_noise0.05.mat')\n",
    "input_noisy_np = data['input_noisy']\n",
    "input_clean_np = data['input']\n",
    "ref_np = data['ref']\n",
    "\n",
    "print(\"Shape of input data:\", input_noisy_np.shape)\n",
    "print(\"Shape of reference data:\", ref_np.shape)"
   ]
  },
  {
   "cell_type": "code",
   "execution_count": 4,
   "metadata": {},
   "outputs": [
    {
     "name": "stdout",
     "output_type": "stream",
     "text": [
      "NaN count in input_noisy before handling: 1635840\n",
      "NaN count in ref before handling: 0\n"
     ]
    }
   ],
   "source": [
    "nan_count_input_noisy_before = np.isnan(input_noisy_np).sum()\n",
    "nan_count_ref_before = np.isnan(ref_np).sum()\n",
    "print(f\"NaN count in input_noisy before handling: {nan_count_input_noisy_before}\")\n",
    "print(f\"NaN count in ref before handling: {nan_count_ref_before}\")"
   ]
  },
  {
   "cell_type": "code",
   "execution_count": 5,
   "metadata": {},
   "outputs": [
    {
     "name": "stdout",
     "output_type": "stream",
     "text": [
      "NaN count in input_noisy after handling: 0\n"
     ]
    }
   ],
   "source": [
    "input_noisy_np = np.nan_to_num(input_noisy_np, nan=0.0)\n",
    "nan_count_input_noisy_after = np.isnan(input_noisy_np).sum()\n",
    "print(f\"NaN count in input_noisy after handling: {nan_count_input_noisy_after}\")"
   ]
  },
  {
   "cell_type": "code",
   "execution_count": 6,
   "metadata": {},
   "outputs": [],
   "source": [
    "class T1PatchDataset(Dataset):\n",
    "    def __init__(self, input_data, target_data):\n",
    "        self.input_data = input_data\n",
    "        self.target_data = target_data\n",
    "\n",
    "    def __len__(self):\n",
    "        return len(self.input_data)\n",
    "\n",
    "    def __getitem__(self, idx):\n",
    "        return self.input_data[idx], self.target_data[idx]"
   ]
  },
  {
   "cell_type": "code",
   "execution_count": null,
   "metadata": {},
   "outputs": [],
   "source": [
    "class CNN3D(nn.Module):\n",
    "    def __init__(self):\n",
    "        super(CNN3D, self).__init__()\n",
    "        \n",
    "        # Adding channel dimension\n",
    "        self.conv1 = nn.Conv3d(1, 64, kernel_size=(3,3,3), padding=(1,1,1))\n",
    "        self.bn1 = nn.BatchNorm3d(64)\n",
    "        self.relu1 = nn.LeakyReLU(0.1)\n",
    "        \n",
    "        self.conv2 = nn.Conv3d(64, 128, kernel_size=(3,3,3), padding=(1,1,1))\n",
    "        self.bn2 = nn.BatchNorm3d(128)\n",
    "        self.relu2 = nn.LeakyReLU(0.1)\n",
    "        \n",
    "        self.conv3 = nn.Conv3d(128, 256, kernel_size=(3,3,3), padding=(1,1,1))\n",
    "        self.bn3 = nn.BatchNorm3d(256)\n",
    "        self.relu3 = nn.LeakyReLU(0.1)\n",
    "        \n",
    "        self.final_conv = nn.Conv3d(256, 32, kernel_size=(8,1,1))  # Collapse temporal dimension to 32 points\n",
    "        \n",
    "    def forward(self, x):\n",
    "        # Add channel dimension\n",
    "        x = x.unsqueeze(1)\n",
    "        \n",
    "        x = self.relu1(self.bn1(self.conv1(x)))\n",
    "        x = self.relu2(self.bn2(self.conv2(x)))\n",
    "        x = self.relu3(self.bn3(self.conv3(x)))\n",
    "        \n",
    "        x = self.final_conv(x)\n",
    "        \n",
    "        # Remove extra dimension\n",
    "        x = x.squeeze(2)\n",
    "        \n",
    "        return x"
   ]
  },
  {
   "cell_type": "code",
   "execution_count": null,
   "metadata": {},
   "outputs": [],
   "source": [
    "class EarlyStopping:\n",
    "    def __init__(self, patience=15, min_delta=1e-6, path='saved_models/best_3dcnn_model.pt'):\n",
    "        self.patience = patience\n",
    "        self.min_delta = min_delta\n",
    "        self.counter = 0\n",
    "        self.best_loss = None\n",
    "        self.early_stop = False\n",
    "        self.path = path\n",
    "        \n",
    "    def __call__(self, val_loss, model):\n",
    "        if self.best_loss is None:\n",
    "            self.best_loss = val_loss\n",
    "            self.save_checkpoint(model)\n",
    "        elif val_loss > self.best_loss - self.min_delta:\n",
    "            self.counter += 1\n",
    "            print(f'EarlyStopping counter: {self.counter} out of {self.patience}')\n",
    "            if self.counter >= self.patience:\n",
    "                self.early_stop = True\n",
    "        else:\n",
    "            self.best_loss = val_loss\n",
    "            self.save_checkpoint(model)\n",
    "            self.counter = 0\n",
    "\n",
    "    def save_checkpoint(self, model):\n",
    "        torch.save(model.state_dict(), self.path)"
   ]
  },
  {
   "cell_type": "code",
   "execution_count": null,
   "metadata": {},
   "outputs": [],
   "source": [
    "# Transpose the input and reference data to be (N, C, H, W) format\n",
    "input_noisy_torch = np.transpose(input_noisy_np, (3, 2, 0, 1))\n",
    "ref_torch = np.transpose(ref_np, (3, 2, 0, 1))\n",
    "\n",
    "input_noisy_torch = torch.tensor(input_noisy_torch, dtype=torch.float32)\n",
    "ref_torch = torch.tensor(ref_torch, dtype=torch.float32)"
   ]
  },
  {
   "cell_type": "code",
   "execution_count": null,
   "metadata": {},
   "outputs": [],
   "source": [
    "# Create Dataset\n",
    "dataset = T1PatchDataset(input_noisy_torch, ref_torch)\n",
    "\n",
    "# Split dataset\n",
    "train_size = int(0.8 * len(dataset))\n",
    "val_size = len(dataset) - train_size\n",
    "train_dataset, val_dataset = random_split(dataset, [train_size, val_size])\n",
    "\n",
    "# Create DataLoaders\n",
    "batch_size = 64\n",
    "train_loader = DataLoader(train_dataset, batch_size=batch_size, shuffle=True)\n",
    "val_loader = DataLoader(val_dataset, batch_size=batch_size, shuffle=False)"
   ]
  },
  {
   "cell_type": "code",
   "execution_count": 11,
   "metadata": {},
   "outputs": [
    {
     "name": "stderr",
     "output_type": "stream",
     "text": [
      "d:\\Proton Drive\\My files\\Schule\\Master\\Masterarbeit\\project\\.venv\\Lib\\site-packages\\torch\\optim\\lr_scheduler.py:60: UserWarning: The verbose parameter is deprecated. Please use get_last_lr() to access the learning rate.\n",
      "  warnings.warn(\n"
     ]
    }
   ],
   "source": [
    "# Training setup\n",
    "device = torch.device(\"cuda\" if torch.cuda.is_available() else \"cpu\")\n",
    "model = CNN3D().to(device)\n",
    "criterion = nn.MSELoss()\n",
    "optimizer = optim.Adam(model.parameters(), lr=0.001)\n",
    "scheduler = ReduceLROnPlateau(optimizer, mode='min', factor=0.5, patience=10, verbose=True)\n",
    "early_stopping = EarlyStopping(patience=15, path='best_3dcnn_model.pt')\n",
    "\n",
    "num_epochs = 200"
   ]
  },
  {
   "cell_type": "code",
   "execution_count": 12,
   "metadata": {},
   "outputs": [],
   "source": [
    "# Log configuration\n",
    "wandb.config.update({\n",
    "    \"learning_rate\": 0.001,\n",
    "    \"batch_size\": batch_size,\n",
    "    \"epochs\": num_epochs,\n",
    "    \"architecture\": \"3DCNN\",\n",
    "    \"optimizer\": \"Adam\",\n",
    "    \"loss_function\": \"MSELoss\",\n",
    "    \"scheduler\": \"ReduceLROnPlateau\",\n",
    "    \"early_stopping_patience\": 15\n",
    "})"
   ]
  },
  {
   "cell_type": "code",
   "execution_count": 13,
   "metadata": {},
   "outputs": [
    {
     "name": "stderr",
     "output_type": "stream",
     "text": [
      "Epoch [1/200] Training: 100%|██████████| 600/600 [00:26<00:00, 23.01it/s, loss=0.00333]\n",
      "Epoch [1/200] Validation: 100%|██████████| 150/150 [00:02<00:00, 65.67it/s, loss=0.00426]\n"
     ]
    },
    {
     "name": "stdout",
     "output_type": "stream",
     "text": [
      "Epoch [1/200], Train Loss: 0.008807230498253679, Val Loss: 0.004355798913165927, LR: 0.001\n"
     ]
    },
    {
     "name": "stderr",
     "output_type": "stream",
     "text": [
      "Epoch [2/200] Training: 100%|██████████| 600/600 [00:24<00:00, 24.18it/s, loss=0.00316]\n",
      "Epoch [2/200] Validation: 100%|██████████| 150/150 [00:02<00:00, 66.14it/s, loss=0.00411]\n"
     ]
    },
    {
     "name": "stdout",
     "output_type": "stream",
     "text": [
      "Epoch [2/200], Train Loss: 0.003372911119367927, Val Loss: 0.004173658423436185, LR: 0.001\n"
     ]
    },
    {
     "name": "stderr",
     "output_type": "stream",
     "text": [
      "Epoch [3/200] Training: 100%|██████████| 600/600 [00:25<00:00, 23.98it/s, loss=0.00339]\n",
      "Epoch [3/200] Validation: 100%|██████████| 150/150 [00:02<00:00, 66.45it/s, loss=0.00313]\n"
     ]
    },
    {
     "name": "stdout",
     "output_type": "stream",
     "text": [
      "Epoch [3/200], Train Loss: 0.0030757028912194073, Val Loss: 0.003174057911771039, LR: 0.001\n"
     ]
    },
    {
     "name": "stderr",
     "output_type": "stream",
     "text": [
      "Epoch [4/200] Training: 100%|██████████| 600/600 [00:24<00:00, 24.09it/s, loss=0.00945]\n",
      "Epoch [4/200] Validation: 100%|██████████| 150/150 [00:02<00:00, 66.04it/s, loss=0.012] \n"
     ]
    },
    {
     "name": "stdout",
     "output_type": "stream",
     "text": [
      "EarlyStopping counter: 1 out of 15\n",
      "Epoch [4/200], Train Loss: 0.002788158154192691, Val Loss: 0.012123941909521818, LR: 0.001\n"
     ]
    },
    {
     "name": "stderr",
     "output_type": "stream",
     "text": [
      "Epoch [5/200] Training: 100%|██████████| 600/600 [00:25<00:00, 23.91it/s, loss=0.00379]\n",
      "Epoch [5/200] Validation: 100%|██████████| 150/150 [00:02<00:00, 64.82it/s, loss=0.00294]\n"
     ]
    },
    {
     "name": "stdout",
     "output_type": "stream",
     "text": [
      "Epoch [5/200], Train Loss: 0.0029746379346276323, Val Loss: 0.002967385354762276, LR: 0.001\n"
     ]
    },
    {
     "name": "stderr",
     "output_type": "stream",
     "text": [
      "Epoch [6/200] Training: 100%|██████████| 600/600 [00:24<00:00, 24.23it/s, loss=0.00245]\n",
      "Epoch [6/200] Validation: 100%|██████████| 150/150 [00:02<00:00, 67.45it/s, loss=0.00253]\n"
     ]
    },
    {
     "name": "stdout",
     "output_type": "stream",
     "text": [
      "Epoch [6/200], Train Loss: 0.002505448414400841, Val Loss: 0.0024955260947657127, LR: 0.001\n"
     ]
    },
    {
     "name": "stderr",
     "output_type": "stream",
     "text": [
      "Epoch [7/200] Training: 100%|██████████| 600/600 [00:24<00:00, 24.10it/s, loss=0.00243]\n",
      "Epoch [7/200] Validation: 100%|██████████| 150/150 [00:02<00:00, 67.08it/s, loss=0.00248]\n"
     ]
    },
    {
     "name": "stdout",
     "output_type": "stream",
     "text": [
      "EarlyStopping counter: 1 out of 15\n",
      "Epoch [7/200], Train Loss: 0.0024100474464163807, Val Loss: 0.0025712126043314736, LR: 0.001\n"
     ]
    },
    {
     "name": "stderr",
     "output_type": "stream",
     "text": [
      "Epoch [8/200] Training: 100%|██████████| 600/600 [00:25<00:00, 23.98it/s, loss=0.00216]\n",
      "Epoch [8/200] Validation: 100%|██████████| 150/150 [00:02<00:00, 67.04it/s, loss=0.00237]\n"
     ]
    },
    {
     "name": "stdout",
     "output_type": "stream",
     "text": [
      "Epoch [8/200], Train Loss: 0.0023594740386276196, Val Loss: 0.002330676079727709, LR: 0.001\n"
     ]
    },
    {
     "name": "stderr",
     "output_type": "stream",
     "text": [
      "Epoch [9/200] Training: 100%|██████████| 600/600 [00:24<00:00, 24.06it/s, loss=0.00143]\n",
      "Epoch [9/200] Validation: 100%|██████████| 150/150 [00:02<00:00, 67.44it/s, loss=0.00226]\n"
     ]
    },
    {
     "name": "stdout",
     "output_type": "stream",
     "text": [
      "Epoch [9/200], Train Loss: 0.0022983547950085875, Val Loss: 0.002226216762016217, LR: 0.001\n"
     ]
    },
    {
     "name": "stderr",
     "output_type": "stream",
     "text": [
      "Epoch [10/200] Training: 100%|██████████| 600/600 [00:26<00:00, 22.85it/s, loss=0.00282]\n",
      "Epoch [10/200] Validation: 100%|██████████| 150/150 [00:02<00:00, 60.27it/s, loss=0.00256]\n"
     ]
    },
    {
     "name": "stdout",
     "output_type": "stream",
     "text": [
      "EarlyStopping counter: 1 out of 15\n",
      "Epoch [10/200], Train Loss: 0.002263949885382317, Val Loss: 0.002502394770272076, LR: 0.001\n"
     ]
    },
    {
     "name": "stderr",
     "output_type": "stream",
     "text": [
      "Epoch [11/200] Training: 100%|██████████| 600/600 [00:25<00:00, 23.64it/s, loss=0.00266]\n",
      "Epoch [11/200] Validation: 100%|██████████| 150/150 [00:02<00:00, 67.97it/s, loss=0.00218]\n"
     ]
    },
    {
     "name": "stdout",
     "output_type": "stream",
     "text": [
      "Epoch [11/200], Train Loss: 0.0022279471380170436, Val Loss: 0.0021637453860603273, LR: 0.001\n"
     ]
    },
    {
     "name": "stderr",
     "output_type": "stream",
     "text": [
      "Epoch [12/200] Training: 100%|██████████| 600/600 [00:24<00:00, 24.29it/s, loss=0.00183]\n",
      "Epoch [12/200] Validation: 100%|██████████| 150/150 [00:02<00:00, 67.93it/s, loss=0.00223]\n"
     ]
    },
    {
     "name": "stdout",
     "output_type": "stream",
     "text": [
      "EarlyStopping counter: 1 out of 15\n",
      "Epoch [12/200], Train Loss: 0.002196830016716073, Val Loss: 0.00226074832258746, LR: 0.001\n"
     ]
    },
    {
     "name": "stderr",
     "output_type": "stream",
     "text": [
      "Epoch [13/200] Training: 100%|██████████| 600/600 [00:24<00:00, 24.19it/s, loss=0.00294]\n",
      "Epoch [13/200] Validation: 100%|██████████| 150/150 [00:02<00:00, 67.99it/s, loss=0.00279]\n"
     ]
    },
    {
     "name": "stdout",
     "output_type": "stream",
     "text": [
      "EarlyStopping counter: 2 out of 15\n",
      "Epoch [13/200], Train Loss: 0.0021796373076116045, Val Loss: 0.002788807296504577, LR: 0.001\n"
     ]
    },
    {
     "name": "stderr",
     "output_type": "stream",
     "text": [
      "Epoch [14/200] Training: 100%|██████████| 600/600 [00:24<00:00, 24.15it/s, loss=0.00215]\n",
      "Epoch [14/200] Validation: 100%|██████████| 150/150 [00:02<00:00, 68.20it/s, loss=0.00238]\n"
     ]
    },
    {
     "name": "stdout",
     "output_type": "stream",
     "text": [
      "EarlyStopping counter: 3 out of 15\n",
      "Epoch [14/200], Train Loss: 0.0021800451684976, Val Loss: 0.0022896246480134624, LR: 0.001\n"
     ]
    },
    {
     "name": "stderr",
     "output_type": "stream",
     "text": [
      "Epoch [15/200] Training: 100%|██████████| 600/600 [00:24<00:00, 24.20it/s, loss=0.00296]\n",
      "Epoch [15/200] Validation: 100%|██████████| 150/150 [00:02<00:00, 67.73it/s, loss=0.00232]\n"
     ]
    },
    {
     "name": "stdout",
     "output_type": "stream",
     "text": [
      "EarlyStopping counter: 4 out of 15\n",
      "Epoch [15/200], Train Loss: 0.002144781872048043, Val Loss: 0.0022962317212174336, LR: 0.001\n"
     ]
    },
    {
     "name": "stderr",
     "output_type": "stream",
     "text": [
      "Epoch [16/200] Training: 100%|██████████| 600/600 [00:25<00:00, 23.61it/s, loss=0.00122]\n",
      "Epoch [16/200] Validation: 100%|██████████| 150/150 [00:02<00:00, 65.64it/s, loss=0.00216]\n"
     ]
    },
    {
     "name": "stdout",
     "output_type": "stream",
     "text": [
      "Epoch [16/200], Train Loss: 0.0021148966908610114, Val Loss: 0.0021172100313318273, LR: 0.001\n"
     ]
    },
    {
     "name": "stderr",
     "output_type": "stream",
     "text": [
      "Epoch [17/200] Training: 100%|██████████| 600/600 [00:25<00:00, 23.53it/s, loss=0.00208]\n",
      "Epoch [17/200] Validation: 100%|██████████| 150/150 [00:02<00:00, 65.46it/s, loss=0.00206]\n"
     ]
    },
    {
     "name": "stdout",
     "output_type": "stream",
     "text": [
      "Epoch [17/200], Train Loss: 0.0021037320872225487, Val Loss: 0.0020285510853864253, LR: 0.001\n"
     ]
    },
    {
     "name": "stderr",
     "output_type": "stream",
     "text": [
      "Epoch [18/200] Training: 100%|██████████| 600/600 [00:25<00:00, 23.83it/s, loss=0.0024] \n",
      "Epoch [18/200] Validation: 100%|██████████| 150/150 [00:02<00:00, 65.34it/s, loss=0.00213]\n"
     ]
    },
    {
     "name": "stdout",
     "output_type": "stream",
     "text": [
      "EarlyStopping counter: 1 out of 15\n",
      "Epoch [18/200], Train Loss: 0.0020852438292543714, Val Loss: 0.0020931508547315995, LR: 0.001\n"
     ]
    },
    {
     "name": "stderr",
     "output_type": "stream",
     "text": [
      "Epoch [19/200] Training: 100%|██████████| 600/600 [00:25<00:00, 23.37it/s, loss=0.00306]\n",
      "Epoch [19/200] Validation: 100%|██████████| 150/150 [00:02<00:00, 64.97it/s, loss=0.00216]\n"
     ]
    },
    {
     "name": "stdout",
     "output_type": "stream",
     "text": [
      "EarlyStopping counter: 2 out of 15\n",
      "Epoch [19/200], Train Loss: 0.002079774219891988, Val Loss: 0.00205133543893074, LR: 0.001\n"
     ]
    },
    {
     "name": "stderr",
     "output_type": "stream",
     "text": [
      "Epoch [20/200] Training: 100%|██████████| 600/600 [00:25<00:00, 23.60it/s, loss=0.00139]\n",
      "Epoch [20/200] Validation: 100%|██████████| 150/150 [00:02<00:00, 65.77it/s, loss=0.0021] \n"
     ]
    },
    {
     "name": "stdout",
     "output_type": "stream",
     "text": [
      "Epoch [20/200], Train Loss: 0.0020628754662660263, Val Loss: 0.0020112907498454056, LR: 0.001\n"
     ]
    },
    {
     "name": "stderr",
     "output_type": "stream",
     "text": [
      "Epoch [21/200] Training: 100%|██████████| 600/600 [00:25<00:00, 23.83it/s, loss=0.00219]\n",
      "Epoch [21/200] Validation: 100%|██████████| 150/150 [00:02<00:00, 65.55it/s, loss=0.00203]\n"
     ]
    },
    {
     "name": "stdout",
     "output_type": "stream",
     "text": [
      "EarlyStopping counter: 1 out of 15\n",
      "Epoch [21/200], Train Loss: 0.0020503775255444148, Val Loss: 0.002028608916637798, LR: 0.001\n"
     ]
    },
    {
     "name": "stderr",
     "output_type": "stream",
     "text": [
      "Epoch [22/200] Training: 100%|██████████| 600/600 [00:25<00:00, 23.49it/s, loss=0.00182]\n",
      "Epoch [22/200] Validation: 100%|██████████| 150/150 [00:02<00:00, 65.73it/s, loss=0.00207]\n"
     ]
    },
    {
     "name": "stdout",
     "output_type": "stream",
     "text": [
      "EarlyStopping counter: 2 out of 15\n",
      "Epoch [22/200], Train Loss: 0.0020380990327491114, Val Loss: 0.0020677602337673307, LR: 0.001\n"
     ]
    },
    {
     "name": "stderr",
     "output_type": "stream",
     "text": [
      "Epoch [23/200] Training: 100%|██████████| 600/600 [00:25<00:00, 23.70it/s, loss=0.00142]\n",
      "Epoch [23/200] Validation: 100%|██████████| 150/150 [00:02<00:00, 67.18it/s, loss=0.00208]\n"
     ]
    },
    {
     "name": "stdout",
     "output_type": "stream",
     "text": [
      "EarlyStopping counter: 3 out of 15\n",
      "Epoch [23/200], Train Loss: 0.0020305164771464964, Val Loss: 0.0020346264137576023, LR: 0.001\n"
     ]
    },
    {
     "name": "stderr",
     "output_type": "stream",
     "text": [
      "Epoch [24/200] Training: 100%|██████████| 600/600 [00:25<00:00, 23.89it/s, loss=0.00238]\n",
      "Epoch [24/200] Validation: 100%|██████████| 150/150 [00:02<00:00, 66.72it/s, loss=0.00207]\n"
     ]
    },
    {
     "name": "stdout",
     "output_type": "stream",
     "text": [
      "Epoch [24/200], Train Loss: 0.0020273557365483915, Val Loss: 0.0019689987786114214, LR: 0.001\n"
     ]
    },
    {
     "name": "stderr",
     "output_type": "stream",
     "text": [
      "Epoch [25/200] Training: 100%|██████████| 600/600 [00:24<00:00, 24.01it/s, loss=0.00188]\n",
      "Epoch [25/200] Validation: 100%|██████████| 150/150 [00:02<00:00, 66.94it/s, loss=0.00205]\n"
     ]
    },
    {
     "name": "stdout",
     "output_type": "stream",
     "text": [
      "EarlyStopping counter: 1 out of 15\n",
      "Epoch [25/200], Train Loss: 0.002013991732771198, Val Loss: 0.002008881294168532, LR: 0.001\n"
     ]
    },
    {
     "name": "stderr",
     "output_type": "stream",
     "text": [
      "Epoch [26/200] Training: 100%|██████████| 600/600 [00:25<00:00, 23.68it/s, loss=0.00156]\n",
      "Epoch [26/200] Validation: 100%|██████████| 150/150 [00:02<00:00, 66.67it/s, loss=0.00204]\n"
     ]
    },
    {
     "name": "stdout",
     "output_type": "stream",
     "text": [
      "Epoch [26/200], Train Loss: 0.0019996208402638634, Val Loss: 0.0019551017112098635, LR: 0.001\n"
     ]
    },
    {
     "name": "stderr",
     "output_type": "stream",
     "text": [
      "Epoch [27/200] Training: 100%|██████████| 600/600 [00:25<00:00, 23.70it/s, loss=0.00293]\n",
      "Epoch [27/200] Validation: 100%|██████████| 150/150 [00:02<00:00, 65.50it/s, loss=0.00214]\n"
     ]
    },
    {
     "name": "stdout",
     "output_type": "stream",
     "text": [
      "EarlyStopping counter: 1 out of 15\n",
      "Epoch [27/200], Train Loss: 0.0019931450653045127, Val Loss: 0.0019793311964410045, LR: 0.001\n"
     ]
    },
    {
     "name": "stderr",
     "output_type": "stream",
     "text": [
      "Epoch [28/200] Training: 100%|██████████| 600/600 [00:25<00:00, 23.56it/s, loss=0.00259]\n",
      "Epoch [28/200] Validation: 100%|██████████| 150/150 [00:02<00:00, 65.11it/s, loss=0.00216]\n"
     ]
    },
    {
     "name": "stdout",
     "output_type": "stream",
     "text": [
      "EarlyStopping counter: 2 out of 15\n",
      "Epoch [28/200], Train Loss: 0.0019921737823945782, Val Loss: 0.002039599743826936, LR: 0.001\n"
     ]
    },
    {
     "name": "stderr",
     "output_type": "stream",
     "text": [
      "Epoch [29/200] Training: 100%|██████████| 600/600 [00:25<00:00, 23.43it/s, loss=0.00225]\n",
      "Epoch [29/200] Validation: 100%|██████████| 150/150 [00:02<00:00, 65.92it/s, loss=0.00206]\n"
     ]
    },
    {
     "name": "stdout",
     "output_type": "stream",
     "text": [
      "EarlyStopping counter: 3 out of 15\n",
      "Epoch [29/200], Train Loss: 0.0019801097050852453, Val Loss: 0.0020179530240905783, LR: 0.001\n"
     ]
    },
    {
     "name": "stderr",
     "output_type": "stream",
     "text": [
      "Epoch [30/200] Training: 100%|██████████| 600/600 [00:25<00:00, 23.52it/s, loss=0.0019] \n",
      "Epoch [30/200] Validation: 100%|██████████| 150/150 [00:02<00:00, 66.02it/s, loss=0.00225]\n"
     ]
    },
    {
     "name": "stdout",
     "output_type": "stream",
     "text": [
      "EarlyStopping counter: 4 out of 15\n",
      "Epoch [30/200], Train Loss: 0.001979948340837533, Val Loss: 0.002251908504404128, LR: 0.001\n"
     ]
    },
    {
     "name": "stderr",
     "output_type": "stream",
     "text": [
      "Epoch [31/200] Training: 100%|██████████| 600/600 [00:25<00:00, 23.62it/s, loss=0.00232]\n",
      "Epoch [31/200] Validation: 100%|██████████| 150/150 [00:02<00:00, 65.46it/s, loss=0.00198]\n"
     ]
    },
    {
     "name": "stdout",
     "output_type": "stream",
     "text": [
      "Epoch [31/200], Train Loss: 0.0019661990413442254, Val Loss: 0.001917194987181574, LR: 0.001\n"
     ]
    },
    {
     "name": "stderr",
     "output_type": "stream",
     "text": [
      "Epoch [32/200] Training: 100%|██████████| 600/600 [00:25<00:00, 23.49it/s, loss=0.00172]\n",
      "Epoch [32/200] Validation: 100%|██████████| 150/150 [00:02<00:00, 66.27it/s, loss=0.00199]\n"
     ]
    },
    {
     "name": "stdout",
     "output_type": "stream",
     "text": [
      "EarlyStopping counter: 1 out of 15\n",
      "Epoch [32/200], Train Loss: 0.0019559495269398514, Val Loss: 0.0019459998273911574, LR: 0.001\n"
     ]
    },
    {
     "name": "stderr",
     "output_type": "stream",
     "text": [
      "Epoch [33/200] Training: 100%|██████████| 600/600 [00:25<00:00, 23.57it/s, loss=0.00172]\n",
      "Epoch [33/200] Validation: 100%|██████████| 150/150 [00:02<00:00, 66.14it/s, loss=0.0021] \n"
     ]
    },
    {
     "name": "stdout",
     "output_type": "stream",
     "text": [
      "EarlyStopping counter: 2 out of 15\n",
      "Epoch [33/200], Train Loss: 0.0019540742866229264, Val Loss: 0.001974550640831391, LR: 0.001\n"
     ]
    },
    {
     "name": "stderr",
     "output_type": "stream",
     "text": [
      "Epoch [34/200] Training: 100%|██████████| 600/600 [00:25<00:00, 23.80it/s, loss=0.00144]\n",
      "Epoch [34/200] Validation: 100%|██████████| 150/150 [00:02<00:00, 65.82it/s, loss=0.00202]\n"
     ]
    },
    {
     "name": "stdout",
     "output_type": "stream",
     "text": [
      "EarlyStopping counter: 3 out of 15\n",
      "Epoch [34/200], Train Loss: 0.001954151709602835, Val Loss: 0.001963490240741521, LR: 0.001\n"
     ]
    },
    {
     "name": "stderr",
     "output_type": "stream",
     "text": [
      "Epoch [35/200] Training: 100%|██████████| 600/600 [00:25<00:00, 23.96it/s, loss=0.000842]\n",
      "Epoch [35/200] Validation: 100%|██████████| 150/150 [00:02<00:00, 66.62it/s, loss=0.00199]\n"
     ]
    },
    {
     "name": "stdout",
     "output_type": "stream",
     "text": [
      "EarlyStopping counter: 4 out of 15\n",
      "Epoch [35/200], Train Loss: 0.0019377737578664285, Val Loss: 0.0019370582699775696, LR: 0.001\n"
     ]
    },
    {
     "name": "stderr",
     "output_type": "stream",
     "text": [
      "Epoch [36/200] Training: 100%|██████████| 600/600 [00:24<00:00, 24.01it/s, loss=0.00262]\n",
      "Epoch [36/200] Validation: 100%|██████████| 150/150 [00:02<00:00, 66.72it/s, loss=0.00209]\n"
     ]
    },
    {
     "name": "stdout",
     "output_type": "stream",
     "text": [
      "EarlyStopping counter: 5 out of 15\n",
      "Epoch [36/200], Train Loss: 0.0019444018916692585, Val Loss: 0.001975103064905852, LR: 0.001\n"
     ]
    },
    {
     "name": "stderr",
     "output_type": "stream",
     "text": [
      "Epoch [37/200] Training: 100%|██████████| 600/600 [00:25<00:00, 23.92it/s, loss=0.00135]\n",
      "Epoch [37/200] Validation: 100%|██████████| 150/150 [00:02<00:00, 66.66it/s, loss=0.00203]\n"
     ]
    },
    {
     "name": "stdout",
     "output_type": "stream",
     "text": [
      "EarlyStopping counter: 6 out of 15\n",
      "Epoch [37/200], Train Loss: 0.0019346115400549024, Val Loss: 0.0019494300715935727, LR: 0.001\n"
     ]
    },
    {
     "name": "stderr",
     "output_type": "stream",
     "text": [
      "Epoch [38/200] Training: 100%|██████████| 600/600 [00:24<00:00, 24.00it/s, loss=0.00159]\n",
      "Epoch [38/200] Validation: 100%|██████████| 150/150 [00:02<00:00, 66.49it/s, loss=0.00199]\n"
     ]
    },
    {
     "name": "stdout",
     "output_type": "stream",
     "text": [
      "Epoch [38/200], Train Loss: 0.0019292909172751631, Val Loss: 0.0019138172998403508, LR: 0.001\n"
     ]
    },
    {
     "name": "stderr",
     "output_type": "stream",
     "text": [
      "Epoch [39/200] Training: 100%|██████████| 600/600 [00:25<00:00, 23.94it/s, loss=0.0022] \n",
      "Epoch [39/200] Validation: 100%|██████████| 150/150 [00:02<00:00, 66.45it/s, loss=0.00194]\n"
     ]
    },
    {
     "name": "stdout",
     "output_type": "stream",
     "text": [
      "EarlyStopping counter: 1 out of 15\n",
      "Epoch [39/200], Train Loss: 0.0019291873757417003, Val Loss: 0.0019201091746799649, LR: 0.001\n"
     ]
    },
    {
     "name": "stderr",
     "output_type": "stream",
     "text": [
      "Epoch [40/200] Training: 100%|██████████| 600/600 [00:25<00:00, 23.70it/s, loss=0.00145]\n",
      "Epoch [40/200] Validation: 100%|██████████| 150/150 [00:02<00:00, 67.06it/s, loss=0.00197]\n"
     ]
    },
    {
     "name": "stdout",
     "output_type": "stream",
     "text": [
      "EarlyStopping counter: 2 out of 15\n",
      "Epoch [40/200], Train Loss: 0.001924159723566845, Val Loss: 0.0019269829988479614, LR: 0.001\n"
     ]
    },
    {
     "name": "stderr",
     "output_type": "stream",
     "text": [
      "Epoch [41/200] Training: 100%|██████████| 600/600 [00:25<00:00, 23.81it/s, loss=0.0019] \n",
      "Epoch [41/200] Validation: 100%|██████████| 150/150 [00:02<00:00, 66.30it/s, loss=0.00193]\n"
     ]
    },
    {
     "name": "stdout",
     "output_type": "stream",
     "text": [
      "EarlyStopping counter: 3 out of 15\n",
      "Epoch [41/200], Train Loss: 0.0019225217580484848, Val Loss: 0.0019203519262373447, LR: 0.001\n"
     ]
    },
    {
     "name": "stderr",
     "output_type": "stream",
     "text": [
      "Epoch [42/200] Training: 100%|██████████| 600/600 [00:25<00:00, 23.87it/s, loss=0.00184]\n",
      "Epoch [42/200] Validation: 100%|██████████| 150/150 [00:02<00:00, 65.66it/s, loss=0.00205]\n"
     ]
    },
    {
     "name": "stdout",
     "output_type": "stream",
     "text": [
      "EarlyStopping counter: 4 out of 15\n",
      "Epoch [42/200], Train Loss: 0.0019141427834983916, Val Loss: 0.0019288107310421764, LR: 0.001\n"
     ]
    },
    {
     "name": "stderr",
     "output_type": "stream",
     "text": [
      "Epoch [43/200] Training: 100%|██████████| 600/600 [00:26<00:00, 22.84it/s, loss=0.00193]\n",
      "Epoch [43/200] Validation: 100%|██████████| 150/150 [00:02<00:00, 58.89it/s, loss=0.00195]\n"
     ]
    },
    {
     "name": "stdout",
     "output_type": "stream",
     "text": [
      "Epoch [43/200], Train Loss: 0.0019113299762830139, Val Loss: 0.001897085477442791, LR: 0.001\n"
     ]
    },
    {
     "name": "stderr",
     "output_type": "stream",
     "text": [
      "Epoch [44/200] Training: 100%|██████████| 600/600 [00:25<00:00, 23.29it/s, loss=0.00148]\n",
      "Epoch [44/200] Validation: 100%|██████████| 150/150 [00:02<00:00, 63.61it/s, loss=0.00201]\n"
     ]
    },
    {
     "name": "stdout",
     "output_type": "stream",
     "text": [
      "Epoch [44/200], Train Loss: 0.0019102141604525969, Val Loss: 0.001894463135395199, LR: 0.001\n"
     ]
    },
    {
     "name": "stderr",
     "output_type": "stream",
     "text": [
      "Epoch [45/200] Training: 100%|██████████| 600/600 [00:25<00:00, 23.41it/s, loss=0.00175]\n",
      "Epoch [45/200] Validation: 100%|██████████| 150/150 [00:02<00:00, 64.44it/s, loss=0.00201]\n"
     ]
    },
    {
     "name": "stdout",
     "output_type": "stream",
     "text": [
      "EarlyStopping counter: 1 out of 15\n",
      "Epoch [45/200], Train Loss: 0.0019096242376447966, Val Loss: 0.0019619846111163497, LR: 0.001\n"
     ]
    },
    {
     "name": "stderr",
     "output_type": "stream",
     "text": [
      "Epoch [46/200] Training: 100%|██████████| 600/600 [00:25<00:00, 23.35it/s, loss=0.00146]\n",
      "Epoch [46/200] Validation: 100%|██████████| 150/150 [00:02<00:00, 64.08it/s, loss=0.00198]\n"
     ]
    },
    {
     "name": "stdout",
     "output_type": "stream",
     "text": [
      "Epoch [46/200], Train Loss: 0.0019038428046042099, Val Loss: 0.0018860865888806681, LR: 0.001\n"
     ]
    },
    {
     "name": "stderr",
     "output_type": "stream",
     "text": [
      "Epoch [47/200] Training: 100%|██████████| 600/600 [00:26<00:00, 22.67it/s, loss=0.0012] \n",
      "Epoch [47/200] Validation: 100%|██████████| 150/150 [00:02<00:00, 65.34it/s, loss=0.00197]\n"
     ]
    },
    {
     "name": "stdout",
     "output_type": "stream",
     "text": [
      "Epoch [47/200], Train Loss: 0.001900193916905361, Val Loss: 0.0018694112674954037, LR: 0.001\n"
     ]
    },
    {
     "name": "stderr",
     "output_type": "stream",
     "text": [
      "Epoch [48/200] Training: 100%|██████████| 600/600 [00:25<00:00, 23.90it/s, loss=0.00317]\n",
      "Epoch [48/200] Validation: 100%|██████████| 150/150 [00:02<00:00, 65.93it/s, loss=0.00199]\n"
     ]
    },
    {
     "name": "stdout",
     "output_type": "stream",
     "text": [
      "EarlyStopping counter: 1 out of 15\n",
      "Epoch [48/200], Train Loss: 0.0018977864257370433, Val Loss: 0.0019058401719667017, LR: 0.001\n"
     ]
    },
    {
     "name": "stderr",
     "output_type": "stream",
     "text": [
      "Epoch [49/200] Training: 100%|██████████| 600/600 [00:25<00:00, 24.00it/s, loss=0.0022] \n",
      "Epoch [49/200] Validation: 100%|██████████| 150/150 [00:02<00:00, 66.64it/s, loss=0.00195]\n"
     ]
    },
    {
     "name": "stdout",
     "output_type": "stream",
     "text": [
      "EarlyStopping counter: 2 out of 15\n",
      "Epoch [49/200], Train Loss: 0.0019030004990054294, Val Loss: 0.0018800701286333303, LR: 0.001\n"
     ]
    },
    {
     "name": "stderr",
     "output_type": "stream",
     "text": [
      "Epoch [50/200] Training: 100%|██████████| 600/600 [00:25<00:00, 23.84it/s, loss=0.00172]\n",
      "Epoch [50/200] Validation: 100%|██████████| 150/150 [00:02<00:00, 65.87it/s, loss=0.00191]\n"
     ]
    },
    {
     "name": "stdout",
     "output_type": "stream",
     "text": [
      "EarlyStopping counter: 3 out of 15\n",
      "Epoch [50/200], Train Loss: 0.0018927443774494654, Val Loss: 0.001869427002966404, LR: 0.001\n"
     ]
    },
    {
     "name": "stderr",
     "output_type": "stream",
     "text": [
      "Epoch [51/200] Training: 100%|██████████| 600/600 [00:25<00:00, 23.80it/s, loss=0.00196]\n",
      "Epoch [51/200] Validation: 100%|██████████| 150/150 [00:02<00:00, 66.41it/s, loss=0.00199]\n"
     ]
    },
    {
     "name": "stdout",
     "output_type": "stream",
     "text": [
      "EarlyStopping counter: 4 out of 15\n",
      "Epoch [51/200], Train Loss: 0.0018884882911030824, Val Loss: 0.0018862762511707841, LR: 0.001\n"
     ]
    },
    {
     "name": "stderr",
     "output_type": "stream",
     "text": [
      "Epoch [52/200] Training: 100%|██████████| 600/600 [00:25<00:00, 23.83it/s, loss=0.00202]\n",
      "Epoch [52/200] Validation: 100%|██████████| 150/150 [00:02<00:00, 66.82it/s, loss=0.00193]\n"
     ]
    },
    {
     "name": "stdout",
     "output_type": "stream",
     "text": [
      "Epoch [52/200], Train Loss: 0.001888993966470783, Val Loss: 0.0018626143597066402, LR: 0.001\n"
     ]
    },
    {
     "name": "stderr",
     "output_type": "stream",
     "text": [
      "Epoch [53/200] Training: 100%|██████████| 600/600 [00:25<00:00, 23.77it/s, loss=0.00128]\n",
      "Epoch [53/200] Validation: 100%|██████████| 150/150 [00:02<00:00, 67.32it/s, loss=0.00199]\n"
     ]
    },
    {
     "name": "stdout",
     "output_type": "stream",
     "text": [
      "EarlyStopping counter: 1 out of 15\n",
      "Epoch [53/200], Train Loss: 0.001884561037683549, Val Loss: 0.001880271569825709, LR: 0.001\n"
     ]
    },
    {
     "name": "stderr",
     "output_type": "stream",
     "text": [
      "Epoch [54/200] Training: 100%|██████████| 600/600 [00:25<00:00, 23.86it/s, loss=0.00222]\n",
      "Epoch [54/200] Validation: 100%|██████████| 150/150 [00:02<00:00, 66.24it/s, loss=0.00199]\n"
     ]
    },
    {
     "name": "stdout",
     "output_type": "stream",
     "text": [
      "EarlyStopping counter: 2 out of 15\n",
      "Epoch [54/200], Train Loss: 0.0018816595415895184, Val Loss: 0.0019154509133659304, LR: 0.001\n"
     ]
    },
    {
     "name": "stderr",
     "output_type": "stream",
     "text": [
      "Epoch [55/200] Training: 100%|██████████| 600/600 [00:25<00:00, 23.82it/s, loss=0.0016] \n",
      "Epoch [55/200] Validation: 100%|██████████| 150/150 [00:02<00:00, 68.42it/s, loss=0.00194]\n"
     ]
    },
    {
     "name": "stdout",
     "output_type": "stream",
     "text": [
      "EarlyStopping counter: 3 out of 15\n",
      "Epoch [55/200], Train Loss: 0.001884145454193155, Val Loss: 0.0018722863184909026, LR: 0.001\n"
     ]
    },
    {
     "name": "stderr",
     "output_type": "stream",
     "text": [
      "Epoch [56/200] Training: 100%|██████████| 600/600 [00:24<00:00, 24.49it/s, loss=0.00162]\n",
      "Epoch [56/200] Validation: 100%|██████████| 150/150 [00:02<00:00, 68.48it/s, loss=0.00193]\n"
     ]
    },
    {
     "name": "stdout",
     "output_type": "stream",
     "text": [
      "Epoch [56/200], Train Loss: 0.0018827005561130742, Val Loss: 0.0018548087302284937, LR: 0.001\n"
     ]
    },
    {
     "name": "stderr",
     "output_type": "stream",
     "text": [
      "Epoch [57/200] Training: 100%|██████████| 600/600 [00:24<00:00, 24.24it/s, loss=0.00129]\n",
      "Epoch [57/200] Validation: 100%|██████████| 150/150 [00:02<00:00, 66.76it/s, loss=0.00193]\n"
     ]
    },
    {
     "name": "stdout",
     "output_type": "stream",
     "text": [
      "EarlyStopping counter: 1 out of 15\n",
      "Epoch [57/200], Train Loss: 0.001875625723041594, Val Loss: 0.0018552354342925052, LR: 0.001\n"
     ]
    },
    {
     "name": "stderr",
     "output_type": "stream",
     "text": [
      "Epoch [58/200] Training: 100%|██████████| 600/600 [00:25<00:00, 23.85it/s, loss=0.00275]\n",
      "Epoch [58/200] Validation: 100%|██████████| 150/150 [00:02<00:00, 66.06it/s, loss=0.00191]\n"
     ]
    },
    {
     "name": "stdout",
     "output_type": "stream",
     "text": [
      "EarlyStopping counter: 2 out of 15\n",
      "Epoch [58/200], Train Loss: 0.0018788617511745543, Val Loss: 0.001866787178441882, LR: 0.001\n"
     ]
    },
    {
     "name": "stderr",
     "output_type": "stream",
     "text": [
      "Epoch [59/200] Training: 100%|██████████| 600/600 [00:25<00:00, 23.79it/s, loss=0.00252]\n",
      "Epoch [59/200] Validation: 100%|██████████| 150/150 [00:02<00:00, 65.84it/s, loss=0.00196]\n"
     ]
    },
    {
     "name": "stdout",
     "output_type": "stream",
     "text": [
      "EarlyStopping counter: 3 out of 15\n",
      "Epoch [59/200], Train Loss: 0.001872665297317629, Val Loss: 0.001912240287444244, LR: 0.001\n"
     ]
    },
    {
     "name": "stderr",
     "output_type": "stream",
     "text": [
      "Epoch [60/200] Training: 100%|██████████| 600/600 [00:25<00:00, 23.86it/s, loss=0.00166]\n",
      "Epoch [60/200] Validation: 100%|██████████| 150/150 [00:02<00:00, 66.01it/s, loss=0.00195]\n"
     ]
    },
    {
     "name": "stdout",
     "output_type": "stream",
     "text": [
      "EarlyStopping counter: 4 out of 15\n",
      "Epoch [60/200], Train Loss: 0.0018710481326949472, Val Loss: 0.0019169901303636532, LR: 0.001\n"
     ]
    },
    {
     "name": "stderr",
     "output_type": "stream",
     "text": [
      "Epoch [61/200] Training: 100%|██████████| 600/600 [00:25<00:00, 23.79it/s, loss=0.00147]\n",
      "Epoch [61/200] Validation: 100%|██████████| 150/150 [00:02<00:00, 65.87it/s, loss=0.00193]\n"
     ]
    },
    {
     "name": "stdout",
     "output_type": "stream",
     "text": [
      "EarlyStopping counter: 5 out of 15\n",
      "Epoch [61/200], Train Loss: 0.0018718074739445, Val Loss: 0.001857504954872032, LR: 0.001\n"
     ]
    },
    {
     "name": "stderr",
     "output_type": "stream",
     "text": [
      "Epoch [62/200] Training: 100%|██████████| 600/600 [00:25<00:00, 23.95it/s, loss=0.00246]\n",
      "Epoch [62/200] Validation: 100%|██████████| 150/150 [00:02<00:00, 65.49it/s, loss=0.00196]\n"
     ]
    },
    {
     "name": "stdout",
     "output_type": "stream",
     "text": [
      "EarlyStopping counter: 6 out of 15\n",
      "Epoch [62/200], Train Loss: 0.001870035477913916, Val Loss: 0.0019025384192354977, LR: 0.001\n"
     ]
    },
    {
     "name": "stderr",
     "output_type": "stream",
     "text": [
      "Epoch [63/200] Training: 100%|██████████| 600/600 [00:25<00:00, 23.84it/s, loss=0.00271]\n",
      "Epoch [63/200] Validation: 100%|██████████| 150/150 [00:02<00:00, 66.65it/s, loss=0.00202]\n"
     ]
    },
    {
     "name": "stdout",
     "output_type": "stream",
     "text": [
      "EarlyStopping counter: 7 out of 15\n",
      "Epoch [63/200], Train Loss: 0.001866168721074549, Val Loss: 0.0019007004021356503, LR: 0.001\n"
     ]
    },
    {
     "name": "stderr",
     "output_type": "stream",
     "text": [
      "Epoch [64/200] Training: 100%|██████████| 600/600 [00:25<00:00, 23.77it/s, loss=0.00136]\n",
      "Epoch [64/200] Validation: 100%|██████████| 150/150 [00:02<00:00, 65.67it/s, loss=0.0019] \n"
     ]
    },
    {
     "name": "stdout",
     "output_type": "stream",
     "text": [
      "Epoch [64/200], Train Loss: 0.0018646944863333677, Val Loss: 0.0018338222716314098, LR: 0.001\n"
     ]
    },
    {
     "name": "stderr",
     "output_type": "stream",
     "text": [
      "Epoch [65/200] Training: 100%|██████████| 600/600 [00:25<00:00, 23.93it/s, loss=0.00186]\n",
      "Epoch [65/200] Validation: 100%|██████████| 150/150 [00:02<00:00, 66.55it/s, loss=0.00194]\n"
     ]
    },
    {
     "name": "stdout",
     "output_type": "stream",
     "text": [
      "EarlyStopping counter: 1 out of 15\n",
      "Epoch [65/200], Train Loss: 0.001860667096528535, Val Loss: 0.0018932396258848408, LR: 0.001\n"
     ]
    },
    {
     "name": "stderr",
     "output_type": "stream",
     "text": [
      "Epoch [66/200] Training: 100%|██████████| 600/600 [00:25<00:00, 23.84it/s, loss=0.00266]\n",
      "Epoch [66/200] Validation: 100%|██████████| 150/150 [00:02<00:00, 66.51it/s, loss=0.00189]\n"
     ]
    },
    {
     "name": "stdout",
     "output_type": "stream",
     "text": [
      "EarlyStopping counter: 2 out of 15\n",
      "Epoch [66/200], Train Loss: 0.0018658875006561477, Val Loss: 0.0018355779016080002, LR: 0.001\n"
     ]
    },
    {
     "name": "stderr",
     "output_type": "stream",
     "text": [
      "Epoch [67/200] Training: 100%|██████████| 600/600 [00:25<00:00, 23.84it/s, loss=0.00189]\n",
      "Epoch [67/200] Validation: 100%|██████████| 150/150 [00:02<00:00, 65.13it/s, loss=0.00191]\n"
     ]
    },
    {
     "name": "stdout",
     "output_type": "stream",
     "text": [
      "EarlyStopping counter: 3 out of 15\n",
      "Epoch [67/200], Train Loss: 0.0018628890007191027, Val Loss: 0.0018390173465013505, LR: 0.001\n"
     ]
    },
    {
     "name": "stderr",
     "output_type": "stream",
     "text": [
      "Epoch [68/200] Training: 100%|██████████| 600/600 [00:25<00:00, 23.42it/s, loss=0.00242]\n",
      "Epoch [68/200] Validation: 100%|██████████| 150/150 [00:02<00:00, 64.93it/s, loss=0.00196]\n"
     ]
    },
    {
     "name": "stdout",
     "output_type": "stream",
     "text": [
      "EarlyStopping counter: 4 out of 15\n",
      "Epoch [68/200], Train Loss: 0.0018588990083662793, Val Loss: 0.00188030284208556, LR: 0.001\n"
     ]
    },
    {
     "name": "stderr",
     "output_type": "stream",
     "text": [
      "Epoch [69/200] Training: 100%|██████████| 600/600 [00:25<00:00, 23.18it/s, loss=0.00261]\n",
      "Epoch [69/200] Validation: 100%|██████████| 150/150 [00:02<00:00, 63.25it/s, loss=0.00197]\n"
     ]
    },
    {
     "name": "stdout",
     "output_type": "stream",
     "text": [
      "EarlyStopping counter: 5 out of 15\n",
      "Epoch [69/200], Train Loss: 0.0018593272937384123, Val Loss: 0.001864753980965664, LR: 0.001\n"
     ]
    },
    {
     "name": "stderr",
     "output_type": "stream",
     "text": [
      "Epoch [70/200] Training: 100%|██████████| 600/600 [00:26<00:00, 22.87it/s, loss=0.00296]\n",
      "Epoch [70/200] Validation: 100%|██████████| 150/150 [00:02<00:00, 63.76it/s, loss=0.00197]\n"
     ]
    },
    {
     "name": "stdout",
     "output_type": "stream",
     "text": [
      "EarlyStopping counter: 6 out of 15\n",
      "Epoch [70/200], Train Loss: 0.0018603223620448262, Val Loss: 0.001894307208713144, LR: 0.001\n"
     ]
    },
    {
     "name": "stderr",
     "output_type": "stream",
     "text": [
      "Epoch [71/200] Training: 100%|██████████| 600/600 [00:25<00:00, 23.39it/s, loss=0.002]  \n",
      "Epoch [71/200] Validation: 100%|██████████| 150/150 [00:02<00:00, 64.39it/s, loss=0.00196]\n"
     ]
    },
    {
     "name": "stdout",
     "output_type": "stream",
     "text": [
      "EarlyStopping counter: 7 out of 15\n",
      "Epoch [71/200], Train Loss: 0.0018554465767617026, Val Loss: 0.0018727048339011768, LR: 0.001\n"
     ]
    },
    {
     "name": "stderr",
     "output_type": "stream",
     "text": [
      "Epoch [72/200] Training: 100%|██████████| 600/600 [00:25<00:00, 23.29it/s, loss=0.00363]\n",
      "Epoch [72/200] Validation: 100%|██████████| 150/150 [00:02<00:00, 63.68it/s, loss=0.00198]\n"
     ]
    },
    {
     "name": "stdout",
     "output_type": "stream",
     "text": [
      "EarlyStopping counter: 8 out of 15\n",
      "Epoch [72/200], Train Loss: 0.0018537581199780107, Val Loss: 0.001942708344819645, LR: 0.001\n"
     ]
    },
    {
     "name": "stderr",
     "output_type": "stream",
     "text": [
      "Epoch [73/200] Training: 100%|██████████| 600/600 [00:25<00:00, 23.82it/s, loss=0.0023] \n",
      "Epoch [73/200] Validation: 100%|██████████| 150/150 [00:02<00:00, 66.43it/s, loss=0.00189]\n"
     ]
    },
    {
     "name": "stdout",
     "output_type": "stream",
     "text": [
      "Epoch [73/200], Train Loss: 0.0018529094955495868, Val Loss: 0.0018285566638223828, LR: 0.001\n"
     ]
    },
    {
     "name": "stderr",
     "output_type": "stream",
     "text": [
      "Epoch [74/200] Training: 100%|██████████| 600/600 [00:25<00:00, 23.91it/s, loss=0.00268]\n",
      "Epoch [74/200] Validation: 100%|██████████| 150/150 [00:02<00:00, 63.97it/s, loss=0.00192]\n"
     ]
    },
    {
     "name": "stdout",
     "output_type": "stream",
     "text": [
      "EarlyStopping counter: 1 out of 15\n",
      "Epoch [74/200], Train Loss: 0.0018492947400469953, Val Loss: 0.001881634215048204, LR: 0.001\n"
     ]
    },
    {
     "name": "stderr",
     "output_type": "stream",
     "text": [
      "Epoch [75/200] Training: 100%|██████████| 600/600 [00:25<00:00, 23.32it/s, loss=0.00152]\n",
      "Epoch [75/200] Validation: 100%|██████████| 150/150 [00:02<00:00, 65.70it/s, loss=0.00197]\n"
     ]
    },
    {
     "name": "stdout",
     "output_type": "stream",
     "text": [
      "EarlyStopping counter: 2 out of 15\n",
      "Epoch [75/200], Train Loss: 0.001849899814891008, Val Loss: 0.0018618593116601309, LR: 0.001\n"
     ]
    },
    {
     "name": "stderr",
     "output_type": "stream",
     "text": [
      "Epoch [76/200] Training: 100%|██████████| 600/600 [00:25<00:00, 23.54it/s, loss=0.00262]\n",
      "Epoch [76/200] Validation: 100%|██████████| 150/150 [00:02<00:00, 62.83it/s, loss=0.00196]\n"
     ]
    },
    {
     "name": "stdout",
     "output_type": "stream",
     "text": [
      "EarlyStopping counter: 3 out of 15\n",
      "Epoch [76/200], Train Loss: 0.0018486868110873427, Val Loss: 0.0018982898878554502, LR: 0.001\n"
     ]
    },
    {
     "name": "stderr",
     "output_type": "stream",
     "text": [
      "Epoch [77/200] Training: 100%|██████████| 600/600 [00:25<00:00, 23.16it/s, loss=0.00188]\n",
      "Epoch [77/200] Validation: 100%|██████████| 150/150 [00:02<00:00, 63.59it/s, loss=0.00189]\n"
     ]
    },
    {
     "name": "stdout",
     "output_type": "stream",
     "text": [
      "EarlyStopping counter: 4 out of 15\n",
      "Epoch [77/200], Train Loss: 0.0018453063216293231, Val Loss: 0.0018621158762834966, LR: 0.001\n"
     ]
    },
    {
     "name": "stderr",
     "output_type": "stream",
     "text": [
      "Epoch [78/200] Training: 100%|██████████| 600/600 [00:25<00:00, 23.81it/s, loss=0.0018] \n",
      "Epoch [78/200] Validation: 100%|██████████| 150/150 [00:02<00:00, 66.49it/s, loss=0.00193]\n"
     ]
    },
    {
     "name": "stdout",
     "output_type": "stream",
     "text": [
      "EarlyStopping counter: 5 out of 15\n",
      "Epoch [78/200], Train Loss: 0.001844601805205457, Val Loss: 0.001858695720632871, LR: 0.001\n"
     ]
    },
    {
     "name": "stderr",
     "output_type": "stream",
     "text": [
      "Epoch [79/200] Training: 100%|██████████| 600/600 [00:25<00:00, 23.78it/s, loss=0.00179]\n",
      "Epoch [79/200] Validation: 100%|██████████| 150/150 [00:02<00:00, 65.87it/s, loss=0.0019] \n"
     ]
    },
    {
     "name": "stdout",
     "output_type": "stream",
     "text": [
      "EarlyStopping counter: 6 out of 15\n",
      "Epoch [79/200], Train Loss: 0.0018460053704135741, Val Loss: 0.0018428128057469924, LR: 0.001\n"
     ]
    },
    {
     "name": "stderr",
     "output_type": "stream",
     "text": [
      "Epoch [80/200] Training: 100%|██████████| 600/600 [00:25<00:00, 23.75it/s, loss=0.00163]\n",
      "Epoch [80/200] Validation: 100%|██████████| 150/150 [00:02<00:00, 65.41it/s, loss=0.0019] \n"
     ]
    },
    {
     "name": "stdout",
     "output_type": "stream",
     "text": [
      "EarlyStopping counter: 7 out of 15\n",
      "Epoch [80/200], Train Loss: 0.0018381981695226083, Val Loss: 0.0018440554461752374, LR: 0.001\n"
     ]
    },
    {
     "name": "stderr",
     "output_type": "stream",
     "text": [
      "Epoch [81/200] Training: 100%|██████████| 600/600 [00:25<00:00, 23.81it/s, loss=0.00139]\n",
      "Epoch [81/200] Validation: 100%|██████████| 150/150 [00:02<00:00, 66.41it/s, loss=0.00188]\n"
     ]
    },
    {
     "name": "stdout",
     "output_type": "stream",
     "text": [
      "EarlyStopping counter: 8 out of 15\n",
      "Epoch [81/200], Train Loss: 0.0018424290758169567, Val Loss: 0.0018738174306539197, LR: 0.001\n"
     ]
    },
    {
     "name": "stderr",
     "output_type": "stream",
     "text": [
      "Epoch [82/200] Training: 100%|██████████| 600/600 [00:25<00:00, 23.81it/s, loss=0.00163]\n",
      "Epoch [82/200] Validation: 100%|██████████| 150/150 [00:02<00:00, 66.00it/s, loss=0.00189]\n"
     ]
    },
    {
     "name": "stdout",
     "output_type": "stream",
     "text": [
      "EarlyStopping counter: 9 out of 15\n",
      "Epoch [82/200], Train Loss: 0.0018433127369886886, Val Loss: 0.0018563245221351584, LR: 0.001\n"
     ]
    },
    {
     "name": "stderr",
     "output_type": "stream",
     "text": [
      "Epoch [83/200] Training: 100%|██████████| 600/600 [00:26<00:00, 22.34it/s, loss=0.00166]\n",
      "Epoch [83/200] Validation: 100%|██████████| 150/150 [00:02<00:00, 59.01it/s, loss=0.00194]\n"
     ]
    },
    {
     "name": "stdout",
     "output_type": "stream",
     "text": [
      "EarlyStopping counter: 10 out of 15\n",
      "Epoch [83/200], Train Loss: 0.001841046351279753, Val Loss: 0.001877008443698287, LR: 0.001\n"
     ]
    },
    {
     "name": "stderr",
     "output_type": "stream",
     "text": [
      "Epoch [84/200] Training: 100%|██████████| 600/600 [00:25<00:00, 23.48it/s, loss=0.00126]\n",
      "Epoch [84/200] Validation: 100%|██████████| 150/150 [00:02<00:00, 64.92it/s, loss=0.00193]\n"
     ]
    },
    {
     "name": "stdout",
     "output_type": "stream",
     "text": [
      "EarlyStopping counter: 11 out of 15\n",
      "Epoch [84/200], Train Loss: 0.0018385981801354015, Val Loss: 0.001885147710175564, LR: 0.0005\n"
     ]
    },
    {
     "name": "stderr",
     "output_type": "stream",
     "text": [
      "Epoch [85/200] Training: 100%|██████████| 600/600 [00:25<00:00, 23.52it/s, loss=0.00157]\n",
      "Epoch [85/200] Validation: 100%|██████████| 150/150 [00:02<00:00, 63.99it/s, loss=0.00187]\n"
     ]
    },
    {
     "name": "stdout",
     "output_type": "stream",
     "text": [
      "Epoch [85/200], Train Loss: 0.001799651634064503, Val Loss: 0.001814427274124076, LR: 0.0005\n"
     ]
    },
    {
     "name": "stderr",
     "output_type": "stream",
     "text": [
      "Epoch [86/200] Training: 100%|██████████| 600/600 [00:25<00:00, 23.63it/s, loss=0.00153]\n",
      "Epoch [86/200] Validation: 100%|██████████| 150/150 [00:02<00:00, 64.40it/s, loss=0.00186]\n"
     ]
    },
    {
     "name": "stdout",
     "output_type": "stream",
     "text": [
      "EarlyStopping counter: 1 out of 15\n",
      "Epoch [86/200], Train Loss: 0.0017984909841713185, Val Loss: 0.0018149664090014994, LR: 0.0005\n"
     ]
    },
    {
     "name": "stderr",
     "output_type": "stream",
     "text": [
      "Epoch [87/200] Training: 100%|██████████| 600/600 [00:25<00:00, 23.57it/s, loss=0.00176]\n",
      "Epoch [87/200] Validation: 100%|██████████| 150/150 [00:02<00:00, 61.82it/s, loss=0.00189]\n"
     ]
    },
    {
     "name": "stdout",
     "output_type": "stream",
     "text": [
      "Epoch [87/200], Train Loss: 0.0017949838761705905, Val Loss: 0.0018130032694898546, LR: 0.0005\n"
     ]
    },
    {
     "name": "stderr",
     "output_type": "stream",
     "text": [
      "Epoch [88/200] Training: 100%|██████████| 600/600 [00:26<00:00, 23.04it/s, loss=0.00165]\n",
      "Epoch [88/200] Validation: 100%|██████████| 150/150 [00:02<00:00, 62.46it/s, loss=0.00188]\n"
     ]
    },
    {
     "name": "stdout",
     "output_type": "stream",
     "text": [
      "Epoch [88/200], Train Loss: 0.0017958242397677774, Val Loss: 0.0018026077382576962, LR: 0.0005\n"
     ]
    },
    {
     "name": "stderr",
     "output_type": "stream",
     "text": [
      "Epoch [89/200] Training: 100%|██████████| 600/600 [00:25<00:00, 23.31it/s, loss=0.00168]\n",
      "Epoch [89/200] Validation: 100%|██████████| 150/150 [00:02<00:00, 64.59it/s, loss=0.00187]\n"
     ]
    },
    {
     "name": "stdout",
     "output_type": "stream",
     "text": [
      "Epoch [89/200], Train Loss: 0.0017945505961931, Val Loss: 0.0018009003717452288, LR: 0.0005\n"
     ]
    },
    {
     "name": "stderr",
     "output_type": "stream",
     "text": [
      "Epoch [90/200] Training: 100%|██████████| 600/600 [00:25<00:00, 23.27it/s, loss=0.00201]\n",
      "Epoch [90/200] Validation: 100%|██████████| 150/150 [00:02<00:00, 63.53it/s, loss=0.00187]\n"
     ]
    },
    {
     "name": "stdout",
     "output_type": "stream",
     "text": [
      "EarlyStopping counter: 1 out of 15\n",
      "Epoch [90/200], Train Loss: 0.001791456391608032, Val Loss: 0.001808130391097317, LR: 0.0005\n"
     ]
    },
    {
     "name": "stderr",
     "output_type": "stream",
     "text": [
      "Epoch [91/200] Training: 100%|██████████| 600/600 [00:25<00:00, 23.30it/s, loss=0.00226]\n",
      "Epoch [91/200] Validation: 100%|██████████| 150/150 [00:02<00:00, 64.23it/s, loss=0.00186]\n"
     ]
    },
    {
     "name": "stdout",
     "output_type": "stream",
     "text": [
      "Epoch [91/200], Train Loss: 0.001793379057586814, Val Loss: 0.0017983051513632139, LR: 0.0005\n"
     ]
    },
    {
     "name": "stderr",
     "output_type": "stream",
     "text": [
      "Epoch [92/200] Training: 100%|██████████| 600/600 [00:25<00:00, 23.10it/s, loss=0.00191]\n",
      "Epoch [92/200] Validation: 100%|██████████| 150/150 [00:02<00:00, 63.81it/s, loss=0.00186]\n"
     ]
    },
    {
     "name": "stdout",
     "output_type": "stream",
     "text": [
      "EarlyStopping counter: 1 out of 15\n",
      "Epoch [92/200], Train Loss: 0.001791075297902959, Val Loss: 0.001813311908238878, LR: 0.0005\n"
     ]
    },
    {
     "name": "stderr",
     "output_type": "stream",
     "text": [
      "Epoch [93/200] Training: 100%|██████████| 600/600 [00:25<00:00, 23.42it/s, loss=0.00205]\n",
      "Epoch [93/200] Validation: 100%|██████████| 150/150 [00:02<00:00, 66.14it/s, loss=0.00187]\n"
     ]
    },
    {
     "name": "stdout",
     "output_type": "stream",
     "text": [
      "EarlyStopping counter: 2 out of 15\n",
      "Epoch [93/200], Train Loss: 0.001794193085321846, Val Loss: 0.001807104991748929, LR: 0.0005\n"
     ]
    },
    {
     "name": "stderr",
     "output_type": "stream",
     "text": [
      "Epoch [94/200] Training: 100%|██████████| 600/600 [00:25<00:00, 23.79it/s, loss=0.00229]\n",
      "Epoch [94/200] Validation: 100%|██████████| 150/150 [00:02<00:00, 65.61it/s, loss=0.00188]\n"
     ]
    },
    {
     "name": "stdout",
     "output_type": "stream",
     "text": [
      "EarlyStopping counter: 3 out of 15\n",
      "Epoch [94/200], Train Loss: 0.0017914093181025236, Val Loss: 0.0018285268234709898, LR: 0.0005\n"
     ]
    },
    {
     "name": "stderr",
     "output_type": "stream",
     "text": [
      "Epoch [95/200] Training: 100%|██████████| 600/600 [00:25<00:00, 23.90it/s, loss=0.00319]\n",
      "Epoch [95/200] Validation: 100%|██████████| 150/150 [00:02<00:00, 65.31it/s, loss=0.00187]\n"
     ]
    },
    {
     "name": "stdout",
     "output_type": "stream",
     "text": [
      "EarlyStopping counter: 4 out of 15\n",
      "Epoch [95/200], Train Loss: 0.0017905853710059698, Val Loss: 0.0018149088773255547, LR: 0.0005\n"
     ]
    },
    {
     "name": "stderr",
     "output_type": "stream",
     "text": [
      "Epoch [96/200] Training: 100%|██████████| 600/600 [00:25<00:00, 23.78it/s, loss=0.00259]\n",
      "Epoch [96/200] Validation: 100%|██████████| 150/150 [00:02<00:00, 65.99it/s, loss=0.00186]\n"
     ]
    },
    {
     "name": "stdout",
     "output_type": "stream",
     "text": [
      "EarlyStopping counter: 5 out of 15\n",
      "Epoch [96/200], Train Loss: 0.0017896502589186032, Val Loss: 0.0018139859459673365, LR: 0.0005\n"
     ]
    },
    {
     "name": "stderr",
     "output_type": "stream",
     "text": [
      "Epoch [97/200] Training: 100%|██████████| 600/600 [00:25<00:00, 23.85it/s, loss=0.00257]\n",
      "Epoch [97/200] Validation: 100%|██████████| 150/150 [00:02<00:00, 65.54it/s, loss=0.00186]\n"
     ]
    },
    {
     "name": "stdout",
     "output_type": "stream",
     "text": [
      "Epoch [97/200], Train Loss: 0.0017876741922615716, Val Loss: 0.001796666351146996, LR: 0.0005\n"
     ]
    },
    {
     "name": "stderr",
     "output_type": "stream",
     "text": [
      "Epoch [98/200] Training: 100%|██████████| 600/600 [00:26<00:00, 22.61it/s, loss=0.00169]\n",
      "Epoch [98/200] Validation: 100%|██████████| 150/150 [00:02<00:00, 57.02it/s, loss=0.00185]\n"
     ]
    },
    {
     "name": "stdout",
     "output_type": "stream",
     "text": [
      "EarlyStopping counter: 1 out of 15\n",
      "Epoch [98/200], Train Loss: 0.001786698436868998, Val Loss: 0.0018093628607069453, LR: 0.0005\n"
     ]
    },
    {
     "name": "stderr",
     "output_type": "stream",
     "text": [
      "Epoch [99/200] Training: 100%|██████████| 600/600 [00:25<00:00, 23.15it/s, loss=0.00252]\n",
      "Epoch [99/200] Validation: 100%|██████████| 150/150 [00:02<00:00, 68.19it/s, loss=0.00188]\n"
     ]
    },
    {
     "name": "stdout",
     "output_type": "stream",
     "text": [
      "EarlyStopping counter: 2 out of 15\n",
      "Epoch [99/200], Train Loss: 0.0017877504576851303, Val Loss: 0.0018010739462139705, LR: 0.0005\n"
     ]
    },
    {
     "name": "stderr",
     "output_type": "stream",
     "text": [
      "Epoch [100/200] Training: 100%|██████████| 600/600 [00:24<00:00, 24.52it/s, loss=0.00114]\n",
      "Epoch [100/200] Validation: 100%|██████████| 150/150 [00:02<00:00, 66.35it/s, loss=0.00186]\n"
     ]
    },
    {
     "name": "stdout",
     "output_type": "stream",
     "text": [
      "EarlyStopping counter: 3 out of 15\n",
      "Epoch [100/200], Train Loss: 0.00178347878701364, Val Loss: 0.0018016416882164776, LR: 0.0005\n"
     ]
    },
    {
     "name": "stderr",
     "output_type": "stream",
     "text": [
      "Epoch [101/200] Training: 100%|██████████| 600/600 [00:24<00:00, 24.30it/s, loss=0.00233]\n",
      "Epoch [101/200] Validation: 100%|██████████| 150/150 [00:02<00:00, 68.04it/s, loss=0.00186]\n"
     ]
    },
    {
     "name": "stdout",
     "output_type": "stream",
     "text": [
      "Epoch [101/200], Train Loss: 0.0017858833819627761, Val Loss: 0.0017944743135012687, LR: 0.0005\n"
     ]
    },
    {
     "name": "stderr",
     "output_type": "stream",
     "text": [
      "Epoch [102/200] Training: 100%|██████████| 600/600 [00:26<00:00, 22.31it/s, loss=0.00173]\n",
      "Epoch [102/200] Validation: 100%|██████████| 150/150 [00:02<00:00, 63.17it/s, loss=0.00185]\n"
     ]
    },
    {
     "name": "stdout",
     "output_type": "stream",
     "text": [
      "EarlyStopping counter: 1 out of 15\n",
      "Epoch [102/200], Train Loss: 0.0017850526953892161, Val Loss: 0.0018035119756435354, LR: 0.0005\n"
     ]
    },
    {
     "name": "stderr",
     "output_type": "stream",
     "text": [
      "Epoch [103/200] Training: 100%|██████████| 600/600 [00:25<00:00, 23.20it/s, loss=0.00161]\n",
      "Epoch [103/200] Validation: 100%|██████████| 150/150 [00:02<00:00, 63.88it/s, loss=0.00187]\n"
     ]
    },
    {
     "name": "stdout",
     "output_type": "stream",
     "text": [
      "EarlyStopping counter: 2 out of 15\n",
      "Epoch [103/200], Train Loss: 0.0017845430128121127, Val Loss: 0.0018538639329684276, LR: 0.0005\n"
     ]
    },
    {
     "name": "stderr",
     "output_type": "stream",
     "text": [
      "Epoch [104/200] Training: 100%|██████████| 600/600 [00:25<00:00, 23.43it/s, loss=0.00267]\n",
      "Epoch [104/200] Validation: 100%|██████████| 150/150 [00:02<00:00, 65.11it/s, loss=0.00188]\n"
     ]
    },
    {
     "name": "stdout",
     "output_type": "stream",
     "text": [
      "EarlyStopping counter: 3 out of 15\n",
      "Epoch [104/200], Train Loss: 0.0017864632893664141, Val Loss: 0.001805290012465169, LR: 0.0005\n"
     ]
    },
    {
     "name": "stderr",
     "output_type": "stream",
     "text": [
      "Epoch [105/200] Training: 100%|██████████| 600/600 [00:25<00:00, 23.51it/s, loss=0.00149]\n",
      "Epoch [105/200] Validation: 100%|██████████| 150/150 [00:02<00:00, 64.67it/s, loss=0.00188]\n"
     ]
    },
    {
     "name": "stdout",
     "output_type": "stream",
     "text": [
      "EarlyStopping counter: 4 out of 15\n",
      "Epoch [105/200], Train Loss: 0.001784473312436603, Val Loss: 0.0018003373166235784, LR: 0.0005\n"
     ]
    },
    {
     "name": "stderr",
     "output_type": "stream",
     "text": [
      "Epoch [106/200] Training: 100%|██████████| 600/600 [00:25<00:00, 23.52it/s, loss=0.00219]\n",
      "Epoch [106/200] Validation: 100%|██████████| 150/150 [00:02<00:00, 65.44it/s, loss=0.00187]\n"
     ]
    },
    {
     "name": "stdout",
     "output_type": "stream",
     "text": [
      "EarlyStopping counter: 5 out of 15\n",
      "Epoch [106/200], Train Loss: 0.0017848574216865623, Val Loss: 0.0018030259339138865, LR: 0.0005\n"
     ]
    },
    {
     "name": "stderr",
     "output_type": "stream",
     "text": [
      "Epoch [107/200] Training: 100%|██████████| 600/600 [00:27<00:00, 21.91it/s, loss=0.00143]\n",
      "Epoch [107/200] Validation: 100%|██████████| 150/150 [00:02<00:00, 63.00it/s, loss=0.00189]\n"
     ]
    },
    {
     "name": "stdout",
     "output_type": "stream",
     "text": [
      "EarlyStopping counter: 6 out of 15\n",
      "Epoch [107/200], Train Loss: 0.0017792925087269395, Val Loss: 0.0018007389696625372, LR: 0.0005\n"
     ]
    },
    {
     "name": "stderr",
     "output_type": "stream",
     "text": [
      "Epoch [108/200] Training: 100%|██████████| 600/600 [00:26<00:00, 23.02it/s, loss=0.0013] \n",
      "Epoch [108/200] Validation: 100%|██████████| 150/150 [00:02<00:00, 63.80it/s, loss=0.00186]\n"
     ]
    },
    {
     "name": "stdout",
     "output_type": "stream",
     "text": [
      "EarlyStopping counter: 7 out of 15\n",
      "Epoch [108/200], Train Loss: 0.0017819789381852994, Val Loss: 0.0018047709623351693, LR: 0.0005\n"
     ]
    },
    {
     "name": "stderr",
     "output_type": "stream",
     "text": [
      "Epoch [109/200] Training: 100%|██████████| 600/600 [00:26<00:00, 23.07it/s, loss=0.00165]\n",
      "Epoch [109/200] Validation: 100%|██████████| 150/150 [00:02<00:00, 63.41it/s, loss=0.00185]\n"
     ]
    },
    {
     "name": "stdout",
     "output_type": "stream",
     "text": [
      "EarlyStopping counter: 8 out of 15\n",
      "Epoch [109/200], Train Loss: 0.0017794463073369116, Val Loss: 0.0018006634836395582, LR: 0.0005\n"
     ]
    },
    {
     "name": "stderr",
     "output_type": "stream",
     "text": [
      "Epoch [110/200] Training: 100%|██████████| 600/600 [00:25<00:00, 23.14it/s, loss=0.00163]\n",
      "Epoch [110/200] Validation: 100%|██████████| 150/150 [00:02<00:00, 64.43it/s, loss=0.00185]\n"
     ]
    },
    {
     "name": "stdout",
     "output_type": "stream",
     "text": [
      "EarlyStopping counter: 9 out of 15\n",
      "Epoch [110/200], Train Loss: 0.0017790309737514083, Val Loss: 0.0018187643525501092, LR: 0.0005\n"
     ]
    },
    {
     "name": "stderr",
     "output_type": "stream",
     "text": [
      "Epoch [111/200] Training: 100%|██████████| 600/600 [00:25<00:00, 23.13it/s, loss=0.00133]\n",
      "Epoch [111/200] Validation: 100%|██████████| 150/150 [00:02<00:00, 63.63it/s, loss=0.00187]\n"
     ]
    },
    {
     "name": "stdout",
     "output_type": "stream",
     "text": [
      "EarlyStopping counter: 10 out of 15\n",
      "Epoch [111/200], Train Loss: 0.0017806352523621171, Val Loss: 0.0018272966317211588, LR: 0.0005\n"
     ]
    },
    {
     "name": "stderr",
     "output_type": "stream",
     "text": [
      "Epoch [112/200] Training: 100%|██████████| 600/600 [00:25<00:00, 23.21it/s, loss=0.00105]\n",
      "Epoch [112/200] Validation: 100%|██████████| 150/150 [00:02<00:00, 64.17it/s, loss=0.00189]\n"
     ]
    },
    {
     "name": "stdout",
     "output_type": "stream",
     "text": [
      "EarlyStopping counter: 11 out of 15\n",
      "Epoch [112/200], Train Loss: 0.0017762182235795383, Val Loss: 0.0018166195251978934, LR: 0.00025\n"
     ]
    },
    {
     "name": "stderr",
     "output_type": "stream",
     "text": [
      "Epoch [113/200] Training: 100%|██████████| 600/600 [00:25<00:00, 23.17it/s, loss=0.00136]\n",
      "Epoch [113/200] Validation: 100%|██████████| 150/150 [00:02<00:00, 63.50it/s, loss=0.00186]\n"
     ]
    },
    {
     "name": "stdout",
     "output_type": "stream",
     "text": [
      "EarlyStopping counter: 12 out of 15\n",
      "Epoch [113/200], Train Loss: 0.001756122293494021, Val Loss: 0.0017946415751551588, LR: 0.00025\n"
     ]
    },
    {
     "name": "stderr",
     "output_type": "stream",
     "text": [
      "Epoch [114/200] Training: 100%|██████████| 600/600 [00:25<00:00, 23.19it/s, loss=0.00251]\n",
      "Epoch [114/200] Validation: 100%|██████████| 150/150 [00:02<00:00, 64.21it/s, loss=0.00184]\n"
     ]
    },
    {
     "name": "stdout",
     "output_type": "stream",
     "text": [
      "Epoch [114/200], Train Loss: 0.0017570915612547349, Val Loss: 0.0017931400076486171, LR: 0.00025\n"
     ]
    },
    {
     "name": "stderr",
     "output_type": "stream",
     "text": [
      "Epoch [115/200] Training: 100%|██████████| 600/600 [00:25<00:00, 23.24it/s, loss=0.00184]\n",
      "Epoch [115/200] Validation: 100%|██████████| 150/150 [00:02<00:00, 63.99it/s, loss=0.00184]\n"
     ]
    },
    {
     "name": "stdout",
     "output_type": "stream",
     "text": [
      "Epoch [115/200], Train Loss: 0.0017551441872880483, Val Loss: 0.001787349444348365, LR: 0.00025\n"
     ]
    },
    {
     "name": "stderr",
     "output_type": "stream",
     "text": [
      "Epoch [116/200] Training: 100%|██████████| 600/600 [00:25<00:00, 23.11it/s, loss=0.00171]\n",
      "Epoch [116/200] Validation: 100%|██████████| 150/150 [00:02<00:00, 63.41it/s, loss=0.00183]\n"
     ]
    },
    {
     "name": "stdout",
     "output_type": "stream",
     "text": [
      "EarlyStopping counter: 1 out of 15\n",
      "Epoch [116/200], Train Loss: 0.0017533339750176917, Val Loss: 0.00179843512053291, LR: 0.00025\n"
     ]
    },
    {
     "name": "stderr",
     "output_type": "stream",
     "text": [
      "Epoch [117/200] Training: 100%|██████████| 600/600 [00:25<00:00, 23.37it/s, loss=0.00242]\n",
      "Epoch [117/200] Validation: 100%|██████████| 150/150 [00:02<00:00, 64.50it/s, loss=0.00188]\n"
     ]
    },
    {
     "name": "stdout",
     "output_type": "stream",
     "text": [
      "EarlyStopping counter: 2 out of 15\n",
      "Epoch [117/200], Train Loss: 0.0017534801821845274, Val Loss: 0.0018068906866634885, LR: 0.00025\n"
     ]
    },
    {
     "name": "stderr",
     "output_type": "stream",
     "text": [
      "Epoch [118/200] Training: 100%|██████████| 600/600 [00:25<00:00, 23.43it/s, loss=0.00204]\n",
      "Epoch [118/200] Validation: 100%|██████████| 150/150 [00:02<00:00, 64.47it/s, loss=0.00183]\n"
     ]
    },
    {
     "name": "stdout",
     "output_type": "stream",
     "text": [
      "Epoch [118/200], Train Loss: 0.001754226645377154, Val Loss: 0.0017850225248063603, LR: 0.00025\n"
     ]
    },
    {
     "name": "stderr",
     "output_type": "stream",
     "text": [
      "Epoch [119/200] Training: 100%|██████████| 600/600 [00:25<00:00, 23.37it/s, loss=0.00151]\n",
      "Epoch [119/200] Validation: 100%|██████████| 150/150 [00:02<00:00, 64.84it/s, loss=0.00185]\n"
     ]
    },
    {
     "name": "stdout",
     "output_type": "stream",
     "text": [
      "EarlyStopping counter: 1 out of 15\n",
      "Epoch [119/200], Train Loss: 0.0017498401773627847, Val Loss: 0.001786911239226659, LR: 0.00025\n"
     ]
    },
    {
     "name": "stderr",
     "output_type": "stream",
     "text": [
      "Epoch [120/200] Training: 100%|██████████| 600/600 [00:25<00:00, 23.75it/s, loss=0.00344]\n",
      "Epoch [120/200] Validation: 100%|██████████| 150/150 [00:02<00:00, 65.43it/s, loss=0.00186]\n"
     ]
    },
    {
     "name": "stdout",
     "output_type": "stream",
     "text": [
      "EarlyStopping counter: 2 out of 15\n",
      "Epoch [120/200], Train Loss: 0.001755735452558535, Val Loss: 0.0017888802693535883, LR: 0.00025\n"
     ]
    },
    {
     "name": "stderr",
     "output_type": "stream",
     "text": [
      "Epoch [121/200] Training: 100%|██████████| 600/600 [00:25<00:00, 23.42it/s, loss=0.00133]\n",
      "Epoch [121/200] Validation: 100%|██████████| 150/150 [00:02<00:00, 64.65it/s, loss=0.00186]\n"
     ]
    },
    {
     "name": "stdout",
     "output_type": "stream",
     "text": [
      "EarlyStopping counter: 3 out of 15\n",
      "Epoch [121/200], Train Loss: 0.0017510783466665695, Val Loss: 0.00180245059930409, LR: 0.00025\n"
     ]
    },
    {
     "name": "stderr",
     "output_type": "stream",
     "text": [
      "Epoch [122/200] Training: 100%|██████████| 600/600 [00:25<00:00, 23.35it/s, loss=0.00203]\n",
      "Epoch [122/200] Validation: 100%|██████████| 150/150 [00:02<00:00, 64.83it/s, loss=0.00184]\n"
     ]
    },
    {
     "name": "stdout",
     "output_type": "stream",
     "text": [
      "EarlyStopping counter: 4 out of 15\n",
      "Epoch [122/200], Train Loss: 0.0017522767721675336, Val Loss: 0.001796860545873642, LR: 0.00025\n"
     ]
    },
    {
     "name": "stderr",
     "output_type": "stream",
     "text": [
      "Epoch [123/200] Training: 100%|██████████| 600/600 [00:25<00:00, 23.46it/s, loss=0.00146]\n",
      "Epoch [123/200] Validation: 100%|██████████| 150/150 [00:02<00:00, 64.87it/s, loss=0.00187]\n"
     ]
    },
    {
     "name": "stdout",
     "output_type": "stream",
     "text": [
      "EarlyStopping counter: 5 out of 15\n",
      "Epoch [123/200], Train Loss: 0.0017517872482615833, Val Loss: 0.0017919014386522274, LR: 0.00025\n"
     ]
    },
    {
     "name": "stderr",
     "output_type": "stream",
     "text": [
      "Epoch [124/200] Training: 100%|██████████| 600/600 [00:25<00:00, 23.82it/s, loss=0.00184]\n",
      "Epoch [124/200] Validation: 100%|██████████| 150/150 [00:02<00:00, 66.14it/s, loss=0.00186]\n"
     ]
    },
    {
     "name": "stdout",
     "output_type": "stream",
     "text": [
      "EarlyStopping counter: 6 out of 15\n",
      "Epoch [124/200], Train Loss: 0.0017521013243822381, Val Loss: 0.0017850490737085542, LR: 0.00025\n"
     ]
    },
    {
     "name": "stderr",
     "output_type": "stream",
     "text": [
      "Epoch [125/200] Training: 100%|██████████| 600/600 [00:25<00:00, 23.35it/s, loss=0.00146]\n",
      "Epoch [125/200] Validation: 100%|██████████| 150/150 [00:02<00:00, 64.43it/s, loss=0.00184]\n"
     ]
    },
    {
     "name": "stdout",
     "output_type": "stream",
     "text": [
      "EarlyStopping counter: 7 out of 15\n",
      "Epoch [125/200], Train Loss: 0.0017483277913803855, Val Loss: 0.001788702840761592, LR: 0.00025\n"
     ]
    },
    {
     "name": "stderr",
     "output_type": "stream",
     "text": [
      "Epoch [126/200] Training: 100%|██████████| 600/600 [00:27<00:00, 22.16it/s, loss=0.00148]\n",
      "Epoch [126/200] Validation: 100%|██████████| 150/150 [00:02<00:00, 63.79it/s, loss=0.00185]\n"
     ]
    },
    {
     "name": "stdout",
     "output_type": "stream",
     "text": [
      "EarlyStopping counter: 8 out of 15\n",
      "Epoch [126/200], Train Loss: 0.0017492797441082076, Val Loss: 0.001794004481441031, LR: 0.00025\n"
     ]
    },
    {
     "name": "stderr",
     "output_type": "stream",
     "text": [
      "Epoch [127/200] Training: 100%|██████████| 600/600 [00:26<00:00, 23.04it/s, loss=0.00265]\n",
      "Epoch [127/200] Validation: 100%|██████████| 150/150 [00:02<00:00, 63.09it/s, loss=0.00187]\n"
     ]
    },
    {
     "name": "stdout",
     "output_type": "stream",
     "text": [
      "EarlyStopping counter: 9 out of 15\n",
      "Epoch [127/200], Train Loss: 0.0017497295327484608, Val Loss: 0.0017991212126798927, LR: 0.00025\n"
     ]
    },
    {
     "name": "stderr",
     "output_type": "stream",
     "text": [
      "Epoch [128/200] Training: 100%|██████████| 600/600 [00:25<00:00, 23.12it/s, loss=0.00159]\n",
      "Epoch [128/200] Validation: 100%|██████████| 150/150 [00:02<00:00, 63.40it/s, loss=0.00186]\n"
     ]
    },
    {
     "name": "stdout",
     "output_type": "stream",
     "text": [
      "EarlyStopping counter: 10 out of 15\n",
      "Epoch [128/200], Train Loss: 0.001748794627492316, Val Loss: 0.0017899581665794056, LR: 0.00025\n"
     ]
    },
    {
     "name": "stderr",
     "output_type": "stream",
     "text": [
      "Epoch [129/200] Training: 100%|██████████| 600/600 [00:25<00:00, 23.16it/s, loss=0.00283]\n",
      "Epoch [129/200] Validation: 100%|██████████| 150/150 [00:02<00:00, 63.95it/s, loss=0.00185]\n"
     ]
    },
    {
     "name": "stdout",
     "output_type": "stream",
     "text": [
      "EarlyStopping counter: 11 out of 15\n",
      "Epoch [129/200], Train Loss: 0.00175110487092752, Val Loss: 0.0017925130754398804, LR: 0.000125\n"
     ]
    },
    {
     "name": "stderr",
     "output_type": "stream",
     "text": [
      "Epoch [130/200] Training: 100%|██████████| 600/600 [00:25<00:00, 23.46it/s, loss=0.00211]\n",
      "Epoch [130/200] Validation: 100%|██████████| 150/150 [00:02<00:00, 64.89it/s, loss=0.00184]\n"
     ]
    },
    {
     "name": "stdout",
     "output_type": "stream",
     "text": [
      "Epoch [130/200], Train Loss: 0.0017369759792927653, Val Loss: 0.0017777567457718153, LR: 0.000125\n"
     ]
    },
    {
     "name": "stderr",
     "output_type": "stream",
     "text": [
      "Epoch [131/200] Training: 100%|██████████| 600/600 [00:25<00:00, 23.28it/s, loss=0.00158]\n",
      "Epoch [131/200] Validation: 100%|██████████| 150/150 [00:02<00:00, 65.17it/s, loss=0.00184]\n"
     ]
    },
    {
     "name": "stdout",
     "output_type": "stream",
     "text": [
      "EarlyStopping counter: 1 out of 15\n",
      "Epoch [131/200], Train Loss: 0.0017347351933130995, Val Loss: 0.001780461148979763, LR: 0.000125\n"
     ]
    },
    {
     "name": "stderr",
     "output_type": "stream",
     "text": [
      "Epoch [132/200] Training: 100%|██████████| 600/600 [00:26<00:00, 22.51it/s, loss=0.00193]\n",
      "Epoch [132/200] Validation: 100%|██████████| 150/150 [00:02<00:00, 64.11it/s, loss=0.00184]\n"
     ]
    },
    {
     "name": "stdout",
     "output_type": "stream",
     "text": [
      "EarlyStopping counter: 2 out of 15\n",
      "Epoch [132/200], Train Loss: 0.0017351964147140583, Val Loss: 0.0017780751020958026, LR: 0.000125\n"
     ]
    },
    {
     "name": "stderr",
     "output_type": "stream",
     "text": [
      "Epoch [133/200] Training: 100%|██████████| 600/600 [00:27<00:00, 21.70it/s, loss=0.00246]\n",
      "Epoch [133/200] Validation: 100%|██████████| 150/150 [00:02<00:00, 60.03it/s, loss=0.00183]\n"
     ]
    },
    {
     "name": "stdout",
     "output_type": "stream",
     "text": [
      "Epoch [133/200], Train Loss: 0.001736118748279599, Val Loss: 0.0017766592333403727, LR: 0.000125\n"
     ]
    },
    {
     "name": "stderr",
     "output_type": "stream",
     "text": [
      "Epoch [134/200] Training: 100%|██████████| 600/600 [00:27<00:00, 21.73it/s, loss=0.00128]\n",
      "Epoch [134/200] Validation: 100%|██████████| 150/150 [00:02<00:00, 60.42it/s, loss=0.00187]\n"
     ]
    },
    {
     "name": "stdout",
     "output_type": "stream",
     "text": [
      "EarlyStopping counter: 1 out of 15\n",
      "Epoch [134/200], Train Loss: 0.0017340364885361245, Val Loss: 0.001790464126970619, LR: 0.000125\n"
     ]
    },
    {
     "name": "stderr",
     "output_type": "stream",
     "text": [
      "Epoch [135/200] Training: 100%|██████████| 600/600 [00:27<00:00, 22.06it/s, loss=0.00259]\n",
      "Epoch [135/200] Validation: 100%|██████████| 150/150 [00:02<00:00, 60.82it/s, loss=0.00184]\n"
     ]
    },
    {
     "name": "stdout",
     "output_type": "stream",
     "text": [
      "EarlyStopping counter: 2 out of 15\n",
      "Epoch [135/200], Train Loss: 0.0017352440214017406, Val Loss: 0.0017852534625368813, LR: 0.000125\n"
     ]
    },
    {
     "name": "stderr",
     "output_type": "stream",
     "text": [
      "Epoch [136/200] Training: 100%|██████████| 600/600 [00:27<00:00, 21.96it/s, loss=0.00166]\n",
      "Epoch [136/200] Validation: 100%|██████████| 150/150 [00:02<00:00, 60.70it/s, loss=0.00185]\n"
     ]
    },
    {
     "name": "stdout",
     "output_type": "stream",
     "text": [
      "EarlyStopping counter: 3 out of 15\n",
      "Epoch [136/200], Train Loss: 0.0017335930140689015, Val Loss: 0.0017840686223159234, LR: 0.000125\n"
     ]
    },
    {
     "name": "stderr",
     "output_type": "stream",
     "text": [
      "Epoch [137/200] Training: 100%|██████████| 600/600 [00:27<00:00, 21.95it/s, loss=0.00269]\n",
      "Epoch [137/200] Validation: 100%|██████████| 150/150 [00:02<00:00, 60.67it/s, loss=0.00185]\n"
     ]
    },
    {
     "name": "stdout",
     "output_type": "stream",
     "text": [
      "EarlyStopping counter: 4 out of 15\n",
      "Epoch [137/200], Train Loss: 0.0017358649702509865, Val Loss: 0.0017847426111499468, LR: 0.000125\n"
     ]
    },
    {
     "name": "stderr",
     "output_type": "stream",
     "text": [
      "Epoch [138/200] Training: 100%|██████████| 600/600 [00:27<00:00, 21.89it/s, loss=0.00127]\n",
      "Epoch [138/200] Validation: 100%|██████████| 150/150 [00:02<00:00, 63.50it/s, loss=0.00183]\n"
     ]
    },
    {
     "name": "stdout",
     "output_type": "stream",
     "text": [
      "EarlyStopping counter: 5 out of 15\n",
      "Epoch [138/200], Train Loss: 0.0017321429745061324, Val Loss: 0.0017799806967377662, LR: 0.000125\n"
     ]
    },
    {
     "name": "stderr",
     "output_type": "stream",
     "text": [
      "Epoch [139/200] Training: 100%|██████████| 600/600 [00:25<00:00, 23.09it/s, loss=0.00156]\n",
      "Epoch [139/200] Validation: 100%|██████████| 150/150 [00:02<00:00, 63.45it/s, loss=0.00185]\n"
     ]
    },
    {
     "name": "stdout",
     "output_type": "stream",
     "text": [
      "EarlyStopping counter: 6 out of 15\n",
      "Epoch [139/200], Train Loss: 0.0017331654970378925, Val Loss: 0.001783893636117379, LR: 0.000125\n"
     ]
    },
    {
     "name": "stderr",
     "output_type": "stream",
     "text": [
      "Epoch [140/200] Training: 100%|██████████| 600/600 [00:25<00:00, 23.11it/s, loss=0.00261]\n",
      "Epoch [140/200] Validation: 100%|██████████| 150/150 [00:02<00:00, 63.25it/s, loss=0.00184]\n"
     ]
    },
    {
     "name": "stdout",
     "output_type": "stream",
     "text": [
      "EarlyStopping counter: 7 out of 15\n",
      "Epoch [140/200], Train Loss: 0.0017342102616870155, Val Loss: 0.001780369405945142, LR: 0.000125\n"
     ]
    },
    {
     "name": "stderr",
     "output_type": "stream",
     "text": [
      "Epoch [141/200] Training: 100%|██████████| 600/600 [00:25<00:00, 23.12it/s, loss=0.00192]\n",
      "Epoch [141/200] Validation: 100%|██████████| 150/150 [00:02<00:00, 63.18it/s, loss=0.00185]\n"
     ]
    },
    {
     "name": "stdout",
     "output_type": "stream",
     "text": [
      "EarlyStopping counter: 8 out of 15\n",
      "Epoch [141/200], Train Loss: 0.0017334169358946383, Val Loss: 0.0017825809020238618, LR: 0.000125\n"
     ]
    },
    {
     "name": "stderr",
     "output_type": "stream",
     "text": [
      "Epoch [142/200] Training: 100%|██████████| 600/600 [00:25<00:00, 23.46it/s, loss=0.00196]\n",
      "Epoch [142/200] Validation: 100%|██████████| 150/150 [00:02<00:00, 59.60it/s, loss=0.00186]\n"
     ]
    },
    {
     "name": "stdout",
     "output_type": "stream",
     "text": [
      "EarlyStopping counter: 9 out of 15\n",
      "Epoch [142/200], Train Loss: 0.0017324312601704151, Val Loss: 0.0017859774874523283, LR: 0.000125\n"
     ]
    },
    {
     "name": "stderr",
     "output_type": "stream",
     "text": [
      "Epoch [143/200] Training: 100%|██████████| 600/600 [00:26<00:00, 22.48it/s, loss=0.00275]\n",
      "Epoch [143/200] Validation: 100%|██████████| 150/150 [00:02<00:00, 63.36it/s, loss=0.00184]\n"
     ]
    },
    {
     "name": "stdout",
     "output_type": "stream",
     "text": [
      "EarlyStopping counter: 10 out of 15\n",
      "Epoch [143/200], Train Loss: 0.001733321636954012, Val Loss: 0.001781940278597176, LR: 0.000125\n"
     ]
    },
    {
     "name": "stderr",
     "output_type": "stream",
     "text": [
      "Epoch [144/200] Training: 100%|██████████| 600/600 [00:25<00:00, 23.35it/s, loss=0.00146]\n",
      "Epoch [144/200] Validation: 100%|██████████| 150/150 [00:02<00:00, 64.07it/s, loss=0.00183]\n"
     ]
    },
    {
     "name": "stdout",
     "output_type": "stream",
     "text": [
      "EarlyStopping counter: 11 out of 15\n",
      "Epoch [144/200], Train Loss: 0.0017327854737717037, Val Loss: 0.001780270766466856, LR: 6.25e-05\n"
     ]
    },
    {
     "name": "stderr",
     "output_type": "stream",
     "text": [
      "Epoch [145/200] Training: 100%|██████████| 600/600 [00:26<00:00, 22.35it/s, loss=0.00135]\n",
      "Epoch [145/200] Validation: 100%|██████████| 150/150 [00:02<00:00, 63.29it/s, loss=0.00184]\n"
     ]
    },
    {
     "name": "stdout",
     "output_type": "stream",
     "text": [
      "EarlyStopping counter: 12 out of 15\n",
      "Epoch [145/200], Train Loss: 0.0017252557210546608, Val Loss: 0.0017758329135055344, LR: 6.25e-05\n"
     ]
    },
    {
     "name": "stderr",
     "output_type": "stream",
     "text": [
      "Epoch [146/200] Training: 100%|██████████| 600/600 [00:25<00:00, 23.15it/s, loss=0.00191]\n",
      "Epoch [146/200] Validation: 100%|██████████| 150/150 [00:02<00:00, 63.50it/s, loss=0.00185]\n"
     ]
    },
    {
     "name": "stdout",
     "output_type": "stream",
     "text": [
      "Epoch [146/200], Train Loss: 0.0017247746130063509, Val Loss: 0.001775557640939951, LR: 6.25e-05\n"
     ]
    },
    {
     "name": "stderr",
     "output_type": "stream",
     "text": [
      "Epoch [147/200] Training: 100%|██████████| 600/600 [00:26<00:00, 22.37it/s, loss=0.00149]\n",
      "Epoch [147/200] Validation: 100%|██████████| 150/150 [00:02<00:00, 63.43it/s, loss=0.00184]\n"
     ]
    },
    {
     "name": "stdout",
     "output_type": "stream",
     "text": [
      "EarlyStopping counter: 1 out of 15\n",
      "Epoch [147/200], Train Loss: 0.0017236589644259463, Val Loss: 0.0017765883247678478, LR: 6.25e-05\n"
     ]
    },
    {
     "name": "stderr",
     "output_type": "stream",
     "text": [
      "Epoch [148/200] Training: 100%|██████████| 600/600 [00:25<00:00, 23.16it/s, loss=0.00254]\n",
      "Epoch [148/200] Validation: 100%|██████████| 150/150 [00:02<00:00, 63.52it/s, loss=0.00185]\n"
     ]
    },
    {
     "name": "stdout",
     "output_type": "stream",
     "text": [
      "EarlyStopping counter: 2 out of 15\n",
      "Epoch [148/200], Train Loss: 0.001725608336661632, Val Loss: 0.001779150002791236, LR: 6.25e-05\n"
     ]
    },
    {
     "name": "stderr",
     "output_type": "stream",
     "text": [
      "Epoch [149/200] Training: 100%|██████████| 600/600 [00:25<00:00, 23.11it/s, loss=0.00154]\n",
      "Epoch [149/200] Validation: 100%|██████████| 150/150 [00:02<00:00, 63.26it/s, loss=0.00185]\n"
     ]
    },
    {
     "name": "stdout",
     "output_type": "stream",
     "text": [
      "Epoch [149/200], Train Loss: 0.0017244717430245752, Val Loss: 0.0017745415035945674, LR: 6.25e-05\n"
     ]
    },
    {
     "name": "stderr",
     "output_type": "stream",
     "text": [
      "Epoch [150/200] Training: 100%|██████████| 600/600 [00:25<00:00, 23.37it/s, loss=0.00128]\n",
      "Epoch [150/200] Validation: 100%|██████████| 150/150 [00:02<00:00, 64.82it/s, loss=0.00184]\n"
     ]
    },
    {
     "name": "stdout",
     "output_type": "stream",
     "text": [
      "EarlyStopping counter: 1 out of 15\n",
      "Epoch [150/200], Train Loss: 0.0017241613559114436, Val Loss: 0.001775290494163831, LR: 6.25e-05\n"
     ]
    },
    {
     "name": "stderr",
     "output_type": "stream",
     "text": [
      "Epoch [151/200] Training: 100%|██████████| 600/600 [00:25<00:00, 23.46it/s, loss=0.00123]\n",
      "Epoch [151/200] Validation: 100%|██████████| 150/150 [00:02<00:00, 63.84it/s, loss=0.00185]\n"
     ]
    },
    {
     "name": "stdout",
     "output_type": "stream",
     "text": [
      "EarlyStopping counter: 2 out of 15\n",
      "Epoch [151/200], Train Loss: 0.0017232939808551843, Val Loss: 0.0017761429220748445, LR: 6.25e-05\n"
     ]
    },
    {
     "name": "stderr",
     "output_type": "stream",
     "text": [
      "Epoch [152/200] Training: 100%|██████████| 600/600 [00:25<00:00, 23.51it/s, loss=0.00183]\n",
      "Epoch [152/200] Validation: 100%|██████████| 150/150 [00:02<00:00, 65.61it/s, loss=0.00182]\n"
     ]
    },
    {
     "name": "stdout",
     "output_type": "stream",
     "text": [
      "EarlyStopping counter: 3 out of 15\n",
      "Epoch [152/200], Train Loss: 0.001723273720126599, Val Loss: 0.001776596182025969, LR: 6.25e-05\n"
     ]
    },
    {
     "name": "stderr",
     "output_type": "stream",
     "text": [
      "Epoch [153/200] Training: 100%|██████████| 600/600 [00:25<00:00, 23.46it/s, loss=0.00154]\n",
      "Epoch [153/200] Validation: 100%|██████████| 150/150 [00:02<00:00, 65.29it/s, loss=0.00185]\n"
     ]
    },
    {
     "name": "stdout",
     "output_type": "stream",
     "text": [
      "EarlyStopping counter: 4 out of 15\n",
      "Epoch [153/200], Train Loss: 0.0017235658275118718, Val Loss: 0.0017766471245946984, LR: 6.25e-05\n"
     ]
    },
    {
     "name": "stderr",
     "output_type": "stream",
     "text": [
      "Epoch [154/200] Training: 100%|██████████| 600/600 [00:25<00:00, 23.50it/s, loss=0.00118]\n",
      "Epoch [154/200] Validation: 100%|██████████| 150/150 [00:02<00:00, 65.35it/s, loss=0.00183]\n"
     ]
    },
    {
     "name": "stdout",
     "output_type": "stream",
     "text": [
      "EarlyStopping counter: 5 out of 15\n",
      "Epoch [154/200], Train Loss: 0.0017218960107614598, Val Loss: 0.0017782988771796225, LR: 6.25e-05\n"
     ]
    },
    {
     "name": "stderr",
     "output_type": "stream",
     "text": [
      "Epoch [155/200] Training: 100%|██████████| 600/600 [00:25<00:00, 23.48it/s, loss=0.00102]\n",
      "Epoch [155/200] Validation: 100%|██████████| 150/150 [00:02<00:00, 64.93it/s, loss=0.00184]\n"
     ]
    },
    {
     "name": "stdout",
     "output_type": "stream",
     "text": [
      "EarlyStopping counter: 6 out of 15\n",
      "Epoch [155/200], Train Loss: 0.0017217991708700234, Val Loss: 0.0017753718723542988, LR: 6.25e-05\n"
     ]
    },
    {
     "name": "stderr",
     "output_type": "stream",
     "text": [
      "Epoch [156/200] Training: 100%|██████████| 600/600 [00:25<00:00, 23.42it/s, loss=0.00143]\n",
      "Epoch [156/200] Validation: 100%|██████████| 150/150 [00:02<00:00, 65.69it/s, loss=0.00184]\n"
     ]
    },
    {
     "name": "stdout",
     "output_type": "stream",
     "text": [
      "EarlyStopping counter: 7 out of 15\n",
      "Epoch [156/200], Train Loss: 0.0017229066465127593, Val Loss: 0.0017768154324342806, LR: 6.25e-05\n"
     ]
    },
    {
     "name": "stderr",
     "output_type": "stream",
     "text": [
      "Epoch [157/200] Training: 100%|██████████| 600/600 [00:25<00:00, 23.52it/s, loss=0.00202]\n",
      "Epoch [157/200] Validation: 100%|██████████| 150/150 [00:02<00:00, 59.83it/s, loss=0.00185]\n"
     ]
    },
    {
     "name": "stdout",
     "output_type": "stream",
     "text": [
      "EarlyStopping counter: 8 out of 15\n",
      "Epoch [157/200], Train Loss: 0.0017237592560316746, Val Loss: 0.0017760050669312476, LR: 6.25e-05\n"
     ]
    },
    {
     "name": "stderr",
     "output_type": "stream",
     "text": [
      "Epoch [158/200] Training: 100%|██████████| 600/600 [00:26<00:00, 22.49it/s, loss=0.00189]\n",
      "Epoch [158/200] Validation: 100%|██████████| 150/150 [00:02<00:00, 64.21it/s, loss=0.00184]\n"
     ]
    },
    {
     "name": "stdout",
     "output_type": "stream",
     "text": [
      "EarlyStopping counter: 9 out of 15\n",
      "Epoch [158/200], Train Loss: 0.0017218014636697868, Val Loss: 0.0017745196058725316, LR: 6.25e-05\n"
     ]
    },
    {
     "name": "stderr",
     "output_type": "stream",
     "text": [
      "Epoch [159/200] Training: 100%|██████████| 600/600 [00:25<00:00, 23.15it/s, loss=0.00128]\n",
      "Epoch [159/200] Validation: 100%|██████████| 150/150 [00:02<00:00, 64.12it/s, loss=0.00184]\n"
     ]
    },
    {
     "name": "stdout",
     "output_type": "stream",
     "text": [
      "EarlyStopping counter: 10 out of 15\n",
      "Epoch [159/200], Train Loss: 0.0017227839827925588, Val Loss: 0.0017758618791898092, LR: 6.25e-05\n"
     ]
    },
    {
     "name": "stderr",
     "output_type": "stream",
     "text": [
      "Epoch [160/200] Training: 100%|██████████| 600/600 [00:25<00:00, 23.21it/s, loss=0.00233]\n",
      "Epoch [160/200] Validation: 100%|██████████| 150/150 [00:02<00:00, 63.67it/s, loss=0.00183]\n"
     ]
    },
    {
     "name": "stdout",
     "output_type": "stream",
     "text": [
      "EarlyStopping counter: 11 out of 15\n",
      "Epoch [160/200], Train Loss: 0.0017246488276092956, Val Loss: 0.0017771965932721894, LR: 3.125e-05\n"
     ]
    },
    {
     "name": "stderr",
     "output_type": "stream",
     "text": [
      "Epoch [161/200] Training: 100%|██████████| 600/600 [00:25<00:00, 23.23it/s, loss=0.00199]\n",
      "Epoch [161/200] Validation: 100%|██████████| 150/150 [00:02<00:00, 63.93it/s, loss=0.00185]\n"
     ]
    },
    {
     "name": "stdout",
     "output_type": "stream",
     "text": [
      "EarlyStopping counter: 12 out of 15\n",
      "Epoch [161/200], Train Loss: 0.0017198484309483319, Val Loss: 0.0017737505732414623, LR: 3.125e-05\n"
     ]
    },
    {
     "name": "stderr",
     "output_type": "stream",
     "text": [
      "Epoch [162/200] Training: 100%|██████████| 600/600 [00:25<00:00, 23.17it/s, loss=0.0017] \n",
      "Epoch [162/200] Validation: 100%|██████████| 150/150 [00:02<00:00, 63.40it/s, loss=0.00184]\n"
     ]
    },
    {
     "name": "stdout",
     "output_type": "stream",
     "text": [
      "EarlyStopping counter: 13 out of 15\n",
      "Epoch [162/200], Train Loss: 0.0017190352951486905, Val Loss: 0.0017743448703549803, LR: 3.125e-05\n"
     ]
    },
    {
     "name": "stderr",
     "output_type": "stream",
     "text": [
      "Epoch [163/200] Training: 100%|██████████| 600/600 [00:25<00:00, 23.12it/s, loss=0.00195]\n",
      "Epoch [163/200] Validation: 100%|██████████| 150/150 [00:02<00:00, 63.58it/s, loss=0.00184]\n"
     ]
    },
    {
     "name": "stdout",
     "output_type": "stream",
     "text": [
      "Epoch [163/200], Train Loss: 0.001718247303312334, Val Loss: 0.0017733285676998396, LR: 3.125e-05\n"
     ]
    },
    {
     "name": "stderr",
     "output_type": "stream",
     "text": [
      "Epoch [164/200] Training: 100%|██████████| 600/600 [00:25<00:00, 23.24it/s, loss=0.00115]\n",
      "Epoch [164/200] Validation: 100%|██████████| 150/150 [00:02<00:00, 64.99it/s, loss=0.00183]\n"
     ]
    },
    {
     "name": "stdout",
     "output_type": "stream",
     "text": [
      "EarlyStopping counter: 1 out of 15\n",
      "Epoch [164/200], Train Loss: 0.0017184629652183504, Val Loss: 0.0017752872058190406, LR: 3.125e-05\n"
     ]
    },
    {
     "name": "stderr",
     "output_type": "stream",
     "text": [
      "Epoch [165/200] Training: 100%|██████████| 600/600 [00:25<00:00, 23.30it/s, loss=0.00128]\n",
      "Epoch [165/200] Validation: 100%|██████████| 150/150 [00:02<00:00, 63.93it/s, loss=0.00183]\n"
     ]
    },
    {
     "name": "stdout",
     "output_type": "stream",
     "text": [
      "EarlyStopping counter: 2 out of 15\n",
      "Epoch [165/200], Train Loss: 0.0017172780371038244, Val Loss: 0.0017733973559613029, LR: 3.125e-05\n"
     ]
    },
    {
     "name": "stderr",
     "output_type": "stream",
     "text": [
      "Epoch [166/200] Training: 100%|██████████| 600/600 [00:26<00:00, 22.62it/s, loss=0.00174]\n",
      "Epoch [166/200] Validation: 100%|██████████| 150/150 [00:02<00:00, 61.88it/s, loss=0.00183]\n"
     ]
    },
    {
     "name": "stdout",
     "output_type": "stream",
     "text": [
      "EarlyStopping counter: 3 out of 15\n",
      "Epoch [166/200], Train Loss: 0.0017183693832096955, Val Loss: 0.0017780119824844101, LR: 3.125e-05\n"
     ]
    },
    {
     "name": "stderr",
     "output_type": "stream",
     "text": [
      "Epoch [167/200] Training: 100%|██████████| 600/600 [00:25<00:00, 23.14it/s, loss=0.0014] \n",
      "Epoch [167/200] Validation: 100%|██████████| 150/150 [00:02<00:00, 63.22it/s, loss=0.00184]\n"
     ]
    },
    {
     "name": "stdout",
     "output_type": "stream",
     "text": [
      "EarlyStopping counter: 4 out of 15\n",
      "Epoch [167/200], Train Loss: 0.0017178815137594938, Val Loss: 0.0017746362206526101, LR: 3.125e-05\n"
     ]
    },
    {
     "name": "stderr",
     "output_type": "stream",
     "text": [
      "Epoch [168/200] Training: 100%|██████████| 600/600 [00:26<00:00, 23.05it/s, loss=0.00203]\n",
      "Epoch [168/200] Validation: 100%|██████████| 150/150 [00:02<00:00, 62.42it/s, loss=0.00184]\n"
     ]
    },
    {
     "name": "stdout",
     "output_type": "stream",
     "text": [
      "EarlyStopping counter: 5 out of 15\n",
      "Epoch [168/200], Train Loss: 0.0017182644293643535, Val Loss: 0.0017750613655274114, LR: 3.125e-05\n"
     ]
    },
    {
     "name": "stderr",
     "output_type": "stream",
     "text": [
      "Epoch [169/200] Training: 100%|██████████| 600/600 [00:25<00:00, 23.10it/s, loss=0.0014] \n",
      "Epoch [169/200] Validation: 100%|██████████| 150/150 [00:02<00:00, 63.79it/s, loss=0.00184]\n"
     ]
    },
    {
     "name": "stdout",
     "output_type": "stream",
     "text": [
      "EarlyStopping counter: 6 out of 15\n",
      "Epoch [169/200], Train Loss: 0.0017178113017386446, Val Loss: 0.0017755812755785882, LR: 3.125e-05\n"
     ]
    },
    {
     "name": "stderr",
     "output_type": "stream",
     "text": [
      "Epoch [170/200] Training: 100%|██████████| 600/600 [00:25<00:00, 23.19it/s, loss=0.00161]\n",
      "Epoch [170/200] Validation: 100%|██████████| 150/150 [00:02<00:00, 62.89it/s, loss=0.00183]\n"
     ]
    },
    {
     "name": "stdout",
     "output_type": "stream",
     "text": [
      "EarlyStopping counter: 7 out of 15\n",
      "Epoch [170/200], Train Loss: 0.0017180746983891974, Val Loss: 0.0017746884267156322, LR: 3.125e-05\n"
     ]
    },
    {
     "name": "stderr",
     "output_type": "stream",
     "text": [
      "Epoch [171/200] Training: 100%|██████████| 600/600 [00:26<00:00, 22.58it/s, loss=0.00195]\n",
      "Epoch [171/200] Validation: 100%|██████████| 150/150 [00:02<00:00, 63.40it/s, loss=0.00185]\n"
     ]
    },
    {
     "name": "stdout",
     "output_type": "stream",
     "text": [
      "EarlyStopping counter: 8 out of 15\n",
      "Epoch [171/200], Train Loss: 0.001718210456892848, Val Loss: 0.001773047597768406, LR: 3.125e-05\n"
     ]
    },
    {
     "name": "stderr",
     "output_type": "stream",
     "text": [
      "Epoch [172/200] Training: 100%|██████████| 600/600 [00:25<00:00, 23.11it/s, loss=0.0029] \n",
      "Epoch [172/200] Validation: 100%|██████████| 150/150 [00:02<00:00, 62.93it/s, loss=0.00184]\n"
     ]
    },
    {
     "name": "stdout",
     "output_type": "stream",
     "text": [
      "EarlyStopping counter: 9 out of 15\n",
      "Epoch [172/200], Train Loss: 0.0017195279207468655, Val Loss: 0.0017737962406439087, LR: 3.125e-05\n"
     ]
    },
    {
     "name": "stderr",
     "output_type": "stream",
     "text": [
      "Epoch [173/200] Training: 100%|██████████| 600/600 [00:26<00:00, 23.06it/s, loss=0.00242]\n",
      "Epoch [173/200] Validation: 100%|██████████| 150/150 [00:02<00:00, 61.20it/s, loss=0.00184]\n"
     ]
    },
    {
     "name": "stdout",
     "output_type": "stream",
     "text": [
      "EarlyStopping counter: 10 out of 15\n",
      "Epoch [173/200], Train Loss: 0.0017188350268406794, Val Loss: 0.0017732120483803253, LR: 3.125e-05\n"
     ]
    },
    {
     "name": "stderr",
     "output_type": "stream",
     "text": [
      "Epoch [174/200] Training: 100%|██████████| 600/600 [00:26<00:00, 22.97it/s, loss=0.00213]\n",
      "Epoch [174/200] Validation: 100%|██████████| 150/150 [00:02<00:00, 61.78it/s, loss=0.00184]\n"
     ]
    },
    {
     "name": "stdout",
     "output_type": "stream",
     "text": [
      "EarlyStopping counter: 11 out of 15\n",
      "Epoch [174/200], Train Loss: 0.0017186829135365164, Val Loss: 0.001773702852272739, LR: 3.125e-05\n"
     ]
    },
    {
     "name": "stderr",
     "output_type": "stream",
     "text": [
      "Epoch [175/200] Training: 100%|██████████| 600/600 [00:27<00:00, 21.70it/s, loss=0.00157]\n",
      "Epoch [175/200] Validation: 100%|██████████| 150/150 [00:02<00:00, 58.90it/s, loss=0.00184]\n"
     ]
    },
    {
     "name": "stdout",
     "output_type": "stream",
     "text": [
      "EarlyStopping counter: 12 out of 15\n",
      "Epoch [175/200], Train Loss: 0.0017175015576261405, Val Loss: 0.0017739074762600164, LR: 3.125e-05\n"
     ]
    },
    {
     "name": "stderr",
     "output_type": "stream",
     "text": [
      "Epoch [176/200] Training: 100%|██████████| 600/600 [00:27<00:00, 21.90it/s, loss=0.0016] \n",
      "Epoch [176/200] Validation: 100%|██████████| 150/150 [00:02<00:00, 59.05it/s, loss=0.00184]\n"
     ]
    },
    {
     "name": "stdout",
     "output_type": "stream",
     "text": [
      "EarlyStopping counter: 13 out of 15\n",
      "Epoch [176/200], Train Loss: 0.001717807180248201, Val Loss: 0.001773973589297384, LR: 3.125e-05\n"
     ]
    },
    {
     "name": "stderr",
     "output_type": "stream",
     "text": [
      "Epoch [177/200] Training: 100%|██████████| 600/600 [00:27<00:00, 21.85it/s, loss=0.0011] \n",
      "Epoch [177/200] Validation: 100%|██████████| 150/150 [00:02<00:00, 58.82it/s, loss=0.00184]\n"
     ]
    },
    {
     "name": "stdout",
     "output_type": "stream",
     "text": [
      "EarlyStopping counter: 14 out of 15\n",
      "Epoch [177/200], Train Loss: 0.001716953559856241, Val Loss: 0.001773385622072965, LR: 3.125e-05\n"
     ]
    },
    {
     "name": "stderr",
     "output_type": "stream",
     "text": [
      "Epoch [178/200] Training: 100%|██████████| 600/600 [00:27<00:00, 21.61it/s, loss=0.00316]\n",
      "Epoch [178/200] Validation: 100%|██████████| 150/150 [00:02<00:00, 58.34it/s, loss=0.00183]"
     ]
    },
    {
     "name": "stdout",
     "output_type": "stream",
     "text": [
      "EarlyStopping counter: 15 out of 15\n",
      "Epoch [178/200], Train Loss: 0.0017193974575881537, Val Loss: 0.001774440649120758, LR: 3.125e-05\n",
      "Early stopping triggered\n",
      "Training finished\n"
     ]
    },
    {
     "name": "stderr",
     "output_type": "stream",
     "text": [
      "\n"
     ]
    }
   ],
   "source": [
    "# Training loop\n",
    "best_val_loss = float('inf')\n",
    "\n",
    "for epoch in range(num_epochs):\n",
    "    # Training phase\n",
    "    model.train()\n",
    "    train_loss = 0.0\n",
    "    progress_bar_train = tqdm(train_loader, desc=f'Epoch [{epoch+1}/{num_epochs}] Training')\n",
    "    \n",
    "    for inputs, targets in progress_bar_train:\n",
    "        inputs, targets = inputs.to(device), targets.to(device)\n",
    "        \n",
    "        optimizer.zero_grad()\n",
    "        outputs = model(inputs)\n",
    "        loss = criterion(outputs, targets)\n",
    "        loss.backward()\n",
    "        \n",
    "        # Gradient clipping\n",
    "        torch.nn.utils.clip_grad_norm_(model.parameters(), max_norm=1.0)\n",
    "        \n",
    "        optimizer.step()\n",
    "        train_loss += loss.item()\n",
    "        progress_bar_train.set_postfix({'loss': loss.item()})\n",
    "\n",
    "    avg_train_loss = train_loss / len(train_loader)\n",
    "\n",
    "    # Validation phase\n",
    "    model.eval()\n",
    "    val_loss = 0.0\n",
    "    progress_bar_val = tqdm(val_loader, desc=f'Epoch [{epoch+1}/{num_epochs}] Validation')\n",
    "    \n",
    "    with torch.no_grad():\n",
    "        for inputs, targets in progress_bar_val:\n",
    "            inputs, targets = inputs.to(device), targets.to(device)\n",
    "            outputs = model(inputs)\n",
    "            loss = criterion(outputs, targets)\n",
    "            val_loss += loss.item()\n",
    "            progress_bar_val.set_postfix({'loss': loss.item()})\n",
    "\n",
    "    avg_val_loss = val_loss / len(val_loader)\n",
    "\n",
    "    # Learning rate scheduling\n",
    "    scheduler.step(avg_val_loss)\n",
    "    current_lr = optimizer.param_groups[0]['lr']\n",
    "\n",
    "    # Early stopping\n",
    "    early_stopping(avg_val_loss, model)\n",
    "\n",
    "    # Logging\n",
    "    wandb.log({\n",
    "        \"epoch\": epoch + 1,\n",
    "        \"train_loss\": avg_train_loss,\n",
    "        \"val_loss\": avg_val_loss,\n",
    "        \"learning_rate\": current_lr\n",
    "    })\n",
    "\n",
    "    print(f'Epoch [{epoch+1}/{num_epochs}], Train Loss: {avg_train_loss}, Val Loss: {avg_val_loss}, LR: {current_lr}')\n",
    "\n",
    "    if early_stopping.early_stop:\n",
    "        print(\"Early stopping triggered\")\n",
    "        break\n",
    "\n",
    "print(\"Training finished\")"
   ]
  },
  {
   "cell_type": "code",
   "execution_count": 14,
   "metadata": {},
   "outputs": [],
   "source": [
    "#model.load_state_dict(torch.load('best_3dcnn_model.pt'))\n",
    "# model.eval()"
   ]
  },
  {
   "cell_type": "code",
   "execution_count": null,
   "metadata": {},
   "outputs": [],
   "source": [
    "def calculate_psnr(target, prediction):\n",
    "    \"\"\"Calculate Peak Signal-to-Noise Ratio\"\"\"\n",
    "    mse = np.mean((target - prediction) ** 2)\n",
    "    if mse == 0:\n",
    "        return float('inf')\n",
    "    max_pixel = np.max(target)\n",
    "    psnr = 20 * np.log10(max_pixel / np.sqrt(mse))\n",
    "    return psnr\n",
    "\n",
    "def calculate_peak_metrics_patch(target, prediction, prominence=0.1):\n",
    "    \"\"\"Calculate peak detection accuracy for full patch predictions\"\"\"\n",
    "    peak_metrics = {'true_peaks': 0, 'predicted_peaks': 0, 'matching_peaks': 0}\n",
    "    \n",
    "    # Iterate over each voxel in the patch\n",
    "    batch_size, num_points, height, width = target.shape\n",
    "    \n",
    "    for b in range(batch_size):\n",
    "        for h in range(height):\n",
    "            for w in range(width):\n",
    "                # Get spectrum for current voxel\n",
    "                true_spectrum = target[b, :, h, w]\n",
    "                pred_spectrum = prediction[b, :, h, w]\n",
    "                \n",
    "                # Find peaks\n",
    "                true_peaks, _ = find_peaks(true_spectrum, prominence=prominence)\n",
    "                pred_peaks, _ = find_peaks(pred_spectrum, prominence=prominence)\n",
    "                \n",
    "                # Count matching peaks\n",
    "                matches = 0\n",
    "                for tp in true_peaks:\n",
    "                    for pp in pred_peaks:\n",
    "                        if abs(tp - pp) <= 1:\n",
    "                            matches += 1\n",
    "                            break\n",
    "                \n",
    "                peak_metrics['true_peaks'] += len(true_peaks)\n",
    "                peak_metrics['predicted_peaks'] += len(pred_peaks)\n",
    "                peak_metrics['matching_peaks'] += matches\n",
    "    \n",
    "    return peak_metrics\n",
    "\n",
    "def measure_inference_time(model, input_tensor, device, num_iterations=100):\n",
    "    \"\"\"Measure average inference time\"\"\"\n",
    "    model.eval()\n",
    "    start_time = time.time()\n",
    "    with torch.no_grad():\n",
    "        for _ in range(num_iterations):\n",
    "            _ = model(input_tensor.to(device))\n",
    "    end_time = time.time()\n",
    "    return (end_time - start_time) / num_iterations\n",
    "\n",
    "def count_parameters(model):\n",
    "    \"\"\"Count number of trainable parameters\"\"\"\n",
    "    return sum(p.numel() for p in model.parameters() if p.requires_grad)\n",
    "\n",
    "def measure_memory_usage():\n",
    "    \"\"\"Measure current memory usage\"\"\"\n",
    "    process = psutil.Process(os.getpid())\n",
    "    return process.memory_info().rss / 1024 / 1024  # Convert to MB\n",
    "\n",
    "def calculate_spatial_consistency(targets, predictions, window_size=3):\n",
    "    \"\"\"Calculate spatial consistency metric with proper handling of constant patches\"\"\"\n",
    "    batch_size, num_points, height, width = targets.shape\n",
    "    consistency_scores = []\n",
    "    \n",
    "    # Calculate local spatial correlation for each patch\n",
    "    for b in range(min(batch_size, 100)):  # Limit to 100 samples for efficiency\n",
    "        for t in range(num_points):\n",
    "            true_patch = targets[b, t]\n",
    "            pred_patch = predictions[b, t]\n",
    "            \n",
    "            # Skip if either patch is constant\n",
    "            if np.std(true_patch) == 0 or np.std(pred_patch) == 0:\n",
    "                continue\n",
    "                \n",
    "            # Calculate local spatial correlation\n",
    "            try:\n",
    "                correlation = np.corrcoef(true_patch.flatten(), pred_patch.flatten())[0, 1]\n",
    "                if not np.isnan(correlation):\n",
    "                    consistency_scores.append(correlation)\n",
    "            except:\n",
    "                continue\n",
    "    \n",
    "    # Return mean if we have scores, otherwise return 0\n",
    "    return np.mean(consistency_scores) if consistency_scores else 0.0\n",
    "\n",
    "\n",
    "def evaluate_model_metrics(model, val_loader, device):\n",
    "    \"\"\"Evaluate all model metrics for patch-based models\"\"\"\n",
    "    model.eval()\n",
    "    metrics = {}\n",
    "    \n",
    "    # Get sample input for inference time measurement\n",
    "    sample_input, _ = next(iter(val_loader))\n",
    "    metrics['inference_time'] = measure_inference_time(model, sample_input, device)\n",
    "    \n",
    "    all_targets = []\n",
    "    all_predictions = []\n",
    "    \n",
    "    with torch.no_grad():\n",
    "        for inputs, targets in val_loader:\n",
    "            inputs = inputs.to(device)\n",
    "            targets = targets.to(device)\n",
    "            outputs = model(inputs)\n",
    "            \n",
    "            # Convert to numpy for metric calculation\n",
    "            targets_np = targets.cpu().numpy()\n",
    "            outputs_np = outputs.cpu().numpy()\n",
    "            \n",
    "            all_targets.append(targets_np)\n",
    "            all_predictions.append(outputs_np)\n",
    "    \n",
    "    # Concatenate all batches\n",
    "    all_targets = np.concatenate(all_targets)\n",
    "    all_predictions = np.concatenate(all_predictions)\n",
    "    \n",
    "    # Calculate metrics\n",
    "    metrics['mse'] = np.mean((all_targets - all_predictions) ** 2)\n",
    "    metrics['mae'] = np.mean(np.abs(all_targets - all_predictions))\n",
    "    metrics['psnr'] = calculate_psnr(all_targets, all_predictions)\n",
    "    \n",
    "    # Calculate R² score for each spatial position\n",
    "    r2_scores = []\n",
    "    batch_size, num_points, height, width = all_targets.shape\n",
    "    for h in range(height):\n",
    "        for w in range(width):\n",
    "            true_spectra = all_targets[:, :, h, w].reshape(-1)\n",
    "            pred_spectra = all_predictions[:, :, h, w].reshape(-1)\n",
    "            r2_scores.append(r2_score(true_spectra, pred_spectra))\n",
    "    metrics['r2_score'] = np.mean(r2_scores)\n",
    "    \n",
    "    # Calculate peak metrics for patches\n",
    "    metrics['peak_metrics'] = calculate_peak_metrics_patch(all_targets, all_predictions)\n",
    "    \n",
    "    # System metrics\n",
    "    metrics['memory_usage'] = measure_memory_usage()\n",
    "    metrics['num_parameters'] = count_parameters(model)\n",
    "    \n",
    "    # Add spatial metrics\n",
    "    metrics['spatial_consistency'] = calculate_spatial_consistency(all_targets, all_predictions)\n",
    "    \n",
    "    return metrics"
   ]
  },
  {
   "cell_type": "code",
   "execution_count": null,
   "metadata": {},
   "outputs": [
    {
     "name": "stdout",
     "output_type": "stream",
     "text": [
      "\n",
      "Final Model Evaluation:\n",
      "MSE: 0.001774\n",
      "MAE: 0.022488\n",
      "PSNR: 27.45 dB\n",
      "R² Score: 0.5637\n",
      "Peak Detection Accuracy: 41.60%\n",
      "Average Inference Time: 13.66 ms\n",
      "Memory Usage: 1830.7 MB\n",
      "Number of Parameters: 1,174,560\n"
     ]
    }
   ],
   "source": [
    "model.eval()\n",
    "final_metrics = evaluate_model_metrics(model, val_loader, device)\n",
    "\n",
    "wandb.log({\n",
    "    \"final_mse\": final_metrics['mse'],\n",
    "    \"final_mae\": final_metrics['mae'],\n",
    "    \"final_psnr\": final_metrics['psnr'],\n",
    "    \"final_r2_score\": final_metrics['r2_score'],\n",
    "    \"peak_detection_accuracy\": final_metrics['peak_metrics']['matching_peaks'] / \n",
    "                             final_metrics['peak_metrics']['true_peaks'],\n",
    "    \"inference_time_ms\": final_metrics['inference_time'] * 1000,\n",
    "    \"memory_usage_mb\": final_metrics['memory_usage'],\n",
    "    \"model_parameters\": final_metrics['num_parameters']\n",
    "})\n",
    "\n",
    "print(\"\\nFinal Model Evaluation:\")\n",
    "print(f\"MSE: {final_metrics['mse']:.6f}\")\n",
    "print(f\"MAE: {final_metrics['mae']:.6f}\")\n",
    "print(f\"PSNR: {final_metrics['psnr']:.2f} dB\")\n",
    "print(f\"R² Score: {final_metrics['r2_score']:.4f}\")\n",
    "print(f\"Peak Detection Accuracy: {final_metrics['peak_metrics']['matching_peaks'] / final_metrics['peak_metrics']['true_peaks']:.2%}\")\n",
    "print(f\"Average Inference Time: {final_metrics['inference_time']*1000:.2f} ms\")\n",
    "print(f\"Memory Usage: {final_metrics['memory_usage']:.1f} MB\")\n",
    "print(f\"Number of Parameters: {final_metrics['num_parameters']:,}\")"
   ]
  },
  {
   "cell_type": "code",
   "execution_count": null,
   "metadata": {},
   "outputs": [
    {
     "data": {
      "image/png": "[encoded data removed]",
      "text/plain": [
       "<Figure size 1500x500 with 6 Axes>"
      ]
     },
     "metadata": {},
     "output_type": "display_data"
    },
    {
     "data": {
      "image/png": "[encoded data removed]",
      "text/plain": [
       "<Figure size 1000x500 with 1 Axes>"
      ]
     },
     "metadata": {},
     "output_type": "display_data"
    },
    {
     "name": "stdout",
     "output_type": "stream",
     "text": [
      "Example MSE: 0.001853\n",
      "Example MAE: 0.021809\n"
     ]
    }
   ],
   "source": [
    "inputs, targets = next(iter(val_loader))\n",
    "inputs, targets = inputs.to(device), targets.to(device)\n",
    "\n",
    "with torch.no_grad():\n",
    "    outputs = model(inputs)\n",
    "\n",
    "inputs = inputs.cpu().numpy()\n",
    "targets = targets.cpu().numpy()\n",
    "outputs = outputs.cpu().numpy()\n",
    "\n",
    "example_idx = 0\n",
    "\n",
    "plt.figure(figsize=(15, 5))\n",
    "\n",
    "plt.subplot(131)\n",
    "plt.imshow(inputs[example_idx, 4, :, :])  # Middle temporal slice (4 out of 8)\n",
    "plt.title('Input (Middle Time Point)')\n",
    "plt.colorbar()\n",
    "\n",
    "plt.subplot(132)\n",
    "plt.imshow(targets[example_idx, 16, :, :])  # Middle spectral point (16 out of 32)\n",
    "plt.title('Target (Middle Spectral Point)')\n",
    "plt.colorbar()\n",
    "\n",
    "plt.subplot(133)\n",
    "plt.imshow(outputs[example_idx, 16, :, :])  # Middle spectral point\n",
    "plt.title('Prediction (Middle Spectral Point)')\n",
    "plt.colorbar()\n",
    "\n",
    "plt.tight_layout()\n",
    "plt.show()\n",
    "\n",
    "voxel_x, voxel_y = 4, 4  # Middle voxel\n",
    "plt.figure(figsize=(10, 5))\n",
    "plt.plot(targets[example_idx, :, voxel_x, voxel_y], label='Target')\n",
    "plt.plot(outputs[example_idx, :, voxel_x, voxel_y], '--', label='Prediction')\n",
    "plt.title(f'T1 Spectrum at Voxel ({voxel_x}, {voxel_y})')\n",
    "plt.xlabel('T1 Index')\n",
    "plt.ylabel('Amplitude')\n",
    "plt.legend()\n",
    "plt.show()\n",
    "\n",
    "mse = np.mean((targets[example_idx] - outputs[example_idx])**2)\n",
    "mae = np.mean(np.abs(targets[example_idx] - outputs[example_idx]))\n",
    "print(f\"Example MSE: {mse:.6f}\")\n",
    "print(f\"Example MAE: {mae:.6f}\")"
   ]
  },
  {
   "cell_type": "code",
   "execution_count": 21,
   "metadata": {},
   "outputs": [
    {
     "data": {
      "text/html": [],
      "text/plain": [
       "<IPython.core.display.HTML object>"
      ]
     },
     "metadata": {},
     "output_type": "display_data"
    },
    {
     "data": {
      "text/html": [
       "<br>    <style><br>        .wandb-row {<br>            display: flex;<br>            flex-direction: row;<br>            flex-wrap: wrap;<br>            justify-content: flex-start;<br>            width: 100%;<br>        }<br>        .wandb-col {<br>            display: flex;<br>            flex-direction: column;<br>            flex-basis: 100%;<br>            flex: 1;<br>            padding: 10px;<br>        }<br>    </style><br><div class=\"wandb-row\"><div class=\"wandb-col\"><h3>Run history:</h3><br/><table class=\"wandb\"><tr><td>epoch</td><td>▁▁▁▁▁▂▂▂▂▂▂▂▂▃▃▃▃▄▄▄▄▄▄▄▄▅▅▅▅▆▆▆▆▆▆▇▇▇▇█</td></tr><tr><td>final_mae</td><td>▁</td></tr><tr><td>final_mse</td><td>▁</td></tr><tr><td>final_psnr</td><td>▁</td></tr><tr><td>final_r2_score</td><td>▁</td></tr><tr><td>inference_time_ms</td><td>▁</td></tr><tr><td>learning_rate</td><td>███████████████▄▄▄▄▄▄▄▄▄▃▃▃▃▃▃▂▂▁▁▁▁▁▁▁▁</td></tr><tr><td>memory_usage_mb</td><td>▁</td></tr><tr><td>model_parameters</td><td>▁</td></tr><tr><td>peak_detection_accuracy</td><td>▁</td></tr><tr><td>train_loss</td><td>█▇▄▃▃▃▂▂▂▂▂▂▂▂▂▂▂▂▂▂▁▁▁▁▁▁▁▁▁▁▁▁▁▁▁▁▁▁▁▁</td></tr><tr><td>val_loss</td><td>█▅▂▂▃▂▂▁▁▁▁▁▁▁▁▁▁▁▁▁▁▁▁▁▁▁▁▁▁▁▁▁▁▁▁▁▁▁▁▁</td></tr></table><br/></div><div class=\"wandb-col\"><h3>Run summary:</h3><br/><table class=\"wandb\"><tr><td>epoch</td><td>178</td></tr><tr><td>final_mae</td><td>0.02249</td></tr><tr><td>final_mse</td><td>0.00177</td></tr><tr><td>final_psnr</td><td>27.44565</td></tr><tr><td>final_r2_score</td><td>0.56372</td></tr><tr><td>inference_time_ms</td><td>13.65655</td></tr><tr><td>learning_rate</td><td>3e-05</td></tr><tr><td>memory_usage_mb</td><td>1830.69141</td></tr><tr><td>model_parameters</td><td>1174560</td></tr><tr><td>peak_detection_accuracy</td><td>0.41599</td></tr><tr><td>train_loss</td><td>0.00172</td></tr><tr><td>val_loss</td><td>0.00177</td></tr></table><br/></div></div>"
      ],
      "text/plain": [
       "<IPython.core.display.HTML object>"
      ]
     },
     "metadata": {},
     "output_type": "display_data"
    },
    {
     "data": {
      "text/html": [
       " View run <strong style=\"color:#cdcd00\">3d-cnn-baseline-fullpatch-improved</strong> at: <a href='https://wandb.ai/trphan/master-multicomponent-mri/runs/vllico9v' target=\"_blank\">https://wandb.ai/trphan/master-multicomponent-mri/runs/vllico9v</a><br> View project at: <a href='https://wandb.ai/trphan/master-multicomponent-mri' target=\"_blank\">https://wandb.ai/trphan/master-multicomponent-mri</a><br>Synced 5 W&B file(s), 0 media file(s), 0 artifact file(s) and 0 other file(s)"
      ],
      "text/plain": [
       "<IPython.core.display.HTML object>"
      ]
     },
     "metadata": {},
     "output_type": "display_data"
    },
    {
     "data": {
      "text/html": [
       "Find logs at: <code>.\\wandb\\run-20250213_015229-vllico9v\\logs</code>"
      ],
      "text/plain": [
       "<IPython.core.display.HTML object>"
      ]
     },
     "metadata": {},
     "output_type": "display_data"
    }
   ],
   "source": [
    "wandb.finish()"
   ]
  }
 ],
 "metadata": {
  "kernelspec": {
   "display_name": ".venv",
   "language": "python",
   "name": "python3"
  },
  "language_info": {
   "codemirror_mode": {
    "name": "ipython",
    "version": 3
   },
   "file_extension": ".py",
   "mimetype": "text/x-python",
   "name": "python",
   "nbconvert_exporter": "python",
   "pygments_lexer": "ipython3",
   "version": "3.11.0"
  }
 },
 "nbformat": 4,
 "nbformat_minor": 2
}
