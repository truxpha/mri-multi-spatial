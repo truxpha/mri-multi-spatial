{
 "cells": [
  {
   "cell_type": "code",
   "execution_count": 1,
   "metadata": {},
   "outputs": [],
   "source": [
    "import torch\n",
    "import torch.nn as nn\n",
    "import torch.optim as optim\n",
    "from torch.utils.data import Dataset, DataLoader, random_split\n",
    "import mat73\n",
    "import numpy as np\n",
    "from tqdm import tqdm\n",
    "import wandb\n",
    "import matplotlib.pyplot as plt\n",
    "from torch.optim.lr_scheduler import ReduceLROnPlateau\n",
    "\n",
    "from scipy.signal import find_peaks\n",
    "from skimage.metrics import structural_similarity as ssim\n",
    "from sklearn.metrics import r2_score\n",
    "import psutil\n",
    "import os\n",
    "import time"
   ]
  },
  {
   "cell_type": "code",
   "execution_count": null,
   "metadata": {},
   "outputs": [
    {
     "name": "stderr",
     "output_type": "stream",
     "text": [
      "\u001b[34m\u001b[1mwandb\u001b[0m: Currently logged in as: \u001b[33mtr-phan\u001b[0m (\u001b[33mtrphan\u001b[0m) to \u001b[32mhttps://api.wandb.ai\u001b[0m. Use \u001b[1m`wandb login --relogin`\u001b[0m to force relogin\n",
      "\u001b[34m\u001b[1mwandb\u001b[0m: Using wandb-core as the SDK backend.  Please refer to https://wandb.me/wandb-core for more information.\n"
     ]
    },
    {
     "data": {
      "text/html": [
       "Tracking run with wandb version 0.19.6"
      ],
      "text/plain": [
       "<IPython.core.display.HTML object>"
      ]
     },
     "metadata": {},
     "output_type": "display_data"
    },
    {
     "data": {
      "text/html": [
       "Run data is saved locally in <code>d:\\Proton Drive\\My files\\Schule\\Master\\Masterarbeit\\project\\models\\spatial_signal_full_patch\\wandb\\run-20250213_192425-9ho7pe4e</code>"
      ],
      "text/plain": [
       "<IPython.core.display.HTML object>"
      ]
     },
     "metadata": {},
     "output_type": "display_data"
    },
    {
     "data": {
      "text/html": [
       "Syncing run <strong><a href='https://wandb.ai/trphan/master-multicomponent-mri/runs/9ho7pe4e' target=\"_blank\">3d-cnn-baseline-fullpatch-attention</a></strong> to <a href='https://wandb.ai/trphan/master-multicomponent-mri' target=\"_blank\">Weights & Biases</a> (<a href='https://wandb.me/developer-guide' target=\"_blank\">docs</a>)<br>"
      ],
      "text/plain": [
       "<IPython.core.display.HTML object>"
      ]
     },
     "metadata": {},
     "output_type": "display_data"
    },
    {
     "data": {
      "text/html": [
       " View project at <a href='https://wandb.ai/trphan/master-multicomponent-mri' target=\"_blank\">https://wandb.ai/trphan/master-multicomponent-mri</a>"
      ],
      "text/plain": [
       "<IPython.core.display.HTML object>"
      ]
     },
     "metadata": {},
     "output_type": "display_data"
    },
    {
     "data": {
      "text/html": [
       " View run at <a href='https://wandb.ai/trphan/master-multicomponent-mri/runs/9ho7pe4e' target=\"_blank\">https://wandb.ai/trphan/master-multicomponent-mri/runs/9ho7pe4e</a>"
      ],
      "text/plain": [
       "<IPython.core.display.HTML object>"
      ]
     },
     "metadata": {},
     "output_type": "display_data"
    }
   ],
   "source": [
    "wandb.login()\n",
    "run = wandb.init(project=\"master-multicomponent-mri\", name=\"3d-cnn-baseline-fullpatch-attention-2\")"
   ]
  },
  {
   "cell_type": "code",
   "execution_count": null,
   "metadata": {},
   "outputs": [
    {
     "name": "stdout",
     "output_type": "stream",
     "text": [
      "Shape of input data: (9, 9, 8, 47932)\n",
      "Shape of reference data: (9, 9, 32, 47932)\n"
     ]
    }
   ],
   "source": [
    "data = mat73.loadmat('../../data/training_data_T1_3D_9x9x32x47932_noise0.05.mat')\n",
    "input_noisy_np = data['input_noisy']\n",
    "input_clean_np = data['input']\n",
    "ref_np = data['ref']\n",
    "\n",
    "print(\"Shape of input data:\", input_noisy_np.shape)\n",
    "print(\"Shape of reference data:\", ref_np.shape)"
   ]
  },
  {
   "cell_type": "code",
   "execution_count": 4,
   "metadata": {},
   "outputs": [
    {
     "name": "stdout",
     "output_type": "stream",
     "text": [
      "NaN count in input_noisy before handling: 1635840\n",
      "NaN count in ref before handling: 0\n"
     ]
    }
   ],
   "source": [
    "nan_count_input_noisy_before = np.isnan(input_noisy_np).sum()\n",
    "nan_count_ref_before = np.isnan(ref_np).sum()\n",
    "print(f\"NaN count in input_noisy before handling: {nan_count_input_noisy_before}\")\n",
    "print(f\"NaN count in ref before handling: {nan_count_ref_before}\")"
   ]
  },
  {
   "cell_type": "code",
   "execution_count": 5,
   "metadata": {},
   "outputs": [
    {
     "name": "stdout",
     "output_type": "stream",
     "text": [
      "NaN count in input_noisy after handling: 0\n"
     ]
    }
   ],
   "source": [
    "input_noisy_np = np.nan_to_num(input_noisy_np, nan=0.0)\n",
    "nan_count_input_noisy_after = np.isnan(input_noisy_np).sum()\n",
    "print(f\"NaN count in input_noisy after handling: {nan_count_input_noisy_after}\")"
   ]
  },
  {
   "cell_type": "code",
   "execution_count": 6,
   "metadata": {},
   "outputs": [],
   "source": [
    "class T1PatchDataset(Dataset):\n",
    "    def __init__(self, input_data, target_data):\n",
    "        self.input_data = input_data\n",
    "        self.target_data = target_data\n",
    "\n",
    "    def __len__(self):\n",
    "        return len(self.input_data)\n",
    "\n",
    "    def __getitem__(self, idx):\n",
    "        return self.input_data[idx], self.target_data[idx]"
   ]
  },
  {
   "cell_type": "code",
   "execution_count": 7,
   "metadata": {},
   "outputs": [],
   "source": [
    "class SpatialAttention3D(nn.Module):\n",
    "    def __init__(self, in_channels):\n",
    "        super(SpatialAttention3D, self).__init__()\n",
    "        self.attention = nn.Sequential(\n",
    "            nn.Conv3d(in_channels, in_channels//8, kernel_size=1),\n",
    "            nn.BatchNorm3d(in_channels//8),\n",
    "            nn.LeakyReLU(0.1),\n",
    "            nn.Conv3d(in_channels//8, in_channels, kernel_size=1),\n",
    "            nn.Sigmoid()\n",
    "        )\n",
    "    \n",
    "    def forward(self, x):\n",
    "        attention_weights = self.attention(x)\n",
    "        return x * attention_weights"
   ]
  },
  {
   "cell_type": "code",
   "execution_count": null,
   "metadata": {},
   "outputs": [],
   "source": [
    "class CNN3DWithAttention(nn.Module):\n",
    "    def __init__(self):\n",
    "        super(CNN3DWithAttention, self).__init__()\n",
    "        \n",
    "        self.conv1 = nn.Conv3d(1, 64, kernel_size=(3,3,3), padding=(1,1,1))\n",
    "        self.bn1 = nn.BatchNorm3d(64)\n",
    "        self.relu1 = nn.LeakyReLU(0.1)\n",
    "        self.attention1 = SpatialAttention3D(64)\n",
    "        \n",
    "        self.conv2 = nn.Conv3d(64, 128, kernel_size=(3,3,3), padding=(1,1,1))\n",
    "        self.bn2 = nn.BatchNorm3d(128)\n",
    "        self.relu2 = nn.LeakyReLU(0.1)\n",
    "        self.attention2 = SpatialAttention3D(128)\n",
    "        \n",
    "        self.conv3 = nn.Conv3d(128, 256, kernel_size=(3,3,3), padding=(1,1,1))\n",
    "        self.bn3 = nn.BatchNorm3d(256)\n",
    "        self.relu3 = nn.LeakyReLU(0.1)\n",
    "        self.attention3 = SpatialAttention3D(256)\n",
    "        \n",
    "        self.final_conv = nn.Conv3d(256, 32, kernel_size=(8,1,1))\n",
    "        \n",
    "    def forward(self, x):\n",
    "        # Add channel dimension\n",
    "        x = x.unsqueeze(1)\n",
    "        \n",
    "        x = self.relu1(self.bn1(self.conv1(x)))\n",
    "        x = self.attention1(x)\n",
    "        \n",
    "        x = self.relu2(self.bn2(self.conv2(x)))\n",
    "        x = self.attention2(x)\n",
    "        \n",
    "        x = self.relu3(self.bn3(self.conv3(x)))\n",
    "        x = self.attention3(x)\n",
    "        \n",
    "        x = self.final_conv(x)\n",
    "        \n",
    "        # Remove extra dimension\n",
    "        x = x.squeeze(2)\n",
    "        \n",
    "        return x"
   ]
  },
  {
   "cell_type": "code",
   "execution_count": null,
   "metadata": {},
   "outputs": [],
   "source": [
    "class EarlyStopping:\n",
    "    def __init__(self, patience=15, min_delta=1e-6, path='saved_models/best_3dcnn_model_att_2.pt'):\n",
    "        self.patience = patience\n",
    "        self.min_delta = min_delta\n",
    "        self.counter = 0\n",
    "        self.best_loss = None\n",
    "        self.early_stop = False\n",
    "        self.path = path\n",
    "        \n",
    "    def __call__(self, val_loss, model):\n",
    "        if self.best_loss is None:\n",
    "            self.best_loss = val_loss\n",
    "            self.save_checkpoint(model)\n",
    "        elif val_loss > self.best_loss - self.min_delta:\n",
    "            self.counter += 1\n",
    "            print(f'EarlyStopping counter: {self.counter} out of {self.patience}')\n",
    "            if self.counter >= self.patience:\n",
    "                self.early_stop = True\n",
    "        else:\n",
    "            self.best_loss = val_loss\n",
    "            self.save_checkpoint(model)\n",
    "            self.counter = 0\n",
    "\n",
    "    def save_checkpoint(self, model):\n",
    "        torch.save(model.state_dict(), self.path)"
   ]
  },
  {
   "cell_type": "code",
   "execution_count": null,
   "metadata": {},
   "outputs": [],
   "source": [
    "# Transpose the input and reference data to be (N, C, H, W) format\n",
    "input_noisy_torch = np.transpose(input_noisy_np, (3, 2, 0, 1))\n",
    "ref_torch = np.transpose(ref_np, (3, 2, 0, 1))\n",
    "\n",
    "input_noisy_torch = torch.tensor(input_noisy_torch, dtype=torch.float32)\n",
    "ref_torch = torch.tensor(ref_torch, dtype=torch.float32)"
   ]
  },
  {
   "cell_type": "code",
   "execution_count": null,
   "metadata": {},
   "outputs": [],
   "source": [
    "# Create Dataset\n",
    "dataset = T1PatchDataset(input_noisy_torch, ref_torch)\n",
    "\n",
    "# Split dataset\n",
    "train_size = int(0.8 * len(dataset))\n",
    "val_size = len(dataset) - train_size\n",
    "train_dataset, val_dataset = random_split(dataset, [train_size, val_size])\n",
    "\n",
    "# Create DataLoaders\n",
    "batch_size = 64\n",
    "train_loader = DataLoader(train_dataset, batch_size=batch_size, shuffle=True)\n",
    "val_loader = DataLoader(val_dataset, batch_size=batch_size, shuffle=False)"
   ]
  },
  {
   "cell_type": "code",
   "execution_count": null,
   "metadata": {},
   "outputs": [
    {
     "name": "stderr",
     "output_type": "stream",
     "text": [
      "d:\\Proton Drive\\My files\\Schule\\Master\\Masterarbeit\\project\\.venv\\Lib\\site-packages\\torch\\optim\\lr_scheduler.py:60: UserWarning: The verbose parameter is deprecated. Please use get_last_lr() to access the learning rate.\n",
      "  warnings.warn(\n"
     ]
    }
   ],
   "source": [
    "# Training setup\n",
    "device = torch.device(\"cuda\" if torch.cuda.is_available() else \"cpu\")\n",
    "model = CNN3DWithAttention().to(device)\n",
    "criterion = nn.MSELoss()\n",
    "optimizer = optim.Adam(model.parameters(), lr=0.001)\n",
    "scheduler = ReduceLROnPlateau(optimizer, mode='min', factor=0.5, patience=4, verbose=True)\n",
    "early_stopping = EarlyStopping(patience=6, path='best_3dcnn_model.pt')\n",
    "\n",
    "num_epochs = 50"
   ]
  },
  {
   "cell_type": "code",
   "execution_count": 13,
   "metadata": {},
   "outputs": [],
   "source": [
    "# Log configuration\n",
    "wandb.config.update({\n",
    "    \"learning_rate\": 0.001,\n",
    "    \"batch_size\": batch_size,\n",
    "    \"epochs\": num_epochs,\n",
    "    \"architecture\": \"3DCNN\",\n",
    "    \"optimizer\": \"Adam\",\n",
    "    \"loss_function\": \"MSELoss\",\n",
    "    \"scheduler\": \"ReduceLROnPlateau\",\n",
    "    \"early_stopping_patience\": 6\n",
    "})"
   ]
  },
  {
   "cell_type": "code",
   "execution_count": 14,
   "metadata": {},
   "outputs": [
    {
     "name": "stderr",
     "output_type": "stream",
     "text": [
      "Epoch [1/50] Training: 100%|██████████| 600/600 [00:30<00:00, 19.94it/s, loss=0.00328]\n",
      "Epoch [1/50] Validation: 100%|██████████| 150/150 [00:02<00:00, 58.88it/s, loss=0.00247]\n"
     ]
    },
    {
     "name": "stdout",
     "output_type": "stream",
     "text": [
      "Epoch [1/50], Train Loss: 0.004915321367637565, Val Loss: 0.0029342793642232814, LR: 0.001\n"
     ]
    },
    {
     "name": "stderr",
     "output_type": "stream",
     "text": [
      "Epoch [2/50] Training: 100%|██████████| 600/600 [00:28<00:00, 20.82it/s, loss=0.00179]\n",
      "Epoch [2/50] Validation: 100%|██████████| 150/150 [00:02<00:00, 58.98it/s, loss=0.00226]\n"
     ]
    },
    {
     "name": "stdout",
     "output_type": "stream",
     "text": [
      "Epoch [2/50], Train Loss: 0.0026559312853108473, Val Loss: 0.0026185718815152845, LR: 0.001\n"
     ]
    },
    {
     "name": "stderr",
     "output_type": "stream",
     "text": [
      "Epoch [3/50] Training: 100%|██████████| 600/600 [00:28<00:00, 20.73it/s, loss=0.00236]\n",
      "Epoch [3/50] Validation: 100%|██████████| 150/150 [00:02<00:00, 58.39it/s, loss=0.00194]\n"
     ]
    },
    {
     "name": "stdout",
     "output_type": "stream",
     "text": [
      "Epoch [3/50], Train Loss: 0.0023570011323317884, Val Loss: 0.0022391990556692083, LR: 0.001\n"
     ]
    },
    {
     "name": "stderr",
     "output_type": "stream",
     "text": [
      "Epoch [4/50] Training: 100%|██████████| 600/600 [00:29<00:00, 20.66it/s, loss=0.00203]\n",
      "Epoch [4/50] Validation: 100%|██████████| 150/150 [00:02<00:00, 58.30it/s, loss=0.00181]\n"
     ]
    },
    {
     "name": "stdout",
     "output_type": "stream",
     "text": [
      "Epoch [4/50], Train Loss: 0.002248404749358694, Val Loss: 0.002175804196546475, LR: 0.001\n"
     ]
    },
    {
     "name": "stderr",
     "output_type": "stream",
     "text": [
      "Epoch [5/50] Training: 100%|██████████| 600/600 [00:29<00:00, 20.62it/s, loss=0.00273]\n",
      "Epoch [5/50] Validation: 100%|██████████| 150/150 [00:02<00:00, 58.49it/s, loss=0.00187]\n"
     ]
    },
    {
     "name": "stdout",
     "output_type": "stream",
     "text": [
      "Epoch [5/50], Train Loss: 0.002162769621160502, Val Loss: 0.002069473173469305, LR: 0.001\n"
     ]
    },
    {
     "name": "stderr",
     "output_type": "stream",
     "text": [
      "Epoch [6/50] Training: 100%|██████████| 600/600 [00:29<00:00, 20.53it/s, loss=0.00261]\n",
      "Epoch [6/50] Validation: 100%|██████████| 150/150 [00:02<00:00, 53.73it/s, loss=0.00184]\n"
     ]
    },
    {
     "name": "stdout",
     "output_type": "stream",
     "text": [
      "EarlyStopping counter: 1 out of 15\n",
      "Epoch [6/50], Train Loss: 0.0021146340099706625, Val Loss: 0.002103963514479498, LR: 0.001\n"
     ]
    },
    {
     "name": "stderr",
     "output_type": "stream",
     "text": [
      "Epoch [7/50] Training: 100%|██████████| 600/600 [00:31<00:00, 18.86it/s, loss=0.00214]\n",
      "Epoch [7/50] Validation: 100%|██████████| 150/150 [00:02<00:00, 55.12it/s, loss=0.00184]\n"
     ]
    },
    {
     "name": "stdout",
     "output_type": "stream",
     "text": [
      "Epoch [7/50], Train Loss: 0.002074658433169437, Val Loss: 0.0020631579868495464, LR: 0.001\n"
     ]
    },
    {
     "name": "stderr",
     "output_type": "stream",
     "text": [
      "Epoch [8/50] Training: 100%|██████████| 600/600 [00:31<00:00, 19.11it/s, loss=0.00274]\n",
      "Epoch [8/50] Validation: 100%|██████████| 150/150 [00:02<00:00, 57.51it/s, loss=0.0018] \n"
     ]
    },
    {
     "name": "stdout",
     "output_type": "stream",
     "text": [
      "Epoch [8/50], Train Loss: 0.002050076286153247, Val Loss: 0.0020211274875327947, LR: 0.001\n"
     ]
    },
    {
     "name": "stderr",
     "output_type": "stream",
     "text": [
      "Epoch [9/50] Training: 100%|██████████| 600/600 [00:30<00:00, 19.78it/s, loss=0.00292]\n",
      "Epoch [9/50] Validation: 100%|██████████| 150/150 [00:02<00:00, 55.32it/s, loss=0.00177]\n"
     ]
    },
    {
     "name": "stdout",
     "output_type": "stream",
     "text": [
      "Epoch [9/50], Train Loss: 0.0020275789132574574, Val Loss: 0.0019987700670026243, LR: 0.001\n"
     ]
    },
    {
     "name": "stderr",
     "output_type": "stream",
     "text": [
      "Epoch [10/50] Training: 100%|██████████| 600/600 [00:29<00:00, 20.21it/s, loss=0.00145]\n",
      "Epoch [10/50] Validation: 100%|██████████| 150/150 [00:02<00:00, 57.44it/s, loss=0.00175]\n"
     ]
    },
    {
     "name": "stdout",
     "output_type": "stream",
     "text": [
      "Epoch [10/50], Train Loss: 0.0019996182814550896, Val Loss: 0.0019770777241016426, LR: 0.001\n"
     ]
    },
    {
     "name": "stderr",
     "output_type": "stream",
     "text": [
      "Epoch [11/50] Training: 100%|██████████| 600/600 [00:29<00:00, 20.32it/s, loss=0.00314]\n",
      "Epoch [11/50] Validation: 100%|██████████| 150/150 [00:02<00:00, 57.19it/s, loss=0.00181]\n"
     ]
    },
    {
     "name": "stdout",
     "output_type": "stream",
     "text": [
      "EarlyStopping counter: 1 out of 15\n",
      "Epoch [11/50], Train Loss: 0.001993363936392901, Val Loss: 0.0019857742901270587, LR: 0.001\n"
     ]
    },
    {
     "name": "stderr",
     "output_type": "stream",
     "text": [
      "Epoch [12/50] Training: 100%|██████████| 600/600 [00:29<00:00, 20.32it/s, loss=0.00183]\n",
      "Epoch [12/50] Validation: 100%|██████████| 150/150 [00:02<00:00, 58.12it/s, loss=0.00178]\n"
     ]
    },
    {
     "name": "stdout",
     "output_type": "stream",
     "text": [
      "Epoch [12/50], Train Loss: 0.0019734900237138695, Val Loss: 0.001940779658810546, LR: 0.001\n"
     ]
    },
    {
     "name": "stderr",
     "output_type": "stream",
     "text": [
      "Epoch [13/50] Training: 100%|██████████| 600/600 [00:29<00:00, 20.50it/s, loss=0.00249]\n",
      "Epoch [13/50] Validation: 100%|██████████| 150/150 [00:02<00:00, 59.02it/s, loss=0.00173]\n"
     ]
    },
    {
     "name": "stdout",
     "output_type": "stream",
     "text": [
      "EarlyStopping counter: 1 out of 15\n",
      "Epoch [13/50], Train Loss: 0.0019635557332852234, Val Loss: 0.0019415687544581792, LR: 0.001\n"
     ]
    },
    {
     "name": "stderr",
     "output_type": "stream",
     "text": [
      "Epoch [14/50] Training: 100%|██████████| 600/600 [00:29<00:00, 20.50it/s, loss=0.00186]\n",
      "Epoch [14/50] Validation: 100%|██████████| 150/150 [00:02<00:00, 58.69it/s, loss=0.0017] \n"
     ]
    },
    {
     "name": "stdout",
     "output_type": "stream",
     "text": [
      "Epoch [14/50], Train Loss: 0.001945717272659143, Val Loss: 0.0019254395885703465, LR: 0.001\n"
     ]
    },
    {
     "name": "stderr",
     "output_type": "stream",
     "text": [
      "Epoch [15/50] Training: 100%|██████████| 600/600 [00:29<00:00, 20.03it/s, loss=0.00219]\n",
      "Epoch [15/50] Validation: 100%|██████████| 150/150 [00:02<00:00, 58.45it/s, loss=0.00183]\n"
     ]
    },
    {
     "name": "stdout",
     "output_type": "stream",
     "text": [
      "EarlyStopping counter: 1 out of 15\n",
      "Epoch [15/50], Train Loss: 0.0019397830674036717, Val Loss: 0.0020539472298696636, LR: 0.001\n"
     ]
    },
    {
     "name": "stderr",
     "output_type": "stream",
     "text": [
      "Epoch [16/50] Training: 100%|██████████| 600/600 [00:29<00:00, 20.54it/s, loss=0.00146]\n",
      "Epoch [16/50] Validation: 100%|██████████| 150/150 [00:02<00:00, 58.67it/s, loss=0.00169]\n"
     ]
    },
    {
     "name": "stdout",
     "output_type": "stream",
     "text": [
      "Epoch [16/50], Train Loss: 0.0019218989255993316, Val Loss: 0.0019099555870828529, LR: 0.001\n"
     ]
    },
    {
     "name": "stderr",
     "output_type": "stream",
     "text": [
      "Epoch [17/50] Training: 100%|██████████| 600/600 [00:29<00:00, 20.54it/s, loss=0.000894]\n",
      "Epoch [17/50] Validation: 100%|██████████| 150/150 [00:02<00:00, 58.02it/s, loss=0.00172]\n"
     ]
    },
    {
     "name": "stdout",
     "output_type": "stream",
     "text": [
      "EarlyStopping counter: 1 out of 15\n",
      "Epoch [17/50], Train Loss: 0.001917858994274866, Val Loss: 0.0019150004854115348, LR: 0.001\n"
     ]
    },
    {
     "name": "stderr",
     "output_type": "stream",
     "text": [
      "Epoch [18/50] Training: 100%|██████████| 600/600 [00:29<00:00, 20.55it/s, loss=0.0016] \n",
      "Epoch [18/50] Validation: 100%|██████████| 150/150 [00:02<00:00, 58.32it/s, loss=0.00178]\n"
     ]
    },
    {
     "name": "stdout",
     "output_type": "stream",
     "text": [
      "EarlyStopping counter: 2 out of 15\n",
      "Epoch [18/50], Train Loss: 0.0019022825703723357, Val Loss: 0.0019410787126980722, LR: 0.001\n"
     ]
    },
    {
     "name": "stderr",
     "output_type": "stream",
     "text": [
      "Epoch [19/50] Training: 100%|██████████| 600/600 [00:28<00:00, 20.78it/s, loss=0.00212]\n",
      "Epoch [19/50] Validation: 100%|██████████| 150/150 [00:02<00:00, 59.70it/s, loss=0.00166]\n"
     ]
    },
    {
     "name": "stdout",
     "output_type": "stream",
     "text": [
      "Epoch [19/50], Train Loss: 0.0018951293707747633, Val Loss: 0.0018711265246383847, LR: 0.001\n"
     ]
    },
    {
     "name": "stderr",
     "output_type": "stream",
     "text": [
      "Epoch [20/50] Training: 100%|██████████| 600/600 [00:28<00:00, 20.77it/s, loss=0.00166]\n",
      "Epoch [20/50] Validation: 100%|██████████| 150/150 [00:02<00:00, 57.50it/s, loss=0.00164]\n"
     ]
    },
    {
     "name": "stdout",
     "output_type": "stream",
     "text": [
      "Epoch [20/50], Train Loss: 0.0018848809733754024, Val Loss: 0.0018612245361631116, LR: 0.001\n"
     ]
    },
    {
     "name": "stderr",
     "output_type": "stream",
     "text": [
      "Epoch [21/50] Training: 100%|██████████| 600/600 [00:31<00:00, 19.27it/s, loss=0.0022] \n",
      "Epoch [21/50] Validation: 100%|██████████| 150/150 [00:02<00:00, 55.17it/s, loss=0.00166]\n"
     ]
    },
    {
     "name": "stdout",
     "output_type": "stream",
     "text": [
      "Epoch [21/50], Train Loss: 0.0018791205569868908, Val Loss: 0.001844587278707574, LR: 0.001\n"
     ]
    },
    {
     "name": "stderr",
     "output_type": "stream",
     "text": [
      "Epoch [22/50] Training: 100%|██████████| 600/600 [00:29<00:00, 20.49it/s, loss=0.002]  \n",
      "Epoch [22/50] Validation: 100%|██████████| 150/150 [00:02<00:00, 57.78it/s, loss=0.00171]\n"
     ]
    },
    {
     "name": "stdout",
     "output_type": "stream",
     "text": [
      "EarlyStopping counter: 1 out of 15\n",
      "Epoch [22/50], Train Loss: 0.001869923227156202, Val Loss: 0.0019114905339665711, LR: 0.001\n"
     ]
    },
    {
     "name": "stderr",
     "output_type": "stream",
     "text": [
      "Epoch [23/50] Training: 100%|██████████| 600/600 [00:27<00:00, 21.55it/s, loss=0.00277]\n",
      "Epoch [23/50] Validation: 100%|██████████| 150/150 [00:02<00:00, 63.13it/s, loss=0.00162]\n"
     ]
    },
    {
     "name": "stdout",
     "output_type": "stream",
     "text": [
      "EarlyStopping counter: 2 out of 15\n",
      "Epoch [23/50], Train Loss: 0.0018656670870647455, Val Loss: 0.0018492411977301042, LR: 0.001\n"
     ]
    },
    {
     "name": "stderr",
     "output_type": "stream",
     "text": [
      "Epoch [24/50] Training: 100%|██████████| 600/600 [00:28<00:00, 21.30it/s, loss=0.00139]\n",
      "Epoch [24/50] Validation: 100%|██████████| 150/150 [00:02<00:00, 61.53it/s, loss=0.00164]\n"
     ]
    },
    {
     "name": "stdout",
     "output_type": "stream",
     "text": [
      "Epoch [24/50], Train Loss: 0.00185466566181276, Val Loss: 0.0018332341065009435, LR: 0.001\n"
     ]
    },
    {
     "name": "stderr",
     "output_type": "stream",
     "text": [
      "Epoch [25/50] Training: 100%|██████████| 600/600 [00:30<00:00, 19.86it/s, loss=0.00258]\n",
      "Epoch [25/50] Validation: 100%|██████████| 150/150 [00:02<00:00, 58.06it/s, loss=0.00166]\n"
     ]
    },
    {
     "name": "stdout",
     "output_type": "stream",
     "text": [
      "EarlyStopping counter: 1 out of 15\n",
      "Epoch [25/50], Train Loss: 0.001849322134706502, Val Loss: 0.0018582112745692333, LR: 0.001\n"
     ]
    },
    {
     "name": "stderr",
     "output_type": "stream",
     "text": [
      "Epoch [26/50] Training: 100%|██████████| 600/600 [00:29<00:00, 20.00it/s, loss=0.00149]\n",
      "Epoch [26/50] Validation: 100%|██████████| 150/150 [00:02<00:00, 55.34it/s, loss=0.00167]\n"
     ]
    },
    {
     "name": "stdout",
     "output_type": "stream",
     "text": [
      "EarlyStopping counter: 2 out of 15\n",
      "Epoch [26/50], Train Loss: 0.0018415083687674874, Val Loss: 0.0018427327601239086, LR: 0.001\n"
     ]
    },
    {
     "name": "stderr",
     "output_type": "stream",
     "text": [
      "Epoch [27/50] Training: 100%|██████████| 600/600 [00:29<00:00, 20.03it/s, loss=0.0028] \n",
      "Epoch [27/50] Validation: 100%|██████████| 150/150 [00:02<00:00, 54.98it/s, loss=0.0017] \n"
     ]
    },
    {
     "name": "stdout",
     "output_type": "stream",
     "text": [
      "EarlyStopping counter: 3 out of 15\n",
      "Epoch [27/50], Train Loss: 0.0018347530645163109, Val Loss: 0.0018529399678421518, LR: 0.001\n"
     ]
    },
    {
     "name": "stderr",
     "output_type": "stream",
     "text": [
      "Epoch [28/50] Training: 100%|██████████| 600/600 [00:29<00:00, 20.16it/s, loss=0.00109]\n",
      "Epoch [28/50] Validation: 100%|██████████| 150/150 [00:02<00:00, 57.08it/s, loss=0.00162]\n"
     ]
    },
    {
     "name": "stdout",
     "output_type": "stream",
     "text": [
      "Epoch [28/50], Train Loss: 0.0018324033522124712, Val Loss: 0.0018064312761028607, LR: 0.001\n"
     ]
    },
    {
     "name": "stderr",
     "output_type": "stream",
     "text": [
      "Epoch [29/50] Training: 100%|██████████| 600/600 [00:29<00:00, 20.16it/s, loss=0.00259]\n",
      "Epoch [29/50] Validation: 100%|██████████| 150/150 [00:02<00:00, 56.70it/s, loss=0.00164]\n"
     ]
    },
    {
     "name": "stdout",
     "output_type": "stream",
     "text": [
      "EarlyStopping counter: 1 out of 15\n",
      "Epoch [29/50], Train Loss: 0.0018237389608596762, Val Loss: 0.0018131512791539231, LR: 0.001\n"
     ]
    },
    {
     "name": "stderr",
     "output_type": "stream",
     "text": [
      "Epoch [30/50] Training: 100%|██████████| 600/600 [00:30<00:00, 19.88it/s, loss=0.00207]\n",
      "Epoch [30/50] Validation: 100%|██████████| 150/150 [00:02<00:00, 56.56it/s, loss=0.00166]\n"
     ]
    },
    {
     "name": "stdout",
     "output_type": "stream",
     "text": [
      "EarlyStopping counter: 2 out of 15\n",
      "Epoch [30/50], Train Loss: 0.0018184950798361872, Val Loss: 0.0018187098399115105, LR: 0.001\n"
     ]
    },
    {
     "name": "stderr",
     "output_type": "stream",
     "text": [
      "Epoch [31/50] Training: 100%|██████████| 600/600 [00:29<00:00, 20.09it/s, loss=0.00221]\n",
      "Epoch [31/50] Validation: 100%|██████████| 150/150 [00:02<00:00, 60.12it/s, loss=0.00169]\n"
     ]
    },
    {
     "name": "stdout",
     "output_type": "stream",
     "text": [
      "EarlyStopping counter: 3 out of 15\n",
      "Epoch [31/50], Train Loss: 0.0018155005407364418, Val Loss: 0.0018745304457843304, LR: 0.001\n"
     ]
    },
    {
     "name": "stderr",
     "output_type": "stream",
     "text": [
      "Epoch [32/50] Training: 100%|██████████| 600/600 [00:27<00:00, 21.51it/s, loss=0.00207]\n",
      "Epoch [32/50] Validation: 100%|██████████| 150/150 [00:02<00:00, 61.62it/s, loss=0.00163]\n"
     ]
    },
    {
     "name": "stdout",
     "output_type": "stream",
     "text": [
      "Epoch [32/50], Train Loss: 0.0018127774802269413, Val Loss: 0.0018029457028023899, LR: 0.001\n"
     ]
    },
    {
     "name": "stderr",
     "output_type": "stream",
     "text": [
      "Epoch [33/50] Training: 100%|██████████| 600/600 [00:27<00:00, 21.63it/s, loss=0.00211]\n",
      "Epoch [33/50] Validation: 100%|██████████| 150/150 [00:02<00:00, 61.92it/s, loss=0.00162]\n"
     ]
    },
    {
     "name": "stdout",
     "output_type": "stream",
     "text": [
      "Epoch [33/50], Train Loss: 0.001802819229196757, Val Loss: 0.0017994214276162287, LR: 0.001\n"
     ]
    },
    {
     "name": "stderr",
     "output_type": "stream",
     "text": [
      "Epoch [34/50] Training: 100%|██████████| 600/600 [00:27<00:00, 21.88it/s, loss=0.00238]\n",
      "Epoch [34/50] Validation: 100%|██████████| 150/150 [00:02<00:00, 62.94it/s, loss=0.00169]\n"
     ]
    },
    {
     "name": "stdout",
     "output_type": "stream",
     "text": [
      "EarlyStopping counter: 1 out of 15\n",
      "Epoch [34/50], Train Loss: 0.001801587989126953, Val Loss: 0.001825775858014822, LR: 0.001\n"
     ]
    },
    {
     "name": "stderr",
     "output_type": "stream",
     "text": [
      "Epoch [35/50] Training: 100%|██████████| 600/600 [00:28<00:00, 21.12it/s, loss=0.00197]\n",
      "Epoch [35/50] Validation: 100%|██████████| 150/150 [00:02<00:00, 54.83it/s, loss=0.00159]\n"
     ]
    },
    {
     "name": "stdout",
     "output_type": "stream",
     "text": [
      "EarlyStopping counter: 2 out of 15\n",
      "Epoch [35/50], Train Loss: 0.0017946108907926828, Val Loss: 0.0018017323641106486, LR: 0.001\n"
     ]
    },
    {
     "name": "stderr",
     "output_type": "stream",
     "text": [
      "Epoch [36/50] Training: 100%|██████████| 600/600 [00:27<00:00, 21.59it/s, loss=0.00192]\n",
      "Epoch [36/50] Validation: 100%|██████████| 150/150 [00:02<00:00, 62.95it/s, loss=0.00166]\n"
     ]
    },
    {
     "name": "stdout",
     "output_type": "stream",
     "text": [
      "EarlyStopping counter: 3 out of 15\n",
      "Epoch [36/50], Train Loss: 0.001792237796083403, Val Loss: 0.0018272424590153, LR: 0.001\n"
     ]
    },
    {
     "name": "stderr",
     "output_type": "stream",
     "text": [
      "Epoch [37/50] Training: 100%|██████████| 600/600 [00:27<00:00, 22.00it/s, loss=0.00226]\n",
      "Epoch [37/50] Validation: 100%|██████████| 150/150 [00:02<00:00, 61.92it/s, loss=0.00174]\n"
     ]
    },
    {
     "name": "stdout",
     "output_type": "stream",
     "text": [
      "EarlyStopping counter: 4 out of 15\n",
      "Epoch [37/50], Train Loss: 0.00179554011595125, Val Loss: 0.0018430409634796281, LR: 0.001\n"
     ]
    },
    {
     "name": "stderr",
     "output_type": "stream",
     "text": [
      "Epoch [38/50] Training: 100%|██████████| 600/600 [00:27<00:00, 21.74it/s, loss=0.0015] \n",
      "Epoch [38/50] Validation: 100%|██████████| 150/150 [00:02<00:00, 62.63it/s, loss=0.00163]\n"
     ]
    },
    {
     "name": "stdout",
     "output_type": "stream",
     "text": [
      "Epoch [38/50], Train Loss: 0.0017850785256208232, Val Loss: 0.0017978220960746208, LR: 0.001\n"
     ]
    },
    {
     "name": "stderr",
     "output_type": "stream",
     "text": [
      "Epoch [39/50] Training: 100%|██████████| 600/600 [00:27<00:00, 21.54it/s, loss=0.00219]\n",
      "Epoch [39/50] Validation: 100%|██████████| 150/150 [00:02<00:00, 62.73it/s, loss=0.00164]\n"
     ]
    },
    {
     "name": "stdout",
     "output_type": "stream",
     "text": [
      "EarlyStopping counter: 1 out of 15\n",
      "Epoch [39/50], Train Loss: 0.0017797732826632757, Val Loss: 0.001824165500390033, LR: 0.001\n"
     ]
    },
    {
     "name": "stderr",
     "output_type": "stream",
     "text": [
      "Epoch [40/50] Training: 100%|██████████| 600/600 [00:28<00:00, 20.93it/s, loss=0.00256]\n",
      "Epoch [40/50] Validation: 100%|██████████| 150/150 [00:02<00:00, 62.07it/s, loss=0.00175]\n"
     ]
    },
    {
     "name": "stdout",
     "output_type": "stream",
     "text": [
      "EarlyStopping counter: 2 out of 15\n",
      "Epoch [40/50], Train Loss: 0.00177787218359299, Val Loss: 0.0018792518701714774, LR: 0.001\n"
     ]
    },
    {
     "name": "stderr",
     "output_type": "stream",
     "text": [
      "Epoch [41/50] Training: 100%|██████████| 600/600 [00:27<00:00, 21.72it/s, loss=0.00192]\n",
      "Epoch [41/50] Validation: 100%|██████████| 150/150 [00:02<00:00, 61.19it/s, loss=0.00181]\n"
     ]
    },
    {
     "name": "stdout",
     "output_type": "stream",
     "text": [
      "EarlyStopping counter: 3 out of 15\n",
      "Epoch [41/50], Train Loss: 0.0017763517354615033, Val Loss: 0.0019290329647871356, LR: 0.001\n"
     ]
    },
    {
     "name": "stderr",
     "output_type": "stream",
     "text": [
      "Epoch [42/50] Training: 100%|██████████| 600/600 [00:27<00:00, 21.79it/s, loss=0.0015] \n",
      "Epoch [42/50] Validation: 100%|██████████| 150/150 [00:02<00:00, 61.56it/s, loss=0.0016] \n"
     ]
    },
    {
     "name": "stdout",
     "output_type": "stream",
     "text": [
      "Epoch [42/50], Train Loss: 0.00177063784271013, Val Loss: 0.0017828629678115248, LR: 0.001\n"
     ]
    },
    {
     "name": "stderr",
     "output_type": "stream",
     "text": [
      "Epoch [43/50] Training: 100%|██████████| 600/600 [00:27<00:00, 21.77it/s, loss=0.00106]\n",
      "Epoch [43/50] Validation: 100%|██████████| 150/150 [00:02<00:00, 62.10it/s, loss=0.00169]\n"
     ]
    },
    {
     "name": "stdout",
     "output_type": "stream",
     "text": [
      "EarlyStopping counter: 1 out of 15\n",
      "Epoch [43/50], Train Loss: 0.001767469637755615, Val Loss: 0.001809643463542064, LR: 0.001\n"
     ]
    },
    {
     "name": "stderr",
     "output_type": "stream",
     "text": [
      "Epoch [44/50] Training: 100%|██████████| 600/600 [00:29<00:00, 20.57it/s, loss=0.00145]\n",
      "Epoch [44/50] Validation: 100%|██████████| 150/150 [00:02<00:00, 58.37it/s, loss=0.00163]\n"
     ]
    },
    {
     "name": "stdout",
     "output_type": "stream",
     "text": [
      "EarlyStopping counter: 2 out of 15\n",
      "Epoch [44/50], Train Loss: 0.0017633118589098255, Val Loss: 0.0018697962537407875, LR: 0.001\n"
     ]
    },
    {
     "name": "stderr",
     "output_type": "stream",
     "text": [
      "Epoch [45/50] Training: 100%|██████████| 600/600 [00:27<00:00, 21.60it/s, loss=0.0018] \n",
      "Epoch [45/50] Validation: 100%|██████████| 150/150 [00:02<00:00, 63.40it/s, loss=0.00159]\n"
     ]
    },
    {
     "name": "stdout",
     "output_type": "stream",
     "text": [
      "EarlyStopping counter: 3 out of 15\n",
      "Epoch [45/50], Train Loss: 0.0017627890095657979, Val Loss: 0.0017928791403149565, LR: 0.001\n"
     ]
    },
    {
     "name": "stderr",
     "output_type": "stream",
     "text": [
      "Epoch [46/50] Training: 100%|██████████| 600/600 [00:27<00:00, 21.96it/s, loss=0.00209]\n",
      "Epoch [46/50] Validation: 100%|██████████| 150/150 [00:02<00:00, 63.52it/s, loss=0.00159]\n"
     ]
    },
    {
     "name": "stdout",
     "output_type": "stream",
     "text": [
      "EarlyStopping counter: 4 out of 15\n",
      "Epoch [46/50], Train Loss: 0.00175853442614122, Val Loss: 0.0017862096754834055, LR: 0.001\n"
     ]
    },
    {
     "name": "stderr",
     "output_type": "stream",
     "text": [
      "Epoch [47/50] Training: 100%|██████████| 600/600 [00:27<00:00, 21.95it/s, loss=0.00169]\n",
      "Epoch [47/50] Validation: 100%|██████████| 150/150 [00:02<00:00, 63.27it/s, loss=0.00162]\n"
     ]
    },
    {
     "name": "stdout",
     "output_type": "stream",
     "text": [
      "EarlyStopping counter: 5 out of 15\n",
      "Epoch [47/50], Train Loss: 0.0017523145052837207, Val Loss: 0.0018098376031654576, LR: 0.0005\n"
     ]
    },
    {
     "name": "stderr",
     "output_type": "stream",
     "text": [
      "Epoch [48/50] Training: 100%|██████████| 600/600 [00:27<00:00, 21.86it/s, loss=0.00237]\n",
      "Epoch [48/50] Validation: 100%|██████████| 150/150 [00:02<00:00, 63.09it/s, loss=0.00161]\n"
     ]
    },
    {
     "name": "stdout",
     "output_type": "stream",
     "text": [
      "EarlyStopping counter: 6 out of 15\n",
      "Epoch [48/50], Train Loss: 0.0017204926488921047, Val Loss: 0.0018189923178094129, LR: 0.0005\n"
     ]
    },
    {
     "name": "stderr",
     "output_type": "stream",
     "text": [
      "Epoch [49/50] Training: 100%|██████████| 600/600 [00:27<00:00, 21.94it/s, loss=0.00268]\n",
      "Epoch [49/50] Validation: 100%|██████████| 150/150 [00:02<00:00, 63.05it/s, loss=0.00158]\n"
     ]
    },
    {
     "name": "stdout",
     "output_type": "stream",
     "text": [
      "EarlyStopping counter: 7 out of 15\n",
      "Epoch [49/50], Train Loss: 0.0017158794853215417, Val Loss: 0.0017839915677905084, LR: 0.0005\n"
     ]
    },
    {
     "name": "stderr",
     "output_type": "stream",
     "text": [
      "Epoch [50/50] Training: 100%|██████████| 600/600 [00:27<00:00, 21.97it/s, loss=0.00241]\n",
      "Epoch [50/50] Validation: 100%|██████████| 150/150 [00:02<00:00, 62.51it/s, loss=0.00157]\n"
     ]
    },
    {
     "name": "stdout",
     "output_type": "stream",
     "text": [
      "Epoch [50/50], Train Loss: 0.0017126879214386765, Val Loss: 0.0017736524196031193, LR: 0.0005\n",
      "Training finished\n"
     ]
    }
   ],
   "source": [
    "# Training loop\n",
    "best_val_loss = float('inf')\n",
    "\n",
    "for epoch in range(num_epochs):\n",
    "    # Training phase\n",
    "    model.train()\n",
    "    train_loss = 0.0\n",
    "    progress_bar_train = tqdm(train_loader, desc=f'Epoch [{epoch+1}/{num_epochs}] Training')\n",
    "    \n",
    "    for inputs, targets in progress_bar_train:\n",
    "        inputs, targets = inputs.to(device), targets.to(device)\n",
    "        \n",
    "        optimizer.zero_grad()\n",
    "        outputs = model(inputs)\n",
    "        loss = criterion(outputs, targets)\n",
    "        loss.backward()\n",
    "        \n",
    "        # Gradient clipping\n",
    "        torch.nn.utils.clip_grad_norm_(model.parameters(), max_norm=1.0)\n",
    "        \n",
    "        optimizer.step()\n",
    "        train_loss += loss.item()\n",
    "        progress_bar_train.set_postfix({'loss': loss.item()})\n",
    "\n",
    "    avg_train_loss = train_loss / len(train_loader)\n",
    "\n",
    "    # Validation phase\n",
    "    model.eval()\n",
    "    val_loss = 0.0\n",
    "    progress_bar_val = tqdm(val_loader, desc=f'Epoch [{epoch+1}/{num_epochs}] Validation')\n",
    "    \n",
    "    with torch.no_grad():\n",
    "        for inputs, targets in progress_bar_val:\n",
    "            inputs, targets = inputs.to(device), targets.to(device)\n",
    "            outputs = model(inputs)\n",
    "            loss = criterion(outputs, targets)\n",
    "            val_loss += loss.item()\n",
    "            progress_bar_val.set_postfix({'loss': loss.item()})\n",
    "\n",
    "    avg_val_loss = val_loss / len(val_loader)\n",
    "\n",
    "    # Learning rate scheduling\n",
    "    scheduler.step(avg_val_loss)\n",
    "    current_lr = optimizer.param_groups[0]['lr']\n",
    "\n",
    "    # Early stopping\n",
    "    early_stopping(avg_val_loss, model)\n",
    "\n",
    "    # Logging\n",
    "    wandb.log({\n",
    "        \"epoch\": epoch + 1,\n",
    "        \"train_loss\": avg_train_loss,\n",
    "        \"val_loss\": avg_val_loss,\n",
    "        \"learning_rate\": current_lr\n",
    "    })\n",
    "\n",
    "    print(f'Epoch [{epoch+1}/{num_epochs}], Train Loss: {avg_train_loss}, Val Loss: {avg_val_loss}, LR: {current_lr}')\n",
    "\n",
    "    if early_stopping.early_stop:\n",
    "        print(\"Early stopping triggered\")\n",
    "        break\n",
    "\n",
    "print(\"Training finished\")"
   ]
  },
  {
   "cell_type": "code",
   "execution_count": null,
   "metadata": {},
   "outputs": [],
   "source": [
    "#model.load_state_dict(torch.load('saved_models/best_3dcnn_model.pt'))\n",
    "# model.eval()"
   ]
  },
  {
   "cell_type": "code",
   "execution_count": null,
   "metadata": {},
   "outputs": [],
   "source": [
    "def calculate_psnr(target, prediction):\n",
    "    \"\"\"Calculate Peak Signal-to-Noise Ratio\"\"\"\n",
    "    mse = np.mean((target - prediction) ** 2)\n",
    "    if mse == 0:\n",
    "        return float('inf')\n",
    "    max_pixel = np.max(target)\n",
    "    psnr = 20 * np.log10(max_pixel / np.sqrt(mse))\n",
    "    return psnr\n",
    "\n",
    "def calculate_peak_metrics_patch(target, prediction, prominence=0.1):\n",
    "    \"\"\"Calculate peak detection accuracy for full patch predictions\"\"\"\n",
    "    peak_metrics = {'true_peaks': 0, 'predicted_peaks': 0, 'matching_peaks': 0}\n",
    "    \n",
    "    # Iterate over each voxel in the patch\n",
    "    batch_size, num_points, height, width = target.shape\n",
    "    \n",
    "    for b in range(batch_size):\n",
    "        for h in range(height):\n",
    "            for w in range(width):\n",
    "                # Get spectrum for current voxel\n",
    "                true_spectrum = target[b, :, h, w]\n",
    "                pred_spectrum = prediction[b, :, h, w]\n",
    "                \n",
    "                # Find peaks\n",
    "                true_peaks, _ = find_peaks(true_spectrum, prominence=prominence)\n",
    "                pred_peaks, _ = find_peaks(pred_spectrum, prominence=prominence)\n",
    "                \n",
    "                # Count matching peaks\n",
    "                matches = 0\n",
    "                for tp in true_peaks:\n",
    "                    for pp in pred_peaks:\n",
    "                        if abs(tp - pp) <= 1:\n",
    "                            matches += 1\n",
    "                            break\n",
    "                \n",
    "                peak_metrics['true_peaks'] += len(true_peaks)\n",
    "                peak_metrics['predicted_peaks'] += len(pred_peaks)\n",
    "                peak_metrics['matching_peaks'] += matches\n",
    "    \n",
    "    return peak_metrics\n",
    "\n",
    "def measure_inference_time(model, input_tensor, device, num_iterations=100):\n",
    "    \"\"\"Measure average inference time\"\"\"\n",
    "    model.eval()\n",
    "    start_time = time.time()\n",
    "    with torch.no_grad():\n",
    "        for _ in range(num_iterations):\n",
    "            _ = model(input_tensor.to(device))\n",
    "    end_time = time.time()\n",
    "    return (end_time - start_time) / num_iterations\n",
    "\n",
    "def count_parameters(model):\n",
    "    \"\"\"Count number of trainable parameters\"\"\"\n",
    "    return sum(p.numel() for p in model.parameters() if p.requires_grad)\n",
    "\n",
    "def measure_memory_usage():\n",
    "    \"\"\"Measure current memory usage\"\"\"\n",
    "    process = psutil.Process(os.getpid())\n",
    "    return process.memory_info().rss / 1024 / 1024  # Convert to MB\n",
    "\n",
    "def calculate_spatial_consistency(targets, predictions, window_size=3):\n",
    "    \"\"\"Calculate spatial consistency metric with proper handling of constant patches\"\"\"\n",
    "    batch_size, num_points, height, width = targets.shape\n",
    "    consistency_scores = []\n",
    "    \n",
    "    # Calculate local spatial correlation for each patch\n",
    "    for b in range(min(batch_size, 100)):  # Limit to 100 samples for efficiency\n",
    "        for t in range(num_points):\n",
    "            true_patch = targets[b, t]\n",
    "            pred_patch = predictions[b, t]\n",
    "            \n",
    "            # Skip if either patch is constant\n",
    "            if np.std(true_patch) == 0 or np.std(pred_patch) == 0:\n",
    "                continue\n",
    "                \n",
    "            # Calculate local spatial correlation\n",
    "            try:\n",
    "                correlation = np.corrcoef(true_patch.flatten(), pred_patch.flatten())[0, 1]\n",
    "                if not np.isnan(correlation):\n",
    "                    consistency_scores.append(correlation)\n",
    "            except:\n",
    "                continue\n",
    "    \n",
    "    # Return mean if we have scores, otherwise return 0\n",
    "    return np.mean(consistency_scores) if consistency_scores else 0.0\n",
    "\n",
    "\n",
    "def evaluate_model_metrics(model, val_loader, device):\n",
    "    \"\"\"Evaluate all model metrics for patch-based models\"\"\"\n",
    "    model.eval()\n",
    "    metrics = {}\n",
    "    \n",
    "    # Get sample input for inference time measurement\n",
    "    sample_input, _ = next(iter(val_loader))\n",
    "    metrics['inference_time'] = measure_inference_time(model, sample_input, device)\n",
    "    \n",
    "    all_targets = []\n",
    "    all_predictions = []\n",
    "    \n",
    "    with torch.no_grad():\n",
    "        for inputs, targets in val_loader:\n",
    "            inputs = inputs.to(device)\n",
    "            targets = targets.to(device)\n",
    "            outputs = model(inputs)\n",
    "            \n",
    "            # Convert to numpy for metric calculation\n",
    "            targets_np = targets.cpu().numpy()\n",
    "            outputs_np = outputs.cpu().numpy()\n",
    "            \n",
    "            all_targets.append(targets_np)\n",
    "            all_predictions.append(outputs_np)\n",
    "    \n",
    "    # Concatenate all batches\n",
    "    all_targets = np.concatenate(all_targets)\n",
    "    all_predictions = np.concatenate(all_predictions)\n",
    "    \n",
    "    # Calculate metrics\n",
    "    metrics['mse'] = np.mean((all_targets - all_predictions) ** 2)\n",
    "    metrics['mae'] = np.mean(np.abs(all_targets - all_predictions))\n",
    "    metrics['psnr'] = calculate_psnr(all_targets, all_predictions)\n",
    "    \n",
    "    # Calculate R² score for each spatial position\n",
    "    r2_scores = []\n",
    "    batch_size, num_points, height, width = all_targets.shape\n",
    "    for h in range(height):\n",
    "        for w in range(width):\n",
    "            true_spectra = all_targets[:, :, h, w].reshape(-1)\n",
    "            pred_spectra = all_predictions[:, :, h, w].reshape(-1)\n",
    "            r2_scores.append(r2_score(true_spectra, pred_spectra))\n",
    "    metrics['r2_score'] = np.mean(r2_scores)\n",
    "    \n",
    "    # Calculate peak metrics for patches\n",
    "    metrics['peak_metrics'] = calculate_peak_metrics_patch(all_targets, all_predictions)\n",
    "    \n",
    "    # System metrics\n",
    "    metrics['memory_usage'] = measure_memory_usage()\n",
    "    metrics['num_parameters'] = count_parameters(model)\n",
    "    \n",
    "    # Add spatial metrics\n",
    "    metrics['spatial_consistency'] = calculate_spatial_consistency(all_targets, all_predictions)\n",
    "    \n",
    "    return metrics"
   ]
  },
  {
   "cell_type": "code",
   "execution_count": null,
   "metadata": {},
   "outputs": [
    {
     "name": "stdout",
     "output_type": "stream",
     "text": [
      "\n",
      "Final Model Evaluation:\n",
      "MSE: 0.001774\n",
      "MAE: 0.022189\n",
      "PSNR: 27.48 dB\n",
      "R² Score: 0.5661\n",
      "Peak Detection Accuracy: 41.51%\n",
      "Average Inference Time: 15.91 ms\n",
      "Memory Usage: 2719.3 MB\n",
      "Number of Parameters: 1,196,680\n"
     ]
    }
   ],
   "source": [
    "model.eval()\n",
    "final_metrics = evaluate_model_metrics(model, val_loader, device)\n",
    "\n",
    "wandb.log({\n",
    "    \"final_mse\": final_metrics['mse'],\n",
    "    \"final_mae\": final_metrics['mae'],\n",
    "    \"final_psnr\": final_metrics['psnr'],\n",
    "    \"final_r2_score\": final_metrics['r2_score'],\n",
    "    \"peak_detection_accuracy\": final_metrics['peak_metrics']['matching_peaks'] / \n",
    "                             final_metrics['peak_metrics']['true_peaks'],\n",
    "    \"inference_time_ms\": final_metrics['inference_time'] * 1000,\n",
    "    \"memory_usage_mb\": final_metrics['memory_usage'],\n",
    "    \"model_parameters\": final_metrics['num_parameters']\n",
    "})\n",
    "\n",
    "print(\"\\nFinal Model Evaluation:\")\n",
    "print(f\"MSE: {final_metrics['mse']:.6f}\")\n",
    "print(f\"MAE: {final_metrics['mae']:.6f}\")\n",
    "print(f\"PSNR: {final_metrics['psnr']:.2f} dB\")\n",
    "print(f\"R² Score: {final_metrics['r2_score']:.4f}\")\n",
    "print(f\"Peak Detection Accuracy: {final_metrics['peak_metrics']['matching_peaks'] / final_metrics['peak_metrics']['true_peaks']:.2%}\")\n",
    "print(f\"Average Inference Time: {final_metrics['inference_time']*1000:.2f} ms\")\n",
    "print(f\"Memory Usage: {final_metrics['memory_usage']:.1f} MB\")\n",
    "print(f\"Number of Parameters: {final_metrics['num_parameters']:,}\")"
   ]
  },
  {
   "cell_type": "code",
   "execution_count": null,
   "metadata": {},
   "outputs": [
    {
     "data": {
      "image/png": "[encoded data removed]",
      "text/plain": [
       "<Figure size 1500x500 with 6 Axes>"
      ]
     },
     "metadata": {},
     "output_type": "display_data"
    },
    {
     "data": {
      "image/png": "[encoded data removed]",
      "text/plain": [
       "<Figure size 1000x500 with 1 Axes>"
      ]
     },
     "metadata": {},
     "output_type": "display_data"
    },
    {
     "name": "stdout",
     "output_type": "stream",
     "text": [
      "Example MSE: 0.000531\n",
      "Example MAE: 0.013631\n"
     ]
    }
   ],
   "source": [
    "inputs, targets = next(iter(val_loader))\n",
    "inputs, targets = inputs.to(device), targets.to(device)\n",
    "\n",
    "with torch.no_grad():\n",
    "    outputs = model(inputs)\n",
    "\n",
    "inputs = inputs.cpu().numpy()\n",
    "targets = targets.cpu().numpy()\n",
    "outputs = outputs.cpu().numpy()\n",
    "\n",
    "example_idx = 0\n",
    "\n",
    "plt.figure(figsize=(15, 5))\n",
    "\n",
    "plt.subplot(131)\n",
    "plt.imshow(inputs[example_idx, 4, :, :])  # Middle temporal slice (4 out of 8)\n",
    "plt.title('Input (Middle Time Point)')\n",
    "plt.colorbar()\n",
    "\n",
    "plt.subplot(132)\n",
    "plt.imshow(targets[example_idx, 16, :, :])  # Middle spectral point (16 out of 32)\n",
    "plt.title('Target (Middle Spectral Point)')\n",
    "plt.colorbar()\n",
    "\n",
    "plt.subplot(133)\n",
    "plt.imshow(outputs[example_idx, 16, :, :])  # Middle spectral point\n",
    "plt.title('Prediction (Middle Spectral Point)')\n",
    "plt.colorbar()\n",
    "\n",
    "plt.tight_layout()\n",
    "plt.show()\n",
    "\n",
    "# Plot spectrum for a single voxel\n",
    "voxel_x, voxel_y = 4, 4  # Middle voxel\n",
    "plt.figure(figsize=(10, 5))\n",
    "plt.plot(targets[example_idx, :, voxel_x, voxel_y], label='Target')\n",
    "plt.plot(outputs[example_idx, :, voxel_x, voxel_y], '--', label='Prediction')\n",
    "plt.title(f'T1 Spectrum at Voxel ({voxel_x}, {voxel_y})')\n",
    "plt.xlabel('T1 Index')\n",
    "plt.ylabel('Amplitude')\n",
    "plt.legend()\n",
    "plt.show()\n",
    "\n",
    "mse = np.mean((targets[example_idx] - outputs[example_idx])**2)\n",
    "mae = np.mean(np.abs(targets[example_idx] - outputs[example_idx]))\n",
    "print(f\"Example MSE: {mse:.6f}\")\n",
    "print(f\"Example MAE: {mae:.6f}\")"
   ]
  },
  {
   "cell_type": "code",
   "execution_count": 19,
   "metadata": {},
   "outputs": [
    {
     "data": {
      "text/html": [],
      "text/plain": [
       "<IPython.core.display.HTML object>"
      ]
     },
     "metadata": {},
     "output_type": "display_data"
    },
    {
     "data": {
      "text/html": [
       "<br>    <style><br>        .wandb-row {<br>            display: flex;<br>            flex-direction: row;<br>            flex-wrap: wrap;<br>            justify-content: flex-start;<br>            width: 100%;<br>        }<br>        .wandb-col {<br>            display: flex;<br>            flex-direction: column;<br>            flex-basis: 100%;<br>            flex: 1;<br>            padding: 10px;<br>        }<br>    </style><br><div class=\"wandb-row\"><div class=\"wandb-col\"><h3>Run history:</h3><br/><table class=\"wandb\"><tr><td>epoch</td><td>▁▁▁▁▂▂▂▂▂▂▃▃▃▃▃▄▄▄▄▄▅▅▅▅▅▆▆▆▆▆▆▇▇▇▇▇▇███</td></tr><tr><td>final_mae</td><td>▁</td></tr><tr><td>final_mse</td><td>▁</td></tr><tr><td>final_psnr</td><td>▁</td></tr><tr><td>final_r2_score</td><td>▁</td></tr><tr><td>inference_time_ms</td><td>▁</td></tr><tr><td>learning_rate</td><td>█████████████████████████████████████▁▁▁</td></tr><tr><td>memory_usage_mb</td><td>▁</td></tr><tr><td>model_parameters</td><td>▁</td></tr><tr><td>peak_detection_accuracy</td><td>▁</td></tr><tr><td>train_loss</td><td>█▃▂▂▂▂▂▂▂▂▂▁▁▁▁▁▁▁▁▁▁▁▁▁▁▁▁▁▁▁▁▁▁▁▁▁▁▁▁▁</td></tr><tr><td>val_loss</td><td>█▆▄▃▃▃▂▂▂▂▂▂▃▂▂▂▂▁▂▁▁▁▁▁▁▁▁▁▁▁▁▂▂▁▁▁▁▁▁▁</td></tr></table><br/></div><div class=\"wandb-col\"><h3>Run summary:</h3><br/><table class=\"wandb\"><tr><td>epoch</td><td>50</td></tr><tr><td>final_mae</td><td>0.02219</td></tr><tr><td>final_mse</td><td>0.00177</td></tr><tr><td>final_psnr</td><td>27.48029</td></tr><tr><td>final_r2_score</td><td>0.56607</td></tr><tr><td>inference_time_ms</td><td>15.91325</td></tr><tr><td>learning_rate</td><td>0.0005</td></tr><tr><td>memory_usage_mb</td><td>2719.3125</td></tr><tr><td>model_parameters</td><td>1196680</td></tr><tr><td>peak_detection_accuracy</td><td>0.41507</td></tr><tr><td>train_loss</td><td>0.00171</td></tr><tr><td>val_loss</td><td>0.00177</td></tr></table><br/></div></div>"
      ],
      "text/plain": [
       "<IPython.core.display.HTML object>"
      ]
     },
     "metadata": {},
     "output_type": "display_data"
    },
    {
     "data": {
      "text/html": [
       " View run <strong style=\"color:#cdcd00\">3d-cnn-baseline-fullpatch-attention</strong> at: <a href='https://wandb.ai/trphan/master-multicomponent-mri/runs/9ho7pe4e' target=\"_blank\">https://wandb.ai/trphan/master-multicomponent-mri/runs/9ho7pe4e</a><br> View project at: <a href='https://wandb.ai/trphan/master-multicomponent-mri' target=\"_blank\">https://wandb.ai/trphan/master-multicomponent-mri</a><br>Synced 5 W&B file(s), 0 media file(s), 0 artifact file(s) and 0 other file(s)"
      ],
      "text/plain": [
       "<IPython.core.display.HTML object>"
      ]
     },
     "metadata": {},
     "output_type": "display_data"
    },
    {
     "data": {
      "text/html": [
       "Find logs at: <code>.\\wandb\\run-20250213_192425-9ho7pe4e\\logs</code>"
      ],
      "text/plain": [
       "<IPython.core.display.HTML object>"
      ]
     },
     "metadata": {},
     "output_type": "display_data"
    }
   ],
   "source": [
    "wandb.finish()"
   ]
  }
 ],
 "metadata": {
  "kernelspec": {
   "display_name": ".venv",
   "language": "python",
   "name": "python3"
  },
  "language_info": {
   "codemirror_mode": {
    "name": "ipython",
    "version": 3
   },
   "file_extension": ".py",
   "mimetype": "text/x-python",
   "name": "python",
   "nbconvert_exporter": "python",
   "pygments_lexer": "ipython3",
   "version": "3.11.0"
  }
 },
 "nbformat": 4,
 "nbformat_minor": 2
}
