{
 "cells": [
  {
   "cell_type": "code",
   "execution_count": 1,
   "metadata": {},
   "outputs": [],
   "source": [
    "import torch\n",
    "import torch.nn as nn\n",
    "import torch.optim as optim\n",
    "from torch.utils.data import Dataset, DataLoader, random_split\n",
    "import mat73\n",
    "import numpy as np\n",
    "from tqdm import tqdm\n",
    "import wandb\n",
    "import matplotlib.pyplot as plt\n",
    "from torch.optim.lr_scheduler import ReduceLROnPlateau\n",
    "\n",
    "from scipy.signal import find_peaks\n",
    "from skimage.metrics import structural_similarity as ssim\n",
    "from sklearn.metrics import r2_score\n",
    "import psutil\n",
    "import os\n",
    "import time"
   ]
  },
  {
   "cell_type": "code",
   "execution_count": 2,
   "metadata": {},
   "outputs": [
    {
     "name": "stderr",
     "output_type": "stream",
     "text": [
      "\u001b[34m\u001b[1mwandb\u001b[0m: Currently logged in as: \u001b[33mtr-phan\u001b[0m (\u001b[33mtrphan\u001b[0m) to \u001b[32mhttps://api.wandb.ai\u001b[0m. Use \u001b[1m`wandb login --relogin`\u001b[0m to force relogin\n",
      "\u001b[34m\u001b[1mwandb\u001b[0m: Using wandb-core as the SDK backend.  Please refer to https://wandb.me/wandb-core for more information.\n"
     ]
    },
    {
     "data": {
      "text/html": [
       "Tracking run with wandb version 0.19.6"
      ],
      "text/plain": [
       "<IPython.core.display.HTML object>"
      ]
     },
     "metadata": {},
     "output_type": "display_data"
    },
    {
     "data": {
      "text/html": [
       "Run data is saved locally in <code>d:\\Proton Drive\\My files\\Schule\\Master\\Masterarbeit\\project\\models\\spatial_signal_full_patch\\wandb\\run-20250213_032932-jh0gzq1y</code>"
      ],
      "text/plain": [
       "<IPython.core.display.HTML object>"
      ]
     },
     "metadata": {},
     "output_type": "display_data"
    },
    {
     "data": {
      "text/html": [
       "Syncing run <strong><a href='https://wandb.ai/trphan/master-multicomponent-mri/runs/jh0gzq1y' target=\"_blank\">unet-baseline-fullpatch-improved</a></strong> to <a href='https://wandb.ai/trphan/master-multicomponent-mri' target=\"_blank\">Weights & Biases</a> (<a href='https://wandb.me/developer-guide' target=\"_blank\">docs</a>)<br>"
      ],
      "text/plain": [
       "<IPython.core.display.HTML object>"
      ]
     },
     "metadata": {},
     "output_type": "display_data"
    },
    {
     "data": {
      "text/html": [
       " View project at <a href='https://wandb.ai/trphan/master-multicomponent-mri' target=\"_blank\">https://wandb.ai/trphan/master-multicomponent-mri</a>"
      ],
      "text/plain": [
       "<IPython.core.display.HTML object>"
      ]
     },
     "metadata": {},
     "output_type": "display_data"
    },
    {
     "data": {
      "text/html": [
       " View run at <a href='https://wandb.ai/trphan/master-multicomponent-mri/runs/jh0gzq1y' target=\"_blank\">https://wandb.ai/trphan/master-multicomponent-mri/runs/jh0gzq1y</a>"
      ],
      "text/plain": [
       "<IPython.core.display.HTML object>"
      ]
     },
     "metadata": {},
     "output_type": "display_data"
    }
   ],
   "source": [
    "wandb.login()\n",
    "# run = wandb.init(project=\"master-multicomponent-mri\", name=\"unet-baseline-fullpatch\")\n",
    "run = wandb.init(project=\"master-multicomponent-mri\", name=\"unet-baseline-fullpatch-improved\")"
   ]
  },
  {
   "cell_type": "code",
   "execution_count": null,
   "metadata": {},
   "outputs": [
    {
     "name": "stdout",
     "output_type": "stream",
     "text": [
      "Shape of input data: (9, 9, 8, 47932)\n",
      "Shape of reference data: (9, 9, 32, 47932)\n"
     ]
    }
   ],
   "source": [
    "data = mat73.loadmat('../../data/training_data_T1_3D_9x9x32x47932_noise0.05.mat')\n",
    "input_noisy_np = data['input_noisy']\n",
    "input_clean_np = data['input']\n",
    "ref_np = data['ref']\n",
    "\n",
    "print(\"Shape of input data:\", input_noisy_np.shape)\n",
    "print(\"Shape of reference data:\", ref_np.shape)"
   ]
  },
  {
   "cell_type": "code",
   "execution_count": 4,
   "metadata": {},
   "outputs": [
    {
     "name": "stdout",
     "output_type": "stream",
     "text": [
      "NaN count in input_noisy before handling: 1635840\n",
      "NaN count in ref before handling: 0\n"
     ]
    }
   ],
   "source": [
    "nan_count_input_noisy_before = np.isnan(input_noisy_np).sum()\n",
    "nan_count_ref_before = np.isnan(ref_np).sum()\n",
    "print(f\"NaN count in input_noisy before handling: {nan_count_input_noisy_before}\")\n",
    "print(f\"NaN count in ref before handling: {nan_count_ref_before}\")"
   ]
  },
  {
   "cell_type": "code",
   "execution_count": 5,
   "metadata": {},
   "outputs": [
    {
     "name": "stdout",
     "output_type": "stream",
     "text": [
      "NaN count in input_noisy after handling: 0\n"
     ]
    }
   ],
   "source": [
    "input_noisy_np = np.nan_to_num(input_noisy_np, nan=0.0)\n",
    "nan_count_input_noisy_after = np.isnan(input_noisy_np).sum()\n",
    "print(f\"NaN count in input_noisy after handling: {nan_count_input_noisy_after}\")"
   ]
  },
  {
   "cell_type": "code",
   "execution_count": 6,
   "metadata": {},
   "outputs": [],
   "source": [
    "class T1PatchDataset(Dataset):\n",
    "    def __init__(self, input_data, target_data):\n",
    "        self.input_data = input_data\n",
    "        self.target_data = target_data\n",
    "\n",
    "    def __len__(self):\n",
    "        return len(self.input_data)\n",
    "\n",
    "    def __getitem__(self, idx):\n",
    "        return self.input_data[idx], self.target_data[idx]"
   ]
  },
  {
   "cell_type": "code",
   "execution_count": null,
   "metadata": {},
   "outputs": [],
   "source": [
    "class DoubleConv(nn.Module):\n",
    "    def __init__(self, in_channels, out_channels):\n",
    "        super().__init__()\n",
    "        self.double_conv = nn.Sequential(\n",
    "            nn.Conv2d(in_channels, out_channels, kernel_size=3, padding=1),\n",
    "            nn.BatchNorm2d(out_channels),\n",
    "            nn.LeakyReLU(0.1),\n",
    "            nn.Conv2d(out_channels, out_channels, kernel_size=3, padding=1),\n",
    "            nn.BatchNorm2d(out_channels),\n",
    "            nn.LeakyReLU(0.1)\n",
    "        )\n",
    "\n",
    "    def forward(self, x):\n",
    "        return self.double_conv(x)\n",
    "\n",
    "class UNet(nn.Module):\n",
    "    def __init__(self):\n",
    "        super(UNet, self).__init__()\n",
    "        \n",
    "        self.conv1 = DoubleConv(8, 64)\n",
    "        self.pool1 = nn.MaxPool2d(2, padding=1)\n",
    "        self.conv2 = DoubleConv(64, 128)\n",
    "        \n",
    "        self.bridge_conv = DoubleConv(128, 256)\n",
    "        \n",
    "        self.upconv = nn.ConvTranspose2d(256, 128, kernel_size=2, stride=2)\n",
    "        self.conv3 = DoubleConv(192, 128)\n",
    "        \n",
    "        self.final_conv = nn.Sequential(\n",
    "            nn.Conv2d(128, 64, kernel_size=3, padding=1),\n",
    "            nn.BatchNorm2d(64),\n",
    "            nn.LeakyReLU(0.1),\n",
    "            nn.Conv2d(64, 32, kernel_size=1)\n",
    "        )\n",
    "        \n",
    "        self.apply(self._init_weights)\n",
    "    \n",
    "    def _init_weights(self, m):\n",
    "        if isinstance(m, (nn.Conv2d, nn.ConvTranspose2d)):\n",
    "            nn.init.kaiming_normal_(m.weight, mode='fan_out', nonlinearity='relu')\n",
    "            if m.bias is not None:\n",
    "                nn.init.constant_(m.bias, 0)\n",
    "        elif isinstance(m, nn.BatchNorm2d):\n",
    "            nn.init.constant_(m.weight, 1)\n",
    "            nn.init.constant_(m.bias, 0)\n",
    "\n",
    "    def forward(self, x):\n",
    "        \n",
    "        conv1 = self.conv1(x)           # [batch, 64, 9, 9]\n",
    "        x = self.pool1(conv1)           # [batch, 64, 5, 5]\n",
    "        conv2 = self.conv2(x)           # [batch, 128, 5, 5]\n",
    "        \n",
    "        x = self.bridge_conv(conv2)     # [batch, 256, 5, 5]\n",
    "        \n",
    "        x = self.upconv(x)              # [batch, 128, 10, 10]\n",
    "        x = x[:, :, :9, :9]            # [batch, 128, 9, 9]\n",
    "        x = torch.cat([x, conv1], dim=1)  # [batch, 192, 9, 9]\n",
    "        x = self.conv3(x)               # [batch, 128, 9, 9]\n",
    "        \n",
    "        x = self.final_conv(x)          # [batch, 32, 9, 9]\n",
    "        \n",
    "        return x"
   ]
  },
  {
   "cell_type": "code",
   "execution_count": null,
   "metadata": {},
   "outputs": [],
   "source": [
    "class EarlyStopping:\n",
    "    def __init__(self, patience=15, min_delta=1e-6, path='saved_models/best_unet_model.pt'):\n",
    "        self.patience = patience\n",
    "        self.min_delta = min_delta\n",
    "        self.counter = 0\n",
    "        self.best_loss = None\n",
    "        self.early_stop = False\n",
    "        self.path = path\n",
    "        \n",
    "    def __call__(self, val_loss, model):\n",
    "        if self.best_loss is None:\n",
    "            self.best_loss = val_loss\n",
    "            self.save_checkpoint(model)\n",
    "        elif val_loss > self.best_loss - self.min_delta:\n",
    "            self.counter += 1\n",
    "            print(f'EarlyStopping counter: {self.counter} out of {self.patience}')\n",
    "            if self.counter >= self.patience:\n",
    "                self.early_stop = True\n",
    "        else:\n",
    "            self.best_loss = val_loss\n",
    "            self.save_checkpoint(model)\n",
    "            self.counter = 0\n",
    "\n",
    "    def save_checkpoint(self, model):\n",
    "        torch.save(model.state_dict(), self.path)"
   ]
  },
  {
   "cell_type": "code",
   "execution_count": null,
   "metadata": {},
   "outputs": [],
   "source": [
    "# Transpose the input and reference data to be (N, C, H, W) format\n",
    "input_noisy_torch = np.transpose(input_noisy_np, (3, 2, 0, 1))\n",
    "ref_torch = np.transpose(ref_np, (3, 2, 0, 1))\n",
    "\n",
    "input_noisy_torch = torch.tensor(input_noisy_torch, dtype=torch.float32)\n",
    "ref_torch = torch.tensor(ref_torch, dtype=torch.float32)"
   ]
  },
  {
   "cell_type": "code",
   "execution_count": 10,
   "metadata": {},
   "outputs": [],
   "source": [
    "input_mean = input_noisy_torch.mean()\n",
    "input_std = input_noisy_torch.std()\n",
    "input_noisy_torch = (input_noisy_torch - input_mean) / input_std"
   ]
  },
  {
   "cell_type": "code",
   "execution_count": null,
   "metadata": {},
   "outputs": [],
   "source": [
    "# Create Dataset\n",
    "dataset = T1PatchDataset(input_noisy_torch, ref_torch)\n",
    "\n",
    "# Split dataset\n",
    "train_size = int(0.8 * len(dataset))\n",
    "val_size = len(dataset) - train_size\n",
    "train_dataset, val_dataset = random_split(dataset, [train_size, val_size])\n",
    "\n",
    "# Create DataLoaders\n",
    "batch_size = 64\n",
    "train_loader = DataLoader(train_dataset, batch_size=batch_size, shuffle=True)\n",
    "val_loader = DataLoader(val_dataset, batch_size=batch_size, shuffle=False)"
   ]
  },
  {
   "cell_type": "code",
   "execution_count": null,
   "metadata": {},
   "outputs": [
    {
     "name": "stderr",
     "output_type": "stream",
     "text": [
      "d:\\Proton Drive\\My files\\Schule\\Master\\Masterarbeit\\project\\.venv\\Lib\\site-packages\\torch\\optim\\lr_scheduler.py:60: UserWarning: The verbose parameter is deprecated. Please use get_last_lr() to access the learning rate.\n",
      "  warnings.warn(\n"
     ]
    }
   ],
   "source": [
    "# Training Setup\n",
    "device = torch.device(\"cuda\" if torch.cuda.is_available() else \"cpu\")\n",
    "model = UNet().to(device)\n",
    "criterion = nn.MSELoss()\n",
    "optimizer = optim.Adam(model.parameters(), lr=0.001)\n",
    "scheduler = ReduceLROnPlateau(optimizer, mode='min', factor=0.5, patience=10, verbose=True)\n",
    "early_stopping = EarlyStopping(patience=15, path='best_unet_model.pt')\n",
    "\n",
    "num_epochs = 200"
   ]
  },
  {
   "cell_type": "code",
   "execution_count": 13,
   "metadata": {},
   "outputs": [],
   "source": [
    "# Log configuration\n",
    "wandb.config.update({\n",
    "    \"learning_rate\": 0.001,\n",
    "    \"batch_size\": batch_size,\n",
    "    \"epochs\": num_epochs,\n",
    "    \"architecture\": \"UNet\",\n",
    "    \"optimizer\": \"Adam\",\n",
    "    \"loss_function\": \"MSELoss\",\n",
    "    \"scheduler\": \"ReduceLROnPlateau\",\n",
    "    \"early_stopping_patience\": 15\n",
    "})"
   ]
  },
  {
   "cell_type": "code",
   "execution_count": 14,
   "metadata": {},
   "outputs": [
    {
     "name": "stderr",
     "output_type": "stream",
     "text": [
      "Epoch [1/200] Training: 100%|██████████| 600/600 [00:07<00:00, 84.95it/s, loss=0.00665]\n",
      "Epoch [1/200] Validation: 100%|██████████| 150/150 [00:00<00:00, 228.77it/s, loss=0.00544]\n"
     ]
    },
    {
     "name": "stdout",
     "output_type": "stream",
     "text": [
      "Epoch [1/200], Train Loss: 0.0161839753195333, Val Loss: 0.004231628687120974, LR: 0.001\n"
     ]
    },
    {
     "name": "stderr",
     "output_type": "stream",
     "text": [
      "Epoch [2/200] Training: 100%|██████████| 600/600 [00:06<00:00, 92.35it/s, loss=0.0033] \n",
      "Epoch [2/200] Validation: 100%|██████████| 150/150 [00:00<00:00, 238.77it/s, loss=0.00307]\n"
     ]
    },
    {
     "name": "stdout",
     "output_type": "stream",
     "text": [
      "Epoch [2/200], Train Loss: 0.0029081797626956053, Val Loss: 0.002691191830672324, LR: 0.001\n"
     ]
    },
    {
     "name": "stderr",
     "output_type": "stream",
     "text": [
      "Epoch [3/200] Training: 100%|██████████| 600/600 [00:06<00:00, 97.74it/s, loss=0.0173]  \n",
      "Epoch [3/200] Validation: 100%|██████████| 150/150 [00:00<00:00, 227.64it/s, loss=0.648] \n"
     ]
    },
    {
     "name": "stdout",
     "output_type": "stream",
     "text": [
      "EarlyStopping counter: 1 out of 15\n",
      "Epoch [3/200], Train Loss: 0.002619307041944315, Val Loss: 0.593858770330747, LR: 0.001\n"
     ]
    },
    {
     "name": "stderr",
     "output_type": "stream",
     "text": [
      "Epoch [4/200] Training: 100%|██████████| 600/600 [00:05<00:00, 101.01it/s, loss=0.0033] \n",
      "Epoch [4/200] Validation: 100%|██████████| 150/150 [00:00<00:00, 242.06it/s, loss=0.00316]\n"
     ]
    },
    {
     "name": "stdout",
     "output_type": "stream",
     "text": [
      "EarlyStopping counter: 2 out of 15\n",
      "Epoch [4/200], Train Loss: 0.002832197194608549, Val Loss: 0.0027554091950878503, LR: 0.001\n"
     ]
    },
    {
     "name": "stderr",
     "output_type": "stream",
     "text": [
      "Epoch [5/200] Training: 100%|██████████| 600/600 [00:05<00:00, 100.46it/s, loss=0.003]  \n",
      "Epoch [5/200] Validation: 100%|██████████| 150/150 [00:00<00:00, 233.57it/s, loss=0.00272]\n"
     ]
    },
    {
     "name": "stdout",
     "output_type": "stream",
     "text": [
      "Epoch [5/200], Train Loss: 0.0025139560300158335, Val Loss: 0.0024130086492126185, LR: 0.001\n"
     ]
    },
    {
     "name": "stderr",
     "output_type": "stream",
     "text": [
      "Epoch [6/200] Training: 100%|██████████| 600/600 [00:06<00:00, 95.79it/s, loss=0.00381] \n",
      "Epoch [6/200] Validation: 100%|██████████| 150/150 [00:00<00:00, 220.87it/s, loss=0.00304]\n"
     ]
    },
    {
     "name": "stdout",
     "output_type": "stream",
     "text": [
      "EarlyStopping counter: 1 out of 15\n",
      "Epoch [6/200], Train Loss: 0.0024108371276330824, Val Loss: 0.0025615653938924274, LR: 0.001\n"
     ]
    },
    {
     "name": "stderr",
     "output_type": "stream",
     "text": [
      "Epoch [7/200] Training: 100%|██████████| 600/600 [00:06<00:00, 95.17it/s, loss=0.00409]\n",
      "Epoch [7/200] Validation: 100%|██████████| 150/150 [00:00<00:00, 228.94it/s, loss=0.00288]\n"
     ]
    },
    {
     "name": "stdout",
     "output_type": "stream",
     "text": [
      "Epoch [7/200], Train Loss: 0.0023492847879727683, Val Loss: 0.0023964873786705234, LR: 0.001\n"
     ]
    },
    {
     "name": "stderr",
     "output_type": "stream",
     "text": [
      "Epoch [8/200] Training: 100%|██████████| 600/600 [00:06<00:00, 95.46it/s, loss=0.00222]\n",
      "Epoch [8/200] Validation: 100%|██████████| 150/150 [00:00<00:00, 232.23it/s, loss=0.00302]\n"
     ]
    },
    {
     "name": "stdout",
     "output_type": "stream",
     "text": [
      "EarlyStopping counter: 1 out of 15\n",
      "Epoch [8/200], Train Loss: 0.002296297752376025, Val Loss: 0.002518526892332981, LR: 0.001\n"
     ]
    },
    {
     "name": "stderr",
     "output_type": "stream",
     "text": [
      "Epoch [9/200] Training: 100%|██████████| 600/600 [00:05<00:00, 101.65it/s, loss=0.00447]\n",
      "Epoch [9/200] Validation: 100%|██████████| 150/150 [00:00<00:00, 235.20it/s, loss=0.00491]\n"
     ]
    },
    {
     "name": "stdout",
     "output_type": "stream",
     "text": [
      "EarlyStopping counter: 2 out of 15\n",
      "Epoch [9/200], Train Loss: 0.002255913673628432, Val Loss: 0.0038936267420649527, LR: 0.001\n"
     ]
    },
    {
     "name": "stderr",
     "output_type": "stream",
     "text": [
      "Epoch [10/200] Training: 100%|██████████| 600/600 [00:05<00:00, 106.72it/s, loss=0.00261]\n",
      "Epoch [10/200] Validation: 100%|██████████| 150/150 [00:00<00:00, 242.04it/s, loss=0.00505]\n"
     ]
    },
    {
     "name": "stdout",
     "output_type": "stream",
     "text": [
      "EarlyStopping counter: 3 out of 15\n",
      "Epoch [10/200], Train Loss: 0.0022376572837432226, Val Loss: 0.0039561006954560675, LR: 0.001\n"
     ]
    },
    {
     "name": "stderr",
     "output_type": "stream",
     "text": [
      "Epoch [11/200] Training: 100%|██████████| 600/600 [00:06<00:00, 93.59it/s, loss=0.00437] \n",
      "Epoch [11/200] Validation: 100%|██████████| 150/150 [00:00<00:00, 221.60it/s, loss=0.00313]\n"
     ]
    },
    {
     "name": "stdout",
     "output_type": "stream",
     "text": [
      "EarlyStopping counter: 4 out of 15\n",
      "Epoch [11/200], Train Loss: 0.002193222512335827, Val Loss: 0.0026768223910282056, LR: 0.001\n"
     ]
    },
    {
     "name": "stderr",
     "output_type": "stream",
     "text": [
      "Epoch [12/200] Training: 100%|██████████| 600/600 [00:06<00:00, 90.16it/s, loss=0.00231]\n",
      "Epoch [12/200] Validation: 100%|██████████| 150/150 [00:00<00:00, 221.09it/s, loss=0.00283]\n"
     ]
    },
    {
     "name": "stdout",
     "output_type": "stream",
     "text": [
      "EarlyStopping counter: 5 out of 15\n",
      "Epoch [12/200], Train Loss: 0.0021673013306766128, Val Loss: 0.002395569980144501, LR: 0.001\n"
     ]
    },
    {
     "name": "stderr",
     "output_type": "stream",
     "text": [
      "Epoch [13/200] Training: 100%|██████████| 600/600 [00:07<00:00, 85.27it/s, loss=0.00257]\n",
      "Epoch [13/200] Validation: 100%|██████████| 150/150 [00:00<00:00, 221.87it/s, loss=0.004]  \n"
     ]
    },
    {
     "name": "stdout",
     "output_type": "stream",
     "text": [
      "EarlyStopping counter: 6 out of 15\n",
      "Epoch [13/200], Train Loss: 0.0021309613403476153, Val Loss: 0.0031806663990331194, LR: 0.001\n"
     ]
    },
    {
     "name": "stderr",
     "output_type": "stream",
     "text": [
      "Epoch [14/200] Training: 100%|██████████| 600/600 [00:06<00:00, 95.97it/s, loss=0.00364]\n",
      "Epoch [14/200] Validation: 100%|██████████| 150/150 [00:00<00:00, 218.57it/s, loss=0.0179] \n"
     ]
    },
    {
     "name": "stdout",
     "output_type": "stream",
     "text": [
      "EarlyStopping counter: 7 out of 15\n",
      "Epoch [14/200], Train Loss: 0.0021107917494373398, Val Loss: 0.013455964170085887, LR: 0.001\n"
     ]
    },
    {
     "name": "stderr",
     "output_type": "stream",
     "text": [
      "Epoch [15/200] Training: 100%|██████████| 600/600 [00:06<00:00, 96.18it/s, loss=0.00147]\n",
      "Epoch [15/200] Validation: 100%|██████████| 150/150 [00:00<00:00, 225.08it/s, loss=0.0032] \n"
     ]
    },
    {
     "name": "stdout",
     "output_type": "stream",
     "text": [
      "EarlyStopping counter: 8 out of 15\n",
      "Epoch [15/200], Train Loss: 0.0022511455397276827, Val Loss: 0.0027268887070628503, LR: 0.001\n"
     ]
    },
    {
     "name": "stderr",
     "output_type": "stream",
     "text": [
      "Epoch [16/200] Training: 100%|██████████| 600/600 [00:06<00:00, 93.39it/s, loss=0.00205]\n",
      "Epoch [16/200] Validation: 100%|██████████| 150/150 [00:00<00:00, 226.42it/s, loss=0.0027] \n"
     ]
    },
    {
     "name": "stdout",
     "output_type": "stream",
     "text": [
      "EarlyStopping counter: 9 out of 15\n",
      "Epoch [16/200], Train Loss: 0.002106274133354115, Val Loss: 0.0024076966809419295, LR: 0.001\n"
     ]
    },
    {
     "name": "stderr",
     "output_type": "stream",
     "text": [
      "Epoch [17/200] Training: 100%|██████████| 600/600 [00:06<00:00, 92.10it/s, loss=0.00429]\n",
      "Epoch [17/200] Validation: 100%|██████████| 150/150 [00:00<00:00, 214.29it/s, loss=0.00254]\n"
     ]
    },
    {
     "name": "stdout",
     "output_type": "stream",
     "text": [
      "Epoch [17/200], Train Loss: 0.0020786161967165147, Val Loss: 0.0022344974149018527, LR: 0.001\n"
     ]
    },
    {
     "name": "stderr",
     "output_type": "stream",
     "text": [
      "Epoch [18/200] Training: 100%|██████████| 600/600 [00:06<00:00, 92.04it/s, loss=0.00348]\n",
      "Epoch [18/200] Validation: 100%|██████████| 150/150 [00:00<00:00, 216.90it/s, loss=0.0049] \n"
     ]
    },
    {
     "name": "stdout",
     "output_type": "stream",
     "text": [
      "EarlyStopping counter: 1 out of 15\n",
      "Epoch [18/200], Train Loss: 0.0020496150886174292, Val Loss: 0.0038259633056198557, LR: 0.001\n"
     ]
    },
    {
     "name": "stderr",
     "output_type": "stream",
     "text": [
      "Epoch [19/200] Training: 100%|██████████| 600/600 [00:06<00:00, 94.76it/s, loss=0.00184] \n",
      "Epoch [19/200] Validation: 100%|██████████| 150/150 [00:00<00:00, 226.38it/s, loss=0.00229]\n"
     ]
    },
    {
     "name": "stdout",
     "output_type": "stream",
     "text": [
      "Epoch [19/200], Train Loss: 0.002041120933718048, Val Loss: 0.0021724177322660883, LR: 0.001\n"
     ]
    },
    {
     "name": "stderr",
     "output_type": "stream",
     "text": [
      "Epoch [20/200] Training: 100%|██████████| 600/600 [00:06<00:00, 97.40it/s, loss=0.00175] \n",
      "Epoch [20/200] Validation: 100%|██████████| 150/150 [00:00<00:00, 216.64it/s, loss=0.00306]\n"
     ]
    },
    {
     "name": "stdout",
     "output_type": "stream",
     "text": [
      "EarlyStopping counter: 1 out of 15\n",
      "Epoch [20/200], Train Loss: 0.0020084069199704877, Val Loss: 0.0025771788080843788, LR: 0.001\n"
     ]
    },
    {
     "name": "stderr",
     "output_type": "stream",
     "text": [
      "Epoch [21/200] Training: 100%|██████████| 600/600 [00:06<00:00, 96.19it/s, loss=0.00257]\n",
      "Epoch [21/200] Validation: 100%|██████████| 150/150 [00:00<00:00, 221.82it/s, loss=0.00262]\n"
     ]
    },
    {
     "name": "stdout",
     "output_type": "stream",
     "text": [
      "EarlyStopping counter: 2 out of 15\n",
      "Epoch [21/200], Train Loss: 0.001987225755583495, Val Loss: 0.0023467106899867454, LR: 0.001\n"
     ]
    },
    {
     "name": "stderr",
     "output_type": "stream",
     "text": [
      "Epoch [22/200] Training: 100%|██████████| 600/600 [00:06<00:00, 91.25it/s, loss=0.00356]\n",
      "Epoch [22/200] Validation: 100%|██████████| 150/150 [00:00<00:00, 224.98it/s, loss=0.00248]\n"
     ]
    },
    {
     "name": "stdout",
     "output_type": "stream",
     "text": [
      "EarlyStopping counter: 3 out of 15\n",
      "Epoch [22/200], Train Loss: 0.00197143507306464, Val Loss: 0.0021780065540224314, LR: 0.001\n"
     ]
    },
    {
     "name": "stderr",
     "output_type": "stream",
     "text": [
      "Epoch [23/200] Training: 100%|██████████| 600/600 [00:06<00:00, 91.30it/s, loss=0.00205]\n",
      "Epoch [23/200] Validation: 100%|██████████| 150/150 [00:00<00:00, 221.28it/s, loss=0.00218]\n"
     ]
    },
    {
     "name": "stdout",
     "output_type": "stream",
     "text": [
      "Epoch [23/200], Train Loss: 0.0020482705525743466, Val Loss: 0.00206743464882796, LR: 0.001\n"
     ]
    },
    {
     "name": "stderr",
     "output_type": "stream",
     "text": [
      "Epoch [24/200] Training: 100%|██████████| 600/600 [00:06<00:00, 91.78it/s, loss=0.00207]\n",
      "Epoch [24/200] Validation: 100%|██████████| 150/150 [00:00<00:00, 220.79it/s, loss=0.0022] \n"
     ]
    },
    {
     "name": "stdout",
     "output_type": "stream",
     "text": [
      "Epoch [24/200], Train Loss: 0.0019578401878243314, Val Loss: 0.002047855739171306, LR: 0.001\n"
     ]
    },
    {
     "name": "stderr",
     "output_type": "stream",
     "text": [
      "Epoch [25/200] Training: 100%|██████████| 600/600 [00:06<00:00, 95.54it/s, loss=0.00563]\n",
      "Epoch [25/200] Validation: 100%|██████████| 150/150 [00:00<00:00, 223.64it/s, loss=0.0638]\n"
     ]
    },
    {
     "name": "stdout",
     "output_type": "stream",
     "text": [
      "EarlyStopping counter: 1 out of 15\n",
      "Epoch [25/200], Train Loss: 0.0019524453008004153, Val Loss: 0.061323655042797326, LR: 0.001\n"
     ]
    },
    {
     "name": "stderr",
     "output_type": "stream",
     "text": [
      "Epoch [26/200] Training: 100%|██████████| 600/600 [00:06<00:00, 94.95it/s, loss=0.00292]\n",
      "Epoch [26/200] Validation: 100%|██████████| 150/150 [00:00<00:00, 221.25it/s, loss=0.00217]\n"
     ]
    },
    {
     "name": "stdout",
     "output_type": "stream",
     "text": [
      "Epoch [26/200], Train Loss: 0.0020812994796627514, Val Loss: 0.001991343287130197, LR: 0.001\n"
     ]
    },
    {
     "name": "stderr",
     "output_type": "stream",
     "text": [
      "Epoch [27/200] Training: 100%|██████████| 600/600 [00:06<00:00, 93.06it/s, loss=0.00265]\n",
      "Epoch [27/200] Validation: 100%|██████████| 150/150 [00:00<00:00, 221.26it/s, loss=0.00201]\n"
     ]
    },
    {
     "name": "stdout",
     "output_type": "stream",
     "text": [
      "Epoch [27/200], Train Loss: 0.0019387569930404424, Val Loss: 0.0018964018975384533, LR: 0.001\n"
     ]
    },
    {
     "name": "stderr",
     "output_type": "stream",
     "text": [
      "Epoch [28/200] Training: 100%|██████████| 600/600 [00:06<00:00, 92.88it/s, loss=0.00236]\n",
      "Epoch [28/200] Validation: 100%|██████████| 150/150 [00:00<00:00, 221.32it/s, loss=0.00205]\n"
     ]
    },
    {
     "name": "stdout",
     "output_type": "stream",
     "text": [
      "EarlyStopping counter: 1 out of 15\n",
      "Epoch [28/200], Train Loss: 0.001918239432464664, Val Loss: 0.001911476949850718, LR: 0.001\n"
     ]
    },
    {
     "name": "stderr",
     "output_type": "stream",
     "text": [
      "Epoch [29/200] Training: 100%|██████████| 600/600 [00:06<00:00, 90.59it/s, loss=0.00274]\n",
      "Epoch [29/200] Validation: 100%|██████████| 150/150 [00:00<00:00, 222.97it/s, loss=0.0021] \n"
     ]
    },
    {
     "name": "stdout",
     "output_type": "stream",
     "text": [
      "EarlyStopping counter: 2 out of 15\n",
      "Epoch [29/200], Train Loss: 0.001897687809347796, Val Loss: 0.001954545290209353, LR: 0.001\n"
     ]
    },
    {
     "name": "stderr",
     "output_type": "stream",
     "text": [
      "Epoch [30/200] Training: 100%|██████████| 600/600 [00:07<00:00, 85.54it/s, loss=0.00282]\n",
      "Epoch [30/200] Validation: 100%|██████████| 150/150 [00:00<00:00, 158.67it/s, loss=0.00203]\n"
     ]
    },
    {
     "name": "stdout",
     "output_type": "stream",
     "text": [
      "EarlyStopping counter: 3 out of 15\n",
      "Epoch [30/200], Train Loss: 0.0018929614815472937, Val Loss: 0.001909025990559409, LR: 0.001\n"
     ]
    },
    {
     "name": "stderr",
     "output_type": "stream",
     "text": [
      "Epoch [31/200] Training: 100%|██████████| 600/600 [00:06<00:00, 86.61it/s, loss=0.00263]\n",
      "Epoch [31/200] Validation: 100%|██████████| 150/150 [00:00<00:00, 194.24it/s, loss=0.00242]\n"
     ]
    },
    {
     "name": "stdout",
     "output_type": "stream",
     "text": [
      "EarlyStopping counter: 4 out of 15\n",
      "Epoch [31/200], Train Loss: 0.0018689068841437498, Val Loss: 0.0022253962055159113, LR: 0.001\n"
     ]
    },
    {
     "name": "stderr",
     "output_type": "stream",
     "text": [
      "Epoch [32/200] Training: 100%|██████████| 600/600 [00:06<00:00, 89.23it/s, loss=0.00213]\n",
      "Epoch [32/200] Validation: 100%|██████████| 150/150 [00:00<00:00, 172.61it/s, loss=0.00201]\n"
     ]
    },
    {
     "name": "stdout",
     "output_type": "stream",
     "text": [
      "Epoch [32/200], Train Loss: 0.0018708067742409184, Val Loss: 0.0018748708829904597, LR: 0.001\n"
     ]
    },
    {
     "name": "stderr",
     "output_type": "stream",
     "text": [
      "Epoch [33/200] Training: 100%|██████████| 600/600 [00:06<00:00, 95.17it/s, loss=0.00205] \n",
      "Epoch [33/200] Validation: 100%|██████████| 150/150 [00:00<00:00, 223.38it/s, loss=0.00206]\n"
     ]
    },
    {
     "name": "stdout",
     "output_type": "stream",
     "text": [
      "EarlyStopping counter: 1 out of 15\n",
      "Epoch [33/200], Train Loss: 0.0018599025812000036, Val Loss: 0.001958502147657176, LR: 0.001\n"
     ]
    },
    {
     "name": "stderr",
     "output_type": "stream",
     "text": [
      "Epoch [34/200] Training: 100%|██████████| 600/600 [00:06<00:00, 98.55it/s, loss=0.00184] \n",
      "Epoch [34/200] Validation: 100%|██████████| 150/150 [00:00<00:00, 245.96it/s, loss=0.00196]\n"
     ]
    },
    {
     "name": "stdout",
     "output_type": "stream",
     "text": [
      "Epoch [34/200], Train Loss: 0.0018516294617438689, Val Loss: 0.0018558622027436892, LR: 0.001\n"
     ]
    },
    {
     "name": "stderr",
     "output_type": "stream",
     "text": [
      "Epoch [35/200] Training: 100%|██████████| 600/600 [00:05<00:00, 106.48it/s, loss=0.00232]\n",
      "Epoch [35/200] Validation: 100%|██████████| 150/150 [00:00<00:00, 243.89it/s, loss=0.00235]\n"
     ]
    },
    {
     "name": "stdout",
     "output_type": "stream",
     "text": [
      "EarlyStopping counter: 1 out of 15\n",
      "Epoch [35/200], Train Loss: 0.0018400994047988205, Val Loss: 0.0021126849266390004, LR: 0.001\n"
     ]
    },
    {
     "name": "stderr",
     "output_type": "stream",
     "text": [
      "Epoch [36/200] Training: 100%|██████████| 600/600 [00:05<00:00, 101.74it/s, loss=0.00185]\n",
      "Epoch [36/200] Validation: 100%|██████████| 150/150 [00:00<00:00, 243.31it/s, loss=0.00197]\n"
     ]
    },
    {
     "name": "stdout",
     "output_type": "stream",
     "text": [
      "Epoch [36/200], Train Loss: 0.0018290464126039297, Val Loss: 0.0018138768865416446, LR: 0.001\n"
     ]
    },
    {
     "name": "stderr",
     "output_type": "stream",
     "text": [
      "Epoch [37/200] Training: 100%|██████████| 600/600 [00:05<00:00, 103.05it/s, loss=0.00304]\n",
      "Epoch [37/200] Validation: 100%|██████████| 150/150 [00:00<00:00, 245.91it/s, loss=0.00208]\n"
     ]
    },
    {
     "name": "stdout",
     "output_type": "stream",
     "text": [
      "EarlyStopping counter: 1 out of 15\n",
      "Epoch [37/200], Train Loss: 0.001819247651534776, Val Loss: 0.001997209466062486, LR: 0.001\n"
     ]
    },
    {
     "name": "stderr",
     "output_type": "stream",
     "text": [
      "Epoch [38/200] Training: 100%|██████████| 600/600 [00:05<00:00, 100.86it/s, loss=0.00218]\n",
      "Epoch [38/200] Validation: 100%|██████████| 150/150 [00:00<00:00, 241.86it/s, loss=0.00205]\n"
     ]
    },
    {
     "name": "stdout",
     "output_type": "stream",
     "text": [
      "EarlyStopping counter: 2 out of 15\n",
      "Epoch [38/200], Train Loss: 0.0018206264305626974, Val Loss: 0.0018747245349610845, LR: 0.001\n"
     ]
    },
    {
     "name": "stderr",
     "output_type": "stream",
     "text": [
      "Epoch [39/200] Training: 100%|██████████| 600/600 [00:06<00:00, 97.91it/s, loss=0.00213] \n",
      "Epoch [39/200] Validation: 100%|██████████| 150/150 [00:00<00:00, 237.92it/s, loss=0.00195]\n"
     ]
    },
    {
     "name": "stdout",
     "output_type": "stream",
     "text": [
      "EarlyStopping counter: 3 out of 15\n",
      "Epoch [39/200], Train Loss: 0.0018011804121003175, Val Loss: 0.0018501737643964588, LR: 0.001\n"
     ]
    },
    {
     "name": "stderr",
     "output_type": "stream",
     "text": [
      "Epoch [40/200] Training: 100%|██████████| 600/600 [00:05<00:00, 100.82it/s, loss=0.00203]\n",
      "Epoch [40/200] Validation: 100%|██████████| 150/150 [00:00<00:00, 239.41it/s, loss=0.00189]\n"
     ]
    },
    {
     "name": "stdout",
     "output_type": "stream",
     "text": [
      "Epoch [40/200], Train Loss: 0.001799208720913157, Val Loss: 0.0018060392863117158, LR: 0.001\n"
     ]
    },
    {
     "name": "stderr",
     "output_type": "stream",
     "text": [
      "Epoch [41/200] Training: 100%|██████████| 600/600 [00:05<00:00, 100.55it/s, loss=0.00324]\n",
      "Epoch [41/200] Validation: 100%|██████████| 150/150 [00:00<00:00, 232.61it/s, loss=0.002]  \n"
     ]
    },
    {
     "name": "stdout",
     "output_type": "stream",
     "text": [
      "EarlyStopping counter: 1 out of 15\n",
      "Epoch [41/200], Train Loss: 0.00178553483216092, Val Loss: 0.0018639515984492996, LR: 0.001\n"
     ]
    },
    {
     "name": "stderr",
     "output_type": "stream",
     "text": [
      "Epoch [42/200] Training: 100%|██████████| 600/600 [00:06<00:00, 97.76it/s, loss=0.00327] \n",
      "Epoch [42/200] Validation: 100%|██████████| 150/150 [00:00<00:00, 237.44it/s, loss=0.00199]\n"
     ]
    },
    {
     "name": "stdout",
     "output_type": "stream",
     "text": [
      "EarlyStopping counter: 2 out of 15\n",
      "Epoch [42/200], Train Loss: 0.0017906625386482726, Val Loss: 0.0018880113183210292, LR: 0.001\n"
     ]
    },
    {
     "name": "stderr",
     "output_type": "stream",
     "text": [
      "Epoch [43/200] Training: 100%|██████████| 600/600 [00:06<00:00, 94.69it/s, loss=0.0022] \n",
      "Epoch [43/200] Validation: 100%|██████████| 150/150 [00:00<00:00, 238.89it/s, loss=0.00207]\n"
     ]
    },
    {
     "name": "stdout",
     "output_type": "stream",
     "text": [
      "EarlyStopping counter: 3 out of 15\n",
      "Epoch [43/200], Train Loss: 0.001776262058216768, Val Loss: 0.0019007396108160417, LR: 0.001\n"
     ]
    },
    {
     "name": "stderr",
     "output_type": "stream",
     "text": [
      "Epoch [44/200] Training: 100%|██████████| 600/600 [00:06<00:00, 93.60it/s, loss=0.00236]\n",
      "Epoch [44/200] Validation: 100%|██████████| 150/150 [00:00<00:00, 252.67it/s, loss=0.00207]\n"
     ]
    },
    {
     "name": "stdout",
     "output_type": "stream",
     "text": [
      "EarlyStopping counter: 4 out of 15\n",
      "Epoch [44/200], Train Loss: 0.0017648114392068237, Val Loss: 0.001833374093597134, LR: 0.001\n"
     ]
    },
    {
     "name": "stderr",
     "output_type": "stream",
     "text": [
      "Epoch [45/200] Training: 100%|██████████| 600/600 [00:06<00:00, 98.50it/s, loss=0.0021]  \n",
      "Epoch [45/200] Validation: 100%|██████████| 150/150 [00:00<00:00, 247.82it/s, loss=0.0019] \n"
     ]
    },
    {
     "name": "stdout",
     "output_type": "stream",
     "text": [
      "Epoch [45/200], Train Loss: 0.001760072647787941, Val Loss: 0.001788612377519409, LR: 0.001\n"
     ]
    },
    {
     "name": "stderr",
     "output_type": "stream",
     "text": [
      "Epoch [46/200] Training: 100%|██████████| 600/600 [00:05<00:00, 104.30it/s, loss=0.00194]\n",
      "Epoch [46/200] Validation: 100%|██████████| 150/150 [00:00<00:00, 236.52it/s, loss=0.00193]\n"
     ]
    },
    {
     "name": "stdout",
     "output_type": "stream",
     "text": [
      "EarlyStopping counter: 1 out of 15\n",
      "Epoch [46/200], Train Loss: 0.0017482368597605577, Val Loss: 0.0018604236445389688, LR: 0.001\n"
     ]
    },
    {
     "name": "stderr",
     "output_type": "stream",
     "text": [
      "Epoch [47/200] Training: 100%|██████████| 600/600 [00:05<00:00, 104.71it/s, loss=0.002]  \n",
      "Epoch [47/200] Validation: 100%|██████████| 150/150 [00:00<00:00, 246.90it/s, loss=0.00209]\n"
     ]
    },
    {
     "name": "stdout",
     "output_type": "stream",
     "text": [
      "EarlyStopping counter: 2 out of 15\n",
      "Epoch [47/200], Train Loss: 0.0017409934483778972, Val Loss: 0.0019101175704660516, LR: 0.001\n"
     ]
    },
    {
     "name": "stderr",
     "output_type": "stream",
     "text": [
      "Epoch [48/200] Training: 100%|██████████| 600/600 [00:06<00:00, 96.88it/s, loss=0.0041]  \n",
      "Epoch [48/200] Validation: 100%|██████████| 150/150 [00:00<00:00, 250.28it/s, loss=0.00206]\n"
     ]
    },
    {
     "name": "stdout",
     "output_type": "stream",
     "text": [
      "EarlyStopping counter: 3 out of 15\n",
      "Epoch [48/200], Train Loss: 0.0017335988392975803, Val Loss: 0.0019411524563717345, LR: 0.001\n"
     ]
    },
    {
     "name": "stderr",
     "output_type": "stream",
     "text": [
      "Epoch [49/200] Training: 100%|██████████| 600/600 [00:06<00:00, 98.43it/s, loss=0.00198] \n",
      "Epoch [49/200] Validation: 100%|██████████| 150/150 [00:00<00:00, 248.44it/s, loss=0.0019] \n"
     ]
    },
    {
     "name": "stdout",
     "output_type": "stream",
     "text": [
      "EarlyStopping counter: 4 out of 15\n",
      "Epoch [49/200], Train Loss: 0.0017307539272587746, Val Loss: 0.0018744668597355486, LR: 0.001\n"
     ]
    },
    {
     "name": "stderr",
     "output_type": "stream",
     "text": [
      "Epoch [50/200] Training: 100%|██████████| 600/600 [00:06<00:00, 96.54it/s, loss=0.00169] \n",
      "Epoch [50/200] Validation: 100%|██████████| 150/150 [00:00<00:00, 241.78it/s, loss=0.00202]\n"
     ]
    },
    {
     "name": "stdout",
     "output_type": "stream",
     "text": [
      "EarlyStopping counter: 5 out of 15\n",
      "Epoch [50/200], Train Loss: 0.0017159499030094593, Val Loss: 0.001946970287244767, LR: 0.001\n"
     ]
    },
    {
     "name": "stderr",
     "output_type": "stream",
     "text": [
      "Epoch [51/200] Training: 100%|██████████| 600/600 [00:05<00:00, 101.76it/s, loss=0.00204]\n",
      "Epoch [51/200] Validation: 100%|██████████| 150/150 [00:00<00:00, 233.15it/s, loss=0.00201]\n"
     ]
    },
    {
     "name": "stdout",
     "output_type": "stream",
     "text": [
      "EarlyStopping counter: 6 out of 15\n",
      "Epoch [51/200], Train Loss: 0.0017132346343714743, Val Loss: 0.001896199071003745, LR: 0.001\n"
     ]
    },
    {
     "name": "stderr",
     "output_type": "stream",
     "text": [
      "Epoch [52/200] Training: 100%|██████████| 600/600 [00:05<00:00, 101.67it/s, loss=0.00197]\n",
      "Epoch [52/200] Validation: 100%|██████████| 150/150 [00:00<00:00, 230.82it/s, loss=0.00198]\n"
     ]
    },
    {
     "name": "stdout",
     "output_type": "stream",
     "text": [
      "EarlyStopping counter: 7 out of 15\n",
      "Epoch [52/200], Train Loss: 0.0017222091095754877, Val Loss: 0.0018813104135915637, LR: 0.001\n"
     ]
    },
    {
     "name": "stderr",
     "output_type": "stream",
     "text": [
      "Epoch [53/200] Training: 100%|██████████| 600/600 [00:06<00:00, 97.83it/s, loss=0.00653] \n",
      "Epoch [53/200] Validation: 100%|██████████| 150/150 [00:00<00:00, 233.59it/s, loss=0.00221]\n"
     ]
    },
    {
     "name": "stdout",
     "output_type": "stream",
     "text": [
      "EarlyStopping counter: 8 out of 15\n",
      "Epoch [53/200], Train Loss: 0.0017047141309982786, Val Loss: 0.0021099679909336072, LR: 0.001\n"
     ]
    },
    {
     "name": "stderr",
     "output_type": "stream",
     "text": [
      "Epoch [54/200] Training: 100%|██████████| 600/600 [00:06<00:00, 94.04it/s, loss=0.00395]\n",
      "Epoch [54/200] Validation: 100%|██████████| 150/150 [00:00<00:00, 236.21it/s, loss=0.00201]\n"
     ]
    },
    {
     "name": "stdout",
     "output_type": "stream",
     "text": [
      "EarlyStopping counter: 9 out of 15\n",
      "Epoch [54/200], Train Loss: 0.001914321884396486, Val Loss: 0.0018576377164572478, LR: 0.001\n"
     ]
    },
    {
     "name": "stderr",
     "output_type": "stream",
     "text": [
      "Epoch [55/200] Training: 100%|██████████| 600/600 [00:06<00:00, 97.02it/s, loss=0.00151] \n",
      "Epoch [55/200] Validation: 100%|██████████| 150/150 [00:00<00:00, 248.64it/s, loss=0.00199]\n"
     ]
    },
    {
     "name": "stdout",
     "output_type": "stream",
     "text": [
      "Epoch [55/200], Train Loss: 0.0017584435958027218, Val Loss: 0.001787543036043644, LR: 0.001\n"
     ]
    },
    {
     "name": "stderr",
     "output_type": "stream",
     "text": [
      "Epoch [56/200] Training: 100%|██████████| 600/600 [00:05<00:00, 104.73it/s, loss=0.00218]\n",
      "Epoch [56/200] Validation: 100%|██████████| 150/150 [00:00<00:00, 233.37it/s, loss=0.00201]\n"
     ]
    },
    {
     "name": "stdout",
     "output_type": "stream",
     "text": [
      "Epoch [56/200], Train Loss: 0.001724696812646774, Val Loss: 0.001785022506956011, LR: 0.001\n"
     ]
    },
    {
     "name": "stderr",
     "output_type": "stream",
     "text": [
      "Epoch [57/200] Training: 100%|██████████| 600/600 [00:05<00:00, 105.46it/s, loss=0.00261]\n",
      "Epoch [57/200] Validation: 100%|██████████| 150/150 [00:00<00:00, 243.13it/s, loss=0.00197]\n"
     ]
    },
    {
     "name": "stdout",
     "output_type": "stream",
     "text": [
      "EarlyStopping counter: 1 out of 15\n",
      "Epoch [57/200], Train Loss: 0.0016996265660660962, Val Loss: 0.0018152057542465626, LR: 0.001\n"
     ]
    },
    {
     "name": "stderr",
     "output_type": "stream",
     "text": [
      "Epoch [58/200] Training: 100%|██████████| 600/600 [00:05<00:00, 101.25it/s, loss=0.00267]\n",
      "Epoch [58/200] Validation: 100%|██████████| 150/150 [00:00<00:00, 223.79it/s, loss=0.00203]\n"
     ]
    },
    {
     "name": "stdout",
     "output_type": "stream",
     "text": [
      "EarlyStopping counter: 2 out of 15\n",
      "Epoch [58/200], Train Loss: 0.0016925583616830408, Val Loss: 0.0019083888347571096, LR: 0.001\n"
     ]
    },
    {
     "name": "stderr",
     "output_type": "stream",
     "text": [
      "Epoch [59/200] Training: 100%|██████████| 600/600 [00:06<00:00, 94.83it/s, loss=0.00191] \n",
      "Epoch [59/200] Validation: 100%|██████████| 150/150 [00:00<00:00, 248.36it/s, loss=0.00196]\n"
     ]
    },
    {
     "name": "stdout",
     "output_type": "stream",
     "text": [
      "EarlyStopping counter: 3 out of 15\n",
      "Epoch [59/200], Train Loss: 0.0016751548108489562, Val Loss: 0.001837012740628173, LR: 0.001\n"
     ]
    },
    {
     "name": "stderr",
     "output_type": "stream",
     "text": [
      "Epoch [60/200] Training: 100%|██████████| 600/600 [00:05<00:00, 100.71it/s, loss=0.00222]\n",
      "Epoch [60/200] Validation: 100%|██████████| 150/150 [00:00<00:00, 247.49it/s, loss=0.00217]\n"
     ]
    },
    {
     "name": "stdout",
     "output_type": "stream",
     "text": [
      "EarlyStopping counter: 4 out of 15\n",
      "Epoch [60/200], Train Loss: 0.0016697265188364934, Val Loss: 0.001906187521138539, LR: 0.001\n"
     ]
    },
    {
     "name": "stderr",
     "output_type": "stream",
     "text": [
      "Epoch [61/200] Training: 100%|██████████| 600/600 [00:05<00:00, 105.32it/s, loss=0.00173]\n",
      "Epoch [61/200] Validation: 100%|██████████| 150/150 [00:00<00:00, 220.99it/s, loss=0.00195]\n"
     ]
    },
    {
     "name": "stdout",
     "output_type": "stream",
     "text": [
      "EarlyStopping counter: 5 out of 15\n",
      "Epoch [61/200], Train Loss: 0.0016591298673301934, Val Loss: 0.001810888759791851, LR: 0.001\n"
     ]
    },
    {
     "name": "stderr",
     "output_type": "stream",
     "text": [
      "Epoch [62/200] Training: 100%|██████████| 600/600 [00:06<00:00, 94.97it/s, loss=0.00224] \n",
      "Epoch [62/200] Validation: 100%|██████████| 150/150 [00:00<00:00, 223.88it/s, loss=0.00197]\n"
     ]
    },
    {
     "name": "stdout",
     "output_type": "stream",
     "text": [
      "EarlyStopping counter: 6 out of 15\n",
      "Epoch [62/200], Train Loss: 0.001657660019894441, Val Loss: 0.0018573404561417798, LR: 0.001\n"
     ]
    },
    {
     "name": "stderr",
     "output_type": "stream",
     "text": [
      "Epoch [63/200] Training: 100%|██████████| 600/600 [00:06<00:00, 95.63it/s, loss=0.00283] \n",
      "Epoch [63/200] Validation: 100%|██████████| 150/150 [00:00<00:00, 201.00it/s, loss=0.00188]\n"
     ]
    },
    {
     "name": "stdout",
     "output_type": "stream",
     "text": [
      "EarlyStopping counter: 7 out of 15\n",
      "Epoch [63/200], Train Loss: 0.0016477690406221275, Val Loss: 0.0018095483328215778, LR: 0.001\n"
     ]
    },
    {
     "name": "stderr",
     "output_type": "stream",
     "text": [
      "Epoch [64/200] Training: 100%|██████████| 600/600 [00:06<00:00, 89.39it/s, loss=0.00214]\n",
      "Epoch [64/200] Validation: 100%|██████████| 150/150 [00:00<00:00, 224.07it/s, loss=0.00205]\n"
     ]
    },
    {
     "name": "stdout",
     "output_type": "stream",
     "text": [
      "EarlyStopping counter: 8 out of 15\n",
      "Epoch [64/200], Train Loss: 0.0016383816404656197, Val Loss: 0.0020205753894212346, LR: 0.001\n"
     ]
    },
    {
     "name": "stderr",
     "output_type": "stream",
     "text": [
      "Epoch [65/200] Training: 100%|██████████| 600/600 [00:06<00:00, 90.91it/s, loss=0.0022] \n",
      "Epoch [65/200] Validation: 100%|██████████| 150/150 [00:00<00:00, 217.10it/s, loss=0.00236]\n"
     ]
    },
    {
     "name": "stdout",
     "output_type": "stream",
     "text": [
      "EarlyStopping counter: 9 out of 15\n",
      "Epoch [65/200], Train Loss: 0.0016319809458218515, Val Loss: 0.0023274502026227615, LR: 0.001\n"
     ]
    },
    {
     "name": "stderr",
     "output_type": "stream",
     "text": [
      "Epoch [66/200] Training: 100%|██████████| 600/600 [00:06<00:00, 97.68it/s, loss=0.00229] \n",
      "Epoch [66/200] Validation: 100%|██████████| 150/150 [00:00<00:00, 210.02it/s, loss=0.00194]\n"
     ]
    },
    {
     "name": "stdout",
     "output_type": "stream",
     "text": [
      "EarlyStopping counter: 10 out of 15\n",
      "Epoch [66/200], Train Loss: 0.0016318245556127902, Val Loss: 0.0018539396968359748, LR: 0.001\n"
     ]
    },
    {
     "name": "stderr",
     "output_type": "stream",
     "text": [
      "Epoch [67/200] Training: 100%|██████████| 600/600 [00:06<00:00, 97.82it/s, loss=0.00284] \n",
      "Epoch [67/200] Validation: 100%|██████████| 150/150 [00:00<00:00, 220.93it/s, loss=0.00186]\n"
     ]
    },
    {
     "name": "stdout",
     "output_type": "stream",
     "text": [
      "EarlyStopping counter: 11 out of 15\n",
      "Epoch [67/200], Train Loss: 0.0016170603017477939, Val Loss: 0.0018231608571174244, LR: 0.0005\n"
     ]
    },
    {
     "name": "stderr",
     "output_type": "stream",
     "text": [
      "Epoch [68/200] Training: 100%|██████████| 600/600 [00:05<00:00, 101.30it/s, loss=0.00312]\n",
      "Epoch [68/200] Validation: 100%|██████████| 150/150 [00:00<00:00, 237.70it/s, loss=0.00189]\n"
     ]
    },
    {
     "name": "stdout",
     "output_type": "stream",
     "text": [
      "EarlyStopping counter: 12 out of 15\n",
      "Epoch [68/200], Train Loss: 0.001554611767254149, Val Loss: 0.0018035276071168482, LR: 0.0005\n"
     ]
    },
    {
     "name": "stderr",
     "output_type": "stream",
     "text": [
      "Epoch [69/200] Training: 100%|██████████| 600/600 [00:06<00:00, 98.64it/s, loss=0.0014]  \n",
      "Epoch [69/200] Validation: 100%|██████████| 150/150 [00:00<00:00, 232.21it/s, loss=0.0019] \n"
     ]
    },
    {
     "name": "stdout",
     "output_type": "stream",
     "text": [
      "EarlyStopping counter: 13 out of 15\n",
      "Epoch [69/200], Train Loss: 0.0015403229434741662, Val Loss: 0.001831411988629649, LR: 0.0005\n"
     ]
    },
    {
     "name": "stderr",
     "output_type": "stream",
     "text": [
      "Epoch [70/200] Training: 100%|██████████| 600/600 [00:06<00:00, 97.60it/s, loss=0.00292] \n",
      "Epoch [70/200] Validation: 100%|██████████| 150/150 [00:00<00:00, 189.53it/s, loss=0.00189]\n"
     ]
    },
    {
     "name": "stdout",
     "output_type": "stream",
     "text": [
      "Epoch [70/200], Train Loss: 0.0015317003981908783, Val Loss: 0.0017701470913986364, LR: 0.0005\n"
     ]
    },
    {
     "name": "stderr",
     "output_type": "stream",
     "text": [
      "Epoch [71/200] Training: 100%|██████████| 600/600 [00:07<00:00, 81.91it/s, loss=0.00135] \n",
      "Epoch [71/200] Validation: 100%|██████████| 150/150 [00:00<00:00, 243.89it/s, loss=0.00186]\n"
     ]
    },
    {
     "name": "stdout",
     "output_type": "stream",
     "text": [
      "EarlyStopping counter: 1 out of 15\n",
      "Epoch [71/200], Train Loss: 0.0015183351827242101, Val Loss: 0.0018095737843153378, LR: 0.0005\n"
     ]
    },
    {
     "name": "stderr",
     "output_type": "stream",
     "text": [
      "Epoch [72/200] Training: 100%|██████████| 600/600 [00:05<00:00, 100.52it/s, loss=0.00126] \n",
      "Epoch [72/200] Validation: 100%|██████████| 150/150 [00:00<00:00, 246.76it/s, loss=0.00182]\n"
     ]
    },
    {
     "name": "stdout",
     "output_type": "stream",
     "text": [
      "EarlyStopping counter: 2 out of 15\n",
      "Epoch [72/200], Train Loss: 0.001514094588443792, Val Loss: 0.0017898275819607078, LR: 0.0005\n"
     ]
    },
    {
     "name": "stderr",
     "output_type": "stream",
     "text": [
      "Epoch [73/200] Training: 100%|██████████| 600/600 [00:05<00:00, 106.83it/s, loss=0.00106]\n",
      "Epoch [73/200] Validation: 100%|██████████| 150/150 [00:00<00:00, 243.51it/s, loss=0.00189]\n"
     ]
    },
    {
     "name": "stdout",
     "output_type": "stream",
     "text": [
      "EarlyStopping counter: 3 out of 15\n",
      "Epoch [73/200], Train Loss: 0.0015048932060987379, Val Loss: 0.0017848801845684647, LR: 0.0005\n"
     ]
    },
    {
     "name": "stderr",
     "output_type": "stream",
     "text": [
      "Epoch [74/200] Training: 100%|██████████| 600/600 [00:06<00:00, 96.74it/s, loss=0.0019]  \n",
      "Epoch [74/200] Validation: 100%|██████████| 150/150 [00:00<00:00, 231.59it/s, loss=0.00189]\n"
     ]
    },
    {
     "name": "stdout",
     "output_type": "stream",
     "text": [
      "EarlyStopping counter: 4 out of 15\n",
      "Epoch [74/200], Train Loss: 0.0015019831604634723, Val Loss: 0.001844336277184387, LR: 0.0005\n"
     ]
    },
    {
     "name": "stderr",
     "output_type": "stream",
     "text": [
      "Epoch [75/200] Training: 100%|██████████| 600/600 [00:06<00:00, 96.85it/s, loss=0.00161] \n",
      "Epoch [75/200] Validation: 100%|██████████| 150/150 [00:00<00:00, 238.25it/s, loss=0.00187]\n"
     ]
    },
    {
     "name": "stdout",
     "output_type": "stream",
     "text": [
      "EarlyStopping counter: 5 out of 15\n",
      "Epoch [75/200], Train Loss: 0.0014926749809334675, Val Loss: 0.0017848212706545988, LR: 0.0005\n"
     ]
    },
    {
     "name": "stderr",
     "output_type": "stream",
     "text": [
      "Epoch [76/200] Training: 100%|██████████| 600/600 [00:06<00:00, 95.95it/s, loss=0.00315] \n",
      "Epoch [76/200] Validation: 100%|██████████| 150/150 [00:00<00:00, 234.25it/s, loss=0.00188]\n"
     ]
    },
    {
     "name": "stdout",
     "output_type": "stream",
     "text": [
      "EarlyStopping counter: 6 out of 15\n",
      "Epoch [76/200], Train Loss: 0.0014856308221351355, Val Loss: 0.0018241099485506614, LR: 0.0005\n"
     ]
    },
    {
     "name": "stderr",
     "output_type": "stream",
     "text": [
      "Epoch [77/200] Training: 100%|██████████| 600/600 [00:05<00:00, 102.47it/s, loss=0.00241]\n",
      "Epoch [77/200] Validation: 100%|██████████| 150/150 [00:00<00:00, 238.28it/s, loss=0.00187]\n"
     ]
    },
    {
     "name": "stdout",
     "output_type": "stream",
     "text": [
      "EarlyStopping counter: 7 out of 15\n",
      "Epoch [77/200], Train Loss: 0.0014766317763132975, Val Loss: 0.001790400385701408, LR: 0.0005\n"
     ]
    },
    {
     "name": "stderr",
     "output_type": "stream",
     "text": [
      "Epoch [78/200] Training: 100%|██████████| 600/600 [00:05<00:00, 101.57it/s, loss=0.00204]\n",
      "Epoch [78/200] Validation: 100%|██████████| 150/150 [00:00<00:00, 234.58it/s, loss=0.00189]\n"
     ]
    },
    {
     "name": "stdout",
     "output_type": "stream",
     "text": [
      "EarlyStopping counter: 8 out of 15\n",
      "Epoch [78/200], Train Loss: 0.0014715106428290407, Val Loss: 0.0018092027267751594, LR: 0.0005\n"
     ]
    },
    {
     "name": "stderr",
     "output_type": "stream",
     "text": [
      "Epoch [79/200] Training: 100%|██████████| 600/600 [00:06<00:00, 97.17it/s, loss=0.0021]  \n",
      "Epoch [79/200] Validation: 100%|██████████| 150/150 [00:00<00:00, 247.91it/s, loss=0.0019] \n"
     ]
    },
    {
     "name": "stdout",
     "output_type": "stream",
     "text": [
      "EarlyStopping counter: 9 out of 15\n",
      "Epoch [79/200], Train Loss: 0.0014619383250828832, Val Loss: 0.001823854714166373, LR: 0.0005\n"
     ]
    },
    {
     "name": "stderr",
     "output_type": "stream",
     "text": [
      "Epoch [80/200] Training: 100%|██████████| 600/600 [00:06<00:00, 97.81it/s, loss=0.00138] \n",
      "Epoch [80/200] Validation: 100%|██████████| 150/150 [00:00<00:00, 227.29it/s, loss=0.00186]\n"
     ]
    },
    {
     "name": "stdout",
     "output_type": "stream",
     "text": [
      "EarlyStopping counter: 10 out of 15\n",
      "Epoch [80/200], Train Loss: 0.0014561139297438784, Val Loss: 0.0018283215048722923, LR: 0.0005\n"
     ]
    },
    {
     "name": "stderr",
     "output_type": "stream",
     "text": [
      "Epoch [81/200] Training: 100%|██████████| 600/600 [00:06<00:00, 98.05it/s, loss=0.00212] \n",
      "Epoch [81/200] Validation: 100%|██████████| 150/150 [00:00<00:00, 252.11it/s, loss=0.00188]\n"
     ]
    },
    {
     "name": "stdout",
     "output_type": "stream",
     "text": [
      "EarlyStopping counter: 11 out of 15\n",
      "Epoch [81/200], Train Loss: 0.0014445690313975017, Val Loss: 0.001881459595169872, LR: 0.00025\n"
     ]
    },
    {
     "name": "stderr",
     "output_type": "stream",
     "text": [
      "Epoch [82/200] Training: 100%|██████████| 600/600 [00:05<00:00, 102.78it/s, loss=0.00242] \n",
      "Epoch [82/200] Validation: 100%|██████████| 150/150 [00:00<00:00, 231.47it/s, loss=0.00191]\n"
     ]
    },
    {
     "name": "stdout",
     "output_type": "stream",
     "text": [
      "EarlyStopping counter: 12 out of 15\n",
      "Epoch [82/200], Train Loss: 0.0014012779067464484, Val Loss: 0.0018330582433069747, LR: 0.00025\n"
     ]
    },
    {
     "name": "stderr",
     "output_type": "stream",
     "text": [
      "Epoch [83/200] Training: 100%|██████████| 600/600 [00:05<00:00, 100.84it/s, loss=0.00134]\n",
      "Epoch [83/200] Validation: 100%|██████████| 150/150 [00:00<00:00, 235.58it/s, loss=0.00191]\n"
     ]
    },
    {
     "name": "stdout",
     "output_type": "stream",
     "text": [
      "EarlyStopping counter: 13 out of 15\n",
      "Epoch [83/200], Train Loss: 0.0013942749879788606, Val Loss: 0.0018338106898590923, LR: 0.00025\n"
     ]
    },
    {
     "name": "stderr",
     "output_type": "stream",
     "text": [
      "Epoch [84/200] Training: 100%|██████████| 600/600 [00:06<00:00, 88.44it/s, loss=0.00216] \n",
      "Epoch [84/200] Validation: 100%|██████████| 150/150 [00:00<00:00, 229.38it/s, loss=0.00185]\n"
     ]
    },
    {
     "name": "stdout",
     "output_type": "stream",
     "text": [
      "EarlyStopping counter: 14 out of 15\n",
      "Epoch [84/200], Train Loss: 0.00138771094304199, Val Loss: 0.0018441786880915364, LR: 0.00025\n"
     ]
    },
    {
     "name": "stderr",
     "output_type": "stream",
     "text": [
      "Epoch [85/200] Training: 100%|██████████| 600/600 [00:06<00:00, 90.56it/s, loss=0.00156] \n",
      "Epoch [85/200] Validation: 100%|██████████| 150/150 [00:00<00:00, 213.34it/s, loss=0.0019] "
     ]
    },
    {
     "name": "stdout",
     "output_type": "stream",
     "text": [
      "EarlyStopping counter: 15 out of 15\n",
      "Epoch [85/200], Train Loss: 0.001380933375233629, Val Loss: 0.0018378646958929798, LR: 0.00025\n",
      "Early stopping triggered\n",
      "Training finished\n"
     ]
    },
    {
     "name": "stderr",
     "output_type": "stream",
     "text": [
      "\n"
     ]
    }
   ],
   "source": [
    "# Training loop\n",
    "best_val_loss = float('inf')\n",
    "\n",
    "for epoch in range(num_epochs):\n",
    "    # Training phase\n",
    "    model.train()\n",
    "    train_loss = 0.0\n",
    "    progress_bar_train = tqdm(train_loader, desc=f'Epoch [{epoch+1}/{num_epochs}] Training')\n",
    "    \n",
    "    for inputs, targets in progress_bar_train:\n",
    "        inputs, targets = inputs.to(device), targets.to(device)\n",
    "        \n",
    "        optimizer.zero_grad()\n",
    "        outputs = model(inputs)\n",
    "        loss = criterion(outputs, targets)\n",
    "        loss.backward()\n",
    "        \n",
    "        # Gradient clipping\n",
    "        torch.nn.utils.clip_grad_norm_(model.parameters(), max_norm=1.0)\n",
    "        \n",
    "        optimizer.step()\n",
    "        train_loss += loss.item()\n",
    "        progress_bar_train.set_postfix({'loss': loss.item()})\n",
    "\n",
    "    avg_train_loss = train_loss / len(train_loader)\n",
    "\n",
    "    # Validation phase\n",
    "    model.eval()\n",
    "    val_loss = 0.0\n",
    "    progress_bar_val = tqdm(val_loader, desc=f'Epoch [{epoch+1}/{num_epochs}] Validation')\n",
    "    \n",
    "    with torch.no_grad():\n",
    "        for inputs, targets in progress_bar_val:\n",
    "            inputs, targets = inputs.to(device), targets.to(device)\n",
    "            outputs = model(inputs)\n",
    "            loss = criterion(outputs, targets)\n",
    "            val_loss += loss.item()\n",
    "            progress_bar_val.set_postfix({'loss': loss.item()})\n",
    "\n",
    "    avg_val_loss = val_loss / len(val_loader)\n",
    "\n",
    "    # Learning rate scheduling\n",
    "    scheduler.step(avg_val_loss)\n",
    "    current_lr = optimizer.param_groups[0]['lr']\n",
    "\n",
    "    # Early stopping\n",
    "    early_stopping(avg_val_loss, model)\n",
    "\n",
    "    # Logging\n",
    "    wandb.log({\n",
    "        \"epoch\": epoch + 1,\n",
    "        \"train_loss\": avg_train_loss,\n",
    "        \"val_loss\": avg_val_loss,\n",
    "        \"learning_rate\": current_lr\n",
    "    })\n",
    "\n",
    "    print(f'Epoch [{epoch+1}/{num_epochs}], Train Loss: {avg_train_loss}, Val Loss: {avg_val_loss}, LR: {current_lr}')\n",
    "\n",
    "    if early_stopping.early_stop:\n",
    "        print(\"Early stopping triggered\")\n",
    "        break\n",
    "\n",
    "print(\"Training finished\")"
   ]
  },
  {
   "cell_type": "code",
   "execution_count": null,
   "metadata": {},
   "outputs": [],
   "source": [
    "def calculate_psnr(target, prediction):\n",
    "    \"\"\"Calculate Peak Signal-to-Noise Ratio\"\"\"\n",
    "    mse = np.mean((target - prediction) ** 2)\n",
    "    if mse == 0:\n",
    "        return float('inf')\n",
    "    max_pixel = np.max(target)\n",
    "    psnr = 20 * np.log10(max_pixel / np.sqrt(mse))\n",
    "    return psnr\n",
    "\n",
    "def calculate_peak_metrics_patch(target, prediction, prominence=0.1):\n",
    "    \"\"\"Calculate peak detection accuracy for full patch predictions\"\"\"\n",
    "    peak_metrics = {'true_peaks': 0, 'predicted_peaks': 0, 'matching_peaks': 0}\n",
    "    \n",
    "    # Iterate over each voxel in the patch\n",
    "    batch_size, num_points, height, width = target.shape\n",
    "    \n",
    "    for b in range(batch_size):\n",
    "        for h in range(height):\n",
    "            for w in range(width):\n",
    "                # Get spectrum for current voxel\n",
    "                true_spectrum = target[b, :, h, w]\n",
    "                pred_spectrum = prediction[b, :, h, w]\n",
    "                \n",
    "                # Find peaks\n",
    "                true_peaks, _ = find_peaks(true_spectrum, prominence=prominence)\n",
    "                pred_peaks, _ = find_peaks(pred_spectrum, prominence=prominence)\n",
    "                \n",
    "                # Count matching peaks\n",
    "                matches = 0\n",
    "                for tp in true_peaks:\n",
    "                    for pp in pred_peaks:\n",
    "                        if abs(tp - pp) <= 1:\n",
    "                            matches += 1\n",
    "                            break\n",
    "                \n",
    "                peak_metrics['true_peaks'] += len(true_peaks)\n",
    "                peak_metrics['predicted_peaks'] += len(pred_peaks)\n",
    "                peak_metrics['matching_peaks'] += matches\n",
    "    \n",
    "    return peak_metrics\n",
    "\n",
    "def measure_inference_time(model, input_tensor, device, num_iterations=100):\n",
    "    \"\"\"Measure average inference time\"\"\"\n",
    "    model.eval()\n",
    "    start_time = time.time()\n",
    "    with torch.no_grad():\n",
    "        for _ in range(num_iterations):\n",
    "            _ = model(input_tensor.to(device))\n",
    "    end_time = time.time()\n",
    "    return (end_time - start_time) / num_iterations\n",
    "\n",
    "def count_parameters(model):\n",
    "    \"\"\"Count number of trainable parameters\"\"\"\n",
    "    return sum(p.numel() for p in model.parameters() if p.requires_grad)\n",
    "\n",
    "def measure_memory_usage():\n",
    "    \"\"\"Measure current memory usage\"\"\"\n",
    "    process = psutil.Process(os.getpid())\n",
    "    return process.memory_info().rss / 1024 / 1024  # Convert to MB\n",
    "\n",
    "def calculate_spatial_consistency(targets, predictions, window_size=3):\n",
    "    \"\"\"Calculate spatial consistency metric with proper handling of constant patches\"\"\"\n",
    "    batch_size, num_points, height, width = targets.shape\n",
    "    consistency_scores = []\n",
    "    \n",
    "    # Calculate local spatial correlation for each patch\n",
    "    for b in range(min(batch_size, 100)):  # Limit to 100 samples for efficiency\n",
    "        for t in range(num_points):\n",
    "            true_patch = targets[b, t]\n",
    "            pred_patch = predictions[b, t]\n",
    "            \n",
    "            # Skip if either patch is constant\n",
    "            if np.std(true_patch) == 0 or np.std(pred_patch) == 0:\n",
    "                continue\n",
    "                \n",
    "            # Calculate local spatial correlation\n",
    "            try:\n",
    "                correlation = np.corrcoef(true_patch.flatten(), pred_patch.flatten())[0, 1]\n",
    "                if not np.isnan(correlation):\n",
    "                    consistency_scores.append(correlation)\n",
    "            except:\n",
    "                continue\n",
    "    \n",
    "    # Return mean if we have scores, otherwise return 0\n",
    "    return np.mean(consistency_scores) if consistency_scores else 0.0\n",
    "\n",
    "\n",
    "def evaluate_model_metrics(model, val_loader, device):\n",
    "    \"\"\"Evaluate all model metrics for patch-based models\"\"\"\n",
    "    model.eval()\n",
    "    metrics = {}\n",
    "    \n",
    "    # Get sample input for inference time measurement\n",
    "    sample_input, _ = next(iter(val_loader))\n",
    "    metrics['inference_time'] = measure_inference_time(model, sample_input, device)\n",
    "    \n",
    "    all_targets = []\n",
    "    all_predictions = []\n",
    "    \n",
    "    with torch.no_grad():\n",
    "        for inputs, targets in val_loader:\n",
    "            inputs = inputs.to(device)\n",
    "            targets = targets.to(device)\n",
    "            outputs = model(inputs)\n",
    "            \n",
    "            # Convert to numpy for metric calculation\n",
    "            targets_np = targets.cpu().numpy()\n",
    "            outputs_np = outputs.cpu().numpy()\n",
    "            \n",
    "            all_targets.append(targets_np)\n",
    "            all_predictions.append(outputs_np)\n",
    "    \n",
    "    # Concatenate all batches\n",
    "    all_targets = np.concatenate(all_targets)\n",
    "    all_predictions = np.concatenate(all_predictions)\n",
    "    \n",
    "    # Calculate metrics\n",
    "    metrics['mse'] = np.mean((all_targets - all_predictions) ** 2)\n",
    "    metrics['mae'] = np.mean(np.abs(all_targets - all_predictions))\n",
    "    metrics['psnr'] = calculate_psnr(all_targets, all_predictions)\n",
    "    \n",
    "    # Calculate R² score for each spatial position\n",
    "    r2_scores = []\n",
    "    batch_size, num_points, height, width = all_targets.shape\n",
    "    for h in range(height):\n",
    "        for w in range(width):\n",
    "            true_spectra = all_targets[:, :, h, w].reshape(-1)\n",
    "            pred_spectra = all_predictions[:, :, h, w].reshape(-1)\n",
    "            r2_scores.append(r2_score(true_spectra, pred_spectra))\n",
    "    metrics['r2_score'] = np.mean(r2_scores)\n",
    "    \n",
    "    # Calculate peak metrics for patches\n",
    "    metrics['peak_metrics'] = calculate_peak_metrics_patch(all_targets, all_predictions)\n",
    "    \n",
    "    # System metrics\n",
    "    metrics['memory_usage'] = measure_memory_usage()\n",
    "    metrics['num_parameters'] = count_parameters(model)\n",
    "    \n",
    "    # Add spatial metrics\n",
    "    metrics['spatial_consistency'] = calculate_spatial_consistency(all_targets, all_predictions)\n",
    "    \n",
    "    return metrics"
   ]
  },
  {
   "cell_type": "code",
   "execution_count": null,
   "metadata": {},
   "outputs": [
    {
     "name": "stdout",
     "output_type": "stream",
     "text": [
      "\n",
      "Final Model Evaluation:\n",
      "MSE: 0.001838\n",
      "MAE: 0.022223\n",
      "PSNR: 27.35 dB\n",
      "R² Score: 0.5499\n",
      "Peak Detection Accuracy: 48.72%\n",
      "Average Inference Time: 2.37 ms\n",
      "Memory Usage: 2724.0 MB\n",
      "Number of Parameters: 1,726,688\n"
     ]
    }
   ],
   "source": [
    "model.eval()\n",
    "final_metrics = evaluate_model_metrics(model, val_loader, device)\n",
    "\n",
    "wandb.log({\n",
    "    \"final_mse\": final_metrics['mse'],\n",
    "    \"final_mae\": final_metrics['mae'],\n",
    "    \"final_psnr\": final_metrics['psnr'],\n",
    "    \"final_r2_score\": final_metrics['r2_score'],\n",
    "    \"peak_detection_accuracy\": final_metrics['peak_metrics']['matching_peaks'] / \n",
    "                             final_metrics['peak_metrics']['true_peaks'],\n",
    "    \"inference_time_ms\": final_metrics['inference_time'] * 1000,\n",
    "    \"memory_usage_mb\": final_metrics['memory_usage'],\n",
    "    \"model_parameters\": final_metrics['num_parameters']\n",
    "})\n",
    "\n",
    "print(\"\\nFinal Model Evaluation:\")\n",
    "print(f\"MSE: {final_metrics['mse']:.6f}\")\n",
    "print(f\"MAE: {final_metrics['mae']:.6f}\")\n",
    "print(f\"PSNR: {final_metrics['psnr']:.2f} dB\")\n",
    "print(f\"R² Score: {final_metrics['r2_score']:.4f}\")\n",
    "print(f\"Peak Detection Accuracy: {final_metrics['peak_metrics']['matching_peaks'] / final_metrics['peak_metrics']['true_peaks']:.2%}\")\n",
    "print(f\"Average Inference Time: {final_metrics['inference_time']*1000:.2f} ms\")\n",
    "print(f\"Memory Usage: {final_metrics['memory_usage']:.1f} MB\")\n",
    "print(f\"Number of Parameters: {final_metrics['num_parameters']:,}\")"
   ]
  },
  {
   "cell_type": "code",
   "execution_count": null,
   "metadata": {},
   "outputs": [
    {
     "data": {
      "image/png": "[encoded data removed]",
      "text/plain": [
       "<Figure size 1500x500 with 6 Axes>"
      ]
     },
     "metadata": {},
     "output_type": "display_data"
    },
    {
     "data": {
      "image/png": "[encoded data removed]",
      "text/plain": [
       "<Figure size 1500x800 with 1 Axes>"
      ]
     },
     "metadata": {},
     "output_type": "display_data"
    },
    {
     "name": "stdout",
     "output_type": "stream",
     "text": [
      "Full 9x9 patch MSE: 0.001380\n",
      "Full 9x9 patch MAE: 0.019442\n",
      "\n",
      "Mean Voxel MSE: 0.001380\n",
      "Std Voxel MSE: 0.000721\n",
      "Min Voxel MSE: 0.000343\n",
      "Max Voxel MSE: 0.003912\n"
     ]
    }
   ],
   "source": [
    "inputs, targets = next(iter(val_loader))\n",
    "inputs, targets = inputs.to(device), targets.to(device)\n",
    "\n",
    "with torch.no_grad():\n",
    "    outputs = model(inputs)\n",
    "\n",
    "inputs = inputs.cpu().numpy()\n",
    "targets = targets.cpu().numpy()\n",
    "outputs = outputs.cpu().numpy()\n",
    "\n",
    "example_idx = 0\n",
    "\n",
    "plt.figure(figsize=(15, 5))\n",
    "\n",
    "plt.subplot(131)\n",
    "plt.imshow(inputs[example_idx, 4, :, :])  # Middle temporal slice (4 out of 8)\n",
    "plt.title('Input 9x9 patch\\n(Middle Time Point)')\n",
    "plt.colorbar()\n",
    "\n",
    "plt.subplot(132)\n",
    "plt.imshow(targets[example_idx, 16, :, :])  # Middle spectral point (16 out of 32)\n",
    "plt.title('Target 9x9 patch\\n(Middle Spectral Point)')\n",
    "plt.colorbar()\n",
    "\n",
    "plt.subplot(133)\n",
    "plt.imshow(outputs[example_idx, 16, :, :])  # Middle spectral point\n",
    "plt.title('Prediction 9x9 patch\\n(Middle Spectral Point)')\n",
    "plt.colorbar()\n",
    "\n",
    "plt.tight_layout()\n",
    "plt.show()\n",
    "\n",
    "# Plot all 81 voxels (9x9) in a single plot\n",
    "plt.figure(figsize=(15, 8))\n",
    "\n",
    "# Plot all voxels\n",
    "for i in range(9):\n",
    "    for j in range(9):\n",
    "        plt.plot(targets[example_idx, :, i, j], 'b-', alpha=0.3, label='Target' if i==0 and j==0 else \"\")\n",
    "        plt.plot(outputs[example_idx, :, i, j], 'r--', alpha=0.3, label='Prediction' if i==0 and j==0 else \"\")\n",
    "\n",
    "plt.title('T1 Spectra for All Voxels in 9x9 Patch')\n",
    "plt.xlabel('T1 Index (32 points)')\n",
    "plt.ylabel('Amplitude')\n",
    "plt.legend()\n",
    "plt.grid(True, alpha=0.3)\n",
    "plt.show()\n",
    "\n",
    "# Print metrics for the whole 9x9 patch\n",
    "patch_mse = np.mean((targets[example_idx] - outputs[example_idx])**2)\n",
    "patch_mae = np.mean(np.abs(targets[example_idx] - outputs[example_idx]))\n",
    "print(f\"Full 9x9 patch MSE: {patch_mse:.6f}\")\n",
    "print(f\"Full 9x9 patch MAE: {patch_mae:.6f}\")\n",
    "\n",
    "# Calculate statistics of individual voxel MSEs\n",
    "voxel_mses = []\n",
    "for i in range(9):\n",
    "    for j in range(9):\n",
    "        mse = np.mean((targets[example_idx, :, i, j] - outputs[example_idx, :, i, j])**2)\n",
    "        voxel_mses.append(mse)\n",
    "\n",
    "print(f\"\\nMean Voxel MSE: {np.mean(voxel_mses):.6f}\")\n",
    "print(f\"Std Voxel MSE: {np.std(voxel_mses):.6f}\")\n",
    "print(f\"Min Voxel MSE: {np.min(voxel_mses):.6f}\")\n",
    "print(f\"Max Voxel MSE: {np.max(voxel_mses):.6f}\")"
   ]
  },
  {
   "cell_type": "code",
   "execution_count": 18,
   "metadata": {},
   "outputs": [
    {
     "data": {
      "text/html": [],
      "text/plain": [
       "<IPython.core.display.HTML object>"
      ]
     },
     "metadata": {},
     "output_type": "display_data"
    },
    {
     "data": {
      "text/html": [
       "<br>    <style><br>        .wandb-row {<br>            display: flex;<br>            flex-direction: row;<br>            flex-wrap: wrap;<br>            justify-content: flex-start;<br>            width: 100%;<br>        }<br>        .wandb-col {<br>            display: flex;<br>            flex-direction: column;<br>            flex-basis: 100%;<br>            flex: 1;<br>            padding: 10px;<br>        }<br>    </style><br><div class=\"wandb-row\"><div class=\"wandb-col\"><h3>Run history:</h3><br/><table class=\"wandb\"><tr><td>epoch</td><td>▁▁▁▂▂▂▂▂▃▃▃▃▃▄▄▄▄▄▄▅▅▅▅▅▅▆▆▆▆▆▆▆▇▇▇▇████</td></tr><tr><td>final_mae</td><td>▁</td></tr><tr><td>final_mse</td><td>▁</td></tr><tr><td>final_psnr</td><td>▁</td></tr><tr><td>final_r2_score</td><td>▁</td></tr><tr><td>inference_time_ms</td><td>▁</td></tr><tr><td>learning_rate</td><td>██████████████████████████████▃▃▃▃▃▃▃▃▃▁</td></tr><tr><td>memory_usage_mb</td><td>▁</td></tr><tr><td>model_parameters</td><td>▁</td></tr><tr><td>peak_detection_accuracy</td><td>▁</td></tr><tr><td>train_loss</td><td>█▆▆▅▅▅▅▅▄▄▄▄▄▄▃▃▃▃▃▃▃▃▃▃▃▃▃▃▃▃▂▂▂▂▂▁▁▁▁▁</td></tr><tr><td>val_loss</td><td>▄▃▃█▆█▄▃▂▂▂▁▂▁▂▁▂▁▁▁▁▁▁▂▁▁▁▁▁▁▁▁▁▁▁▁▁▁▁▁</td></tr></table><br/></div><div class=\"wandb-col\"><h3>Run summary:</h3><br/><table class=\"wandb\"><tr><td>epoch</td><td>85</td></tr><tr><td>final_mae</td><td>0.02222</td></tr><tr><td>final_mse</td><td>0.00184</td></tr><tr><td>final_psnr</td><td>27.35443</td></tr><tr><td>final_r2_score</td><td>0.54986</td></tr><tr><td>inference_time_ms</td><td>2.36673</td></tr><tr><td>learning_rate</td><td>0.00025</td></tr><tr><td>memory_usage_mb</td><td>2724.02344</td></tr><tr><td>model_parameters</td><td>1726688</td></tr><tr><td>peak_detection_accuracy</td><td>0.48718</td></tr><tr><td>train_loss</td><td>0.00138</td></tr><tr><td>val_loss</td><td>0.00184</td></tr></table><br/></div></div>"
      ],
      "text/plain": [
       "<IPython.core.display.HTML object>"
      ]
     },
     "metadata": {},
     "output_type": "display_data"
    },
    {
     "data": {
      "text/html": [
       " View run <strong style=\"color:#cdcd00\">unet-baseline-fullpatch-improved</strong> at: <a href='https://wandb.ai/trphan/master-multicomponent-mri/runs/jh0gzq1y' target=\"_blank\">https://wandb.ai/trphan/master-multicomponent-mri/runs/jh0gzq1y</a><br> View project at: <a href='https://wandb.ai/trphan/master-multicomponent-mri' target=\"_blank\">https://wandb.ai/trphan/master-multicomponent-mri</a><br>Synced 5 W&B file(s), 0 media file(s), 0 artifact file(s) and 0 other file(s)"
      ],
      "text/plain": [
       "<IPython.core.display.HTML object>"
      ]
     },
     "metadata": {},
     "output_type": "display_data"
    },
    {
     "data": {
      "text/html": [
       "Find logs at: <code>.\\wandb\\run-20250213_032932-jh0gzq1y\\logs</code>"
      ],
      "text/plain": [
       "<IPython.core.display.HTML object>"
      ]
     },
     "metadata": {},
     "output_type": "display_data"
    }
   ],
   "source": [
    "wandb.finish()"
   ]
  }
 ],
 "metadata": {
  "kernelspec": {
   "display_name": ".venv",
   "language": "python",
   "name": "python3"
  },
  "language_info": {
   "codemirror_mode": {
    "name": "ipython",
    "version": 3
   },
   "file_extension": ".py",
   "mimetype": "text/x-python",
   "name": "python",
   "nbconvert_exporter": "python",
   "pygments_lexer": "ipython3",
   "version": "3.11.0"
  }
 },
 "nbformat": 4,
 "nbformat_minor": 2
}
